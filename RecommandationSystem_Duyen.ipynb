{
  "cells": [
    {
      "cell_type": "markdown",
      "metadata": {
        "id": "M5Z97wr29mjb"
      },
      "source": [
        "# **Test 080424**"
      ]
    },
    {
      "cell_type": "code",
      "execution_count": 1,
      "metadata": {
        "id": "IVax7Vjq9xBr"
      },
      "outputs": [],
      "source": [
        "import pandas as pd\n",
        "import json\n",
        "import csv\n",
        "import os"
      ]
    },
    {
      "cell_type": "code",
      "execution_count": 2,
      "metadata": {
        "id": "Jq09-vnR9q8E"
      },
      "outputs": [],
      "source": [
        "def read_data(file_path):\n",
        "    \"\"\"\n",
        "       params:\n",
        "           file_path: 文件路径\n",
        "       return:\n",
        "           data: 读取的数据列表，每行一条样本\n",
        "\n",
        "    \"\"\"\n",
        "    data = []\n",
        "    with open(file_path, \"r\") as f:\n",
        "        for line in f.readlines():\n",
        "            # 过长的评论文本会超出io限制报错。 暂时忽略\n",
        "            try:\\\n",
        "                # 字符串预处理\n",
        "                # 布尔替换成python的习惯\n",
        "                str_text = line.replace(\"true\", \"True\")\n",
        "                str_text = str_text.replace(\"false\", \"False\")\n",
        "                # 转成字典形式\n",
        "                raw_sample = json.loads(str_text)\n",
        "                print(raw_sample)\n",
        "                data.append(raw_sample)\n",
        "            except:\n",
        "                print(line)\n",
        "                pass\n",
        "    return data\n",
        "\n",
        "def read_and_split_data(file_path, batch_size=10000):\n",
        "    \"\"\"\n",
        "       params:\n",
        "           file_path: 文件路径\n",
        "       return:\n",
        "           data: 读取的数据列表，每行一条样本\n",
        "\n",
        "    \"\"\"\n",
        "    data = []\n",
        "    small_list_data = []\n",
        "    count = 0\n",
        "    with open(file_path, \"r\") as f:\n",
        "        for line in f.readlines():\n",
        "            if count < batch_size:\n",
        "                # 过长的评论文本会超出io限制报错。 暂时忽略\n",
        "                try:\n",
        "                    # 字符串预处理\n",
        "                    # 布尔替换成python的习惯\n",
        "                    str_text = line.replace(\"true\", \"True\")\n",
        "                    str_text = str_text.replace(\"false\", \"False\")\n",
        "                    # 转成字典形式\n",
        "                    raw_sample = eval(str_text)\n",
        "                    data.append(raw_sample)\n",
        "                    count += 1\n",
        "                except:\n",
        "                    pass\n",
        "            else:\n",
        "                small_list_data.append(data)\n",
        "                data = []\n",
        "                count = 0\n",
        "    small_list_data.append(data)\n",
        "    return small_list_data\n",
        "\n",
        "def read_txt_file_to_list(file_path):\n",
        "    records = []\n",
        "    with open(file_path, 'r', encoding='utf-8') as file:\n",
        "        for line in file:\n",
        "            records.append(line.strip())\n",
        "    return records\n",
        "\n",
        "\n",
        "def remove_duplicate_rows(df):\n",
        "    # Loại bỏ các hàng trùng lặp dựa trên cột 'reviewText'\n",
        "    df = df.drop_duplicates(subset=['reviewText', 'asin', 'reviewerID'])\n",
        "    return df\n",
        "\n",
        "def remove_duplicate_rows_ver2(df):\n",
        "    # Loại bỏ các hàng trùng lặp dựa trên cột 'reviewText'\n",
        "    df = df.drop_duplicates(subset=['reviewText', 'itemID', 'reviewerID'])\n",
        "    return df"
      ]
    },
    {
      "cell_type": "code",
      "execution_count": 3,
      "metadata": {},
      "outputs": [
        {
          "name": "stdout",
          "output_type": "stream",
          "text": [
            "      overall vote  verified   reviewTime      reviewerID        asin  \\\n",
            "0         5.0    3      True   06 3, 2013  A2TYZ821XXK2YZ  3426958910   \n",
            "1         5.0  NaN      True  10 11, 2014  A3OFSREZADFUDY  3426958910   \n",
            "2         5.0  NaN      True  02 11, 2014  A2VAMODP8M77NG  3426958910   \n",
            "3         4.0    3     False   12 7, 2013   AAKSLZ9IDTEH0  3426958910   \n",
            "4         5.0  NaN      True  06 12, 2016  A3OH43OZJLKI09  5557706259   \n",
            "...       ...  ...       ...          ...             ...         ...   \n",
            "9995      5.0  NaN      True   01 4, 2015  A1KBHQWJYKYA01  B000WOXPNS   \n",
            "9996      5.0  NaN      True  11 28, 2014  A1KRWR5D81AXJE  B000WOXPNS   \n",
            "9997      5.0  NaN      True   11 4, 2014  A2G6VF7XDPKFG3  B000WOXPNS   \n",
            "9998      5.0  NaN      True  07 30, 2014  A3QXAIQ3EHY7AD  B000WOXPNS   \n",
            "9999      5.0  NaN      True  06 16, 2014  A13ZE9XWRQPPYC  B000WOXPNS   \n",
            "\n",
            "                          style       reviewerName  \\\n",
            "0      {'Format:': ' Audio CD'}            Garrett   \n",
            "1      {'Format:': ' Audio CD'}                 Ad   \n",
            "2      {'Format:': ' Audio CD'}             JTGabq   \n",
            "3      {'Format:': ' Audio CD'}  john F&#039;n doe   \n",
            "4      {'Format:': ' Audio CD'}  melinda a goodman   \n",
            "...                         ...                ...   \n",
            "9995  {'Format:': ' MP3 Music'}                rob   \n",
            "9996  {'Format:': ' MP3 Music'}        Scrappygirl   \n",
            "9997  {'Format:': ' MP3 Music'}                Jay   \n",
            "9998  {'Format:': ' MP3 Music'}       Sonya Wright   \n",
            "9999  {'Format:': ' MP3 Music'}      Desiree&#039;   \n",
            "\n",
            "                                             reviewText  \\\n",
            "0     This is awesome to listen to, A must-have for ...   \n",
            "1                                                  bien   \n",
            "2     It was great to hear the old stuff again and I...   \n",
            "3     well best of's are a bit poison normally but t...   \n",
            "4     What can I say? This is Casting Crowns!!!This ...   \n",
            "...                                                 ...   \n",
            "9995                                         Good soud.   \n",
            "9996                             love me some Tom Petty   \n",
            "9997                                        cool song..   \n",
            "9998  This song reminds me of kicking back driving d...   \n",
            "9999  I was trying to find this song. I was going un...   \n",
            "\n",
            "                                                summary  unixReviewTime image  \n",
            "0                                         Slayer Rules!      1370217600   NaN  \n",
            "1                                            Five Stars      1412985600   NaN  \n",
            "2                           SLAYER!!!!!!!!!!!!!!!!!!!!!      1392076800   NaN  \n",
            "3     slayer greatest hits! you mean everything righ...      1386374400   NaN  \n",
            "4                       This is a good, blessing filled      1465689600   NaN  \n",
            "...                                                 ...             ...   ...  \n",
            "9995                                         Five Stars      1420329600   NaN  \n",
            "9996                                         Five Stars      1417132800   NaN  \n",
            "9997                                         Five Stars      1415059200   NaN  \n",
            "9998                                       Awesome song      1406678400   NaN  \n",
            "9999                                            Review:      1402876800   NaN  \n",
            "\n",
            "[10000 rows x 12 columns]\n",
            "Saved 10000 records to ./DeepCGSR_triet/data/DigitalMusic/Small_Digital_Music_10000_0.json\n",
            "      overall  verified   reviewTime      reviewerID        asin  \\\n",
            "0         5.0      True   08 7, 2012  A2AVMXNBKEL5T6  B000WOXPNS   \n",
            "1         5.0      True  02 18, 2013  A1B7R4FDTNQZWE  B000WOT9K6   \n",
            "2         5.0      True  02 13, 2013  A3AGJ0NQXOW8M1  B000WOT9K6   \n",
            "3         5.0      True  12 22, 2012  A34UTNSRNF2AYB  B000WOT9K6   \n",
            "4         5.0      True  12 19, 2014  A2TXKUC8SN53H7  B000WOT9K6   \n",
            "...       ...       ...          ...             ...         ...   \n",
            "9995      5.0     False   02 9, 2016  A1R8VKMP29VO4R  B00136NEAI   \n",
            "9996      5.0      True  01 31, 2016  A3QQXGSVDG50AB  B00136NEAI   \n",
            "9997      5.0      True  01 18, 2016  A16S5FX3Z55Q0X  B00136NEAI   \n",
            "9998      5.0      True  12 16, 2015   APFPBV1WMGQEI  B00136NEAI   \n",
            "9999      5.0      True  11 20, 2015  A3H4BQD3T1ME2A  B00136NEAI   \n",
            "\n",
            "                          style     reviewerName  \\\n",
            "0     {'Format:': ' MP3 Music'}             Mitz   \n",
            "1     {'Format:': ' MP3 Music'}             Lynn   \n",
            "2     {'Format:': ' MP3 Music'}  Cosetina Willis   \n",
            "3     {'Format:': ' MP3 Music'}              StB   \n",
            "4     {'Format:': ' MP3 Music'}    Joel Holloman   \n",
            "...                         ...              ...   \n",
            "9995  {'Format:': ' MP3 Music'}          Mr.Bill   \n",
            "9996  {'Format:': ' MP3 Music'}      C. S. Urban   \n",
            "9997  {'Format:': ' MP3 Music'}            Los C   \n",
            "9998  {'Format:': ' MP3 Music'}           jacque   \n",
            "9999  {'Format:': ' MP3 Music'}    Sandra Gasque   \n",
            "\n",
            "                                             reviewText  \\\n",
            "0     This is a great song.  It reminds me of rollin...   \n",
            "1     I certainly enjoyed this item.  I would defini...   \n",
            "2     IF YOU LOVE BACK , BACK, BACK, UMM BACK IN THE...   \n",
            "3     This one brings my Switch collection in to for...   \n",
            "4                                               Classic   \n",
            "...                                                 ...   \n",
            "9995        Europe\\nThe Final Countdown\\nLove this song   \n",
            "9996                  A True classic..timely and tunful   \n",
            "9997                                     Awesome song!!   \n",
            "9998                                        brainwasher   \n",
            "9999  I had never heard of this group before the TV ...   \n",
            "\n",
            "                                                summary  unixReviewTime vote  \\\n",
            "0                                         beautiful day      1344297600  NaN   \n",
            "1     I certainly enjoyed this item.  I would defini...      1361145600  NaN   \n",
            "2                                              MUST GET      1360713600  NaN   \n",
            "3                                                Switch      1356134400  NaN   \n",
            "4                                            Five Stars      1418947200  NaN   \n",
            "...                                                 ...             ...  ...   \n",
            "9995                                         80's Music      1454976000  NaN   \n",
            "9996                                         Five Stars      1454198400  NaN   \n",
            "9997                                         Five Stars      1453075200  NaN   \n",
            "9998                                            harmony      1450224000  NaN   \n",
            "9999           This song is very nice. Loving this song      1447977600  NaN   \n",
            "\n",
            "     image  \n",
            "0      NaN  \n",
            "1      NaN  \n",
            "2      NaN  \n",
            "3      NaN  \n",
            "4      NaN  \n",
            "...    ...  \n",
            "9995   NaN  \n",
            "9996   NaN  \n",
            "9997   NaN  \n",
            "9998   NaN  \n",
            "9999   NaN  \n",
            "\n",
            "[10000 rows x 12 columns]\n",
            "Saved 10000 records to ./DeepCGSR_triet/data/DigitalMusic/Small_Digital_Music_10000_1.json\n",
            "      overall  verified   reviewTime      reviewerID        asin  \\\n",
            "0         5.0      True  10 21, 2015   AMXH6AEME9AIN  B00136NEAI   \n",
            "1         5.0      True  10 18, 2015  A3BXFHLVV3A91V  B00136NEAI   \n",
            "2         5.0     False  09 13, 2015   AST761ZN9MH3R  B00136NEAI   \n",
            "3         5.0      True   09 1, 2015   AVKHYC2D7MD56  B00136NEAI   \n",
            "4         5.0     False  08 19, 2015  A2DCS39GFBJV24  B00136NEAI   \n",
            "...       ...       ...          ...             ...         ...   \n",
            "9995      5.0      True   05 6, 2014  A29FKY007Z9DG0  B000VZPF2W   \n",
            "9996      5.0      True   03 7, 2014   AK4RZ5IJO2F70  B000VZPF2W   \n",
            "9997      5.0      True  01 15, 2014  A37IRE9GZ0CZ7I  B000VZPF2W   \n",
            "9998      5.0      True  07 17, 2013   AOZYVALWGGOMO  B000VZPF2W   \n",
            "9999      5.0     False  03 15, 2013  A1DQZFJ4TY9ORF  B000VZQL2U   \n",
            "\n",
            "                          style        reviewerName  \\\n",
            "0     {'Format:': ' MP3 Music'}     Amazon Customer   \n",
            "1     {'Format:': ' MP3 Music'}             Rider4Z   \n",
            "2     {'Format:': ' MP3 Music'}              Eduard   \n",
            "3     {'Format:': ' MP3 Music'}       K.L. CocKayne   \n",
            "4     {'Format:': ' MP3 Music'}    Kenya Starflight   \n",
            "...                         ...                 ...   \n",
            "9995  {'Format:': ' MP3 Music'}               Holly   \n",
            "9996  {'Format:': ' MP3 Music'}                  Ty   \n",
            "9997  {'Format:': ' MP3 Music'}       Aliza Hausman   \n",
            "9998  {'Format:': ' MP3 Music'}  Virginia L. Forney   \n",
            "9999  {'Format:': ' MP3 Music'}        Adarsh Anand   \n",
            "\n",
            "                                             reviewText  \\\n",
            "0       I listen to this song for my exercise. Love it.   \n",
            "1                         You can't not love this song.   \n",
            "2     A song that you can not forget and brings back...   \n",
            "3     One of the best songs from the glam band Europ...   \n",
            "4     I love the music of the '80s... but somehow I ...   \n",
            "...                                                 ...   \n",
            "9995  Love this song, hate West and Foxx. But seriou...   \n",
            "9996  Luv  the mix of old and new rap/classic R&B mu...   \n",
            "9997  I heard the Glee version and I decided that I ...   \n",
            "9998  I enjoy the music I like to excersie will Gold...   \n",
            "9999  I'm a fan of Bond and I think this is one of  ...   \n",
            "\n",
            "                                                summary  unixReviewTime vote  \\\n",
            "0                                              Love it.      1445385600  NaN   \n",
            "1                                        Nostalgic trip      1445126400  NaN   \n",
            "2                                            Five Stars      1442102400  NaN   \n",
            "3     The Glam Band Sound Is Still Alive And Well In...      1441065600  NaN   \n",
            "4     Goofy and over-the-top but epic and entirely e...      1439942400  NaN   \n",
            "...                                                 ...             ...  ...   \n",
            "9995                 Love this song, hate West and Foxx      1399334400  NaN   \n",
            "9996                                            Revival      1394150400  NaN   \n",
            "9997                                   Heard it on Glee      1389744000  NaN   \n",
            "9998  Gold Digger is a great up beat song. love love...      1374019200  NaN   \n",
            "9999                                      Love the song      1363305600  NaN   \n",
            "\n",
            "     image  \n",
            "0      NaN  \n",
            "1      NaN  \n",
            "2      NaN  \n",
            "3      NaN  \n",
            "4      NaN  \n",
            "...    ...  \n",
            "9995   NaN  \n",
            "9996   NaN  \n",
            "9997   NaN  \n",
            "9998   NaN  \n",
            "9999   NaN  \n",
            "\n",
            "[10000 rows x 12 columns]\n",
            "Saved 10000 records to ./DeepCGSR_triet/data/DigitalMusic/Small_Digital_Music_10000_2.json\n",
            "      overall  verified   reviewTime      reviewerID        asin  \\\n",
            "0         5.0      True  01 13, 2013  A1E78KIR64YBT6  B000VZO4TW   \n",
            "1         5.0      True  03 15, 2016   ASUDG3BDP87CI  B000VZO4TW   \n",
            "2         5.0      True  02 21, 2016   AKMWILI3V2XCY  B000VZO4TW   \n",
            "3         5.0      True  02 10, 2016   AAAVOYJKW8IC8  B000VZO4TW   \n",
            "4         5.0      True   02 7, 2016  A2HPG8QACV8QAJ  B000VZO4TW   \n",
            "...       ...       ...          ...             ...         ...   \n",
            "9995      5.0     False  12 25, 2004   A11GY1G10WSE8  B00123KEGO   \n",
            "9996      5.0     False  11 18, 2004   AMG2LF8MLUDN1  B00123KEGO   \n",
            "9997      5.0      True  10 11, 2014  A134WU6PV3QFSW  B00123LZT4   \n",
            "9998      3.0      True  09 28, 2014  A2Y2CLBUBP0QNE  B00123LZT4   \n",
            "9999      5.0      True  08 21, 2014  A15A0G4ZK7RGY4  B00123LZT4   \n",
            "\n",
            "                          style   reviewerName  \\\n",
            "0     {'Format:': ' MP3 Music'}    lil_sparrow   \n",
            "1     {'Format:': ' MP3 Music'}    john basile   \n",
            "2     {'Format:': ' MP3 Music'}        Phil S.   \n",
            "3     {'Format:': ' MP3 Music'}       Cardsfan   \n",
            "4     {'Format:': ' MP3 Music'}     Nina Petty   \n",
            "...                         ...            ...   \n",
            "9995                        NaN          Rik22   \n",
            "9996                        NaN      M. Fields   \n",
            "9997  {'Format:': ' MP3 Music'}    sue hankins   \n",
            "9998  {'Format:': ' MP3 Music'}  Born American   \n",
            "9999  {'Format:': ' MP3 Music'}     Pat Burton   \n",
            "\n",
            "                                             reviewText  \\\n",
            "0     my first favorite kiss song off the first favo...   \n",
            "1                                             Excellent   \n",
            "2     I don't like a bunch of Kiss, but I like this ...   \n",
            "3     Loved the song.  Not a Kiss fan, but this song...   \n",
            "4                                         love the song   \n",
            "...                                                 ...   \n",
            "9995  Rhino Records which has already released a doz...   \n",
            "9996  I hadn't even realized that the powerhouse gro...   \n",
            "9997                                                 A+   \n",
            "9998                                              yep !   \n",
            "9999  Randy Travis' rich voice lends itself to make ...   \n",
            "\n",
            "                                    summary  unixReviewTime vote image  \n",
            "0                               music lover      1358035200  NaN   NaN  \n",
            "1                                Five Stars      1458000000  NaN   NaN  \n",
            "2                                Five Stars      1456012800  NaN   NaN  \n",
            "3                                Five Stars      1455062400  NaN   NaN  \n",
            "4                                Five Stars      1454803200  NaN   NaN  \n",
            "...                                     ...             ...  ...   ...  \n",
            "9995  Great Re-issue of a Christmas Classic      1103932800  NaN   NaN  \n",
            "9996                A Christmas Well Spent!      1100736000  NaN   NaN  \n",
            "9997                             Five Stars      1412985600  NaN   NaN  \n",
            "9998                            Three Stars      1411862400  NaN   NaN  \n",
            "9999                             Five Stars      1408579200  NaN   NaN  \n",
            "\n",
            "[10000 rows x 12 columns]\n",
            "Saved 10000 records to ./DeepCGSR_triet/data/DigitalMusic/Small_Digital_Music_10000_3.json\n",
            "          reviewerID        asin    reviewerName  verified  \\\n",
            "0      AYWXVG2OEZLSU  B00123MCL4       rsyeracad     False   \n",
            "1     A15T3Y3BL2AJ9V  B00123MCL4    Roger Dodger      True   \n",
            "2     A22KMCKYE5KQ2X  B00123MCL4    DogBreath101     False   \n",
            "3     A2TMBMC2TZS2AA  B00123NNO4    Divinewind55      True   \n",
            "4     A1H8PY3QHMQQA0  B00123NNO4    Dave M. Shaw      True   \n",
            "...              ...         ...             ...       ...   \n",
            "9995   AHUT55E980RDR  B00138F11Q   Neal Reynolds     False   \n",
            "9996  A1TEYLNTK6RICG  B00138F25Q        Bob Gall      True   \n",
            "9997   A8EDTKSPOMRWK  B00138F4IQ     hyperbolium     False   \n",
            "9998  A3CN9CCJUNIPKT  B00138F4IQ  DJ Joe Sixpack     False   \n",
            "9999   AKHVXWI2VHWIE  B00138FKBW          jazzbo      True   \n",
            "\n",
            "                                             reviewText  overall   reviewTime  \\\n",
            "0                                            I love it!      5.0  03 27, 2017   \n",
            "1     This is one of the better compilations availab...      5.0  09 11, 2016   \n",
            "2     I had this cd before but can't find it. I went...      5.0  05 18, 2016   \n",
            "3     Good music from a good time in music.  Great t...      5.0   06 8, 2015   \n",
            "4     The single was great \" lonely Boy\" not sure ab...      5.0  08 10, 2013   \n",
            "...                                                 ...      ...          ...   \n",
            "9995  This is indeed a beautiful album.  It opens wi...      4.0  12 13, 2002   \n",
            "9996  I enjoyed \"Fat Bottomed Girls\". It has a lot o...      3.0   06 4, 2014   \n",
            "9997  Having released live albums in 1968 (\"At Folso...      5.0   09 7, 2002   \n",
            "9998  Cool!  An entire album of prevously unreleased...      5.0   09 6, 2002   \n",
            "9999                                       Fine classic      5.0  09 10, 2014   \n",
            "\n",
            "                                    summary  unixReviewTime  \\\n",
            "0                                Five Stars      1490572800   \n",
            "1                                 I love it      1473552000   \n",
            "2                                Good stuff      1463529600   \n",
            "3                                Five Stars      1433721600   \n",
            "4                        Gold old 70s music      1376092800   \n",
            "...                                     ...             ...   \n",
            "9995                   Songs sung with love      1039737600   \n",
            "9996        Fat Bottomed Girls: a Good Song      1401840000   \n",
            "9997      Classic unreleased 1969 live show      1031356800   \n",
            "9998  Cash and family playing at their peak      1031270400   \n",
            "9999                            Great music      1410307200   \n",
            "\n",
            "                          style vote image  \n",
            "0                           NaN  NaN   NaN  \n",
            "1                           NaN  NaN   NaN  \n",
            "2                           NaN  NaN   NaN  \n",
            "3     {'Format:': ' MP3 Music'}  NaN   NaN  \n",
            "4     {'Format:': ' MP3 Music'}  NaN   NaN  \n",
            "...                         ...  ...   ...  \n",
            "9995   {'Format:': ' Audio CD'}   14   NaN  \n",
            "9996  {'Format:': ' MP3 Music'}  NaN   NaN  \n",
            "9997   {'Format:': ' Audio CD'}   17   NaN  \n",
            "9998   {'Format:': ' Audio CD'}    8   NaN  \n",
            "9999  {'Format:': ' MP3 Music'}  NaN   NaN  \n",
            "\n",
            "[10000 rows x 12 columns]\n",
            "Saved 10000 records to ./DeepCGSR_triet/data/DigitalMusic/Small_Digital_Music_10000_4.json\n",
            "      overall  verified   reviewTime      reviewerID        asin  \\\n",
            "0         5.0      True   12 3, 2012   AS3HWIU95DM6N  B00138FKBW   \n",
            "1         4.0     False  02 23, 2006  A2INX8B6VXUVW6  B00138F4IQ   \n",
            "2         5.0      True  07 13, 2015  A2HUCN103R7YVM  B00138FP6C   \n",
            "3         5.0      True   06 9, 2015   AVEXQ8FL5XF4K  B00138FP6C   \n",
            "4         5.0      True  04 13, 2013  A2STAR1V2N5E2K  B00138FP6C   \n",
            "...       ...       ...          ...             ...         ...   \n",
            "9995      5.0      True   07 8, 2016  A10EWHI6T1YYY0  B001TOHK5Y   \n",
            "9996      5.0      True  11 18, 2015   ABR4DKL7ELG75  B001TOHK5Y   \n",
            "9997      5.0      True  09 25, 2015  A1OP8DQ4PTQITR  B001TOHK5Y   \n",
            "9998      4.0      True  04 17, 2013  A33L52W8DVXI5F  B001TXOPWG   \n",
            "9999      5.0      True  06 23, 2012  A2220GJ3K6YO7L  B001TXZP98   \n",
            "\n",
            "                          style       reviewerName  \\\n",
            "0     {'Format:': ' MP3 Music'}       Philip Large   \n",
            "1      {'Format:': ' Audio CD'}     Johnny Heering   \n",
            "2     {'Format:': ' MP3 Music'}          Molly Lee   \n",
            "3     {'Format:': ' MP3 Music'}    Kindle Customer   \n",
            "4     {'Format:': ' MP3 Music'}              Susan   \n",
            "...                         ...                ...   \n",
            "9995  {'Format:': ' MP3 Music'}      IVANOV HERBST   \n",
            "9996  {'Format:': ' MP3 Music'}  Monique D. Miller   \n",
            "9997  {'Format:': ' MP3 Music'}         Jeffrey B.   \n",
            "9998  {'Format:': ' MP3 Music'}      Todd Sullivan   \n",
            "9999  {'Format:': ' MP3 Music'}           S.J.Dean   \n",
            "\n",
            "                                             reviewText  \\\n",
            "0     I will order no more music from you no matter ...   \n",
            "1     This previously unreleased concert was recorde...   \n",
            "2     Love this song - listening to Willie Nelson an...   \n",
            "3                                    It was fantastic!!   \n",
            "4     I chose this song because it's the song my 20 ...   \n",
            "...                                                 ...   \n",
            "9995  Dated a black woman in Georgia...Brings tears ...   \n",
            "9996                        Another music to listen too   \n",
            "9997  One of my life favorite songs.  Talk about sou...   \n",
            "9998  I like Dio's stuff for the guitar work.  There...   \n",
            "9999  WHAT A GREAT SOUND FROM THIS 80'S GROUP...NEVE...   \n",
            "\n",
            "                                       summary  unixReviewTime vote image  \n",
            "0                                       Bolero      1354492800  NaN   NaN  \n",
            "1                                    Can't say      1140652800    3   NaN  \n",
            "2     Willie and Ray - as good as it gets !!!!      1436745600  NaN   NaN  \n",
            "3                                   Five Stars      1433808000  NaN   NaN  \n",
            "4                             One of his best!      1365811200  NaN   NaN  \n",
            "...                                        ...             ...  ...   ...  \n",
            "9995                                  Romantic      1467936000  NaN   NaN  \n",
            "9996                                Five Stars      1447804800  NaN   NaN  \n",
            "9997                         Not to be missed.      1443139200  NaN   NaN  \n",
            "9998                         Good, hard guitar      1366156800  NaN   NaN  \n",
            "9999             Object of my desire-STARPOINT      1340409600  NaN   NaN  \n",
            "\n",
            "[10000 rows x 12 columns]\n",
            "Saved 10000 records to ./DeepCGSR_triet/data/DigitalMusic/Small_Digital_Music_10000_5.json\n",
            "      overall  verified   reviewTime      reviewerID        asin  \\\n",
            "0         4.0      True  02 15, 2015   ANZE1G4MCG6H5  B001TXZP98   \n",
            "1         5.0      True  12 18, 2014  A2TXKUC8SN53H7  B001TXZP98   \n",
            "2         5.0      True   12 8, 2011   A8M0NC20ONT0M  B001TXZQDS   \n",
            "3         5.0      True  11 13, 2015   AGDRVIIY0XEP2  B001TXZQDS   \n",
            "4         5.0      True  09 27, 2015  A3D20W1YAFU03Q  B001TXZQDS   \n",
            "...       ...       ...          ...             ...         ...   \n",
            "9995      5.0      True  04 30, 2014  A2DY7N9SKROB5I  B0050N8IVA   \n",
            "9996      5.0      True  02 14, 2014   A1R0VX4QJ1E7V  B0050N8IVA   \n",
            "9997      5.0      True  08 31, 2013  A2UAVYFK0WQ36R  B0050N8IVA   \n",
            "9998      5.0      True  01 29, 2013  A3K5MD1NV1T2KI  B0050N8IVA   \n",
            "9999      5.0      True  01 16, 2013  A16FIU1IDOY7N2  B0050N8IVA   \n",
            "\n",
            "                          style         reviewerName  \\\n",
            "0     {'Format:': ' MP3 Music'}                 Lisa   \n",
            "1     {'Format:': ' MP3 Music'}        Joel Holloman   \n",
            "2     {'Format:': ' MP3 Music'}  unemployed nmartist   \n",
            "3     {'Format:': ' MP3 Music'}     phillip broadnax   \n",
            "4     {'Format:': ' MP3 Music'}              Manders   \n",
            "...                         ...                  ...   \n",
            "9995  {'Format:': ' MP3 Music'}               nelson   \n",
            "9996  {'Format:': ' MP3 Music'}       Agron Berishaj   \n",
            "9997  {'Format:': ' MP3 Music'}               moe725   \n",
            "9998  {'Format:': ' MP3 Music'}            Hawkeye45   \n",
            "9999  {'Format:': ' MP3 Music'}     James M. Loveday   \n",
            "\n",
            "                                             reviewText  \\\n",
            "0     This song takes me back to my high school days...   \n",
            "1                       Represented the early 80's well   \n",
            "2     Hey, this is music at its greatest. Buffalo Sp...   \n",
            "3                          All time great song & Group.   \n",
            "4                                           Great Music   \n",
            "...                                                 ...   \n",
            "9995  i choose this rating because the way it was re...   \n",
            "9996  Great Album. Shows the Beauty of America durin...   \n",
            "9997  It's wonderful to be able to listen to an old ...   \n",
            "9998  These are the Original songs by Original artis...   \n",
            "9999  I was born at the end of the Doo  Wop era and ...   \n",
            "\n",
            "                                 summary  unixReviewTime vote image  \n",
            "0                           Took me back      1423958400  NaN   NaN  \n",
            "1                             Five Stars      1418860800  NaN   NaN  \n",
            "2      What is there to say, but Great!?      1323302400    2   NaN  \n",
            "3                             Five Stars      1447372800  NaN   NaN  \n",
            "4                             Five Stars      1443312000  NaN   NaN  \n",
            "...                                  ...             ...  ...   ...  \n",
            "9995                           very fast      1398816000  NaN   NaN  \n",
            "9996                         GREAT ALBUM      1392336000    4   NaN  \n",
            "9997                      A Old Favorite      1377907200  NaN   NaN  \n",
            "9998  Original songs by Original artists      1359417600   27   NaN  \n",
            "9999                  This Era Lives On!      1358294400   12   NaN  \n",
            "\n",
            "[10000 rows x 12 columns]\n",
            "Saved 10000 records to ./DeepCGSR_triet/data/DigitalMusic/Small_Digital_Music_10000_6.json\n",
            "      overall  verified   reviewTime      reviewerID        asin  \\\n",
            "0         4.0     False  05 22, 2012  A2RG2AID1ULUKY  B0050OK0BU   \n",
            "1         3.0      True  07 27, 2011  A2NA6VPXNOY5LR  B0050OK0BU   \n",
            "2         4.0     False   04 9, 2013   ARR9EYJI6NS0S  B0050VJ3XY   \n",
            "3         5.0      True   01 5, 2014  A25YMJ73X0ZVC4  B0050VJ3XY   \n",
            "4         5.0     False  12 25, 2013  A1YULX2JKXJ3KC  B0050VJ3XY   \n",
            "...       ...       ...          ...             ...         ...   \n",
            "9995      5.0      True   06 1, 2015  A2Y222P66EWVOZ  B009470G2C   \n",
            "9996      5.0      True  02 12, 2015  A3CGK5ERMGFH21  B009470G2C   \n",
            "9997      5.0      True   01 6, 2015   AAKS4QBGMV418  B009470G2C   \n",
            "9998      5.0      True   01 3, 2015  A2EQH64QT03MLU  B009470G2C   \n",
            "9999      5.0      True  12 29, 2014  A36BS0KN0N6YD6  B009470G2C   \n",
            "\n",
            "                          style      reviewerName  \\\n",
            "0     {'Format:': ' MP3 Music'}   Amazon Customer   \n",
            "1     {'Format:': ' MP3 Music'}          Jonathan   \n",
            "2     {'Format:': ' MP3 Music'}  Rocks and Plants   \n",
            "3     {'Format:': ' MP3 Music'}        S. Johnson   \n",
            "4     {'Format:': ' MP3 Music'}             Marie   \n",
            "...                         ...               ...   \n",
            "9995  {'Format:': ' MP3 Music'}          S. Jones   \n",
            "9996  {'Format:': ' MP3 Music'}             angie   \n",
            "9997  {'Format:': ' MP3 Music'}        tinytori06   \n",
            "9998  {'Format:': ' MP3 Music'}             linda   \n",
            "9999  {'Format:': ' MP3 Music'}            John K   \n",
            "\n",
            "                                             reviewText  \\\n",
            "0     I love this song! It is fun to listen to and d...   \n",
            "1     Jason Derulo may forever be trying to recreate...   \n",
            "2     I like most of his work. Two against One is ab...   \n",
            "3     This song has been added to my journal writing...   \n",
            "4     On a Saturday night, I was watching adult swim...   \n",
            "...                                                 ...   \n",
            "9995                      God's Love never fails, Great   \n",
            "9996                                              Great   \n",
            "9997                                             Great!   \n",
            "9998                                              Super   \n",
            "9999                                         It's Great   \n",
            "\n",
            "                               summary  unixReviewTime vote image  \n",
            "0                           Great song      1337644800  NaN   NaN  \n",
            "1                         Not His Best      1311724800  NaN   NaN  \n",
            "2     Two Against One is why I listen.      1365465600  NaN   NaN  \n",
            "3                             Awesome!      1388880000  NaN   NaN  \n",
            "4                              Awesome      1387929600  NaN   NaN  \n",
            "...                                ...             ...  ...   ...  \n",
            "9995                        Five Stars      1433116800  NaN   NaN  \n",
            "9996                        Five Stars      1423699200  NaN   NaN  \n",
            "9997                        Five Stars      1420502400  NaN   NaN  \n",
            "9998                        Five Stars      1420243200  NaN   NaN  \n",
            "9999                        Five Stars      1419811200  NaN   NaN  \n",
            "\n",
            "[10000 rows x 12 columns]\n",
            "Saved 10000 records to ./DeepCGSR_triet/data/DigitalMusic/Small_Digital_Music_10000_7.json\n",
            "      overall  verified   reviewTime      reviewerID        asin  \\\n",
            "0         5.0      True  09 24, 2014  A2XSU0SYEXKB2C  B009470G2C   \n",
            "1         5.0      True  11 18, 2013  A2WKMJ44TCCYSA  B009470G2C   \n",
            "2         5.0      True  10 25, 2013   AJQY037DOC2S6  B009470G2C   \n",
            "3         5.0      True  10 13, 2013   A3OWJUPZO6TUF  B009470G2C   \n",
            "4         5.0      True   08 4, 2013  A18VF9WJ2GAEM9  B009470G2C   \n",
            "...       ...       ...          ...             ...         ...   \n",
            "9995      5.0      True   01 6, 2014   AUHGZZWYUREM0  B00DPIZIBA   \n",
            "9996      5.0      True   12 3, 2013   ATYYLHCE5JCY7  B00DPIZIBA   \n",
            "9997      3.0     False  10 18, 2013  A3G0GRDP4TLBAL  B00DPIZIBA   \n",
            "9998      5.0      True  09 24, 2013  A2LS4OLMXU0C20  B00DPIZIBA   \n",
            "9999      4.0      True  08 13, 2013  A200D8BOPMR35S  B00DPIZIBA   \n",
            "\n",
            "                          style     reviewerName  \\\n",
            "0     {'Format:': ' MP3 Music'}          Aguilar   \n",
            "1     {'Format:': ' MP3 Music'}  Amazon Customer   \n",
            "2     {'Format:': ' MP3 Music'}       Shannonwig   \n",
            "3     {'Format:': ' MP3 Music'}           GNXMan   \n",
            "4     {'Format:': ' MP3 Music'}   K. T. Milliken   \n",
            "...                         ...              ...   \n",
            "9995  {'Format:': ' MP3 Music'}           BULLDG   \n",
            "9996  {'Format:': ' MP3 Music'}    Carl Crampton   \n",
            "9997  {'Format:': ' MP3 Music'}   Corinna Nation   \n",
            "9998  {'Format:': ' MP3 Music'}          Charles   \n",
            "9999  {'Format:': ' MP3 Music'}  Earl D. Shaffer   \n",
            "\n",
            "                                             reviewText  \\\n",
            "0                                            Great song   \n",
            "1     I love this song.  I try to put a song in my H...   \n",
            "2     This is just a really great song.  Such a beau...   \n",
            "3     Great lyrics and uplifting melody, especially ...   \n",
            "4     This song will get you pumped up for the Lord ...   \n",
            "...                                                 ...   \n",
            "9995  I feel badly stealing all this great music at ...   \n",
            "9996  This album is also great to study by. Soothing...   \n",
            "9997  Great music to read by. When traveling with my...   \n",
            "9998  This is amazingly good music.  Some of the bes...   \n",
            "9999  As many of you know, who read my reviews, I li...   \n",
            "\n",
            "                                    summary  unixReviewTime vote  \n",
            "0                                Five Stars      1411516800  NaN  \n",
            "1                        great for the soul      1384732800  NaN  \n",
            "2                               Great song!      1382659200  NaN  \n",
            "3                                Great song      1381622400  NaN  \n",
            "4                                 Beautiful      1375574400  NaN  \n",
            "...                                     ...             ...  ...  \n",
            "9995  Buy it now- Absolutely Great Album(s)      1388966400  NaN  \n",
            "9996                      Great Study Music      1386028800  NaN  \n",
            "9997                 Nice music for Reading      1382054400  NaN  \n",
            "9998                         Easy Listening      1379980800  NaN  \n",
            "9999  great buy, lots of music for little $      1376352000  NaN  \n",
            "\n",
            "[10000 rows x 11 columns]\n",
            "Saved 10000 records to ./DeepCGSR_triet/data/DigitalMusic/Small_Digital_Music_10000_8.json\n",
            "      overall  verified   reviewTime      reviewerID        asin  \\\n",
            "0         5.0      True   10 6, 2016  A1LU39GVY9QVC6  B00DPJ22JA   \n",
            "1         5.0      True   10 3, 2016  A2VR3N2VMEJLYR  B00DPJ22JA   \n",
            "2         5.0      True  04 16, 2016  A2DLK4X0RG5PNH  B00DPJ22JA   \n",
            "3         5.0     False  11 30, 2015  A3W3WDF85ITON6  B00DPJ22JA   \n",
            "4         5.0      True  10 29, 2015  A1H1KYAO4JPX8L  B00DPJ22JA   \n",
            "...       ...       ...          ...             ...         ...   \n",
            "9995      5.0      True   07 9, 2016   AEFGLUXP3Q9IG  B00K5RU88W   \n",
            "9996      5.0      True  06 12, 2016  A25B4JZVPOFZWT  B00K5RU88W   \n",
            "9997      5.0      True   03 8, 2016   A5CBZAL2RFTC3  B00K5RU88W   \n",
            "9998      5.0     False   03 5, 2016  A117JFDHDIOZ0T  B00K5RU88W   \n",
            "9999      5.0      True  01 25, 2016  A1JLAINPVEGRRN  B00K5RU88W   \n",
            "\n",
            "                          style     reviewerName  \\\n",
            "0     {'Format:': ' MP3 Music'}            Shaun   \n",
            "1     {'Format:': ' MP3 Music'}             Minh   \n",
            "2     {'Format:': ' MP3 Music'}             J.R.   \n",
            "3     {'Format:': ' MP3 Music'}     MichiokoXIII   \n",
            "4     {'Format:': ' MP3 Music'}  Amazon Customer   \n",
            "...                         ...              ...   \n",
            "9995  {'Format:': ' MP3 Music'}         JBFender   \n",
            "9996  {'Format:': ' MP3 Music'}        Salina J.   \n",
            "9997  {'Format:': ' MP3 Music'}           Robert   \n",
            "9998  {'Format:': ' MP3 Music'}       T.K. Tatum   \n",
            "9999  {'Format:': ' MP3 Music'}          Donster   \n",
            "\n",
            "                                             reviewText  \\\n",
            "0     cant beat the price. 111 songs for less than a...   \n",
            "1                                        good play list   \n",
            "2     A ridiculous bargain for when you are feeling ...   \n",
            "3     I read that classical music is great for babie...   \n",
            "4     Wonderful recordings.  I enjoy listening to th...   \n",
            "...                                                 ...   \n",
            "9995  Great uplifting music from saints to God all P...   \n",
            "9996  Thank you Amazon! I love making all of my musi...   \n",
            "9997                                               nice   \n",
            "9998                                          Thank you   \n",
            "9999  Great, powerful song! I saw this band at Winte...   \n",
            "\n",
            "                                                summary  unixReviewTime vote  \\\n",
            "0                                    great set of songs      1475712000  NaN   \n",
            "1                                            Five Stars      1475452800  NaN   \n",
            "2                                            Five Stars      1460764800  NaN   \n",
            "3     I read that classical music is great for babie...      1448841600  NaN   \n",
            "4                                         Great music!!      1446076800  NaN   \n",
            "...                                                 ...             ...  ...   \n",
            "9995                                         Five Stars      1468022400  NaN   \n",
            "9996  I love making all of my music purchases with A...      1465689600  NaN   \n",
            "9997                                         Five Stars      1457395200  NaN   \n",
            "9998                                         Five Stars      1457136000  NaN   \n",
            "9999                                        Great song!      1453680000  NaN   \n",
            "\n",
            "     image  \n",
            "0      NaN  \n",
            "1      NaN  \n",
            "2      NaN  \n",
            "3      NaN  \n",
            "4      NaN  \n",
            "...    ...  \n",
            "9995   NaN  \n",
            "9996   NaN  \n",
            "9997   NaN  \n",
            "9998   NaN  \n",
            "9999   NaN  \n",
            "\n",
            "[10000 rows x 12 columns]\n",
            "Saved 10000 records to ./DeepCGSR_triet/data/DigitalMusic/Small_Digital_Music_10000_9.json\n",
            "      overall  verified   reviewTime      reviewerID        asin  \\\n",
            "0         5.0      True  11 27, 2015  A264LJ7DXWHJQH  B00K5RU88W   \n",
            "1         5.0      True   11 7, 2015  A1BOH4BGCPUVPL  B00K5RU88W   \n",
            "2         5.0      True   11 3, 2015  A3E40QCH2Q4V3F  B00K5RU88W   \n",
            "3         5.0      True  10 24, 2015   ANZE9ULNDLIJJ  B00K5RU88W   \n",
            "4         5.0      True   10 7, 2015  A1Z42SO1EE4L02  B00K5RU88W   \n",
            "...       ...       ...          ...             ...         ...   \n",
            "9995      5.0      True   04 3, 2017   A4IUYXZCRHS3N  B00UB4WTMC   \n",
            "9996      5.0      True  12 15, 2015   AJGNNA8B751SW  B00UB4WZSA   \n",
            "9997      5.0      True  11 13, 2015  A30ZTKNOZV9OZ0  B00UB4WZSA   \n",
            "9998      5.0      True   10 8, 2015   AQBAWICACVISK  B00UB4WZSA   \n",
            "9999      4.0      True  12 28, 2016   AR7UWVW58B46H  B00UB4WTMC   \n",
            "\n",
            "                          style        reviewerName  \\\n",
            "0     {'Format:': ' MP3 Music'}             Dave D.   \n",
            "1     {'Format:': ' MP3 Music'}                 Jen   \n",
            "2     {'Format:': ' MP3 Music'}  darrell Blasengame   \n",
            "3     {'Format:': ' MP3 Music'}                 Rob   \n",
            "4     {'Format:': ' MP3 Music'}           janniesue   \n",
            "...                         ...                 ...   \n",
            "9995   {'Format:': ' Audio CD'}           apple irj   \n",
            "9996  {'Format:': ' MP3 Music'}     Edward Hausdorf   \n",
            "9997  {'Format:': ' MP3 Music'}       Chris Snethen   \n",
            "9998  {'Format:': ' MP3 Music'}    Anthony C Harris   \n",
            "9999   {'Format:': ' Audio CD'}         K. Childers   \n",
            "\n",
            "                                             reviewText  \\\n",
            "0                                                 xlint   \n",
            "1                                       Love this song.   \n",
            "2                       Very good artist love this song   \n",
            "3                                           Awesome ...   \n",
            "4     I love David Crowder's music and really enjoy ...   \n",
            "...                                                 ...   \n",
            "9995      Awesome and more mature than previous albums!   \n",
            "9996                  Was exactly what i was expecting.   \n",
            "9997  great song (played a lot on satellite and free...   \n",
            "9998                                          Good song   \n",
            "9999                                         good album   \n",
            "\n",
            "                                                summary  unixReviewTime vote  \\\n",
            "0                                            Five Stars      1448582400  NaN   \n",
            "1                                            Five Stars      1446854400  NaN   \n",
            "2                                            Five Stars      1446508800  NaN   \n",
            "3                                            Five Stars      1445644800  NaN   \n",
            "4                                            Great song      1444176000  NaN   \n",
            "...                                                 ...             ...  ...   \n",
            "9995                   Great stuff you guys keep it up!      1491177600  NaN   \n",
            "9996                                         Five Stars      1450137600  NaN   \n",
            "9997  great song (played a lot on satellite and free...      1447372800  NaN   \n",
            "9998                                         Five Stars      1444262400  NaN   \n",
            "9999                                         Four Stars      1482883200  NaN   \n",
            "\n",
            "     image  \n",
            "0      NaN  \n",
            "1      NaN  \n",
            "2      NaN  \n",
            "3      NaN  \n",
            "4      NaN  \n",
            "...    ...  \n",
            "9995   NaN  \n",
            "9996   NaN  \n",
            "9997   NaN  \n",
            "9998   NaN  \n",
            "9999   NaN  \n",
            "\n",
            "[10000 rows x 12 columns]\n",
            "Saved 10000 records to ./DeepCGSR_triet/data/DigitalMusic/Small_Digital_Music_10000_10.json\n",
            "      overall  verified   reviewTime      reviewerID        asin  \\\n",
            "0         5.0      True  08 14, 2015  A1P3H3DODU5EBP  B00UB4WZSA   \n",
            "1         5.0      True  06 23, 2015  A13RE01422J8ZF  B00UB4WZSA   \n",
            "2         5.0      True  05 31, 2015   AR50FUOZWEVOY  B00UB4WZSA   \n",
            "3         5.0      True  05 24, 2015  A30WD3AU7JGJ89  B00UB4WZSA   \n",
            "4         5.0      True  05 16, 2015   A5KTIFUDR17HW  B00UB4WZSA   \n",
            "...       ...       ...          ...             ...         ...   \n",
            "9995      5.0      True  10 30, 2016  A3PN06W92YRAAG  B01H5ZYNLY   \n",
            "9996      5.0      True  10 27, 2016   A33M6VWSV2OTO  B01H5ZYNLY   \n",
            "9997      5.0      True  10 22, 2016  A2QAZW64EZDJ7Q  B01H5ZYNLY   \n",
            "9998      5.0      True  01 31, 2017  A1ZKSKSGE1VCBT  B01H5ZYVDY   \n",
            "9999      5.0      True  12 11, 2016   A9BD7JH7VJS5A  B01H5ZYVDY   \n",
            "\n",
            "                          style           reviewerName  \\\n",
            "0     {'Format:': ' MP3 Music'}                jabrd76   \n",
            "1     {'Format:': ' MP3 Music'}            Fern Staton   \n",
            "2     {'Format:': ' MP3 Music'}              G. Carter   \n",
            "3     {'Format:': ' MP3 Music'}                  Diane   \n",
            "4     {'Format:': ' MP3 Music'}                krhobbs   \n",
            "...                         ...                    ...   \n",
            "9995  {'Format:': ' MP3 Music'}       Andrea Zielinski   \n",
            "9996   {'Format:': ' Audio CD'}                   Javi   \n",
            "9997   {'Format:': ' Audio CD'}          Jeffrey Klipp   \n",
            "9998  {'Format:': ' MP3 Music'}  Anthony C. Atilano Jr   \n",
            "9999  {'Format:': ' MP3 Music'}                  jamie   \n",
            "\n",
            "                                             reviewText  \\\n",
            "0           See previous review.  Z B band is the best.   \n",
            "1     Zac and his band consistantly make music that ...   \n",
            "2                                   Another great song!   \n",
            "3                                              love it!   \n",
            "4                               great song, great group   \n",
            "...                                                 ...   \n",
            "9995                                  I really love it!   \n",
            "9996  Great soundtrack with awesome old songs mixed ...   \n",
            "9997  I love thi CD. The movie was even better. You ...   \n",
            "9998                                          Good song   \n",
            "9999                                      Love the song   \n",
            "\n",
            "                       summary  unixReviewTime vote image  \n",
            "0                    Fantastic      1439510400  NaN   NaN  \n",
            "1            Organically grown      1435017600  NaN   NaN  \n",
            "2                   Five Stars      1433030400  NaN   NaN  \n",
            "3                   Five Stars      1432425600  NaN   NaN  \n",
            "4                   Five Stars      1431734400  NaN   NaN  \n",
            "...                        ...             ...  ...   ...  \n",
            "9995                Five Stars      1477785600  NaN   NaN  \n",
            "9996                Five Stars      1477526400  NaN   NaN  \n",
            "9997  Suicide Squad Soundtrack      1477094400  NaN   NaN  \n",
            "9998                Five Stars      1485820800  NaN   NaN  \n",
            "9999                  Good buy      1481414400  NaN   NaN  \n",
            "\n",
            "[10000 rows x 12 columns]\n",
            "Saved 10000 records to ./DeepCGSR_triet/data/DigitalMusic/Small_Digital_Music_10000_11.json\n",
            "      overall  verified   reviewTime      reviewerID        asin  \\\n",
            "0         4.0      True  09 26, 2016   A5P7STTZE2MJV  B01H5ZZ4CQ   \n",
            "1         4.0      True  09 16, 2016  A2729AQCW8EGAP  B01H5ZZ4CQ   \n",
            "2         4.0      True  08 17, 2016  A2V78GK5CH63DA  B01H5ZZ4CQ   \n",
            "3         1.0     False   08 9, 2016   A422TIGQH6GJ5  B01H5ZZ4CQ   \n",
            "4         5.0      True   11 4, 2016   AM98EI5K7UQ2M  B01H5ZYVDY   \n",
            "...       ...       ...          ...             ...         ...   \n",
            "9995      5.0      True  09 16, 2014  A2YPV9J2PWRQHZ  B001229952   \n",
            "9996      5.0      True  08 10, 2014  A19F4V98ZVOK7D  B001229952   \n",
            "9997      4.0      True   07 1, 2014  A29SM9BXWMMRN8  B001229952   \n",
            "9998      5.0      True  11 23, 2013  A2EK1WCNYMAWO8  B001229952   \n",
            "9999      5.0      True   12 7, 2016  A1OXZ4FMHTEPIT  B001229ZW4   \n",
            "\n",
            "                          style         reviewerName  \\\n",
            "0     {'Format:': ' MP3 Music'}            Leozpride   \n",
            "1     {'Format:': ' MP3 Music'}        Angela Mortis   \n",
            "2     {'Format:': ' MP3 Music'}             Belle S.   \n",
            "3     {'Format:': ' MP3 Music'}  Inquisitive Guereza   \n",
            "4     {'Format:': ' MP3 Music'}        Dream Machine   \n",
            "...                         ...                  ...   \n",
            "9995  {'Format:': ' MP3 Music'}   Michel Jean Claude   \n",
            "9996  {'Format:': ' MP3 Music'}              randall   \n",
            "9997  {'Format:': ' MP3 Music'}            Andie Mac   \n",
            "9998  {'Format:': ' MP3 Music'}     HonestToGoodness   \n",
            "9999  {'Format:': ' MP3 Music'}       Dentin Shelton   \n",
            "\n",
            "                                             reviewText  \\\n",
            "0     This is a great song and I love the rehash. It...   \n",
            "1     They are trying so hard to replicate the origi...   \n",
            "2     When it comes to covers of songs there are som...   \n",
            "3     I realize what caused the \"panic\" at the disco...   \n",
            "4     If there was ever a voice that could just put ...   \n",
            "...                                                 ...   \n",
            "9995                                               good   \n",
            "9996                                        Great song!   \n",
            "9997                                         I like it!   \n",
            "9998  Faith Hill's darling voice and lyric make this...   \n",
            "9999                                            Love it   \n",
            "\n",
            "                                        summary  unixReviewTime vote image  \n",
            "0                                  Great remake      1474848000  NaN   NaN  \n",
            "1     (Maybe a little too) True to the original      1473984000  NaN   NaN  \n",
            "2                                         3.5/5      1471392000  NaN   NaN  \n",
            "3                                         Awful      1470700800  NaN   NaN  \n",
            "4                                     Gawd Dang      1478217600  NaN   NaN  \n",
            "...                                         ...             ...  ...   ...  \n",
            "9995                                 Five Stars      1410825600  NaN   NaN  \n",
            "9996                                 Five Stars      1407628800  NaN   NaN  \n",
            "9997                                 Four Stars      1404172800  NaN   NaN  \n",
            "9998                    Great Country Love Song      1385164800  NaN   NaN  \n",
            "9999                                 Five Stars      1481068800  NaN   NaN  \n",
            "\n",
            "[10000 rows x 12 columns]\n",
            "Saved 10000 records to ./DeepCGSR_triet/data/DigitalMusic/Small_Digital_Music_10000_12.json\n",
            "      overall  verified   reviewTime      reviewerID        asin  \\\n",
            "0         5.0      True  06 14, 2015  A3QJRRC3OBW1JS  B001229ZW4   \n",
            "1         3.0      True   06 1, 2015  A3VP0N3QY6XVYE  B001229ZW4   \n",
            "2         5.0      True   01 2, 2015  A1XNWOV39TF50P  B001229ZW4   \n",
            "3         5.0      True   02 1, 2017  A2TS84CV5PTG0V  B00122B8VU   \n",
            "4         5.0      True  12 19, 2015   ACCQS2S225D6V  B00122B8VU   \n",
            "...       ...       ...          ...             ...         ...   \n",
            "9995      5.0      True   10 7, 2015  A2PDE1PWA2XF3E  B0013D4IK6   \n",
            "9996      4.0      True  04 10, 2015  A3BEZFDYU1KM6A  B0013D4IK6   \n",
            "9997      5.0      True  03 11, 2015  A2PR1O53J0V8W2  B0013D4IK6   \n",
            "9998      5.0      True  12 25, 2012   A5LWPQ0QOMJUJ  B0013D4IK6   \n",
            "9999      5.0      True  12 20, 2017   A8X95VTNGFY4L  B0013D7TW0   \n",
            "\n",
            "                          style         reviewerName  \\\n",
            "0     {'Format:': ' MP3 Music'}         kathy neilly   \n",
            "1     {'Format:': ' MP3 Music'}  Gardner Enterprises   \n",
            "2     {'Format:': ' MP3 Music'}                Pappy   \n",
            "3     {'Format:': ' MP3 Music'}             Jennifer   \n",
            "4     {'Format:': ' MP3 Music'}        Phil Washburn   \n",
            "...                         ...                  ...   \n",
            "9995  {'Format:': ' MP3 Music'}          T. Bradford   \n",
            "9996  {'Format:': ' MP3 Music'}    Brenda M. Johnson   \n",
            "9997  {'Format:': ' MP3 Music'}     Hubert Wilson Jr   \n",
            "9998  {'Format:': ' MP3 Music'}                 zann   \n",
            "9999  {'Format:': ' MP3 Music'}        E.W.W Goldman   \n",
            "\n",
            "                                             reviewText               summary  \\\n",
            "0                                               Love it            Five Stars   \n",
            "1              Needed it for a Christmas light display!           Three Stars   \n",
            "2                                                 yeah!                   Hot   \n",
            "3     great for my MP3 player.  Classic song that ma...            Five Stars   \n",
            "4     what's to say? It's a song and I knew it befor...            Five Stars   \n",
            "...                                                 ...                   ...   \n",
            "9995  Whaaaat? Nothing to say here. Who doesn't know...            Five Stars   \n",
            "9996                                         good sound            Four Stars   \n",
            "9997                                               Good            Five Stars   \n",
            "9998  this was my fav by biggie\\n\\nI love to listen ...  my all time favorite   \n",
            "9999  classic!!!! thats the song!!!!  cancun  party!...  Hypnotize [Explicit]   \n",
            "\n",
            "      unixReviewTime vote image  \n",
            "0         1434240000  NaN   NaN  \n",
            "1         1433116800  NaN   NaN  \n",
            "2         1420156800  NaN   NaN  \n",
            "3         1485907200  NaN   NaN  \n",
            "4         1450483200  NaN   NaN  \n",
            "...              ...  ...   ...  \n",
            "9995      1444176000  NaN   NaN  \n",
            "9996      1428624000  NaN   NaN  \n",
            "9997      1426032000  NaN   NaN  \n",
            "9998      1356393600  NaN   NaN  \n",
            "9999      1513728000  NaN   NaN  \n",
            "\n",
            "[10000 rows x 12 columns]\n",
            "Saved 10000 records to ./DeepCGSR_triet/data/DigitalMusic/Small_Digital_Music_10000_13.json\n",
            "      overall  verified   reviewTime      reviewerID        asin  \\\n",
            "0         4.0      True  07 15, 2017   AKYNIMNI8LOBP  B0013D7TW0   \n",
            "1         5.0      True  07 16, 2016  A3NR179F3QQLJ4  B0013D7TW0   \n",
            "2         5.0      True   09 6, 2017   ARBORBMTIOJD2  B0013D8AXM   \n",
            "3         5.0      True  07 28, 2016     A5VKAGKURFJ  B0013D8AXM   \n",
            "4         5.0      True   09 9, 2014  A2SZXKV9Z0LX1L  B0013D8AXM   \n",
            "...       ...       ...          ...             ...         ...   \n",
            "9995      5.0      True  03 28, 2017   AI06C2NWQC82O  B003MOMTNW   \n",
            "9996      5.0      True  09 22, 2016  A14YTPQDH3PAZU  B003MOMTNW   \n",
            "9997      5.0      True   05 6, 2016  A2S9D3513H6I2J  B003MOMTNW   \n",
            "9998      4.0      True  04 29, 2016   AA4NW3ABH1YDQ  B003MOMTNW   \n",
            "9999      5.0      True  04 24, 2016  A3U7DU5LCD7O1B  B003MOMTNW   \n",
            "\n",
            "                          style       reviewerName  \\\n",
            "0     {'Format:': ' MP3 Music'}      Richard Weems   \n",
            "1     {'Format:': ' MP3 Music'}      Darryl Keller   \n",
            "2     {'Format:': ' MP3 Music'}    Cyndi L. Reaver   \n",
            "3     {'Format:': ' MP3 Music'}             Nicole   \n",
            "4     {'Format:': ' MP3 Music'}                Aly   \n",
            "...                         ...                ...   \n",
            "9995                        NaN    Kindle Customer   \n",
            "9996                        NaN            jay jay   \n",
            "9997                        NaN  Johannese Pasteur   \n",
            "9998                        NaN         DOROTHY R.   \n",
            "9999                        NaN          H. Spring   \n",
            "\n",
            "                                             reviewText          summary  \\\n",
            "0                                               Classic          Classic   \n",
            "1                                     Big at his finest       Five Stars   \n",
            "2                                                Great.       Five Stars   \n",
            "3     This an awesome song. I like the message it ho...        good song   \n",
            "4                                                 Loved        I love it   \n",
            "...                                                 ...              ...   \n",
            "9995                                            Awesome  Prince forever!   \n",
            "9996                                             Great.       Five Stars   \n",
            "9997                                Great music, so sad       Five Stars   \n",
            "9998                                         GREAT DUET       Four Stars   \n",
            "9999        Love it! it's prince what more can you say.       Five Stars   \n",
            "\n",
            "      unixReviewTime vote image  \n",
            "0         1500076800  NaN   NaN  \n",
            "1         1468627200  NaN   NaN  \n",
            "2         1504656000  NaN   NaN  \n",
            "3         1469664000  NaN   NaN  \n",
            "4         1410220800  NaN   NaN  \n",
            "...              ...  ...   ...  \n",
            "9995      1490659200  NaN   NaN  \n",
            "9996      1474502400  NaN   NaN  \n",
            "9997      1462492800  NaN   NaN  \n",
            "9998      1461888000  NaN   NaN  \n",
            "9999      1461456000  NaN   NaN  \n",
            "\n",
            "[10000 rows x 12 columns]\n",
            "Saved 10000 records to ./DeepCGSR_triet/data/DigitalMusic/Small_Digital_Music_10000_14.json\n",
            "      overall  verified   reviewTime      reviewerID        asin  \\\n",
            "0         5.0      True  03 26, 2015  A1PXD7WBWZFY03  B003MOHXBK   \n",
            "1         5.0      True  03 16, 2015  A31UFA8DTI5R59  B003MOHXBK   \n",
            "2         4.0      True   03 9, 2013   A8ABIGK0KCNYU  B003MOHXBK   \n",
            "3         5.0      True  01 13, 2018  A1O36GK0U01MLM  B003N5A9GO   \n",
            "4         4.0      True  12 11, 2016  A2S1079WE4ZXFR  B003N5A9GO   \n",
            "...       ...       ...          ...             ...         ...   \n",
            "9995      5.0      True  09 11, 2016  A3AU0683BTPNNZ  B00DH72QZA   \n",
            "9996      3.0      True  08 21, 2017  A14MGS3QHZVQ3E  B00DH8AEA8   \n",
            "9997      5.0      True  02 15, 2018   AO47GSGL30ZEK  B00DHAKLNG   \n",
            "9998      5.0      True   10 3, 2017   A3N285QCJTUFX  B00DHAKLNG   \n",
            "9999      5.0      True  06 21, 2017  A2HDYNSUN6JJUP  B00DHAKLNG   \n",
            "\n",
            "                reviewerName  \\\n",
            "0                James Whitt   \n",
            "1                         cj   \n",
            "2                       mica   \n",
            "3         Harry V. Scott Jr.   \n",
            "4                Mysalvation   \n",
            "...                      ...   \n",
            "9995  Sunday&#039;s Best Fan   \n",
            "9996        Paul N. Robinson   \n",
            "9997       Michele R. Mather   \n",
            "9998                 Kirk G.   \n",
            "9999             Roxysgarden   \n",
            "\n",
            "                                             reviewText               summary  \\\n",
            "0                                            It's good.            it's good.   \n",
            "1                                      Great epic music            Five Stars   \n",
            "2     sometime,s we all need a bit of music that wil...  music to push you on   \n",
            "3                                     Good dance music.            Five Stars   \n",
            "4                                                 Great                 Great   \n",
            "...                                                 ...                   ...   \n",
            "9995                                  Money well spent.            Five Stars   \n",
            "9996  Not super inspiring or indicative of what is t...                  Fair   \n",
            "9997               Every thing was fine with this order            Five Stars   \n",
            "9998                                               Cool            Five Stars   \n",
            "9999                                        Good album.            Five Stars   \n",
            "\n",
            "      unixReviewTime                      style vote image  \n",
            "0         1427328000                        NaN  NaN   NaN  \n",
            "1         1426464000                        NaN  NaN   NaN  \n",
            "2         1362787200                        NaN  NaN   NaN  \n",
            "3         1515801600  {'Format:': ' MP3 Music'}  NaN   NaN  \n",
            "4         1481414400  {'Format:': ' MP3 Music'}  NaN   NaN  \n",
            "...              ...                        ...  ...   ...  \n",
            "9995      1473552000   {'Format:': ' Audio CD'}  NaN   NaN  \n",
            "9996      1503273600  {'Format:': ' MP3 Music'}  NaN   NaN  \n",
            "9997      1518652800   {'Format:': ' Audio CD'}  NaN   NaN  \n",
            "9998      1506988800   {'Format:': ' Audio CD'}  NaN   NaN  \n",
            "9999      1498003200  {'Format:': ' MP3 Music'}  NaN   NaN  \n",
            "\n",
            "[10000 rows x 12 columns]\n",
            "Saved 10000 records to ./DeepCGSR_triet/data/DigitalMusic/Small_Digital_Music_10000_15.json\n",
            "      overall  verified   reviewTime      reviewerID        asin  \\\n",
            "0         4.0      True  10 17, 2017  A37VF0LNXK0IA6  B00DHACZZ8   \n",
            "1         5.0      True  04 18, 2016  A26IFYUN4MTRU5  B00DHACZZ8   \n",
            "2         5.0      True   07 4, 2015  A3TJ2DSEFWY7DY  B00DHACZZ8   \n",
            "3         1.0      True   09 3, 2016  A37B6X9YTM9EH1  B00DHMXLUY   \n",
            "4         5.0      True   06 8, 2015  A2RUADXOPI1EQB  B00DHMXLUY   \n",
            "...       ...       ...          ...             ...         ...   \n",
            "9760      5.0      True  08 19, 2018  A1SR2T84IXOMAQ  B01HJ91MTW   \n",
            "9761      5.0      True  03 18, 2018  A2SR3DWJR1PYR6  B01HJ91MTW   \n",
            "9762      5.0      True   03 7, 2018  A24V7X30NIMOIY  B01HJ91MTW   \n",
            "9763      5.0      True  02 12, 2018  A1LW10GYP2EYM1  B01HJ91MTW   \n",
            "9764      5.0      True  01 27, 2018  A26TH3YW0QWPI7  B01HJ91MTW   \n",
            "\n",
            "                          style   reviewerName  \\\n",
            "0     {'Format:': ' MP3 Music'}    SerenityNow   \n",
            "1     {'Format:': ' MP3 Music'}      BooBoo.59   \n",
            "2     {'Format:': ' MP3 Music'}  Edward Zeiser   \n",
            "3     {'Format:': ' MP3 Music'}   vronnie_2101   \n",
            "4     {'Format:': ' MP3 Music'}  R. A. Huffman   \n",
            "...                         ...            ...   \n",
            "9760  {'Format:': ' MP3 Music'}       Diane B.   \n",
            "9761  {'Format:': ' MP3 Music'}         jan c.   \n",
            "9762  {'Format:': ' MP3 Music'}         Lori Y   \n",
            "9763  {'Format:': ' MP3 Music'}            N F   \n",
            "9764  {'Format:': ' MP3 Music'}     Susan Lane   \n",
            "\n",
            "                                             reviewText  \\\n",
            "0     Now, this mp3 set of the complete harpsichord ...   \n",
            "1                                                 great   \n",
            "2     If you like harpsichord music, this should be ...   \n",
            "3               Love Brit Brit. Not a fan of this song.   \n",
            "4                                          Work's great   \n",
            "...                                                 ...   \n",
            "9760           Casting Crowns songs are all wonderful!!   \n",
            "9761         Just reminds you that you are never alone.   \n",
            "9762                        Good product, good service.   \n",
            "9763  I love every single song this group sings. The...   \n",
            "9764                                         Great song   \n",
            "\n",
            "                                              summary  unixReviewTime vote  \\\n",
            "0     It's a motherlode of music for the harpsichord!      1508198400  NaN   \n",
            "1                                          Five Stars      1460937600  NaN   \n",
            "2                                A wonderful value...      1435968000  NaN   \n",
            "3                                            One Star      1472860800  NaN   \n",
            "4                                          Five Stars      1433721600  NaN   \n",
            "...                                               ...             ...  ...   \n",
            "9760                                     Great song!!      1534636800  NaN   \n",
            "9761                                       Five Stars      1521331200  NaN   \n",
            "9762                                       Five Stars      1520380800  NaN   \n",
            "9763                          Absolutely beautiful...      1518393600  NaN   \n",
            "9764                                       Five Stars      1517011200  NaN   \n",
            "\n",
            "     image  \n",
            "0      NaN  \n",
            "1      NaN  \n",
            "2      NaN  \n",
            "3      NaN  \n",
            "4      NaN  \n",
            "...    ...  \n",
            "9760   NaN  \n",
            "9761   NaN  \n",
            "9762   NaN  \n",
            "9763   NaN  \n",
            "9764   NaN  \n",
            "\n",
            "[9765 rows x 12 columns]\n",
            "Saved 9765 records to ./DeepCGSR_triet/data/DigitalMusic/Small_Digital_Music_9765_16.json\n"
          ]
        }
      ],
      "source": [
        "json_file_path = \"./DeepCGSR_triet/data/raw/Digital_Music_5.json\"  # Thay đổi đường dẫn tới file JSON của bạn\n",
        "output_directory = \"./DeepCGSR_triet/data/DigitalMusic\"  # Thay đổi đường dẫn thư mục lưu file CSV của bạn\n",
        "chunk_size = 10000  # Kích thước của mỗi phần dữ liệu\n",
        "\n",
        "small_list_data = read_and_split_data(json_file_path, chunk_size)\n",
        "count_name = 0\n",
        "for data in small_list_data:\n",
        "    # Chuyển đổi dữ liệu thành DataFrame\n",
        "    data_df = pd.DataFrame(data)\n",
        "    print(data_df)\n",
        "    # data_df.columns = ['reviewerID', 'asin', 'overall', 'reviewText']\n",
        "\n",
        "    # Lưu dữ liệu dưới dạng CSV\n",
        "    output_file_path = os.path.join(output_directory, f\"Small_Digital_Music_{len(data_df)}_{count_name}.json\")\n",
        "    data_df.to_json(output_file_path, orient='records', lines=True)\n",
        "\n",
        "    print(f\"Saved {len(data_df)} records to {output_file_path}\")\n",
        "    count_name += 1"
      ]
    },
    {
      "cell_type": "code",
      "execution_count": 4,
      "metadata": {
        "id": "J5SZuWLY9zhy"
      },
      "outputs": [
        {
          "name": "stdout",
          "output_type": "stream",
          "text": [
            "      overall  verified   reviewTime      reviewerID        asin  \\\n",
            "0           5      True  01 13, 2013  A1E78KIR64YBT6  B000VZO4TW   \n",
            "1           5      True  03 15, 2016   ASUDG3BDP87CI  B000VZO4TW   \n",
            "2           5      True  02 21, 2016   AKMWILI3V2XCY  B000VZO4TW   \n",
            "3           5      True  02 10, 2016   AAAVOYJKW8IC8  B000VZO4TW   \n",
            "4           5      True   02 7, 2016  A2HPG8QACV8QAJ  B000VZO4TW   \n",
            "...       ...       ...          ...             ...         ...   \n",
            "9995        5     False  12 25, 2004   A11GY1G10WSE8  B00123KEGO   \n",
            "9996        5     False  11 18, 2004   AMG2LF8MLUDN1  B00123KEGO   \n",
            "9997        5      True  10 11, 2014  A134WU6PV3QFSW  B00123LZT4   \n",
            "9998        3      True  09 28, 2014  A2Y2CLBUBP0QNE  B00123LZT4   \n",
            "9999        5      True  08 21, 2014  A15A0G4ZK7RGY4  B00123LZT4   \n",
            "\n",
            "                          style   reviewerName  \\\n",
            "0     {'Format:': ' MP3 Music'}    lil_sparrow   \n",
            "1     {'Format:': ' MP3 Music'}    john basile   \n",
            "2     {'Format:': ' MP3 Music'}        Phil S.   \n",
            "3     {'Format:': ' MP3 Music'}       Cardsfan   \n",
            "4     {'Format:': ' MP3 Music'}     Nina Petty   \n",
            "...                         ...            ...   \n",
            "9995                       None          Rik22   \n",
            "9996                       None      M. Fields   \n",
            "9997  {'Format:': ' MP3 Music'}    sue hankins   \n",
            "9998  {'Format:': ' MP3 Music'}  Born American   \n",
            "9999  {'Format:': ' MP3 Music'}     Pat Burton   \n",
            "\n",
            "                                             reviewText  \\\n",
            "0     my first favorite kiss song off the first favo...   \n",
            "1                                             Excellent   \n",
            "2     I don't like a bunch of Kiss, but I like this ...   \n",
            "3     Loved the song.  Not a Kiss fan, but this song...   \n",
            "4                                         love the song   \n",
            "...                                                 ...   \n",
            "9995  Rhino Records which has already released a doz...   \n",
            "9996  I hadn't even realized that the powerhouse gro...   \n",
            "9997                                                 A+   \n",
            "9998                                              yep !   \n",
            "9999  Randy Travis' rich voice lends itself to make ...   \n",
            "\n",
            "                                    summary  unixReviewTime  vote image  \n",
            "0                               music lover      1358035200   NaN  None  \n",
            "1                                Five Stars      1458000000   NaN  None  \n",
            "2                                Five Stars      1456012800   NaN  None  \n",
            "3                                Five Stars      1455062400   NaN  None  \n",
            "4                                Five Stars      1454803200   NaN  None  \n",
            "...                                     ...             ...   ...   ...  \n",
            "9995  Great Re-issue of a Christmas Classic      1103932800   NaN  None  \n",
            "9996                A Christmas Well Spent!      1100736000   NaN  None  \n",
            "9997                             Five Stars      1412985600   NaN  None  \n",
            "9998                            Three Stars      1411862400   NaN  None  \n",
            "9999                             Five Stars      1408579200   NaN  None  \n",
            "\n",
            "[10000 rows x 12 columns]\n",
            "       reviewerID        asin  overall  \\\n",
            "0  A1E78KIR64YBT6  B000VZO4TW        5   \n",
            "1   ASUDG3BDP87CI  B000VZO4TW        5   \n",
            "2   AKMWILI3V2XCY  B000VZO4TW        5   \n",
            "3   AAAVOYJKW8IC8  B000VZO4TW        5   \n",
            "4  A2HPG8QACV8QAJ  B000VZO4TW        5   \n",
            "\n",
            "                                          reviewText  \n",
            "0  my first favorite kiss song off the first favo...  \n",
            "1                                          Excellent  \n",
            "2  I don't like a bunch of Kiss, but I like this ...  \n",
            "3  Loved the song.  Not a Kiss fan, but this song...  \n",
            "4                                      love the song  \n"
          ]
        }
      ],
      "source": [
        "data = pd.read_json(\"DeepCGSR_triet/data/DigitalMusic/Small_Digital_Music_10000_3.json\", lines=True)\n",
        "print(data)\n",
        "data_df = pd.DataFrame(data, columns=['reviewerID', 'asin', 'overall', 'reviewText'])\n",
        "print(data_df.head())\n",
        "data_df.columns = ['reviewerID', 'asin', 'overall', 'reviewText']\n",
        "\n",
        "data_rating = data_df[\"overall\"].tolist()\n",
        "data_review = data_df[\"reviewText\"].tolist()\n",
        "data_reviewerID = data_df[\"reviewerID\"].tolist()\n",
        "data_itemID = data_df[\"asin\"].tolist()"
      ]
    },
    {
      "cell_type": "code",
      "execution_count": 5,
      "metadata": {
        "colab": {
          "base_uri": "https://localhost:8080/"
        },
        "id": "2uzR4bKv96IP",
        "outputId": "49d8bb84-1308-42d5-f7f4-d4b3332d2b2e"
      },
      "outputs": [
        {
          "name": "stdout",
          "output_type": "stream",
          "text": [
            "10000\n",
            "10000\n"
          ]
        }
      ],
      "source": [
        "print(len(data_rating))\n",
        "print(len(data_reviewerID))"
      ]
    },
    {
      "cell_type": "code",
      "execution_count": 6,
      "metadata": {
        "colab": {
          "base_uri": "https://localhost:8080/"
        },
        "id": "Mh3aa--7-Omb",
        "outputId": "6ad14e4f-aef7-4a8d-9c2f-242751e6a819"
      },
      "outputs": [
        {
          "name": "stdout",
          "output_type": "stream",
          "text": [
            "        id  T_v\n",
            "0        0    1\n",
            "1        1    1\n",
            "2        2    1\n",
            "3        3    1\n",
            "4        4    1\n",
            "...    ...  ...\n",
            "9995  9995    1\n",
            "9996  9996    1\n",
            "9997  9997    1\n",
            "9998  9998   -1\n",
            "9999  9999    1\n",
            "\n",
            "[10000 rows x 2 columns]\n"
          ]
        }
      ],
      "source": [
        "import pandas as pd\n",
        "# step01:\n",
        "def defineRating(data_rating):\n",
        "  T_v = []\n",
        "  for rating in data_rating:\n",
        "    if rating >= 4:\n",
        "      T_v.append(1)\n",
        "    else:\n",
        "      T_v.append(-1)\n",
        "  return T_v\n",
        "\n",
        "T_v = defineRating(data_rating)\n",
        "\n",
        "# Define the data for the dataframe\n",
        "data = {'id': range(len(T_v)), 'T_v': T_v}\n",
        "\n",
        "# Create the dataframe\n",
        "df_rating = pd.DataFrame(data)\n",
        "\n",
        "# Print the dataframe\n",
        "print(df_rating)\n"
      ]
    },
    {
      "cell_type": "code",
      "execution_count": 7,
      "metadata": {},
      "outputs": [
        {
          "name": "stdout",
          "output_type": "stream",
          "text": [
            "        id  T_v      reviewerID        asin  overall  \\\n",
            "0        0    1  A1E78KIR64YBT6  B000VZO4TW        5   \n",
            "1        1    1   ASUDG3BDP87CI  B000VZO4TW        5   \n",
            "2        2    1   AKMWILI3V2XCY  B000VZO4TW        5   \n",
            "3        3    1   AAAVOYJKW8IC8  B000VZO4TW        5   \n",
            "4        4    1  A2HPG8QACV8QAJ  B000VZO4TW        5   \n",
            "...    ...  ...             ...         ...      ...   \n",
            "9995  9995    1   A11GY1G10WSE8  B00123KEGO        5   \n",
            "9996  9996    1   AMG2LF8MLUDN1  B00123KEGO        5   \n",
            "9997  9997    1  A134WU6PV3QFSW  B00123LZT4        5   \n",
            "9998  9998   -1  A2Y2CLBUBP0QNE  B00123LZT4        3   \n",
            "9999  9999    1  A15A0G4ZK7RGY4  B00123LZT4        5   \n",
            "\n",
            "                                             reviewText  \n",
            "0     my first favorite kiss song off the first favo...  \n",
            "1                                             Excellent  \n",
            "2     I don't like a bunch of Kiss, but I like this ...  \n",
            "3     Loved the song.  Not a Kiss fan, but this song...  \n",
            "4                                         love the song  \n",
            "...                                                 ...  \n",
            "9995  Rhino Records which has already released a doz...  \n",
            "9996  I hadn't even realized that the powerhouse gro...  \n",
            "9997                                                 A+  \n",
            "9998                                              yep !  \n",
            "9999  Randy Travis' rich voice lends itself to make ...  \n",
            "\n",
            "[10000 rows x 6 columns]\n"
          ]
        }
      ],
      "source": [
        "# Thêm vào dataframe df_rating cột C_v\n",
        "df_rating['reviewerID'] = data_reviewerID\n",
        "df_rating['asin'] = data_itemID\n",
        "df_rating['overall'] = data_rating\n",
        "df_rating['reviewText'] = data_review\n",
        "# Loại bỏ các dòng có reviewText trùng lặp\n",
        "# df_rating = remove_duplicate_rows(df_rating)\n",
        "print(df_rating)"
      ]
    },
    {
      "cell_type": "markdown",
      "metadata": {},
      "source": [
        "# Pre-Process Dataset\n"
      ]
    },
    {
      "cell_type": "code",
      "execution_count": 8,
      "metadata": {},
      "outputs": [
        {
          "name": "stderr",
          "output_type": "stream",
          "text": [
            "/home/triet/ComputerScience_K32/Recommendation_System/DeepCGSR_triet/.venv/lib/python3.11/site-packages/torch/cuda/__init__.py:138: UserWarning: CUDA initialization: CUDA unknown error - this may be due to an incorrectly set up environment, e.g. changing env variable CUDA_VISIBLE_DEVICES after program start. Setting the available devices to be zero. (Triggered internally at ../c10/cuda/CUDAFunctions.cpp:108.)\n",
            "  return torch._C._cuda_getDeviceCount() > 0\n",
            "/home/triet/ComputerScience_K32/Recommendation_System/DeepCGSR_triet/.venv/lib/python3.11/site-packages/tqdm/auto.py:21: TqdmWarning: IProgress not found. Please update jupyter and ipywidgets. See https://ipywidgets.readthedocs.io/en/stable/user_install.html\n",
            "  from .autonotebook import tqdm as notebook_tqdm\n",
            "2024-04-28 18:26:15.546965: I tensorflow/core/util/port.cc:113] oneDNN custom operations are on. You may see slightly different numerical results due to floating-point round-off errors from different computation orders. To turn them off, set the environment variable `TF_ENABLE_ONEDNN_OPTS=0`.\n",
            "2024-04-28 18:26:15.928865: I tensorflow/core/platform/cpu_feature_guard.cc:210] This TensorFlow binary is optimized to use available CPU instructions in performance-critical operations.\n",
            "To enable the following instructions: AVX2 AVX_VNNI FMA, in other operations, rebuild TensorFlow with the appropriate compiler flags.\n",
            "2024-04-28 18:26:17.235325: W tensorflow/compiler/tf2tensorrt/utils/py_utils.cc:38] TF-TRT Warning: Could not find TensorRT\n",
            "[nltk_data] Downloading package punkt to /home/triet/nltk_data...\n",
            "[nltk_data]   Package punkt is already up-to-date!\n",
            "[nltk_data] Downloading package stopwords to /home/triet/nltk_data...\n",
            "[nltk_data]   Package stopwords is already up-to-date!\n",
            "[nltk_data] Downloading package vader_lexicon to\n",
            "[nltk_data]     /home/triet/nltk_data...\n",
            "[nltk_data]   Package vader_lexicon is already up-to-date!\n"
          ]
        },
        {
          "name": "stdout",
          "output_type": "stream",
          "text": [
            "['a+', 'abound', 'abounds', 'abundance', 'abundant', 'accessable', 'accessible', 'acclaim', 'acclaimed', 'acclamation', 'accolade', 'accolades', 'accommodative', 'accomodative', 'accomplish', 'accomplished', 'accomplishment', 'accomplishments', 'accurate', 'accurately', 'achievable', 'achievement', 'achievements', 'achievible', 'acumen', 'adaptable', 'adaptive', 'adequate', 'adjustable', 'admirable', 'admirably', 'admiration', 'admire', 'admirer', 'admiring', 'admiringly', 'adorable', 'adore', 'adored', 'adorer', 'adoring', 'adoringly', 'adroit', 'adroitly', 'adulate', 'adulation', 'adulatory', 'advanced', 'advantage', 'advantageous', 'advantageously', 'advantages', 'adventuresome', 'adventurous', 'advocate', 'advocated', 'advocates', 'affability', 'affable', 'affably', 'affectation', 'affection', 'affectionate', 'affinity', 'affirm', 'affirmation', 'affirmative', 'affluence', 'affluent', 'afford', 'affordable', 'affordably', 'afordable', 'agile', 'agilely', 'agility', 'agreeable', 'agreeableness', 'agreeably', 'all-around', 'alluring', 'alluringly', 'altruistic', 'altruistically', 'amaze', 'amazed', 'amazement', 'amazes', 'amazing', 'amazingly', 'ambitious', 'ambitiously', 'ameliorate', 'amenable', 'amenity', 'amiability', 'amiabily', 'amiable', 'amicability', 'amicable', 'amicably', 'amity', 'ample', 'amply', 'amuse', 'amusing', 'amusingly', 'angel', 'angelic', 'apotheosis', 'appeal', 'appealing', 'applaud', 'appreciable', 'appreciate', 'appreciated', 'appreciates', 'appreciative', 'appreciatively', 'appropriate', 'approval', 'approve', 'ardent', 'ardently', 'ardor', 'articulate', 'aspiration', 'aspirations', 'aspire', 'assurance', 'assurances', 'assure', 'assuredly', 'assuring', 'astonish', 'astonished', 'astonishing', 'astonishingly', 'astonishment', 'astound', 'astounded', 'astounding', 'astoundingly', 'astutely', 'attentive', 'attraction', 'attractive', 'attractively', 'attune', 'audible', 'audibly', 'auspicious', 'authentic', 'authoritative', 'autonomous', 'available', 'aver', 'avid', 'avidly', 'award', 'awarded', 'awards', 'awe', 'awed', 'awesome', 'awesomely', 'awesomeness', 'awestruck', 'awsome', 'backbone', 'balanced', 'bargain', 'beauteous', 'beautiful', 'beautifullly', 'beautifully', 'beautify', 'beauty', 'beckon', 'beckoned', 'beckoning', 'beckons', 'believable', 'believeable', 'beloved', 'benefactor', 'beneficent', 'beneficial', 'beneficially', 'beneficiary', 'benefit', 'benefits', 'benevolence', 'benevolent', 'benifits', 'best', 'best-known', 'best-performing', 'best-selling', 'better', 'better-known', 'better-than-expected', 'beutifully', 'blameless', 'bless', 'blessing', 'bliss', 'blissful', 'blissfully', 'blithe', 'blockbuster', 'bloom', 'blossom', 'bolster', 'bonny', 'bonus', 'bonuses', 'boom', 'booming', 'boost', 'boundless', 'bountiful', 'brainiest', 'brainy', 'brand-new', 'brave', 'bravery', 'bravo', 'breakthrough', 'breakthroughs', 'breathlessness', 'breathtaking', 'breathtakingly', 'breeze', 'bright', 'brighten', 'brighter', 'brightest', 'brilliance', 'brilliances', 'brilliant', 'brilliantly', 'brisk', 'brotherly', 'bullish', 'buoyant', 'cajole', 'calm', 'calming', 'calmness', 'capability', 'capable', 'capably', 'captivate', 'captivating', 'carefree', 'cashback', 'cashbacks', 'catchy', 'celebrate', 'celebrated', 'celebration', 'celebratory', 'champ', 'champion', 'charisma', 'charismatic', 'charitable', 'charm', 'charming', 'charmingly', 'chaste', 'cheaper', 'cheapest', 'cheer', 'cheerful', 'cheery', 'cherish', 'cherished', 'cherub', 'chic', 'chivalrous', 'chivalry', 'civility', 'civilize', 'clarity', 'classic', 'classy', 'clean', 'cleaner', 'cleanest', 'cleanliness', 'cleanly', 'clear', 'clear-cut', 'cleared', 'clearer', 'clearly', 'clears', 'clever', 'cleverly', 'cohere', 'coherence', 'coherent', 'cohesive', 'colorful', 'comely', 'comfort', 'comfortable', 'comfortably', 'comforting', 'comfy', 'commend', 'commendable', 'commendably', 'commitment', 'commodious', 'compact', 'compactly', 'compassion', 'compassionate', 'compatible', 'competitive', 'complement', 'complementary', 'complemented', 'complements', 'compliant', 'compliment', 'complimentary', 'comprehensive', 'conciliate', 'conciliatory', 'concise', 'confidence', 'confident', 'congenial', 'congratulate', 'congratulation', 'congratulations', 'congratulatory', 'conscientious', 'considerate', 'consistent', 'consistently', 'constructive', 'consummate', 'contentment', 'continuity', 'contrasty', 'contribution', 'convenience', 'convenient', 'conveniently', 'convience', 'convienient', 'convient', 'convincing', 'convincingly', 'cool', 'coolest', 'cooperative', 'cooperatively', 'cornerstone', 'correct', 'correctly', 'cost-effective', 'cost-saving', 'counter-attack', 'counter-attacks', 'courage', 'courageous', 'courageously', 'courageousness', 'courteous', 'courtly', 'covenant', 'cozy', 'creative', 'credence', 'credible', 'crisp', 'crisper', 'cure', 'cure-all', 'cushy', 'cute', 'cuteness', 'danke', 'danken', 'daring', 'daringly', 'darling', 'dashing', 'dauntless', 'dawn', 'dazzle', 'dazzled', 'dazzling', 'dead-cheap', 'dead-on', 'decency', 'decent', 'decisive', 'decisiveness', 'dedicated', 'defeat', 'defeated', 'defeating', 'defeats', 'defender', 'deference', 'deft', 'deginified', 'delectable', 'delicacy', 'delicate', 'delicious', 'delight', 'delighted', 'delightful', 'delightfully', 'delightfulness', 'dependable', 'dependably', 'deservedly', 'deserving', 'desirable', 'desiring', 'desirous', 'destiny', 'detachable', 'devout', 'dexterous', 'dexterously', 'dextrous', 'dignified', 'dignify', 'dignity', 'diligence', 'diligent', 'diligently', 'diplomatic', 'dirt-cheap', 'distinction', 'distinctive', 'distinguished', 'diversified', 'divine', 'divinely', 'dominate', 'dominated', 'dominates', 'dote', 'dotingly', 'doubtless', 'dreamland', 'dumbfounded', 'dumbfounding', 'dummy-proof', 'durable', 'dynamic', 'eager', 'eagerly', 'eagerness', 'earnest', 'earnestly', 'earnestness', 'ease', 'eased', 'eases', 'easier', 'easiest', 'easiness', 'easing', 'easy', 'easy-to-use', 'easygoing', 'ebullience', 'ebullient', 'ebulliently', 'ecenomical', 'economical', 'ecstasies', 'ecstasy', 'ecstatic', 'ecstatically', 'edify', 'educated', 'effective', 'effectively', 'effectiveness', 'effectual', 'efficacious', 'efficient', 'efficiently', 'effortless', 'effortlessly', 'effusion', 'effusive', 'effusively', 'effusiveness', 'elan', 'elate', 'elated', 'elatedly', 'elation', 'electrify', 'elegance', 'elegant', 'elegantly', 'elevate', 'elite', 'eloquence', 'eloquent', 'eloquently', 'embolden', 'eminence', 'eminent', 'empathize', 'empathy', 'empower', 'empowerment', 'enchant', 'enchanted', 'enchanting', 'enchantingly', 'encourage', 'encouragement', 'encouraging', 'encouragingly', 'endear', 'endearing', 'endorse', 'endorsed', 'endorsement', 'endorses', 'endorsing', 'energetic', 'energize', 'energy-efficient', 'energy-saving', 'engaging', 'engrossing', 'enhance', 'enhanced', 'enhancement', 'enhances', 'enjoy', 'enjoyable', 'enjoyably', 'enjoyed', 'enjoying', 'enjoyment', 'enjoys', 'enlighten', 'enlightenment', 'enliven', 'ennoble', 'enough', 'enrapt', 'enrapture', 'enraptured', 'enrich', 'enrichment', 'enterprising', 'entertain', 'entertaining', 'entertains', 'enthral', 'enthrall', 'enthralled', 'enthuse', 'enthusiasm', 'enthusiast', 'enthusiastic', 'enthusiastically', 'entice', 'enticed', 'enticing', 'enticingly', 'entranced', 'entrancing', 'entrust', 'enviable', 'enviably', 'envious', 'enviously', 'enviousness', 'envy', 'equitable', 'ergonomical', 'err-free', 'erudite', 'ethical', 'eulogize', 'euphoria', 'euphoric', 'euphorically', 'evaluative', 'evenly', 'eventful', 'everlasting', 'evocative', 'exalt', 'exaltation', 'exalted', 'exaltedly', 'exalting', 'exaltingly', 'examplar', 'examplary', 'excallent', 'exceed', 'exceeded', 'exceeding', 'exceedingly', 'exceeds', 'excel', 'exceled', 'excelent', 'excellant', 'excelled', 'excellence', 'excellency', 'excellent', 'excellently', 'excels', 'exceptional', 'exceptionally', 'excite', 'excited', 'excitedly', 'excitedness', 'excitement', 'excites', 'exciting', 'excitingly', 'exellent', 'exemplar', 'exemplary', 'exhilarate', 'exhilarating', 'exhilaratingly', 'exhilaration', 'exonerate', 'expansive', 'expeditiously', 'expertly', 'exquisite', 'exquisitely', 'extol', 'extoll', 'extraordinarily', 'extraordinary', 'exuberance', 'exuberant', 'exuberantly', 'exult', 'exultant', 'exultation', 'exultingly', 'eye-catch', 'eye-catching', 'eyecatch', 'eyecatching', 'fabulous', 'fabulously', 'facilitate', 'fair', 'fairly', 'fairness', 'faith', 'faithful', 'faithfully', 'faithfulness', 'fame', 'famed', 'famous', 'famously', 'fancier', 'fancinating', 'fancy', 'fanfare', 'fans', 'fantastic', 'fantastically', 'fascinate', 'fascinating', 'fascinatingly', 'fascination', 'fashionable', 'fashionably', 'fast', 'fast-growing', 'fast-paced', 'faster', 'fastest', 'fastest-growing', 'faultless', 'fav', 'fave', 'favor', 'favorable', 'favored', 'favorite', 'favorited', 'favour', 'fearless', 'fearlessly', 'feasible', 'feasibly', 'feat', 'feature-rich', 'fecilitous', 'feisty', 'felicitate', 'felicitous', 'felicity', 'fertile', 'fervent', 'fervently', 'fervid', 'fervidly', 'fervor', 'festive', 'fidelity', 'fiery', 'fine', 'fine-looking', 'finely', 'finer', 'finest', 'firmer', 'first-class', 'first-in-class', 'first-rate', 'flashy', 'flatter', 'flattering', 'flatteringly', 'flawless', 'flawlessly', 'flexibility', 'flexible', 'flourish', 'flourishing', 'fluent', 'flutter', 'fond', 'fondly', 'fondness', 'foolproof', 'foremost', 'foresight', 'formidable', 'fortitude', 'fortuitous', 'fortuitously', 'fortunate', 'fortunately', 'fortune', 'fragrant', 'free', 'freed', 'freedom', 'freedoms', 'fresh', 'fresher', 'freshest', 'friendliness', 'friendly', 'frolic', 'frugal', 'fruitful', 'ftw', 'fulfillment', 'fun', 'futurestic', 'futuristic', 'gaiety', 'gaily', 'gain', 'gained', 'gainful', 'gainfully', 'gaining', 'gains', 'gallant', 'gallantly', 'galore', 'geekier', 'geeky', 'gem', 'gems', 'generosity', 'generous', 'generously', 'genial', 'genius', 'gentle', 'gentlest', 'genuine', 'gifted', 'glad', 'gladden', 'gladly', 'gladness', 'glamorous', 'glee', 'gleeful', 'gleefully', 'glimmer', 'glimmering', 'glisten', 'glistening', 'glitter', 'glitz', 'glorify', 'glorious', 'gloriously', 'glory', 'glow', 'glowing', 'glowingly', 'god-given', 'god-send', 'godlike', 'godsend', 'gold', 'golden', 'good', 'goodly', 'goodness', 'goodwill', 'goood', 'gooood', 'gorgeous', 'gorgeously', 'grace', 'graceful', 'gracefully', 'gracious', 'graciously', 'graciousness', 'grand', 'grandeur', 'grateful', 'gratefully', 'gratification', 'gratified', 'gratifies', 'gratify', 'gratifying', 'gratifyingly', 'gratitude', 'great', 'greatest', 'greatness', 'grin', 'groundbreaking', 'guarantee', 'guidance', 'guiltless', 'gumption', 'gush', 'gusto', 'gutsy', 'hail', 'halcyon', 'hale', 'hallmark', 'hallmarks', 'hallowed', 'handier', 'handily', 'hands-down', 'handsome', 'handsomely', 'handy', 'happier', 'happily', 'happiness', 'happy', 'hard-working', 'hardier', 'hardy', 'harmless', 'harmonious', 'harmoniously', 'harmonize', 'harmony', 'headway', 'heal', 'healthful', 'healthy', 'hearten', 'heartening', 'heartfelt', 'heartily', 'heartwarming', 'heaven', 'heavenly', 'helped', 'helpful', 'helping', 'hero', 'heroic', 'heroically', 'heroine', 'heroize', 'heros', 'high-quality', 'high-spirited', 'hilarious', 'holy', 'homage', 'honest', 'honesty', 'honor', 'honorable', 'honored', 'honoring', 'hooray', 'hopeful', 'hospitable', 'hot', 'hotcake', 'hotcakes', 'hottest', 'hug', 'humane', 'humble', 'humility', 'humor', 'humorous', 'humorously', 'humour', 'humourous', 'ideal', 'idealize', 'ideally', 'idol', 'idolize', 'idolized', 'idyllic', 'illuminate', 'illuminati', 'illuminating', 'illumine', 'illustrious', 'ilu', 'imaculate', 'imaginative', 'immaculate', 'immaculately', 'immense', 'impartial', 'impartiality', 'impartially', 'impassioned', 'impeccable', 'impeccably', 'important', 'impress', 'impressed', 'impresses', 'impressive', 'impressively', 'impressiveness', 'improve', 'improved', 'improvement', 'improvements', 'improves', 'improving', 'incredible', 'incredibly', 'indebted', 'individualized', 'indulgence', 'indulgent', 'industrious', 'inestimable', 'inestimably', 'inexpensive', 'infallibility', 'infallible', 'infallibly', 'influential', 'ingenious', 'ingeniously', 'ingenuity', 'ingenuous', 'ingenuously', 'innocuous', 'innovation', 'innovative', 'inpressed', 'insightful', 'insightfully', 'inspiration', 'inspirational', 'inspire', 'inspiring', 'instantly', 'instructive', 'instrumental', 'integral', 'integrated', 'intelligence', 'intelligent', 'intelligible', 'interesting', 'interests', 'intimacy', 'intimate', 'intricate', 'intrigue', 'intriguing', 'intriguingly', 'intuitive', 'invaluable', 'invaluablely', 'inventive', 'invigorate', 'invigorating', 'invincibility', 'invincible', 'inviolable', 'inviolate', 'invulnerable', 'irreplaceable', 'irreproachable', 'irresistible', 'irresistibly', 'issue-free', 'jaw-droping', 'jaw-dropping', 'jollify', 'jolly', 'jovial', 'joy', 'joyful', 'joyfully', 'joyous', 'joyously', 'jubilant', 'jubilantly', 'jubilate', 'jubilation', 'jubiliant', 'judicious', 'justly', 'keen', 'keenly', 'keenness', 'kid-friendly', 'kindliness', 'kindly', 'kindness', 'knowledgeable', 'kudos', 'large-capacity', 'laud', 'laudable', 'laudably', 'lavish', 'lavishly', 'law-abiding', 'lawful', 'lawfully', 'lead', 'leading', 'leads', 'lean', 'led', 'legendary', 'leverage', 'levity', 'liberate', 'liberation', 'liberty', 'lifesaver', 'light-hearted', 'lighter', 'likable', 'like', 'liked', 'likes', 'liking', 'lionhearted', 'lively', 'logical', 'long-lasting', 'lovable', 'lovably', 'love', 'loved', 'loveliness', 'lovely', 'lover', 'loves', 'loving', 'low-cost', 'low-price', 'low-priced', 'low-risk', 'lower-priced', 'loyal', 'loyalty', 'lucid', 'lucidly', 'luck', 'luckier', 'luckiest', 'luckiness', 'lucky', 'lucrative', 'luminous', 'lush', 'luster', 'lustrous', 'luv', 'luxuriant', 'luxuriate', 'luxurious', 'luxuriously', 'luxury', 'lyrical', 'magic', 'magical', 'magnanimous', 'magnanimously', 'magnificence', 'magnificent', 'magnificently', 'majestic', 'majesty', 'manageable', 'maneuverable', 'marvel', 'marveled', 'marvelled', 'marvellous', 'marvelous', 'marvelously', 'marvelousness', 'marvels', 'master', 'masterful', 'masterfully', 'masterpiece', 'masterpieces', 'masters', 'mastery', 'matchless', 'mature', 'maturely', 'maturity', 'meaningful', 'memorable', 'merciful', 'mercifully', 'mercy', 'merit', 'meritorious', 'merrily', 'merriment', 'merriness', 'merry', 'mesmerize', 'mesmerized', 'mesmerizes', 'mesmerizing', 'mesmerizingly', 'meticulous', 'meticulously', 'mightily', 'mighty', 'mind-blowing', 'miracle', 'miracles', 'miraculous', 'miraculously', 'miraculousness', 'modern', 'modest', 'modesty', 'momentous', 'monumental', 'monumentally', 'morality', 'motivated', 'multi-purpose', 'navigable', 'neat', 'neatest', 'neatly', 'nice', 'nicely', 'nicer', 'nicest', 'nifty', 'nimble', 'noble', 'nobly', 'noiseless', 'non-violence', 'non-violent', 'notably', 'noteworthy', 'nourish', 'nourishing', 'nourishment', 'novelty', 'nurturing', 'oasis', 'obsession', 'obsessions', 'obtainable', 'openly', 'openness', 'optimal', 'optimism', 'optimistic', 'opulent', 'orderly', 'originality', 'outdo', 'outdone', 'outperform', 'outperformed', 'outperforming', 'outperforms', 'outshine', 'outshone', 'outsmart', 'outstanding', 'outstandingly', 'outstrip', 'outwit', 'ovation', 'overjoyed', 'overtake', 'overtaken', 'overtakes', 'overtaking', 'overtook', 'overture', 'pain-free', 'painless', 'painlessly', 'palatial', 'pamper', 'pampered', 'pamperedly', 'pamperedness', 'pampers', 'panoramic', 'paradise', 'paramount', 'pardon', 'passion', 'passionate', 'passionately', 'patience', 'patient', 'patiently', 'patriot', 'patriotic', 'peace', 'peaceable', 'peaceful', 'peacefully', 'peacekeepers', 'peach', 'peerless', 'pep', 'pepped', 'pepping', 'peppy', 'peps', 'perfect', 'perfection', 'perfectly', 'permissible', 'perseverance', 'persevere', 'personages', 'personalized', 'phenomenal', 'phenomenally', 'picturesque', 'piety', 'pinnacle', 'playful', 'playfully', 'pleasant', 'pleasantly', 'pleased', 'pleases', 'pleasing', 'pleasingly', 'pleasurable', 'pleasurably', 'pleasure', 'plentiful', 'pluses', 'plush', 'plusses', 'poetic', 'poeticize', 'poignant', 'poise', 'poised', 'polished', 'polite', 'politeness', 'popular', 'portable', 'posh', 'positive', 'positively', 'positives', 'powerful', 'powerfully', 'praise', 'praiseworthy', 'praising', 'pre-eminent', 'precious', 'precise', 'precisely', 'preeminent', 'prefer', 'preferable', 'preferably', 'prefered', 'preferes', 'preferring', 'prefers', 'premier', 'prestige', 'prestigious', 'prettily', 'pretty', 'priceless', 'pride', 'principled', 'privilege', 'privileged', 'prize', 'proactive', 'problem-free', 'problem-solver', 'prodigious', 'prodigiously', 'prodigy', 'productive', 'productively', 'proficient', 'proficiently', 'profound', 'profoundly', 'profuse', 'profusion', 'progress', 'progressive', 'prolific', 'prominence', 'prominent', 'promise', 'promised', 'promises', 'promising', 'promoter', 'prompt', 'promptly', 'proper', 'properly', 'propitious', 'propitiously', 'pros', 'prosper', 'prosperity', 'prosperous', 'prospros', 'protect', 'protection', 'protective', 'proud', 'proven', 'proves', 'providence', 'proving', 'prowess', 'prudence', 'prudent', 'prudently', 'punctual', 'pure', 'purify', 'purposeful', 'quaint', 'qualified', 'qualify', 'quicker', 'quiet', 'quieter', 'radiance', 'radiant', 'rapid', 'rapport', 'rapt', 'rapture', 'raptureous', 'raptureously', 'rapturous', 'rapturously', 'rational', 'razor-sharp', 'reachable', 'readable', 'readily', 'ready', 'reaffirm', 'reaffirmation', 'realistic', 'realizable', 'reasonable', 'reasonably', 'reasoned', 'reassurance', 'reassure', 'receptive', 'reclaim', 'recomend', 'recommend', 'recommendation', 'recommendations', 'recommended', 'reconcile', 'reconciliation', 'record-setting', 'recover', 'recovery', 'rectification', 'rectify', 'rectifying', 'redeem', 'redeeming', 'redemption', 'refine', 'refined', 'refinement', 'reform', 'reformed', 'reforming', 'reforms', 'refresh', 'refreshed', 'refreshing', 'refund', 'refunded', 'regal', 'regally', 'regard', 'rejoice', 'rejoicing', 'rejoicingly', 'rejuvenate', 'rejuvenated', 'rejuvenating', 'relaxed', 'relent', 'reliable', 'reliably', 'relief', 'relish', 'remarkable', 'remarkably', 'remedy', 'remission', 'remunerate', 'renaissance', 'renewed', 'renown', 'renowned', 'replaceable', 'reputable', 'reputation', 'resilient', 'resolute', 'resound', 'resounding', 'resourceful', 'resourcefulness', 'respect', 'respectable', 'respectful', 'respectfully', 'respite', 'resplendent', 'responsibly', 'responsive', 'restful', 'restored', 'restructure', 'restructured', 'restructuring', 'retractable', 'revel', 'revelation', 'revere', 'reverence', 'reverent', 'reverently', 'revitalize', 'revival', 'revive', 'revives', 'revolutionary', 'revolutionize', 'revolutionized', 'revolutionizes', 'reward', 'rewarding', 'rewardingly', 'rich', 'richer', 'richly', 'richness', 'right', 'righten', 'righteous', 'righteously', 'righteousness', 'rightful', 'rightfully', 'rightly', 'rightness', 'risk-free', 'robust', 'rock-star', 'rock-stars', 'rockstar', 'rockstars', 'romantic', 'romantically', 'romanticize', 'roomier', 'roomy', 'rosy', 'safe', 'safely', 'sagacity', 'sagely', 'saint', 'saintliness', 'saintly', 'salutary', 'salute', 'sane', 'satisfactorily', 'satisfactory', 'satisfied', 'satisfies', 'satisfy', 'satisfying', 'satisified', 'saver', 'savings', 'savior', 'savvy', 'scenic', 'seamless', 'seasoned', 'secure', 'securely', 'selective', 'self-determination', 'self-respect', 'self-satisfaction', 'self-sufficiency', 'self-sufficient', 'sensation', 'sensational', 'sensationally', 'sensations', 'sensible', 'sensibly', 'sensitive', 'serene', 'serenity', 'sexy', 'sharp', 'sharper', 'sharpest', 'shimmering', 'shimmeringly', 'shine', 'shiny', 'significant', 'silent', 'simpler', 'simplest', 'simplified', 'simplifies', 'simplify', 'simplifying', 'sincere', 'sincerely', 'sincerity', 'skill', 'skilled', 'skillful', 'skillfully', 'slammin', 'sleek', 'slick', 'smart', 'smarter', 'smartest', 'smartly', 'smile', 'smiles', 'smiling', 'smilingly', 'smitten', 'smooth', 'smoother', 'smoothes', 'smoothest', 'smoothly', 'snappy', 'snazzy', 'sociable', 'soft', 'softer', 'solace', 'solicitous', 'solicitously', 'solid', 'solidarity', 'soothe', 'soothingly', 'sophisticated', 'soulful', 'soundly', 'soundness', 'spacious', 'sparkle', 'sparkling', 'spectacular', 'spectacularly', 'speedily', 'speedy', 'spellbind', 'spellbinding', 'spellbindingly', 'spellbound', 'spirited', 'spiritual', 'splendid', 'splendidly', 'splendor', 'spontaneous', 'sporty', 'spotless', 'sprightly', 'stability', 'stabilize', 'stable', 'stainless', 'standout', 'state-of-the-art', 'stately', 'statuesque', 'staunch', 'staunchly', 'staunchness', 'steadfast', 'steadfastly', 'steadfastness', 'steadiest', 'steadiness', 'steady', 'stellar', 'stellarly', 'stimulate', 'stimulates', 'stimulating', 'stimulative', 'stirringly', 'straighten', 'straightforward', 'streamlined', 'striking', 'strikingly', 'striving', 'strong', 'stronger', 'strongest', 'stunned', 'stunning', 'stunningly', 'stupendous', 'stupendously', 'sturdier', 'sturdy', 'stylish', 'stylishly', 'stylized', 'suave', 'suavely', 'sublime', 'subsidize', 'subsidized', 'subsidizes', 'subsidizing', 'substantive', 'succeed', 'succeeded', 'succeeding', 'succeeds', 'succes', 'success', 'successes', 'successful', 'successfully', 'suffice', 'sufficed', 'suffices', 'sufficient', 'sufficiently', 'suitable', 'sumptuous', 'sumptuously', 'sumptuousness', 'super', 'superb', 'superbly', 'superior', 'superiority', 'supple', 'support', 'supported', 'supporter', 'supporting', 'supportive', 'supports', 'supremacy', 'supreme', 'supremely', 'supurb', 'supurbly', 'surmount', 'surpass', 'surreal', 'survival', 'survivor', 'sustainability', 'sustainable', 'swank', 'swankier', 'swankiest', 'swanky', 'sweeping', 'sweet', 'sweeten', 'sweetheart', 'sweetly', 'sweetness', 'swift', 'swiftness', 'talent', 'talented', 'talents', 'tantalize', 'tantalizing', 'tantalizingly', 'tempt', 'tempting', 'temptingly', 'tenacious', 'tenaciously', 'tenacity', 'tender', 'tenderly', 'terrific', 'terrifically', 'thank', 'thankful', 'thinner', 'thoughtful', 'thoughtfully', 'thoughtfulness', 'thrift', 'thrifty', 'thrill', 'thrilled', 'thrilling', 'thrillingly', 'thrills', 'thrive', 'thriving', 'thumb-up', 'thumbs-up', 'tickle', 'tidy', 'time-honored', 'timely', 'tingle', 'titillate', 'titillating', 'titillatingly', 'togetherness', 'tolerable', 'toll-free', 'top', 'top-notch', 'top-quality', 'topnotch', 'tops', 'tough', 'tougher', 'toughest', 'traction', 'tranquil', 'tranquility', 'transparent', 'treasure', 'tremendously', 'trendy', 'triumph', 'triumphal', 'triumphant', 'triumphantly', 'trivially', 'trophy', 'trouble-free', 'trump', 'trumpet', 'trust', 'trusted', 'trusting', 'trustingly', 'trustworthiness', 'trustworthy', 'trusty', 'truthful', 'truthfully', 'truthfulness', 'twinkly', 'ultra-crisp', 'unabashed', 'unabashedly', 'unaffected', 'unassailable', 'unbeatable', 'unbiased', 'unbound', 'uncomplicated', 'unconditional', 'undamaged', 'undaunted', 'understandable', 'undisputable', 'undisputably', 'undisputed', 'unencumbered', 'unequivocal', 'unequivocally', 'unfazed', 'unfettered', 'unforgettable', 'unity', 'unlimited', 'unmatched', 'unparalleled', 'unquestionable', 'unquestionably', 'unreal', 'unrestricted', 'unrivaled', 'unselfish', 'unwavering', 'upbeat', 'upgradable', 'upgradeable', 'upgraded', 'upheld', 'uphold', 'uplift', 'uplifting', 'upliftingly', 'upliftment', 'upscale', 'usable', 'useable', 'useful', 'user-friendly', 'user-replaceable', 'valiant', 'valiantly', 'valor', 'valuable', 'variety', 'venerate', 'verifiable', 'veritable', 'versatile', 'versatility', 'vibrant', 'vibrantly', 'victorious', 'victory', 'viewable', 'vigilance', 'vigilant', 'virtue', 'virtuous', 'virtuously', 'visionary', 'vivacious', 'vivid', 'vouch', 'vouchsafe', 'warm', 'warmer', 'warmhearted', 'warmly', 'warmth', 'wealthy', 'welcome', 'well', 'well-backlit', 'well-balanced', 'well-behaved', 'well-being', 'well-bred', 'well-connected', 'well-educated', 'well-established', 'well-informed', 'well-intentioned', 'well-known', 'well-made', 'well-managed', 'well-mannered', 'well-positioned', 'well-received', 'well-regarded', 'well-rounded', 'well-run', 'well-wishers', 'wellbeing', 'whoa', 'wholeheartedly', 'wholesome', 'whooa', 'whoooa', 'wieldy', 'willing', 'willingly', 'willingness', 'win', 'windfall', 'winnable', 'winner', 'winners', 'winning', 'wins', 'wisdom', 'wise', 'wisely', 'witty', 'won', 'wonder', 'wonderful', 'wonderfully', 'wonderous', 'wonderously', 'wonders', 'wondrous', 'woo', 'work', 'workable', 'worked', 'works', 'world-famous', 'worth', 'worth-while', 'worthiness', 'worthwhile', 'worthy', 'wow', 'wowed', 'wowing', 'wows', 'yay', 'youthful', 'zeal', 'zenith', 'zest', 'zippy']\n",
            "['2-faced', '2-faces', 'abnormal', 'abolish', 'abominable', 'abominably', 'abominate', 'abomination', 'abort', 'aborted', 'aborts', 'abrade', 'abrasive', 'abrupt', 'abruptly', 'abscond', 'absence', 'absent-minded', 'absentee', 'absurd', 'absurdity', 'absurdly', 'absurdness', 'abuse', 'abused', 'abuses', 'abusive', 'abysmal', 'abysmally', 'abyss', 'accidental', 'accost', 'accursed', 'accusation', 'accusations', 'accuse', 'accuses', 'accusing', 'accusingly', 'acerbate', 'acerbic', 'acerbically', 'ache', 'ached', 'aches', 'achey', 'aching', 'acrid', 'acridly', 'acridness', 'acrimonious', 'acrimoniously', 'acrimony', 'adamant', 'adamantly', 'addict', 'addicted', 'addicting', 'addicts', 'admonish', 'admonisher', 'admonishingly', 'admonishment', 'admonition', 'adulterate', 'adulterated', 'adulteration', 'adulterier', 'adversarial', 'adversary', 'adverse', 'adversity', 'afflict', 'affliction', 'afflictive', 'affront', 'afraid', 'aggravate', 'aggravating', 'aggravation', 'aggression', 'aggressive', 'aggressiveness', 'aggressor', 'aggrieve', 'aggrieved', 'aggrivation', 'aghast', 'agonies', 'agonize', 'agonizing', 'agonizingly', 'agony', 'aground', 'ail', 'ailing', 'ailment', 'aimless', 'alarm', 'alarmed', 'alarming', 'alarmingly', 'alienate', 'alienated', 'alienation', 'allegation', 'allegations', 'allege', 'allergic', 'allergies', 'allergy', 'aloof', 'altercation', 'ambiguity', 'ambiguous', 'ambivalence', 'ambivalent', 'ambush', 'amiss', 'amputate', 'anarchism', 'anarchist', 'anarchistic', 'anarchy', 'anemic', 'anger', 'angrily', 'angriness', 'angry', 'anguish', 'animosity', 'annihilate', 'annihilation', 'annoy', 'annoyance', 'annoyances', 'annoyed', 'annoying', 'annoyingly', 'annoys', 'anomalous', 'anomaly', 'antagonism', 'antagonist', 'antagonistic', 'antagonize', 'anti-', 'anti-american', 'anti-israeli', 'anti-occupation', 'anti-proliferation', 'anti-semites', 'anti-social', 'anti-us', 'anti-white', 'antipathy', 'antiquated', 'antithetical', 'anxieties', 'anxiety', 'anxious', 'anxiously', 'anxiousness', 'apathetic', 'apathetically', 'apathy', 'apocalypse', 'apocalyptic', 'apologist', 'apologists', 'appal', 'appall', 'appalled', 'appalling', 'appallingly', 'apprehension', 'apprehensions', 'apprehensive', 'apprehensively', 'arbitrary', 'arcane', 'archaic', 'arduous', 'arduously', 'argumentative', 'arrogance', 'arrogant', 'arrogantly', 'ashamed', 'asinine', 'asininely', 'asinininity', 'askance', 'asperse', 'aspersion', 'aspersions', 'assail', 'assassin', 'assassinate', 'assault', 'assult', 'astray', 'asunder', 'atrocious', 'atrocities', 'atrocity', 'atrophy', 'attack', 'attacks', 'audacious', 'audaciously', 'audaciousness', 'audacity', 'audiciously', 'austere', 'authoritarian', 'autocrat', 'autocratic', 'avalanche', 'avarice', 'avaricious', 'avariciously', 'avenge', 'averse', 'aversion', 'aweful', 'awful', 'awfully', 'awfulness', 'awkward', 'awkwardness', 'ax', 'babble', 'back-logged', 'back-wood', 'back-woods', 'backache', 'backaches', 'backaching', 'backbite', 'backbiting', 'backward', 'backwardness', 'backwood', 'backwoods', 'bad', 'badly', 'baffle', 'baffled', 'bafflement', 'baffling', 'bait', 'balk', 'banal', 'banalize', 'bane', 'banish', 'banishment', 'bankrupt', 'barbarian', 'barbaric', 'barbarically', 'barbarity', 'barbarous', 'barbarously', 'barren', 'baseless', 'bash', 'bashed', 'bashful', 'bashing', 'bastard', 'bastards', 'battered', 'battering', 'batty', 'bearish', 'beastly', 'bedlam', 'bedlamite', 'befoul', 'beg', 'beggar', 'beggarly', 'begging', 'beguile', 'belabor', 'belated', 'beleaguer', 'belie', 'belittle', 'belittled', 'belittling', 'bellicose', 'belligerence', 'belligerent', 'belligerently', 'bemoan', 'bemoaning', 'bemused', 'bent', 'berate', 'bereave', 'bereavement', 'bereft', 'berserk', 'beseech', 'beset', 'besiege', 'besmirch', 'bestial', 'betray', 'betrayal', 'betrayals', 'betrayer', 'betraying', 'betrays', 'bewail', 'beware', 'bewilder', 'bewildered', 'bewildering', 'bewilderingly', 'bewilderment', 'bewitch', 'bias', 'biased', 'biases', 'bicker', 'bickering', 'bid-rigging', 'bigotries', 'bigotry', 'bitch', 'bitchy', 'biting', 'bitingly', 'bitter', 'bitterly', 'bitterness', 'bizarre', 'blab', 'blabber', 'blackmail', 'blah', 'blame', 'blameworthy', 'bland', 'blandish', 'blaspheme', 'blasphemous', 'blasphemy', 'blasted', 'blatant', 'blatantly', 'blather', 'bleak', 'bleakly', 'bleakness', 'bleed', 'bleeding', 'bleeds', 'blemish', 'blind', 'blinding', 'blindingly', 'blindside', 'blister', 'blistering', 'bloated', 'blockage', 'blockhead', 'bloodshed', 'bloodthirsty', 'bloody', 'blotchy', 'blow', 'blunder', 'blundering', 'blunders', 'blunt', 'blur', 'bluring', 'blurred', 'blurring', 'blurry', 'blurs', 'blurt', 'boastful', 'boggle', 'bogus', 'boil', 'boiling', 'boisterous', 'bomb', 'bombard', 'bombardment', 'bombastic', 'bondage', 'bonkers', 'bore', 'bored', 'boredom', 'bores', 'boring', 'botch', 'bother', 'bothered', 'bothering', 'bothers', 'bothersome', 'bowdlerize', 'boycott', 'braggart', 'bragger', 'brainless', 'brainwash', 'brash', 'brashly', 'brashness', 'brat', 'bravado', 'brazen', 'brazenly', 'brazenness', 'breach', 'break', 'break-up', 'break-ups', 'breakdown', 'breaking', 'breaks', 'breakup', 'breakups', 'bribery', 'brimstone', 'bristle', 'brittle', 'broke', 'broken', 'broken-hearted', 'brood', 'browbeat', 'bruise', 'bruised', 'bruises', 'bruising', 'brusque', 'brutal', 'brutalising', 'brutalities', 'brutality', 'brutalize', 'brutalizing', 'brutally', 'brute', 'brutish', 'bs', 'buckle', 'bug', 'bugging', 'buggy', 'bugs', 'bulkier', 'bulkiness', 'bulky', 'bulkyness', 'bull****', 'bull----', 'bullies', 'bullshit', 'bullshyt', 'bully', 'bullying', 'bullyingly', 'bum', 'bump', 'bumped', 'bumping', 'bumpping', 'bumps', 'bumpy', 'bungle', 'bungler', 'bungling', 'bunk', 'burden', 'burdensome', 'burdensomely', 'burn', 'burned', 'burning', 'burns', 'bust', 'busts', 'busybody', 'butcher', 'butchery', 'buzzing', 'byzantine', 'cackle', 'calamities', 'calamitous', 'calamitously', 'calamity', 'callous', 'calumniate', 'calumniation', 'calumnies', 'calumnious', 'calumniously', 'calumny', 'cancer', 'cancerous', 'cannibal', 'cannibalize', 'capitulate', 'capricious', 'capriciously', 'capriciousness', 'capsize', 'careless', 'carelessness', 'caricature', 'carnage', 'carp', 'cartoonish', 'cash-strapped', 'castigate', 'castrated', 'casualty', 'cataclysm', 'cataclysmal', 'cataclysmic', 'cataclysmically', 'catastrophe', 'catastrophes', 'catastrophic', 'catastrophically', 'catastrophies', 'caustic', 'caustically', 'cautionary', 'cave', 'censure', 'chafe', 'chaff', 'chagrin', 'challenging', 'chaos', 'chaotic', 'chasten', 'chastise', 'chastisement', 'chatter', 'chatterbox', 'cheap', 'cheapen', 'cheaply', 'cheat', 'cheated', 'cheater', 'cheating', 'cheats', 'checkered', 'cheerless', 'cheesy', 'chide', 'childish', 'chill', 'chilly', 'chintzy', 'choke', 'choleric', 'choppy', 'chore', 'chronic', 'chunky', 'clamor', 'clamorous', 'clash', 'cliche', 'cliched', 'clique', 'clog', 'clogged', 'clogs', 'cloud', 'clouding', 'cloudy', 'clueless', 'clumsy', 'clunky', 'coarse', 'cocky', 'coerce', 'coercion', 'coercive', 'cold', 'coldly', 'collapse', 'collude', 'collusion', 'combative', 'combust', 'comical', 'commiserate', 'commonplace', 'commotion', 'commotions', 'complacent', 'complain', 'complained', 'complaining', 'complains', 'complaint', 'complaints', 'complex', 'complicated', 'complication', 'complicit', 'compulsion', 'compulsive', 'concede', 'conceded', 'conceit', 'conceited', 'concen', 'concens', 'concern', 'concerned', 'concerns', 'concession', 'concessions', 'condemn', 'condemnable', 'condemnation', 'condemned', 'condemns', 'condescend', 'condescending', 'condescendingly', 'condescension', 'confess', 'confession', 'confessions', 'confined', 'conflict', 'conflicted', 'conflicting', 'conflicts', 'confound', 'confounded', 'confounding', 'confront', 'confrontation', 'confrontational', 'confuse', 'confused', 'confuses', 'confusing', 'confusion', 'confusions', 'congested', 'congestion', 'cons', 'conscons', 'conservative', 'conspicuous', 'conspicuously', 'conspiracies', 'conspiracy', 'conspirator', 'conspiratorial', 'conspire', 'consternation', 'contagious', 'contaminate', 'contaminated', 'contaminates', 'contaminating', 'contamination', 'contempt', 'contemptible', 'contemptuous', 'contemptuously', 'contend', 'contention', 'contentious', 'contort', 'contortions', 'contradict', 'contradiction', 'contradictory', 'contrariness', 'contravene', 'contrive', 'contrived', 'controversial', 'controversy', 'convoluted', 'corrode', 'corrosion', 'corrosions', 'corrosive', 'corrupt', 'corrupted', 'corrupting', 'corruption', 'corrupts', 'corruptted', 'costlier', 'costly', 'counter-productive', 'counterproductive', 'coupists', 'covetous', 'coward', 'cowardly', 'crabby', 'crack', 'cracked', 'cracks', 'craftily', 'craftly', 'crafty', 'cramp', 'cramped', 'cramping', 'cranky', 'crap', 'crappy', 'craps', 'crash', 'crashed', 'crashes', 'crashing', 'crass', 'craven', 'cravenly', 'craze', 'crazily', 'craziness', 'crazy', 'creak', 'creaking', 'creaks', 'credulous', 'creep', 'creeping', 'creeps', 'creepy', 'crept', 'crime', 'criminal', 'cringe', 'cringed', 'cringes', 'cripple', 'crippled', 'cripples', 'crippling', 'crisis', 'critic', 'critical', 'criticism', 'criticisms', 'criticize', 'criticized', 'criticizing', 'critics', 'cronyism', 'crook', 'crooked', 'crooks', 'crowded', 'crowdedness', 'crude', 'cruel', 'crueler', 'cruelest', 'cruelly', 'cruelness', 'cruelties', 'cruelty', 'crumble', 'crumbling', 'crummy', 'crumple', 'crumpled', 'crumples', 'crush', 'crushed', 'crushing', 'cry', 'culpable', 'culprit', 'cumbersome', 'cunt', 'cunts', 'cuplrit', 'curse', 'cursed', 'curses', 'curt', 'cuss', 'cussed', 'cutthroat', 'cynical', 'cynicism', 'd*mn', 'damage', 'damaged', 'damages', 'damaging', 'damn', 'damnable', 'damnably', 'damnation', 'damned', 'damning', 'damper', 'danger', 'dangerous', 'dangerousness', 'dark', 'darken', 'darkened', 'darker', 'darkness', 'dastard', 'dastardly', 'daunt', 'daunting', 'dauntingly', 'dawdle', 'daze', 'dazed', 'dead', 'deadbeat', 'deadlock', 'deadly', 'deadweight', 'deaf', 'dearth', 'death', 'debacle', 'debase', 'debasement', 'debaser', 'debatable', 'debauch', 'debaucher', 'debauchery', 'debilitate', 'debilitating', 'debility', 'debt', 'debts', 'decadence', 'decadent', 'decay', 'decayed', 'deceit', 'deceitful', 'deceitfully', 'deceitfulness', 'deceive', 'deceiver', 'deceivers', 'deceiving', 'deception', 'deceptive', 'deceptively', 'declaim', 'decline', 'declines', 'declining', 'decrement', 'decrepit', 'decrepitude', 'decry', 'defamation', 'defamations', 'defamatory', 'defame', 'defect', 'defective', 'defects', 'defensive', 'defiance', 'defiant', 'defiantly', 'deficiencies', 'deficiency', 'deficient', 'defile', 'defiler', 'deform', 'deformed', 'defrauding', 'defunct', 'defy', 'degenerate', 'degenerately', 'degeneration', 'degradation', 'degrade', 'degrading', 'degradingly', 'dehumanization', 'dehumanize', 'deign', 'deject', 'dejected', 'dejectedly', 'dejection', 'delay', 'delayed', 'delaying', 'delays', 'delinquency', 'delinquent', 'delirious', 'delirium', 'delude', 'deluded', 'deluge', 'delusion', 'delusional', 'delusions', 'demean', 'demeaning', 'demise', 'demolish', 'demolisher', 'demon', 'demonic', 'demonize', 'demonized', 'demonizes', 'demonizing', 'demoralize', 'demoralizing', 'demoralizingly', 'denial', 'denied', 'denies', 'denigrate', 'denounce', 'dense', 'dent', 'dented', 'dents', 'denunciate', 'denunciation', 'denunciations', 'deny', 'denying', 'deplete', 'deplorable', 'deplorably', 'deplore', 'deploring', 'deploringly', 'deprave', 'depraved', 'depravedly', 'deprecate', 'depress', 'depressed', 'depressing', 'depressingly', 'depression', 'depressions', 'deprive', 'deprived', 'deride', 'derision', 'derisive', 'derisively', 'derisiveness', 'derogatory', 'desecrate', 'desert', 'desertion', 'desiccate', 'desiccated', 'desititute', 'desolate', 'desolately', 'desolation', 'despair', 'despairing', 'despairingly', 'desperate', 'desperately', 'desperation', 'despicable', 'despicably', 'despise', 'despised', 'despoil', 'despoiler', 'despondence', 'despondency', 'despondent', 'despondently', 'despot', 'despotic', 'despotism', 'destabilisation', 'destains', 'destitute', 'destitution', 'destroy', 'destroyer', 'destruction', 'destructive', 'desultory', 'deter', 'deteriorate', 'deteriorating', 'deterioration', 'deterrent', 'detest', 'detestable', 'detestably', 'detested', 'detesting', 'detests', 'detract', 'detracted', 'detracting', 'detraction', 'detracts', 'detriment', 'detrimental', 'devastate', 'devastated', 'devastates', 'devastating', 'devastatingly', 'devastation', 'deviate', 'deviation', 'devil', 'devilish', 'devilishly', 'devilment', 'devilry', 'devious', 'deviously', 'deviousness', 'devoid', 'diabolic', 'diabolical', 'diabolically', 'diametrically', 'diappointed', 'diatribe', 'diatribes', 'dick', 'dictator', 'dictatorial', 'die', 'die-hard', 'died', 'dies', 'difficult', 'difficulties', 'difficulty', 'diffidence', 'dilapidated', 'dilemma', 'dilly-dally', 'dim', 'dimmer', 'din', 'ding', 'dings', 'dinky', 'dire', 'direly', 'direness', 'dirt', 'dirtbag', 'dirtbags', 'dirts', 'dirty', 'disable', 'disabled', 'disaccord', 'disadvantage', 'disadvantaged', 'disadvantageous', 'disadvantages', 'disaffect', 'disaffected', 'disaffirm', 'disagree', 'disagreeable', 'disagreeably', 'disagreed', 'disagreeing', 'disagreement', 'disagrees', 'disallow', 'disapointed', 'disapointing', 'disapointment', 'disappoint', 'disappointed', 'disappointing', 'disappointingly', 'disappointment', 'disappointments', 'disappoints', 'disapprobation', 'disapproval', 'disapprove', 'disapproving', 'disarm', 'disarray', 'disaster', 'disasterous', 'disastrous', 'disastrously', 'disavow', 'disavowal', 'disbelief', 'disbelieve', 'disbeliever', 'disclaim', 'discombobulate', 'discomfit', 'discomfititure', 'discomfort', 'discompose', 'disconcert', 'disconcerted', 'disconcerting', 'disconcertingly', 'disconsolate', 'disconsolately', 'disconsolation', 'discontent', 'discontented', 'discontentedly', 'discontinued', 'discontinuity', 'discontinuous', 'discord', 'discordance', 'discordant', 'discountenance', 'discourage', 'discouragement', 'discouraging', 'discouragingly', 'discourteous', 'discourteously', 'discoutinous', 'discredit', 'discrepant', 'discriminate', 'discrimination', 'discriminatory', 'disdain', 'disdained', 'disdainful', 'disdainfully', 'disfavor', 'disgrace', 'disgraced', 'disgraceful', 'disgracefully', 'disgruntle', 'disgruntled', 'disgust', 'disgusted', 'disgustedly', 'disgustful', 'disgustfully', 'disgusting', 'disgustingly', 'dishearten', 'disheartening', 'dishearteningly', 'dishonest', 'dishonestly', 'dishonesty', 'dishonor', 'dishonorable', 'dishonorablely', 'disillusion', 'disillusioned', 'disillusionment', 'disillusions', 'disinclination', 'disinclined', 'disingenuous', 'disingenuously', 'disintegrate', 'disintegrated', 'disintegrates', 'disintegration', 'disinterest', 'disinterested', 'dislike', 'disliked', 'dislikes', 'disliking', 'dislocated', 'disloyal', 'disloyalty', 'dismal', 'dismally', 'dismalness', 'dismay', 'dismayed', 'dismaying', 'dismayingly', 'dismissive', 'dismissively', 'disobedience', 'disobedient', 'disobey', 'disoobedient', 'disorder', 'disordered', 'disorderly', 'disorganized', 'disorient', 'disoriented', 'disown', 'disparage', 'disparaging', 'disparagingly', 'dispensable', 'dispirit', 'dispirited', 'dispiritedly', 'dispiriting', 'displace', 'displaced', 'displease', 'displeased', 'displeasing', 'displeasure', 'disproportionate', 'disprove', 'disputable', 'dispute', 'disputed', 'disquiet', 'disquieting', 'disquietingly', 'disquietude', 'disregard', 'disregardful', 'disreputable', 'disrepute', 'disrespect', 'disrespectable', 'disrespectablity', 'disrespectful', 'disrespectfully', 'disrespectfulness', 'disrespecting', 'disrupt', 'disruption', 'disruptive', 'diss', 'dissapointed', 'dissappointed', 'dissappointing', 'dissatisfaction', 'dissatisfactory', 'dissatisfied', 'dissatisfies', 'dissatisfy', 'dissatisfying', 'dissed', 'dissemble', 'dissembler', 'dissension', 'dissent', 'dissenter', 'dissention', 'disservice', 'disses', 'dissidence', 'dissident', 'dissidents', 'dissing', 'dissocial', 'dissolute', 'dissolution', 'dissonance', 'dissonant', 'dissonantly', 'dissuade', 'dissuasive', 'distains', 'distaste', 'distasteful', 'distastefully', 'distort', 'distorted', 'distortion', 'distorts', 'distract', 'distracting', 'distraction', 'distraught', 'distraughtly', 'distraughtness', 'distress', 'distressed', 'distressing', 'distressingly', 'distrust', 'distrustful', 'distrusting', 'disturb', 'disturbance', 'disturbed', 'disturbing', 'disturbingly', 'disunity', 'disvalue', 'divergent', 'divisive', 'divisively', 'divisiveness', 'dizzing', 'dizzingly', 'dizzy', 'doddering', 'dodgey', 'dogged', 'doggedly', 'dogmatic', 'doldrums', 'domineer', 'domineering', 'donside', 'doom', 'doomed', 'doomsday', 'dope', 'doubt', 'doubtful', 'doubtfully', 'doubts', 'douchbag', 'douchebag', 'douchebags', 'downbeat', 'downcast', 'downer', 'downfall', 'downfallen', 'downgrade', 'downhearted', 'downheartedly', 'downhill', 'downside', 'downsides', 'downturn', 'downturns', 'drab', 'draconian', 'draconic', 'drag', 'dragged', 'dragging', 'dragoon', 'drags', 'drain', 'drained', 'draining', 'drains', 'drastic', 'drastically', 'drawback', 'drawbacks', 'dread', 'dreadful', 'dreadfully', 'dreadfulness', 'dreary', 'dripped', 'dripping', 'drippy', 'drips', 'drones', 'droop', 'droops', 'drop-out', 'drop-outs', 'dropout', 'dropouts', 'drought', 'drowning', 'drunk', 'drunkard', 'drunken', 'dubious', 'dubiously', 'dubitable', 'dud', 'dull', 'dullard', 'dumb', 'dumbfound', 'dump', 'dumped', 'dumping', 'dumps', 'dunce', 'dungeon', 'dungeons', 'dupe', 'dust', 'dusty', 'dwindling', 'dying', 'earsplitting', 'eccentric', 'eccentricity', 'effigy', 'effrontery', 'egocentric', 'egomania', 'egotism', 'egotistical', 'egotistically', 'egregious', 'egregiously', 'election-rigger', 'elimination', 'emaciated', 'emasculate', 'embarrass', 'embarrassing', 'embarrassingly', 'embarrassment', 'embattled', 'embroil', 'embroiled', 'embroilment', 'emergency', 'emphatic', 'emphatically', 'emptiness', 'encroach', 'encroachment', 'endanger', 'enemies', 'enemy', 'enervate', 'enfeeble', 'enflame', 'engulf', 'enjoin', 'enmity', 'enrage', 'enraged', 'enraging', 'enslave', 'entangle', 'entanglement', 'entrap', 'entrapment', 'envious', 'enviously', 'enviousness', 'epidemic', 'equivocal', 'erase', 'erode', 'erodes', 'erosion', 'err', 'errant', 'erratic', 'erratically', 'erroneous', 'erroneously', 'error', 'errors', 'eruptions', 'escapade', 'eschew', 'estranged', 'evade', 'evasion', 'evasive', 'evil', 'evildoer', 'evils', 'eviscerate', 'exacerbate', 'exagerate', 'exagerated', 'exagerates', 'exaggerate', 'exaggeration', 'exasperate', 'exasperated', 'exasperating', 'exasperatingly', 'exasperation', 'excessive', 'excessively', 'exclusion', 'excoriate', 'excruciating', 'excruciatingly', 'excuse', 'excuses', 'execrate', 'exhaust', 'exhausted', 'exhaustion', 'exhausts', 'exhorbitant', 'exhort', 'exile', 'exorbitant', 'exorbitantance', 'exorbitantly', 'expel', 'expensive', 'expire', 'expired', 'explode', 'exploit', 'exploitation', 'explosive', 'expropriate', 'expropriation', 'expulse', 'expunge', 'exterminate', 'extermination', 'extinguish', 'extort', 'extortion', 'extraneous', 'extravagance', 'extravagant', 'extravagantly', 'extremism', 'extremist', 'extremists', 'eyesore', 'f**k', 'fabricate', 'fabrication', 'facetious', 'facetiously', 'fail', 'failed', 'failing', 'fails', 'failure', 'failures', 'faint', 'fainthearted', 'faithless', 'fake', 'fall', 'fallacies', 'fallacious', 'fallaciously', 'fallaciousness', 'fallacy', 'fallen', 'falling', 'fallout', 'falls', 'false', 'falsehood', 'falsely', 'falsify', 'falter', 'faltered', 'famine', 'famished', 'fanatic', 'fanatical', 'fanatically', 'fanaticism', 'fanatics', 'fanciful', 'far-fetched', 'farce', 'farcical', 'farcical-yet-provocative', 'farcically', 'farfetched', 'fascism', 'fascist', 'fastidious', 'fastidiously', 'fastuous', 'fat', 'fat-cat', 'fat-cats', 'fatal', 'fatalistic', 'fatalistically', 'fatally', 'fatcat', 'fatcats', 'fateful', 'fatefully', 'fathomless', 'fatigue', 'fatigued', 'fatique', 'fatty', 'fatuity', 'fatuous', 'fatuously', 'fault', 'faults', 'faulty', 'fawningly', 'faze', 'fear', 'fearful', 'fearfully', 'fears', 'fearsome', 'feckless', 'feeble', 'feeblely', 'feebleminded', 'feign', 'feint', 'fell', 'felon', 'felonious', 'ferociously', 'ferocity', 'fetid', 'fever', 'feverish', 'fevers', 'fiasco', 'fib', 'fibber', 'fickle', 'fiction', 'fictional', 'fictitious', 'fidget', 'fidgety', 'fiend', 'fiendish', 'fierce', 'figurehead', 'filth', 'filthy', 'finagle', 'finicky', 'fissures', 'fist', 'flabbergast', 'flabbergasted', 'flagging', 'flagrant', 'flagrantly', 'flair', 'flairs', 'flak', 'flake', 'flakey', 'flakieness', 'flaking', 'flaky', 'flare', 'flares', 'flareup', 'flareups', 'flat-out', 'flaunt', 'flaw', 'flawed', 'flaws', 'flee', 'fleed', 'fleeing', 'fleer', 'flees', 'fleeting', 'flicering', 'flicker', 'flickering', 'flickers', 'flighty', 'flimflam', 'flimsy', 'flirt', 'flirty', 'floored', 'flounder', 'floundering', 'flout', 'fluster', 'foe', 'fool', 'fooled', 'foolhardy', 'foolish', 'foolishly', 'foolishness', 'forbid', 'forbidden', 'forbidding', 'forceful', 'foreboding', 'forebodingly', 'forfeit', 'forged', 'forgetful', 'forgetfully', 'forgetfulness', 'forlorn', 'forlornly', 'forsake', 'forsaken', 'forswear', 'foul', 'foully', 'foulness', 'fractious', 'fractiously', 'fracture', 'fragile', 'fragmented', 'frail', 'frantic', 'frantically', 'franticly', 'fraud', 'fraudulent', 'fraught', 'frazzle', 'frazzled', 'freak', 'freaking', 'freakish', 'freakishly', 'freaks', 'freeze', 'freezes', 'freezing', 'frenetic', 'frenetically', 'frenzied', 'frenzy', 'fret', 'fretful', 'frets', 'friction', 'frictions', 'fried', 'friggin', 'frigging', 'fright', 'frighten', 'frightening', 'frighteningly', 'frightful', 'frightfully', 'frigid', 'frost', 'frown', 'froze', 'frozen', 'fruitless', 'fruitlessly', 'frustrate', 'frustrated', 'frustrates', 'frustrating', 'frustratingly', 'frustration', 'frustrations', 'fuck', 'fucking', 'fudge', 'fugitive', 'full-blown', 'fulminate', 'fumble', 'fume', 'fumes', 'fundamentalism', 'funky', 'funnily', 'funny', 'furious', 'furiously', 'furor', 'fury', 'fuss', 'fussy', 'fustigate', 'fusty', 'futile', 'futilely', 'futility', 'fuzzy', 'gabble', 'gaff', 'gaffe', 'gainsay', 'gainsayer', 'gall', 'galling', 'gallingly', 'galls', 'gangster', 'gape', 'garbage', 'garish', 'gasp', 'gauche', 'gaudy', 'gawk', 'gawky', 'geezer', 'genocide', 'get-rich', 'ghastly', 'ghetto', 'ghosting', 'gibber', 'gibberish', 'gibe', 'giddy', 'gimmick', 'gimmicked', 'gimmicking', 'gimmicks', 'gimmicky', 'glare', 'glaringly', 'glib', 'glibly', 'glitch', 'glitches', 'gloatingly', 'gloom', 'gloomy', 'glower', 'glum', 'glut', 'gnawing', 'goad', 'goading', 'god-awful', 'goof', 'goofy', 'goon', 'gossip', 'graceless', 'gracelessly', 'graft', 'grainy', 'grapple', 'grate', 'grating', 'gravely', 'greasy', 'greed', 'greedy', 'grief', 'grievance', 'grievances', 'grieve', 'grieving', 'grievous', 'grievously', 'grim', 'grimace', 'grind', 'gripe', 'gripes', 'grisly', 'gritty', 'gross', 'grossly', 'grotesque', 'grouch', 'grouchy', 'groundless', 'grouse', 'growl', 'grudge', 'grudges', 'grudging', 'grudgingly', 'gruesome', 'gruesomely', 'gruff', 'grumble', 'grumpier', 'grumpiest', 'grumpily', 'grumpish', 'grumpy', 'guile', 'guilt', 'guiltily', 'guilty', 'gullible', 'gutless', 'gutter', 'hack', 'hacks', 'haggard', 'haggle', 'hairloss', 'halfhearted', 'halfheartedly', 'hallucinate', 'hallucination', 'hamper', 'hampered', 'handicapped', 'hang', 'hangs', 'haphazard', 'hapless', 'harangue', 'harass', 'harassed', 'harasses', 'harassment', 'harboring', 'harbors', 'hard', 'hard-hit', 'hard-line', 'hard-liner', 'hardball', 'harden', 'hardened', 'hardheaded', 'hardhearted', 'hardliner', 'hardliners', 'hardship', 'hardships', 'harm', 'harmed', 'harmful', 'harms', 'harpy', 'harridan', 'harried', 'harrow', 'harsh', 'harshly', 'hasseling', 'hassle', 'hassled', 'hassles', 'haste', 'hastily', 'hasty', 'hate', 'hated', 'hateful', 'hatefully', 'hatefulness', 'hater', 'haters', 'hates', 'hating', 'hatred', 'haughtily', 'haughty', 'haunt', 'haunting', 'havoc', 'hawkish', 'haywire', 'hazard', 'hazardous', 'haze', 'hazy', 'head-aches', 'headache', 'headaches', 'heartbreaker', 'heartbreaking', 'heartbreakingly', 'heartless', 'heathen', 'heavy-handed', 'heavyhearted', 'heck', 'heckle', 'heckled', 'heckles', 'hectic', 'hedge', 'hedonistic', 'heedless', 'hefty', 'hegemonism', 'hegemonistic', 'hegemony', 'heinous', 'hell', 'hell-bent', 'hellion', 'hells', 'helpless', 'helplessly', 'helplessness', 'heresy', 'heretic', 'heretical', 'hesitant', 'hestitant', 'hideous', 'hideously', 'hideousness', 'high-priced', 'hiliarious', 'hinder', 'hindrance', 'hiss', 'hissed', 'hissing', 'ho-hum', 'hoard', 'hoax', 'hobble', 'hogs', 'hollow', 'hoodium', 'hoodwink', 'hooligan', 'hopeless', 'hopelessly', 'hopelessness', 'horde', 'horrendous', 'horrendously', 'horrible', 'horrid', 'horrific', 'horrified', 'horrifies', 'horrify', 'horrifying', 'horrifys', 'hostage', 'hostile', 'hostilities', 'hostility', 'hotbeds', 'hothead', 'hotheaded', 'hothouse', 'hubris', 'huckster', 'hum', 'humid', 'humiliate', 'humiliating', 'humiliation', 'humming', 'hung', 'hurt', 'hurted', 'hurtful', 'hurting', 'hurts', 'hustler', 'hype', 'hypocricy', 'hypocrisy', 'hypocrite', 'hypocrites', 'hypocritical', 'hypocritically', 'hysteria', 'hysteric', 'hysterical', 'hysterically', 'hysterics', 'idiocies', 'idiocy', 'idiot', 'idiotic', 'idiotically', 'idiots', 'idle', 'ignoble', 'ignominious', 'ignominiously', 'ignominy', 'ignorance', 'ignorant', 'ignore', 'ill-advised', 'ill-conceived', 'ill-defined', 'ill-designed', 'ill-fated', 'ill-favored', 'ill-formed', 'ill-mannered', 'ill-natured', 'ill-sorted', 'ill-tempered', 'ill-treated', 'ill-treatment', 'ill-usage', 'ill-used', 'illegal', 'illegally', 'illegitimate', 'illicit', 'illiterate', 'illness', 'illogic', 'illogical', 'illogically', 'illusion', 'illusions', 'illusory', 'imaginary', 'imbalance', 'imbecile', 'imbroglio', 'immaterial', 'immature', 'imminence', 'imminently', 'immobilized', 'immoderate', 'immoderately', 'immodest', 'immoral', 'immorality', 'immorally', 'immovable', 'impair', 'impaired', 'impasse', 'impatience', 'impatient', 'impatiently', 'impeach', 'impedance', 'impede', 'impediment', 'impending', 'impenitent', 'imperfect', 'imperfection', 'imperfections', 'imperfectly', 'imperialist', 'imperil', 'imperious', 'imperiously', 'impermissible', 'impersonal', 'impertinent', 'impetuous', 'impetuously', 'impiety', 'impinge', 'impious', 'implacable', 'implausible', 'implausibly', 'implicate', 'implication', 'implode', 'impolite', 'impolitely', 'impolitic', 'importunate', 'importune', 'impose', 'imposers', 'imposing', 'imposition', 'impossible', 'impossiblity', 'impossibly', 'impotent', 'impoverish', 'impoverished', 'impractical', 'imprecate', 'imprecise', 'imprecisely', 'imprecision', 'imprison', 'imprisonment', 'improbability', 'improbable', 'improbably', 'improper', 'improperly', 'impropriety', 'imprudence', 'imprudent', 'impudence', 'impudent', 'impudently', 'impugn', 'impulsive', 'impulsively', 'impunity', 'impure', 'impurity', 'inability', 'inaccuracies', 'inaccuracy', 'inaccurate', 'inaccurately', 'inaction', 'inactive', 'inadequacy', 'inadequate', 'inadequately', 'inadverent', 'inadverently', 'inadvisable', 'inadvisably', 'inane', 'inanely', 'inappropriate', 'inappropriately', 'inapt', 'inaptitude', 'inarticulate', 'inattentive', 'inaudible', 'incapable', 'incapably', 'incautious', 'incendiary', 'incense', 'incessant', 'incessantly', 'incite', 'incitement', 'incivility', 'inclement', 'incognizant', 'incoherence', 'incoherent', 'incoherently', 'incommensurate', 'incomparable', 'incomparably', 'incompatability', 'incompatibility', 'incompatible', 'incompetence', 'incompetent', 'incompetently', 'incomplete', 'incompliant', 'incomprehensible', 'incomprehension', 'inconceivable', 'inconceivably', 'incongruous', 'incongruously', 'inconsequent', 'inconsequential', 'inconsequentially', 'inconsequently', 'inconsiderate', 'inconsiderately', 'inconsistence', 'inconsistencies', 'inconsistency', 'inconsistent', 'inconsolable', 'inconsolably', 'inconstant', 'inconvenience', 'inconveniently', 'incorrect', 'incorrectly', 'incorrigible', 'incorrigibly', 'incredulous', 'incredulously', 'inculcate', 'indecency', 'indecent', 'indecently', 'indecision', 'indecisive', 'indecisively', 'indecorum', 'indefensible', 'indelicate', 'indeterminable', 'indeterminably', 'indeterminate', 'indifference', 'indifferent', 'indigent', 'indignant', 'indignantly', 'indignation', 'indignity', 'indiscernible', 'indiscreet', 'indiscreetly', 'indiscretion', 'indiscriminate', 'indiscriminately', 'indiscriminating', 'indistinguishable', 'indoctrinate', 'indoctrination', 'indolent', 'indulge', 'ineffective', 'ineffectively', 'ineffectiveness', 'ineffectual', 'ineffectually', 'ineffectualness', 'inefficacious', 'inefficacy', 'inefficiency', 'inefficient', 'inefficiently', 'inelegance', 'inelegant', 'ineligible', 'ineloquent', 'ineloquently', 'inept', 'ineptitude', 'ineptly', 'inequalities', 'inequality', 'inequitable', 'inequitably', 'inequities', 'inescapable', 'inescapably', 'inessential', 'inevitable', 'inevitably', 'inexcusable', 'inexcusably', 'inexorable', 'inexorably', 'inexperience', 'inexperienced', 'inexpert', 'inexpertly', 'inexpiable', 'inexplainable', 'inextricable', 'inextricably', 'infamous', 'infamously', 'infamy', 'infected', 'infection', 'infections', 'inferior', 'inferiority', 'infernal', 'infest', 'infested', 'infidel', 'infidels', 'infiltrator', 'infiltrators', 'infirm', 'inflame', 'inflammation', 'inflammatory', 'inflammed', 'inflated', 'inflationary', 'inflexible', 'inflict', 'infraction', 'infringe', 'infringement', 'infringements', 'infuriate', 'infuriated', 'infuriating', 'infuriatingly', 'inglorious', 'ingrate', 'ingratitude', 'inhibit', 'inhibition', 'inhospitable', 'inhospitality', 'inhuman', 'inhumane', 'inhumanity', 'inimical', 'inimically', 'iniquitous', 'iniquity', 'injudicious', 'injure', 'injurious', 'injury', 'injustice', 'injustices', 'innuendo', 'inoperable', 'inopportune', 'inordinate', 'inordinately', 'insane', 'insanely', 'insanity', 'insatiable', 'insecure', 'insecurity', 'insensible', 'insensitive', 'insensitively', 'insensitivity', 'insidious', 'insidiously', 'insignificance', 'insignificant', 'insignificantly', 'insincere', 'insincerely', 'insincerity', 'insinuate', 'insinuating', 'insinuation', 'insociable', 'insolence', 'insolent', 'insolently', 'insolvent', 'insouciance', 'instability', 'instable', 'instigate', 'instigator', 'instigators', 'insubordinate', 'insubstantial', 'insubstantially', 'insufferable', 'insufferably', 'insufficiency', 'insufficient', 'insufficiently', 'insular', 'insult', 'insulted', 'insulting', 'insultingly', 'insults', 'insupportable', 'insupportably', 'insurmountable', 'insurmountably', 'insurrection', 'intefere', 'inteferes', 'intense', 'interfere', 'interference', 'interferes', 'intermittent', 'interrupt', 'interruption', 'interruptions', 'intimidate', 'intimidating', 'intimidatingly', 'intimidation', 'intolerable', 'intolerablely', 'intolerance', 'intoxicate', 'intractable', 'intransigence', 'intransigent', 'intrude', 'intrusion', 'intrusive', 'inundate', 'inundated', 'invader', 'invalid', 'invalidate', 'invalidity', 'invasive', 'invective', 'inveigle', 'invidious', 'invidiously', 'invidiousness', 'invisible', 'involuntarily', 'involuntary', 'irascible', 'irate', 'irately', 'ire', 'irk', 'irked', 'irking', 'irks', 'irksome', 'irksomely', 'irksomeness', 'irksomenesses', 'ironic', 'ironical', 'ironically', 'ironies', 'irony', 'irragularity', 'irrational', 'irrationalities', 'irrationality', 'irrationally', 'irrationals', 'irreconcilable', 'irrecoverable', 'irrecoverableness', 'irrecoverablenesses', 'irrecoverably', 'irredeemable', 'irredeemably', 'irreformable', 'irregular', 'irregularity', 'irrelevance', 'irrelevant', 'irreparable', 'irreplacible', 'irrepressible', 'irresolute', 'irresolvable', 'irresponsible', 'irresponsibly', 'irretating', 'irretrievable', 'irreversible', 'irritable', 'irritably', 'irritant', 'irritate', 'irritated', 'irritating', 'irritation', 'irritations', 'isolate', 'isolated', 'isolation', 'issue', 'issues', 'itch', 'itching', 'itchy', 'jabber', 'jaded', 'jagged', 'jam', 'jarring', 'jaundiced', 'jealous', 'jealously', 'jealousness', 'jealousy', 'jeer', 'jeering', 'jeeringly', 'jeers', 'jeopardize', 'jeopardy', 'jerk', 'jerky', 'jitter', 'jitters', 'jittery', 'job-killing', 'jobless', 'joke', 'joker', 'jolt', 'judder', 'juddering', 'judders', 'jumpy', 'junk', 'junky', 'junkyard', 'jutter', 'jutters', 'kaput', 'kill', 'killed', 'killer', 'killing', 'killjoy', 'kills', 'knave', 'knife', 'knock', 'knotted', 'kook', 'kooky', 'lack', 'lackadaisical', 'lacked', 'lackey', 'lackeys', 'lacking', 'lackluster', 'lacks', 'laconic', 'lag', 'lagged', 'lagging', 'laggy', 'lags', 'laid-off', 'lambast', 'lambaste', 'lame', 'lame-duck', 'lament', 'lamentable', 'lamentably', 'languid', 'languish', 'languor', 'languorous', 'languorously', 'lanky', 'lapse', 'lapsed', 'lapses', 'lascivious', 'last-ditch', 'latency', 'laughable', 'laughably', 'laughingstock', 'lawbreaker', 'lawbreaking', 'lawless', 'lawlessness', 'layoff', 'layoff-happy', 'lazy', 'leak', 'leakage', 'leakages', 'leaking', 'leaks', 'leaky', 'lech', 'lecher', 'lecherous', 'lechery', 'leech', 'leer', 'leery', 'left-leaning', 'lemon', 'lengthy', 'less-developed', 'lesser-known', 'letch', 'lethal', 'lethargic', 'lethargy', 'lewd', 'lewdly', 'lewdness', 'liability', 'liable', 'liar', 'liars', 'licentious', 'licentiously', 'licentiousness', 'lie', 'lied', 'lier', 'lies', 'life-threatening', 'lifeless', 'limit', 'limitation', 'limitations', 'limited', 'limits', 'limp', 'listless', 'litigious', 'little-known', 'livid', 'lividly', 'loath', 'loathe', 'loathing', 'loathly', 'loathsome', 'loathsomely', 'lone', 'loneliness', 'lonely', 'loner', 'lonesome', 'long-time', 'long-winded', 'longing', 'longingly', 'loophole', 'loopholes', 'loose', 'loot', 'lorn', 'lose', 'loser', 'losers', 'loses', 'losing', 'loss', 'losses', 'lost', 'loud', 'louder', 'lousy', 'loveless', 'lovelorn', 'low-rated', 'lowly', 'ludicrous', 'ludicrously', 'lugubrious', 'lukewarm', 'lull', 'lumpy', 'lunatic', 'lunaticism', 'lurch', 'lure', 'lurid', 'lurk', 'lurking', 'lying', 'macabre', 'mad', 'madden', 'maddening', 'maddeningly', 'madder', 'madly', 'madman', 'madness', 'maladjusted', 'maladjustment', 'malady', 'malaise', 'malcontent', 'malcontented', 'maledict', 'malevolence', 'malevolent', 'malevolently', 'malice', 'malicious', 'maliciously', 'maliciousness', 'malign', 'malignant', 'malodorous', 'maltreatment', 'mangle', 'mangled', 'mangles', 'mangling', 'mania', 'maniac', 'maniacal', 'manic', 'manipulate', 'manipulation', 'manipulative', 'manipulators', 'mar', 'marginal', 'marginally', 'martyrdom', 'martyrdom-seeking', 'mashed', 'massacre', 'massacres', 'matte', 'mawkish', 'mawkishly', 'mawkishness', 'meager', 'meaningless', 'meanness', 'measly', 'meddle', 'meddlesome', 'mediocre', 'mediocrity', 'melancholy', 'melodramatic', 'melodramatically', 'meltdown', 'menace', 'menacing', 'menacingly', 'mendacious', 'mendacity', 'menial', 'merciless', 'mercilessly', 'mess', 'messed', 'messes', 'messing', 'messy', 'midget', 'miff', 'militancy', 'mindless', 'mindlessly', 'mirage', 'mire', 'misalign', 'misaligned', 'misaligns', 'misapprehend', 'misbecome', 'misbecoming', 'misbegotten', 'misbehave', 'misbehavior', 'miscalculate', 'miscalculation', 'miscellaneous', 'mischief', 'mischievous', 'mischievously', 'misconception', 'misconceptions', 'miscreant', 'miscreants', 'misdirection', 'miser', 'miserable', 'miserableness', 'miserably', 'miseries', 'miserly', 'misery', 'misfit', 'misfortune', 'misgiving', 'misgivings', 'misguidance', 'misguide', 'misguided', 'mishandle', 'mishap', 'misinform', 'misinformed', 'misinterpret', 'misjudge', 'misjudgment', 'mislead', 'misleading', 'misleadingly', 'mislike', 'mismanage', 'mispronounce', 'mispronounced', 'mispronounces', 'misread', 'misreading', 'misrepresent', 'misrepresentation', 'miss', 'missed', 'misses', 'misstatement', 'mist', 'mistake', 'mistaken', 'mistakenly', 'mistakes', 'mistified', 'mistress', 'mistrust', 'mistrustful', 'mistrustfully', 'mists', 'misunderstand', 'misunderstanding', 'misunderstandings', 'misunderstood', 'misuse', 'moan', 'mobster', 'mock', 'mocked', 'mockeries', 'mockery', 'mocking', 'mockingly', 'mocks', 'molest', 'molestation', 'monotonous', 'monotony', 'monster', 'monstrosities', 'monstrosity', 'monstrous', 'monstrously', 'moody', 'moot', 'mope', 'morbid', 'morbidly', 'mordant', 'mordantly', 'moribund', 'moron', 'moronic', 'morons', 'mortification', 'mortified', 'mortify', 'mortifying', 'motionless', 'motley', 'mourn', 'mourner', 'mournful', 'mournfully', 'muddle', 'muddy', 'mudslinger', 'mudslinging', 'mulish', 'multi-polarization', 'mundane', 'murder', 'murderer', 'murderous', 'murderously', 'murky', 'muscle-flexing', 'mushy', 'musty', 'mysterious', 'mysteriously', 'mystery', 'mystify', 'myth', 'nag', 'nagging', 'naive', 'naively', 'narrower', 'nastily', 'nastiness', 'nasty', 'naughty', 'nauseate', 'nauseates', 'nauseating', 'nauseatingly', 'naÔve', 'nebulous', 'nebulously', 'needless', 'needlessly', 'needy', 'nefarious', 'nefariously', 'negate', 'negation', 'negative', 'negatives', 'negativity', 'neglect', 'neglected', 'negligence', 'negligent', 'nemesis', 'nepotism', 'nervous', 'nervously', 'nervousness', 'nettle', 'nettlesome', 'neurotic', 'neurotically', 'niggle', 'niggles', 'nightmare', 'nightmarish', 'nightmarishly', 'nitpick', 'nitpicking', 'noise', 'noises', 'noisier', 'noisy', 'non-confidence', 'nonexistent', 'nonresponsive', 'nonsense', 'nosey', 'notoriety', 'notorious', 'notoriously', 'noxious', 'nuisance', 'numb', 'obese', 'object', 'objection', 'objectionable', 'objections', 'oblique', 'obliterate', 'obliterated', 'oblivious', 'obnoxious', 'obnoxiously', 'obscene', 'obscenely', 'obscenity', 'obscure', 'obscured', 'obscures', 'obscurity', 'obsess', 'obsessive', 'obsessively', 'obsessiveness', 'obsolete', 'obstacle', 'obstinate', 'obstinately', 'obstruct', 'obstructed', 'obstructing', 'obstruction', 'obstructs', 'obtrusive', 'obtuse', 'occlude', 'occluded', 'occludes', 'occluding', 'odd', 'odder', 'oddest', 'oddities', 'oddity', 'oddly', 'odor', 'offence', 'offend', 'offender', 'offending', 'offenses', 'offensive', 'offensively', 'offensiveness', 'officious', 'ominous', 'ominously', 'omission', 'omit', 'one-sided', 'onerous', 'onerously', 'onslaught', 'opinionated', 'opponent', 'opportunistic', 'oppose', 'opposition', 'oppositions', 'oppress', 'oppression', 'oppressive', 'oppressively', 'oppressiveness', 'oppressors', 'ordeal', 'orphan', 'ostracize', 'outbreak', 'outburst', 'outbursts', 'outcast', 'outcry', 'outlaw', 'outmoded', 'outrage', 'outraged', 'outrageous', 'outrageously', 'outrageousness', 'outrages', 'outsider', 'over-acted', 'over-awe', 'over-balanced', 'over-hyped', 'over-priced', 'over-valuation', 'overact', 'overacted', 'overawe', 'overbalance', 'overbalanced', 'overbearing', 'overbearingly', 'overblown', 'overdo', 'overdone', 'overdue', 'overemphasize', 'overheat', 'overkill', 'overloaded', 'overlook', 'overpaid', 'overpayed', 'overplay', 'overpower', 'overpriced', 'overrated', 'overreach', 'overrun', 'overshadow', 'oversight', 'oversights', 'oversimplification', 'oversimplified', 'oversimplify', 'oversize', 'overstate', 'overstated', 'overstatement', 'overstatements', 'overstates', 'overtaxed', 'overthrow', 'overthrows', 'overturn', 'overweight', 'overwhelm', 'overwhelmed', 'overwhelming', 'overwhelmingly', 'overwhelms', 'overzealous', 'overzealously', 'overzelous', 'pain', 'painful', 'painfull', 'painfully', 'pains', 'pale', 'pales', 'paltry', 'pan', 'pandemonium', 'pander', 'pandering', 'panders', 'panic', 'panick', 'panicked', 'panicking', 'panicky', 'paradoxical', 'paradoxically', 'paralize', 'paralyzed', 'paranoia', 'paranoid', 'parasite', 'pariah', 'parody', 'partiality', 'partisan', 'partisans', 'passe', 'passive', 'passiveness', 'pathetic', 'pathetically', 'patronize', 'paucity', 'pauper', 'paupers', 'payback', 'peculiar', 'peculiarly', 'pedantic', 'peeled', 'peeve', 'peeved', 'peevish', 'peevishly', 'penalize', 'penalty', 'perfidious', 'perfidity', 'perfunctory', 'peril', 'perilous', 'perilously', 'perish', 'pernicious', 'perplex', 'perplexed', 'perplexing', 'perplexity', 'persecute', 'persecution', 'pertinacious', 'pertinaciously', 'pertinacity', 'perturb', 'perturbed', 'pervasive', 'perverse', 'perversely', 'perversion', 'perversity', 'pervert', 'perverted', 'perverts', 'pessimism', 'pessimistic', 'pessimistically', 'pest', 'pestilent', 'petrified', 'petrify', 'pettifog', 'petty', 'phobia', 'phobic', 'phony', 'picket', 'picketed', 'picketing', 'pickets', 'picky', 'pig', 'pigs', 'pillage', 'pillory', 'pimple', 'pinch', 'pique', 'pitiable', 'pitiful', 'pitifully', 'pitiless', 'pitilessly', 'pittance', 'pity', 'plagiarize', 'plague', 'plasticky', 'plaything', 'plea', 'pleas', 'plebeian', 'plight', 'plot', 'plotters', 'ploy', 'plunder', 'plunderer', 'pointless', 'pointlessly', 'poison', 'poisonous', 'poisonously', 'pokey', 'poky', 'polarisation', 'polemize', 'pollute', 'polluter', 'polluters', 'polution', 'pompous', 'poor', 'poorer', 'poorest', 'poorly', 'posturing', 'pout', 'poverty', 'powerless', 'prate', 'pratfall', 'prattle', 'precarious', 'precariously', 'precipitate', 'precipitous', 'predatory', 'predicament', 'prejudge', 'prejudice', 'prejudices', 'prejudicial', 'premeditated', 'preoccupy', 'preposterous', 'preposterously', 'presumptuous', 'presumptuously', 'pretence', 'pretend', 'pretense', 'pretentious', 'pretentiously', 'prevaricate', 'pricey', 'pricier', 'prick', 'prickle', 'prickles', 'prideful', 'prik', 'primitive', 'prison', 'prisoner', 'problem', 'problematic', 'problems', 'procrastinate', 'procrastinates', 'procrastination', 'profane', 'profanity', 'prohibit', 'prohibitive', 'prohibitively', 'propaganda', 'propagandize', 'proprietary', 'prosecute', 'protest', 'protested', 'protesting', 'protests', 'protracted', 'provocation', 'provocative', 'provoke', 'pry', 'pugnacious', 'pugnaciously', 'pugnacity', 'punch', 'punish', 'punishable', 'punitive', 'punk', 'puny', 'puppet', 'puppets', 'puzzled', 'puzzlement', 'puzzling', 'quack', 'qualm', 'qualms', 'quandary', 'quarrel', 'quarrellous', 'quarrellously', 'quarrels', 'quarrelsome', 'quash', 'queer', 'questionable', 'quibble', 'quibbles', 'quitter', 'rabid', 'racism', 'racist', 'racists', 'racy', 'radical', 'radicalization', 'radically', 'radicals', 'rage', 'ragged', 'raging', 'rail', 'raked', 'rampage', 'rampant', 'ramshackle', 'rancor', 'randomly', 'rankle', 'rant', 'ranted', 'ranting', 'rantingly', 'rants', 'rape', 'raped', 'raping', 'rascal', 'rascals', 'rash', 'rattle', 'rattled', 'rattles', 'ravage', 'raving', 'reactionary', 'rebellious', 'rebuff', 'rebuke', 'recalcitrant', 'recant', 'recession', 'recessionary', 'reckless', 'recklessly', 'recklessness', 'recoil', 'recourses', 'redundancy', 'redundant', 'refusal', 'refuse', 'refused', 'refuses', 'refusing', 'refutation', 'refute', 'refuted', 'refutes', 'refuting', 'regress', 'regression', 'regressive', 'regret', 'regreted', 'regretful', 'regretfully', 'regrets', 'regrettable', 'regrettably', 'regretted', 'reject', 'rejected', 'rejecting', 'rejection', 'rejects', 'relapse', 'relentless', 'relentlessly', 'relentlessness', 'reluctance', 'reluctant', 'reluctantly', 'remorse', 'remorseful', 'remorsefully', 'remorseless', 'remorselessly', 'remorselessness', 'renounce', 'renunciation', 'repel', 'repetitive', 'reprehensible', 'reprehensibly', 'reprehension', 'reprehensive', 'repress', 'repression', 'repressive', 'reprimand', 'reproach', 'reproachful', 'reprove', 'reprovingly', 'repudiate', 'repudiation', 'repugn', 'repugnance', 'repugnant', 'repugnantly', 'repulse', 'repulsed', 'repulsing', 'repulsive', 'repulsively', 'repulsiveness', 'resent', 'resentful', 'resentment', 'resignation', 'resigned', 'resistance', 'restless', 'restlessness', 'restrict', 'restricted', 'restriction', 'restrictive', 'resurgent', 'retaliate', 'retaliatory', 'retard', 'retarded', 'retardedness', 'retards', 'reticent', 'retract', 'retreat', 'retreated', 'revenge', 'revengeful', 'revengefully', 'revert', 'revile', 'reviled', 'revoke', 'revolt', 'revolting', 'revoltingly', 'revulsion', 'revulsive', 'rhapsodize', 'rhetoric', 'rhetorical', 'ricer', 'ridicule', 'ridicules', 'ridiculous', 'ridiculously', 'rife', 'rift', 'rifts', 'rigid', 'rigidity', 'rigidness', 'rile', 'riled', 'rip', 'rip-off', 'ripoff', 'ripped', 'risk', 'risks', 'risky', 'rival', 'rivalry', 'roadblocks', 'rocky', 'rogue', 'rollercoaster', 'rot', 'rotten', 'rough', 'rremediable', 'rubbish', 'rude', 'rue', 'ruffian', 'ruffle', 'ruin', 'ruined', 'ruining', 'ruinous', 'ruins', 'rumbling', 'rumor', 'rumors', 'rumours', 'rumple', 'run-down', 'runaway', 'rupture', 'rust', 'rusts', 'rusty', 'rut', 'ruthless', 'ruthlessly', 'ruthlessness', 'ruts', 'sabotage', 'sack', 'sacrificed', 'sad', 'sadden', 'sadly', 'sadness', 'sag', 'sagged', 'sagging', 'saggy', 'sags', 'salacious', 'sanctimonious', 'sap', 'sarcasm', 'sarcastic', 'sarcastically', 'sardonic', 'sardonically', 'sass', 'satirical', 'satirize', 'savage', 'savaged', 'savagery', 'savages', 'scaly', 'scam', 'scams', 'scandal', 'scandalize', 'scandalized', 'scandalous', 'scandalously', 'scandals', 'scandel', 'scandels', 'scant', 'scapegoat', 'scar', 'scarce', 'scarcely', 'scarcity', 'scare', 'scared', 'scarier', 'scariest', 'scarily', 'scarred', 'scars', 'scary', 'scathing', 'scathingly', 'sceptical', 'scoff', 'scoffingly', 'scold', 'scolded', 'scolding', 'scoldingly', 'scorching', 'scorchingly', 'scorn', 'scornful', 'scornfully', 'scoundrel', 'scourge', 'scowl', 'scramble', 'scrambled', 'scrambles', 'scrambling', 'scrap', 'scratch', 'scratched', 'scratches', 'scratchy', 'scream', 'screech', 'screw-up', 'screwed', 'screwed-up', 'screwy', 'scuff', 'scuffs', 'scum', 'scummy', 'second-class', 'second-tier', 'secretive', 'sedentary', 'seedy', 'seethe', 'seething', 'self-coup', 'self-criticism', 'self-defeating', 'self-destructive', 'self-humiliation', 'self-interest', 'self-interested', 'self-serving', 'selfinterested', 'selfish', 'selfishly', 'selfishness', 'semi-retarded', 'senile', 'sensationalize', 'senseless', 'senselessly', 'seriousness', 'sermonize', 'servitude', 'set-up', 'setback', 'setbacks', 'sever', 'severe', 'severity', 'sh*t', 'shabby', 'shadowy', 'shady', 'shake', 'shaky', 'shallow', 'sham', 'shambles', 'shame', 'shameful', 'shamefully', 'shamefulness', 'shameless', 'shamelessly', 'shamelessness', 'shark', 'sharply', 'shatter', 'shemale', 'shimmer', 'shimmy', 'shipwreck', 'shirk', 'shirker', 'shit', 'shiver', 'shock', 'shocked', 'shocking', 'shockingly', 'shoddy', 'short-lived', 'shortage', 'shortchange', 'shortcoming', 'shortcomings', 'shortness', 'shortsighted', 'shortsightedness', 'showdown', 'shrew', 'shriek', 'shrill', 'shrilly', 'shrivel', 'shroud', 'shrouded', 'shrug', 'shun', 'shunned', 'sick', 'sicken', 'sickening', 'sickeningly', 'sickly', 'sickness', 'sidetrack', 'sidetracked', 'siege', 'sillily', 'silly', 'simplistic', 'simplistically', 'sin', 'sinful', 'sinfully', 'sinister', 'sinisterly', 'sink', 'sinking', 'skeletons', 'skeptic', 'skeptical', 'skeptically', 'skepticism', 'sketchy', 'skimpy', 'skinny', 'skittish', 'skittishly', 'skulk', 'slack', 'slander', 'slanderer', 'slanderous', 'slanderously', 'slanders', 'slap', 'slashing', 'slaughter', 'slaughtered', 'slave', 'slaves', 'sleazy', 'slime', 'slog', 'slogged', 'slogging', 'slogs', 'sloooooooooooooow', 'sloooow', 'slooow', 'sloow', 'sloppily', 'sloppy', 'sloth', 'slothful', 'slow', 'slow-moving', 'slowed', 'slower', 'slowest', 'slowly', 'sloww', 'slowww', 'slowwww', 'slug', 'sluggish', 'slump', 'slumping', 'slumpping', 'slur', 'slut', 'sluts', 'sly', 'smack', 'smallish', 'smash', 'smear', 'smell', 'smelled', 'smelling', 'smells', 'smelly', 'smelt', 'smoke', 'smokescreen', 'smolder', 'smoldering', 'smother', 'smoulder', 'smouldering', 'smudge', 'smudged', 'smudges', 'smudging', 'smug', 'smugly', 'smut', 'smuttier', 'smuttiest', 'smutty', 'snag', 'snagged', 'snagging', 'snags', 'snappish', 'snappishly', 'snare', 'snarky', 'snarl', 'sneak', 'sneakily', 'sneaky', 'sneer', 'sneering', 'sneeringly', 'snob', 'snobbish', 'snobby', 'snobish', 'snobs', 'snub', 'so-cal', 'soapy', 'sob', 'sober', 'sobering', 'solemn', 'solicitude', 'somber', 'sore', 'sorely', 'soreness', 'sorrow', 'sorrowful', 'sorrowfully', 'sorry', 'sour', 'sourly', 'spade', 'spank', 'spendy', 'spew', 'spewed', 'spewing', 'spews', 'spilling', 'spinster', 'spiritless', 'spite', 'spiteful', 'spitefully', 'spitefulness', 'splatter', 'split', 'splitting', 'spoil', 'spoilage', 'spoilages', 'spoiled', 'spoilled', 'spoils', 'spook', 'spookier', 'spookiest', 'spookily', 'spooky', 'spoon-fed', 'spoon-feed', 'spoonfed', 'sporadic', 'spotty', 'spurious', 'spurn', 'sputter', 'squabble', 'squabbling', 'squander', 'squash', 'squeak', 'squeaks', 'squeaky', 'squeal', 'squealing', 'squeals', 'squirm', 'stab', 'stagnant', 'stagnate', 'stagnation', 'staid', 'stain', 'stains', 'stale', 'stalemate', 'stall', 'stalls', 'stammer', 'stampede', 'standstill', 'stark', 'starkly', 'startle', 'startling', 'startlingly', 'starvation', 'starve', 'static', 'steal', 'stealing', 'steals', 'steep', 'steeply', 'stench', 'stereotype', 'stereotypical', 'stereotypically', 'stern', 'stew', 'sticky', 'stiff', 'stiffness', 'stifle', 'stifling', 'stiflingly', 'stigma', 'stigmatize', 'sting', 'stinging', 'stingingly', 'stingy', 'stink', 'stinks', 'stodgy', 'stole', 'stolen', 'stooge', 'stooges', 'stormy', 'straggle', 'straggler', 'strain', 'strained', 'straining', 'strange', 'strangely', 'stranger', 'strangest', 'strangle', 'streaky', 'strenuous', 'stress', 'stresses', 'stressful', 'stressfully', 'stricken', 'strict', 'strictly', 'strident', 'stridently', 'strife', 'strike', 'stringent', 'stringently', 'struck', 'struggle', 'struggled', 'struggles', 'struggling', 'strut', 'stubborn', 'stubbornly', 'stubbornness', 'stuck', 'stuffy', 'stumble', 'stumbled', 'stumbles', 'stump', 'stumped', 'stumps', 'stun', 'stunt', 'stunted', 'stupid', 'stupidest', 'stupidity', 'stupidly', 'stupified', 'stupify', 'stupor', 'stutter', 'stuttered', 'stuttering', 'stutters', 'sty', 'stymied', 'sub-par', 'subdued', 'subjected', 'subjection', 'subjugate', 'subjugation', 'submissive', 'subordinate', 'subpoena', 'subpoenas', 'subservience', 'subservient', 'substandard', 'subtract', 'subversion', 'subversive', 'subversively', 'subvert', 'succumb', 'suck', 'sucked', 'sucker', 'sucks', 'sucky', 'sue', 'sued', 'sueing', 'sues', 'suffer', 'suffered', 'sufferer', 'sufferers', 'suffering', 'suffers', 'suffocate', 'sugar-coat', 'sugar-coated', 'sugarcoated', 'suicidal', 'suicide', 'sulk', 'sullen', 'sully', 'sunder', 'sunk', 'sunken', 'superficial', 'superficiality', 'superficially', 'superfluous', 'superstition', 'superstitious', 'suppress', 'suppression', 'surrender', 'susceptible', 'suspect', 'suspicion', 'suspicions', 'suspicious', 'suspiciously', 'swagger', 'swamped', 'sweaty', 'swelled', 'swelling', 'swindle', 'swipe', 'swollen', 'symptom', 'symptoms', 'syndrome', 'taboo', 'tacky', 'taint', 'tainted', 'tamper', 'tangle', 'tangled', 'tangles', 'tank', 'tanked', 'tanks', 'tantrum', 'tardy', 'tarnish', 'tarnished', 'tarnishes', 'tarnishing', 'tattered', 'taunt', 'taunting', 'tauntingly', 'taunts', 'taut', 'tawdry', 'taxing', 'tease', 'teasingly', 'tedious', 'tediously', 'temerity', 'temper', 'tempest', 'temptation', 'tenderness', 'tense', 'tension', 'tentative', 'tentatively', 'tenuous', 'tenuously', 'tepid', 'terrible', 'terribleness', 'terribly', 'terror', 'terror-genic', 'terrorism', 'terrorize', 'testily', 'testy', 'tetchily', 'tetchy', 'thankless', 'thicker', 'thirst', 'thorny', 'thoughtless', 'thoughtlessly', 'thoughtlessness', 'thrash', 'threat', 'threaten', 'threatening', 'threats', 'threesome', 'throb', 'throbbed', 'throbbing', 'throbs', 'throttle', 'thug', 'thumb-down', 'thumbs-down', 'thwart', 'time-consuming', 'timid', 'timidity', 'timidly', 'timidness', 'tin-y', 'tingled', 'tingling', 'tired', 'tiresome', 'tiring', 'tiringly', 'toil', 'toll', 'top-heavy', 'topple', 'torment', 'tormented', 'torrent', 'tortuous', 'torture', 'tortured', 'tortures', 'torturing', 'torturous', 'torturously', 'totalitarian', 'touchy', 'toughness', 'tout', 'touted', 'touts', 'toxic', 'traduce', 'tragedy', 'tragic', 'tragically', 'traitor', 'traitorous', 'traitorously', 'tramp', 'trample', 'transgress', 'transgression', 'trap', 'traped', 'trapped', 'trash', 'trashed', 'trashy', 'trauma', 'traumatic', 'traumatically', 'traumatize', 'traumatized', 'travesties', 'travesty', 'treacherous', 'treacherously', 'treachery', 'treason', 'treasonous', 'trick', 'tricked', 'trickery', 'tricky', 'trivial', 'trivialize', 'trouble', 'troubled', 'troublemaker', 'troubles', 'troublesome', 'troublesomely', 'troubling', 'troublingly', 'truant', 'tumble', 'tumbled', 'tumbles', 'tumultuous', 'turbulent', 'turmoil', 'twist', 'twisted', 'twists', 'two-faced', 'two-faces', 'tyrannical', 'tyrannically', 'tyranny', 'tyrant', 'ugh', 'uglier', 'ugliest', 'ugliness', 'ugly', 'ulterior', 'ultimatum', 'ultimatums', 'ultra-hardline', 'un-viewable', 'unable', 'unacceptable', 'unacceptablely', 'unacceptably', 'unaccessible', 'unaccustomed', 'unachievable', 'unaffordable', 'unappealing', 'unattractive', 'unauthentic', 'unavailable', 'unavoidably', 'unbearable', 'unbearablely', 'unbelievable', 'unbelievably', 'uncaring', 'uncertain', 'uncivil', 'uncivilized', 'unclean', 'unclear', 'uncollectible', 'uncomfortable', 'uncomfortably', 'uncomfy', 'uncompetitive', 'uncompromising', 'uncompromisingly', 'unconfirmed', 'unconstitutional', 'uncontrolled', 'unconvincing', 'unconvincingly', 'uncooperative', 'uncouth', 'uncreative', 'undecided', 'undefined', 'undependability', 'undependable', 'undercut', 'undercuts', 'undercutting', 'underdog', 'underestimate', 'underlings', 'undermine', 'undermined', 'undermines', 'undermining', 'underpaid', 'underpowered', 'undersized', 'undesirable', 'undetermined', 'undid', 'undignified', 'undissolved', 'undocumented', 'undone', 'undue', 'unease', 'uneasily', 'uneasiness', 'uneasy', 'uneconomical', 'unemployed', 'unequal', 'unethical', 'uneven', 'uneventful', 'unexpected', 'unexpectedly', 'unexplained', 'unfairly', 'unfaithful', 'unfaithfully', 'unfamiliar', 'unfavorable', 'unfeeling', 'unfinished', 'unfit', 'unforeseen', 'unforgiving', 'unfortunate', 'unfortunately', 'unfounded', 'unfriendly', 'unfulfilled', 'unfunded', 'ungovernable', 'ungrateful', 'unhappily', 'unhappiness', 'unhappy', 'unhealthy', 'unhelpful', 'unilateralism', 'unimaginable', 'unimaginably', 'unimportant', 'uninformed', 'uninsured', 'unintelligible', 'unintelligile', 'unipolar', 'unjust', 'unjustifiable', 'unjustifiably', 'unjustified', 'unjustly', 'unkind', 'unkindly', 'unknown', 'unlamentable', 'unlamentably', 'unlawful', 'unlawfully', 'unlawfulness', 'unleash', 'unlicensed', 'unlikely', 'unlucky', 'unmoved', 'unnatural', 'unnaturally', 'unnecessary', 'unneeded', 'unnerve', 'unnerved', 'unnerving', 'unnervingly', 'unnoticed', 'unobserved', 'unorthodox', 'unorthodoxy', 'unpleasant', 'unpleasantries', 'unpopular', 'unpredictable', 'unprepared', 'unproductive', 'unprofitable', 'unprove', 'unproved', 'unproven', 'unproves', 'unproving', 'unqualified', 'unravel', 'unraveled', 'unreachable', 'unreadable', 'unrealistic', 'unreasonable', 'unreasonably', 'unrelenting', 'unrelentingly', 'unreliability', 'unreliable', 'unresolved', 'unresponsive', 'unrest', 'unruly', 'unsafe', 'unsatisfactory', 'unsavory', 'unscrupulous', 'unscrupulously', 'unsecure', 'unseemly', 'unsettle', 'unsettled', 'unsettling', 'unsettlingly', 'unskilled', 'unsophisticated', 'unsound', 'unspeakable', 'unspeakablely', 'unspecified', 'unstable', 'unsteadily', 'unsteadiness', 'unsteady', 'unsuccessful', 'unsuccessfully', 'unsupported', 'unsupportive', 'unsure', 'unsuspecting', 'unsustainable', 'untenable', 'untested', 'unthinkable', 'unthinkably', 'untimely', 'untouched', 'untrue', 'untrustworthy', 'untruthful', 'unusable', 'unusably', 'unuseable', 'unuseably', 'unusual', 'unusually', 'unviewable', 'unwanted', 'unwarranted', 'unwatchable', 'unwelcome', 'unwell', 'unwieldy', 'unwilling', 'unwillingly', 'unwillingness', 'unwise', 'unwisely', 'unworkable', 'unworthy', 'unyielding', 'upbraid', 'upheaval', 'uprising', 'uproar', 'uproarious', 'uproariously', 'uproarous', 'uproarously', 'uproot', 'upset', 'upseting', 'upsets', 'upsetting', 'upsettingly', 'urgent', 'useless', 'usurp', 'usurper', 'utterly', 'vagrant', 'vague', 'vagueness', 'vain', 'vainly', 'vanity', 'vehement', 'vehemently', 'vengeance', 'vengeful', 'vengefully', 'vengefulness', 'venom', 'venomous', 'venomously', 'vent', 'vestiges', 'vex', 'vexation', 'vexing', 'vexingly', 'vibrate', 'vibrated', 'vibrates', 'vibrating', 'vibration', 'vice', 'vicious', 'viciously', 'viciousness', 'victimize', 'vile', 'vileness', 'vilify', 'villainous', 'villainously', 'villains', 'villian', 'villianous', 'villianously', 'villify', 'vindictive', 'vindictively', 'vindictiveness', 'violate', 'violation', 'violator', 'violators', 'violent', 'violently', 'viper', 'virulence', 'virulent', 'virulently', 'virus', 'vociferous', 'vociferously', 'volatile', 'volatility', 'vomit', 'vomited', 'vomiting', 'vomits', 'vulgar', 'vulnerable', 'wack', 'wail', 'wallow', 'wane', 'waning', 'wanton', 'war-like', 'warily', 'wariness', 'warlike', 'warned', 'warning', 'warp', 'warped', 'wary', 'washed-out', 'waste', 'wasted', 'wasteful', 'wastefulness', 'wasting', 'water-down', 'watered-down', 'wayward', 'weak', 'weaken', 'weakening', 'weaker', 'weakness', 'weaknesses', 'weariness', 'wearisome', 'weary', 'wedge', 'weed', 'weep', 'weird', 'weirdly', 'wheedle', 'whimper', 'whine', 'whining', 'whiny', 'whips', 'whore', 'whores', 'wicked', 'wickedly', 'wickedness', 'wild', 'wildly', 'wiles', 'wilt', 'wily', 'wimpy', 'wince', 'wobble', 'wobbled', 'wobbles', 'woe', 'woebegone', 'woeful', 'woefully', 'womanizer', 'womanizing', 'worn', 'worried', 'worriedly', 'worrier', 'worries', 'worrisome', 'worry', 'worrying', 'worryingly', 'worse', 'worsen', 'worsening', 'worst', 'worthless', 'worthlessly', 'worthlessness', 'wound', 'wounds', 'wrangle', 'wrath', 'wreak', 'wreaked', 'wreaks', 'wreck', 'wrest', 'wrestle', 'wretch', 'wretched', 'wretchedly', 'wretchedness', 'wrinkle', 'wrinkled', 'wrinkles', 'wrip', 'wripped', 'wripping', 'writhe', 'wrong', 'wrongful', 'wrongly', 'wrought', 'yawn', 'zap', 'zapped', 'zaps', 'zealot', 'zealous', 'zealously', 'zombie']\n",
            "2024-04-28 18:26:20,285 SequenceTagger predicts: Dictionary with 53 tags: <unk>, O, UH, ,, VBD, PRP, VB, PRP$, NN, RB, ., DT, JJ, VBP, VBG, IN, CD, NNS, NNP, WRB, VBZ, WDT, CC, TO, MD, VBN, WP, :, RP, EX, JJR, FW, XX, HYPH, POS, RBR, JJS, PDT, NNPS, RBS, AFX, WP$, -LRB-, -RRB-, ``, '', LS, $, SYM, ADD\n"
          ]
        }
      ],
      "source": [
        "import nltk\n",
        "import math\n",
        "import spacy\n",
        "import re\n",
        "from nltk.sentiment.vader import SentimentIntensityAnalyzer\n",
        "from nltk.corpus import stopwords\n",
        "from nltk.tokenize import word_tokenize\n",
        "from flair.data import Sentence\n",
        "from flair.nn import Classifier\n",
        "from flair.models import TextClassifier\n",
        "\n",
        "nltk.download('punkt')\n",
        "nltk.download('stopwords')\n",
        "nltk.download('vader_lexicon')\n",
        "\n",
        "pos_words = read_txt_file_to_list(\"./DeepCGSR_triet/data/positive-words.txt\")\n",
        "neg_words = read_txt_file_to_list(\"./DeepCGSR_triet/data/negative-words.txt\")\n",
        "print(pos_words)\n",
        "print(neg_words)\n",
        "a = ['JJ', 'JJR', 'JJS', 'RB', 'RBR', 'RBS']\n",
        "brands = ['dove', 'aveda', 'silver']\n",
        "keywords = ['overall', 'summary']\n",
        "\n",
        "tagger = Classifier.load('pos')\n",
        "# Load the spaCy English model\n",
        "nlp = spacy.load(\"en_core_web_sm\")\n",
        "def remove_stopwords(sentence):\n",
        "    \"\"\"\n",
        "    Loại bỏ các từ dừng từ câu sử dụng NLTK.\n",
        "\n",
        "    Parameters:\n",
        "    - sentence (str): Câu cần loại bỏ từ dừng.\n",
        "\n",
        "    Returns:\n",
        "    - str: Câu sau khi loại bỏ các từ dừng.\n",
        "    \"\"\"\n",
        "    # Tách câu thành các từ\n",
        "    words = word_tokenize(sentence)\n",
        "\n",
        "    # Tải danh sách từ dừng từ NLTK\n",
        "    stop_words = set(stopwords.words('english'))\n",
        "\n",
        "    # Loại bỏ các từ dừng\n",
        "    filtered_words = [word for word in words if word.lower() not in stop_words]\n",
        "\n",
        "    # Ghép lại các từ thành câu mới\n",
        "    filtered_sentence = ' '.join(filtered_words)\n",
        "\n",
        "    return filtered_sentence\n",
        "\n",
        "# df_rating['reviewText'] = df_rating['reviewText'].apply(remove_stopwords)\n",
        "\n",
        "def get_sentiment_words(text):\n",
        "    # Khởi tạo SentimentIntensityAnalyzer\n",
        "    sia = SentimentIntensityAnalyzer()\n",
        "\n",
        "    # Tách câu thành các từ\n",
        "    words = nltk.word_tokenize(text)\n",
        "\n",
        "    # Lấy danh sách các từ ngừng (stop words)\n",
        "    stop_words = set(stopwords.words('english'))\n",
        "\n",
        "    # Danh sách các từ có cảm xúc\n",
        "    sentiment_words = []\n",
        "\n",
        "    # Kiểm tra từng từ trong câu\n",
        "    for word in words:\n",
        "        print(word, \" - \", sia.polarity_scores(word)['compound'])\n",
        "        # Nếu từ không phải là từ ngừng và có điểm tính cảm từ VADER lớn hơn 0\n",
        "        # if word.lower() not in stop_words and sia.polarity_scores(word)['compound'] > 0:\n",
        "        if word.lower() not in stop_words and sia.polarity_scores(word)['compound'] != 0:\n",
        "            sentiment_words.append(word)\n",
        "\n",
        "    return sentiment_words\n",
        "\n",
        "\n",
        "def sentiment_analysis_flair(sentence):\n",
        "    # Kiểm tra xem câu có rỗng không\n",
        "    if not sentence.strip():\n",
        "        return 0.0\n",
        "    # Load pretrained sentiment model\n",
        "    classifier = TextClassifier.load('en-sentiment')\n",
        "\n",
        "    # Create a Flair Sentence\n",
        "    flair_sentence = Sentence(sentence)\n",
        "\n",
        "    # Predict sentiment\n",
        "    classifier.predict(flair_sentence)\n",
        "    # print(flair_sentence)\n",
        "    # Get sentiment value (POSITIVE/NEGATIVE) and score\n",
        "    sentiment_value = flair_sentence.labels[0].value\n",
        "    sentiment_score = flair_sentence.labels[0].score\n",
        "    score = 0.0\n",
        "    bias = 1.0\n",
        "    for keyword in keywords:\n",
        "        if keyword.lower() in sentence.lower():\n",
        "            bias = 1.75\n",
        "    \n",
        "    if(sentiment_value == 'POSITIVE'):\n",
        "        score = sentiment_score * bias\n",
        "    else:\n",
        "        score = -sentiment_score * bias\n",
        "\n",
        "    return score\n",
        "\n",
        "#Define the text to analyze\n",
        "\n",
        "def sentiment_analysis(text, model, tokenizer):\n",
        "    # Tokenize the text\n",
        "    # print(text)\n",
        "    if not text:\n",
        "        return -1\n",
        "    text = text[:512]\n",
        "    inputs = tokenizer(text, return_tensors='pt')\n",
        "\n",
        "    # Perform sentiment analysis\n",
        "    with torch.no_grad():\n",
        "        outputs = model(**inputs)\n",
        "\n",
        "    # Get the predicted probabilities for each class\n",
        "    probs = softmax(outputs.logits, dim=1).squeeze()\n",
        "    # print(probs)\n",
        "    # Convert the probabilities to human-readable labels\n",
        "    labels = [1, 2, 3, 4, 5]  # For this model, it predicts star ratings\n",
        "    \n",
        "    predicted_label = labels[torch.argmax(probs).item()]\n",
        "    # print(predicted_label)\n",
        "    return predicted_label\n",
        "\n",
        "def check_string(input_value):\n",
        "    # Kiểm tra xem giá trị có phải là chuỗi hay không\n",
        "    if isinstance(input_value, str):\n",
        "        # Nếu là chuỗi, trả về giá trị không thay đổi\n",
        "        return input_value\n",
        "    else:\n",
        "        # Nếu không phải là chuỗi, trả về chuỗi rỗng\n",
        "        return ''\n",
        "\n",
        "def seperate_sentences(text):\n",
        "    text = check_string(text)\n",
        "    doc = nlp(text)\n",
        "    # Khởi tạo một danh sách để lưu trữ các câu\n",
        "    sentences = []\n",
        "    current_sentence = \"\"\n",
        "    # Duyệt qua mỗi từ trong văn bản\n",
        "    for token in doc:\n",
        "        # Nếu từ hiện tại không phải là dấu kết thúc câu, thêm từ vào câu hiện tại\n",
        "        \n",
        "        if token.is_sent_start:\n",
        "            # Nếu có câu hiện tại, thêm câu vào danh sách câu\n",
        "            if current_sentence:\n",
        "                sentences.append(current_sentence.strip())\n",
        "            # Bắt đầu một câu mới\n",
        "            current_sentence = token.text\n",
        "        elif token.text in [\"but\", \"and\"]:\n",
        "            # print(\"that but:\", current_sentence)\n",
        "            if (brand.lower() in current_sentence.lower() for brand in brands):\n",
        "                # print(\"need continue: \", current_sentence)\n",
        "                current_sentence += \" \" + token.text\n",
        "                continue\n",
        "            elif current_sentence:\n",
        "                sentences.append(current_sentence.strip())\n",
        "                current_sentence = token.text\n",
        "        else:\n",
        "            # Thêm từ vào câu hiện tại\n",
        "            current_sentence += \" \" + token.text\n",
        "    # Thêm câu cuối cùng vào danh sách câu\n",
        "    if current_sentence:\n",
        "        sentences.append(current_sentence.strip())\n",
        "    return sentences\n",
        "\n",
        "def split_sentences_and_filter_sentiment(text):\n",
        "    # Initialize SentimentIntensityAnalyzer\n",
        "    sia = SentimentIntensityAnalyzer()\n",
        "\n",
        "    # Tách đoạn văn thành các câu nhỏ\n",
        "    # sentences = nltk.sent_tokenize(text)\n",
        "    sentences = seperate_sentences(text)\n",
        "    if len(sentences) == 1 and not re.search(r'[.!?]', text):\n",
        "        sentences = [text]\n",
        "    # print(sentences)\n",
        "    # Lọc các câu không chứa bất kỳ từ miêu tả cảm xúc nào\n",
        "    filtered_sentences = []\n",
        "    for sentence in sentences:\n",
        "        # print(\"---- sentence ------\")\n",
        "        if not sentence.strip():\n",
        "            continue\n",
        "        sentence = sentence.strip()\n",
        "        words = nltk.word_tokenize(sentence)\n",
        "        \n",
        "        # for word in words:\n",
        "        #     if(sia.polarity_scores(word)['compound'] != 0 ):\n",
        "        #         print(word, \":\", sia.polarity_scores(word)['compound'])\n",
        "\n",
        "        contains_sentiment = (any(sia.polarity_scores(word)['compound'] != 0 for word in words) or \n",
        "                              any(word.lower() in pos_words or word.lower() in neg_words for word in words))\n",
        "        for word in words:\n",
        "            if(word.lower() in brands):\n",
        "                contains_sentiment = False\n",
        "        # Flair\n",
        "        \n",
        "        sentence_flair = Sentence(sentence)\n",
        "        tagger.predict(sentence_flair)\n",
        "        # print(sentence_flair.tokens)\n",
        "        is_a = False\n",
        "        for token in sentence_flair.tokens:\n",
        "            for label in token.get_labels('pos'):\n",
        "                if label.value in a:\n",
        "                    # print(token, label.value)\n",
        "                    is_a = True\n",
        "                    break\n",
        "        for word in words:\n",
        "            if(word.lower() in brands):\n",
        "                contains_sentiment = False\n",
        "                is_a = False\n",
        "        #--------------\n",
        "        if contains_sentiment:\n",
        "            filtered_sentences.append(sentence)\n",
        "        elif is_a:\n",
        "            filtered_sentences.append(sentence)\n",
        "        else:\n",
        "            print(\"remove: \", sentence)\n",
        "            # print(evaluate_sentiment_flair(sentence))\n",
        "        # print(\"---- end sentence ------\")\n",
        "    # Thêm câu vào danh sách nếu không có câu nào chứa từ miêu tả cảm xúc\n",
        "    if not filtered_sentences:\n",
        "        filtered_sentences = [\"\"]\n",
        "    # print(filtered_sentences)\n",
        "    return filtered_sentences"
      ]
    },
    {
      "cell_type": "code",
      "execution_count": 9,
      "metadata": {},
      "outputs": [
        {
          "name": "stderr",
          "output_type": "stream",
          "text": [
            "/home/triet/ComputerScience_K32/Recommendation_System/DeepCGSR_triet/.venv/lib/python3.11/site-packages/torch/_utils.py:831: UserWarning: TypedStorage is deprecated. It will be removed in the future and UntypedStorage will be the only storage class. This should only matter to you if you are using storages directly.  To access UntypedStorage directly, use tensor.untyped_storage() instead of tensor.storage()\n",
            "  return self.fget.__get__(instance, owner)()\n"
          ]
        }
      ],
      "source": [
        "from transformers import BertTokenizer, BertForSequenceClassification\n",
        "from torch.nn.functional import softmax\n",
        "import torch\n",
        "\n",
        "# Load pre-trained model and tokenizer for Amazon reviews\n",
        "model_name = 'nlptown/bert-base-multilingual-uncased-sentiment'  # Example model, you can choose other pre-trained models\n",
        "tokenizer = BertTokenizer.from_pretrained(model_name)\n",
        "model = BertForSequenceClassification.from_pretrained(model_name)"
      ]
    },
    {
      "cell_type": "code",
      "execution_count": 80,
      "metadata": {},
      "outputs": [
        {
          "name": "stdout",
          "output_type": "stream",
          "text": [
            "[Token[0]: \"Luv\" → NNP (0.9986), Token[1]: \"this\" → DT (1.0), Token[2]: \"song\" → NN (0.9983), Token[3]: \"!\" → . (0.9984), Token[4]: \"!\" → . (0.9767)]\n",
            "Sentence[5]: \"Luv this song ! !\" → POSITIVE (0.9994)\n",
            "Luv this song ! ! 0.9994039535522461\n",
            "0.9994039535522461\n",
            "Result: 1\n"
          ]
        }
      ],
      "source": [
        "from sklearn.preprocessing import MinMaxScaler\n",
        "import numpy as np\n",
        "\n",
        "predictRating = []\n",
        "text = \"Luv this song!!\"\n",
        "# text = remove_stopwords(text)\n",
        "\n",
        "\n",
        "sentences = split_sentences_and_filter_sentiment(text)\n",
        "total_sentiment = 0\n",
        "for sentence in sentences:\n",
        "    # sentence = remove_stopwords(sentence)\n",
        "    score = sentiment_analysis_flair(sentence)\n",
        "    print(sentence, score)\n",
        "    total_sentiment += score\n",
        "    # print(total_sentiment)\n",
        "print(total_sentiment)\n",
        "if total_sentiment > 0.0:\n",
        "    predictRating.append(1)\n",
        "    print(\"Result: 1\")\n",
        "else:\n",
        "    predictRating.append(-1)\n",
        "    print(\"Result: -1\")"
      ]
    },
    {
      "cell_type": "code",
      "execution_count": 10,
      "metadata": {},
      "outputs": [
        {
          "name": "stderr",
          "output_type": "stream",
          "text": [
            "Processing:   0%|          | 8/10000 [00:26<10:05:26,  3.64s/it]"
          ]
        },
        {
          "name": "stdout",
          "output_type": "stream",
          "text": [
            "remove:  In the 1970 - 80s era , they embodied an aspect of rock alongside the Who , the Stones and the others .\n",
            "remove:  It begins : \n",
            "\n",
            " Beth , I hear you callin '\n"
          ]
        },
        {
          "name": "stderr",
          "output_type": "stream",
          "text": [
            "Processing:   0%|          | 13/10000 [01:28<17:23:51,  6.27s/it]"
          ]
        },
        {
          "name": "stdout",
          "output_type": "stream",
          "text": [
            "remove:  This was the way my hubbie and i were .\n"
          ]
        },
        {
          "name": "stderr",
          "output_type": "stream",
          "text": [
            "Processing:   0%|          | 14/10000 [01:33<16:09:32,  5.83s/it]"
          ]
        },
        {
          "name": "stdout",
          "output_type": "stream",
          "text": [
            "remove:  .\n"
          ]
        },
        {
          "name": "stderr",
          "output_type": "stream",
          "text": [
            "Processing:   0%|          | 32/10000 [03:42<20:57:17,  7.57s/it]"
          ]
        },
        {
          "name": "stdout",
          "output_type": "stream",
          "text": [
            "remove:  it 's an Mp3 download .\n",
            "remove:  It downloaded , I listened to it , end of story .\n"
          ]
        },
        {
          "name": "stderr",
          "output_type": "stream",
          "text": [
            "Processing:   1%|          | 61/10000 [06:40<14:31:15,  5.26s/it]"
          ]
        },
        {
          "name": "stdout",
          "output_type": "stream",
          "text": [
            "remove:  Rock and Roll Lives On !\n"
          ]
        },
        {
          "name": "stderr",
          "output_type": "stream",
          "text": [
            "Processing:   1%|          | 63/10000 [06:53<17:42:38,  6.42s/it]"
          ]
        },
        {
          "name": "stdout",
          "output_type": "stream",
          "text": [
            "remove:  That is all .\n"
          ]
        },
        {
          "name": "stderr",
          "output_type": "stream",
          "text": [
            "Processing:   1%|          | 69/10000 [07:47<26:29:14,  9.60s/it]"
          ]
        },
        {
          "name": "stdout",
          "output_type": "stream",
          "text": [
            "remove:  ' Nuff said .\n"
          ]
        },
        {
          "name": "stderr",
          "output_type": "stream",
          "text": [
            "Processing:   1%|          | 70/10000 [08:10<36:59:05, 13.41s/it]"
          ]
        },
        {
          "name": "stdout",
          "output_type": "stream",
          "text": [
            "remove:  Beats \" Barney Miller \" by a mile !\n",
            "remove:  Groovyville !\n",
            "remove:  Go , daddy , go ! !\n"
          ]
        },
        {
          "name": "stderr",
          "output_type": "stream",
          "text": [
            "Processing:   1%|          | 73/10000 [08:16<16:40:11,  6.05s/it]"
          ]
        },
        {
          "name": "stdout",
          "output_type": "stream",
          "text": [
            "remove:  Everybody should listen to the lyrics !\n"
          ]
        },
        {
          "name": "stderr",
          "output_type": "stream",
          "text": [
            "Processing:   1%|          | 74/10000 [08:31<23:35:22,  8.56s/it]"
          ]
        },
        {
          "name": "stdout",
          "output_type": "stream",
          "text": [
            "remove:  YOU GO BOY ,\n"
          ]
        },
        {
          "name": "stderr",
          "output_type": "stream",
          "text": [
            "Processing:   1%|          | 79/10000 [09:09<25:25:43,  9.23s/it]"
          ]
        },
        {
          "name": "stdout",
          "output_type": "stream",
          "text": [
            "remove:  Whatcha gon na do ?\n",
            "remove:  You know the song !\n",
            "remove:  Either one of these give you answers you can use ...\n"
          ]
        },
        {
          "name": "stderr",
          "output_type": "stream",
          "text": [
            "Processing:   1%|          | 86/10000 [10:16<14:14:49,  5.17s/it]"
          ]
        },
        {
          "name": "stdout",
          "output_type": "stream",
          "text": [
            "remove:  For my MP3 player\n"
          ]
        },
        {
          "name": "stderr",
          "output_type": "stream",
          "text": [
            "Processing:   1%|          | 93/10000 [10:32<7:25:49,  2.70s/it] "
          ]
        },
        {
          "name": "stdout",
          "output_type": "stream",
          "text": [
            "remove:  I think\n"
          ]
        },
        {
          "name": "stderr",
          "output_type": "stream",
          "text": [
            "Processing:   1%|          | 99/10000 [10:54<11:19:17,  4.12s/it]"
          ]
        },
        {
          "name": "stdout",
          "output_type": "stream",
          "text": [
            "remove:  Give them a listen .\n"
          ]
        },
        {
          "name": "stderr",
          "output_type": "stream",
          "text": [
            "Processing:   1%|          | 113/10000 [11:59<6:57:54,  2.54s/it] "
          ]
        },
        {
          "name": "stdout",
          "output_type": "stream",
          "text": [
            "remove:  I remember this song from my childhood .\n"
          ]
        },
        {
          "name": "stderr",
          "output_type": "stream",
          "text": [
            "Processing:   1%|          | 114/10000 [12:08<11:43:52,  4.27s/it]"
          ]
        },
        {
          "name": "stdout",
          "output_type": "stream",
          "text": [
            "remove:  Stuff that brought back memories ...\n"
          ]
        },
        {
          "name": "stderr",
          "output_type": "stream",
          "text": [
            "Processing:   1%|          | 117/10000 [12:14<7:28:48,  2.72s/it] "
          ]
        },
        {
          "name": "stdout",
          "output_type": "stream",
          "text": [
            "remove:  This is one of them .\n"
          ]
        },
        {
          "name": "stderr",
          "output_type": "stream",
          "text": [
            "Processing:   1%|          | 121/10000 [12:23<6:45:16,  2.46s/it]"
          ]
        },
        {
          "name": "stdout",
          "output_type": "stream",
          "text": [
            "remove:  How do you rate music ...\n"
          ]
        },
        {
          "name": "stderr",
          "output_type": "stream",
          "text": [
            "Processing:   1%|▏         | 126/10000 [12:42<8:52:25,  3.24s/it] "
          ]
        },
        {
          "name": "stdout",
          "output_type": "stream",
          "text": [
            "remove:  What can I say about Sheryl Crow ?\n"
          ]
        },
        {
          "name": "stderr",
          "output_type": "stream",
          "text": [
            "Processing:   1%|▏         | 128/10000 [13:07<20:59:01,  7.65s/it]"
          ]
        },
        {
          "name": "stdout",
          "output_type": "stream",
          "text": [
            "remove:  What can I say ?\n"
          ]
        },
        {
          "name": "stderr",
          "output_type": "stream",
          "text": [
            "Processing:   1%|▏         | 130/10000 [13:14<14:34:19,  5.32s/it]"
          ]
        },
        {
          "name": "stdout",
          "output_type": "stream",
          "text": [
            "remove:  is a song I purchased through the MP3 download process .\n"
          ]
        },
        {
          "name": "stderr",
          "output_type": "stream",
          "text": [
            "Processing:   1%|▏         | 135/10000 [13:28<6:35:25,  2.41s/it] "
          ]
        },
        {
          "name": "stdout",
          "output_type": "stream",
          "text": [
            "remove:  family member downloaded for their mp3\n"
          ]
        },
        {
          "name": "stderr",
          "output_type": "stream",
          "text": [
            "Processing:   1%|▏         | 139/10000 [14:08<23:44:32,  8.67s/it]"
          ]
        },
        {
          "name": "stdout",
          "output_type": "stream",
          "text": [
            "remove:  John\n"
          ]
        },
        {
          "name": "stderr",
          "output_type": "stream",
          "text": [
            "Processing:   1%|▏         | 141/10000 [14:32<29:21:54, 10.72s/it]"
          ]
        },
        {
          "name": "stdout",
          "output_type": "stream",
          "text": [
            "remove:  It 's a song I listen to before bed , although with others .\n"
          ]
        },
        {
          "name": "stderr",
          "output_type": "stream",
          "text": [
            "Processing:   1%|▏         | 142/10000 [14:44<29:45:14, 10.87s/it]"
          ]
        },
        {
          "name": "stdout",
          "output_type": "stream",
          "text": [
            "remove:  YA !\n"
          ]
        },
        {
          "name": "stderr",
          "output_type": "stream",
          "text": [
            "Processing:   1%|▏         | 146/10000 [15:36<44:30:12, 16.26s/it]"
          ]
        },
        {
          "name": "stdout",
          "output_type": "stream",
          "text": [
            "remove:  Cheek to Cheek ...\n",
            "remove:  Decisions , Decisions ...\n",
            "remove:  The Drama Summer ...\n",
            "remove:  This ride ...\n"
          ]
        },
        {
          "name": "stderr",
          "output_type": "stream",
          "text": [
            "Processing:   1%|▏         | 147/10000 [16:28<73:43:48, 26.94s/it]"
          ]
        },
        {
          "name": "stdout",
          "output_type": "stream",
          "text": [
            "remove:  and\n"
          ]
        },
        {
          "name": "stderr",
          "output_type": "stream",
          "text": [
            "Processing:   1%|▏         | 148/10000 [16:44<64:54:35, 23.72s/it]"
          ]
        },
        {
          "name": "stdout",
          "output_type": "stream",
          "text": [
            "remove:  This is one of my faves\n"
          ]
        },
        {
          "name": "stderr",
          "output_type": "stream",
          "text": [
            "Processing:   2%|▏         | 159/10000 [17:29<13:21:10,  4.88s/it]"
          ]
        },
        {
          "name": "stdout",
          "output_type": "stream",
          "text": [
            "remove:  Song : B 1/2 +\n"
          ]
        },
        {
          "name": "stderr",
          "output_type": "stream",
          "text": [
            "Processing:   2%|▏         | 168/10000 [18:18<7:06:06,  2.60s/it] "
          ]
        },
        {
          "name": "stdout",
          "output_type": "stream",
          "text": [
            "remove:  What can I say ?\n",
            "remove:  I was born in the 70 's !\n"
          ]
        },
        {
          "name": "stderr",
          "output_type": "stream",
          "text": [
            "Processing:   2%|▏         | 171/10000 [18:57<21:23:55,  7.84s/it]"
          ]
        },
        {
          "name": "stdout",
          "output_type": "stream",
          "text": [
            "remove:  Touching message .\n"
          ]
        },
        {
          "name": "stderr",
          "output_type": "stream",
          "text": [
            "Processing:   2%|▏         | 178/10000 [19:11<6:13:29,  2.28s/it] "
          ]
        },
        {
          "name": "stdout",
          "output_type": "stream",
          "text": [
            "remove:  I\n"
          ]
        },
        {
          "name": "stderr",
          "output_type": "stream",
          "text": [
            "Processing:   2%|▏         | 190/10000 [19:53<10:45:14,  3.95s/it]"
          ]
        },
        {
          "name": "stdout",
          "output_type": "stream",
          "text": [
            "remove:  Had to have it .\n"
          ]
        },
        {
          "name": "stderr",
          "output_type": "stream",
          "text": [
            "Processing:   2%|▏         | 191/10000 [20:09<19:07:51,  7.02s/it]"
          ]
        },
        {
          "name": "stdout",
          "output_type": "stream",
          "text": [
            "remove:  This song was made during the \" bass synthesizer \" era of dance / funk .\n"
          ]
        },
        {
          "name": "stderr",
          "output_type": "stream",
          "text": [
            "Processing:   2%|▏         | 196/10000 [20:49<21:47:19,  8.00s/it]"
          ]
        },
        {
          "name": "stdout",
          "output_type": "stream",
          "text": [
            "remove:  Whaaaat ? ( minion immitation )\n"
          ]
        },
        {
          "name": "stderr",
          "output_type": "stream",
          "text": [
            "Processing:   2%|▏         | 205/10000 [21:40<8:53:08,  3.27s/it] "
          ]
        },
        {
          "name": "stdout",
          "output_type": "stream",
          "text": [
            "remove:  The 80's personified\n"
          ]
        },
        {
          "name": "stderr",
          "output_type": "stream",
          "text": [
            "Processing:   2%|▏         | 213/10000 [22:11<12:25:52,  4.57s/it]"
          ]
        },
        {
          "name": "stdout",
          "output_type": "stream",
          "text": [
            "remove:  I listen to it all the time .\n"
          ]
        },
        {
          "name": "stderr",
          "output_type": "stream",
          "text": [
            "Processing:   2%|▏         | 229/10000 [23:31<8:19:13,  3.07s/it] "
          ]
        },
        {
          "name": "stdout",
          "output_type": "stream",
          "text": [
            "remove:  aaa\n"
          ]
        },
        {
          "name": "stderr",
          "output_type": "stream",
          "text": [
            "Processing:   2%|▏         | 231/10000 [23:32<5:34:56,  2.06s/it]"
          ]
        },
        {
          "name": "stdout",
          "output_type": "stream",
          "text": [
            "remove:  Browsing through iTunes , I came across her in the movie CHICAGO .\n",
            "remove:  Her ?\n",
            "remove:  Buy , borrow , download , whatever -- but listen to it .\n"
          ]
        },
        {
          "name": "stderr",
          "output_type": "stream",
          "text": [
            "Processing:   2%|▏         | 242/10000 [24:55<14:03:50,  5.19s/it]"
          ]
        },
        {
          "name": "stdout",
          "output_type": "stream",
          "text": [
            "remove:  a\n"
          ]
        },
        {
          "name": "stderr",
          "output_type": "stream",
          "text": [
            "Processing:   2%|▏         | 246/10000 [25:08<9:09:08,  3.38s/it] "
          ]
        },
        {
          "name": "stdout",
          "output_type": "stream",
          "text": [
            "remove:  Had to add this to my Mix Tape II .\n"
          ]
        },
        {
          "name": "stderr",
          "output_type": "stream",
          "text": [
            "Processing:   3%|▎         | 261/10000 [25:49<8:47:14,  3.25s/it]"
          ]
        },
        {
          "name": "stdout",
          "output_type": "stream",
          "text": [
            "remove:  What can I say ?\n"
          ]
        },
        {
          "name": "stderr",
          "output_type": "stream",
          "text": [
            "Processing:   3%|▎         | 275/10000 [27:18<19:31:49,  7.23s/it]"
          ]
        },
        {
          "name": "stdout",
          "output_type": "stream",
          "text": [
            "remove:  It gets me every time I hear it .\n"
          ]
        },
        {
          "name": "stderr",
          "output_type": "stream",
          "text": [
            "Processing:   3%|▎         | 277/10000 [27:25<14:14:37,  5.27s/it]"
          ]
        },
        {
          "name": "stdout",
          "output_type": "stream",
          "text": [
            "remove:  anyways ... yea ,\n"
          ]
        },
        {
          "name": "stderr",
          "output_type": "stream",
          "text": [
            "Processing:   3%|▎         | 288/10000 [27:53<3:32:28,  1.31s/it] "
          ]
        },
        {
          "name": "stdout",
          "output_type": "stream",
          "text": [
            "remove:  quality sound\n",
            "remove:  A must have !\n"
          ]
        },
        {
          "name": "stderr",
          "output_type": "stream",
          "text": [
            "Processing:   3%|▎         | 291/10000 [28:07<9:30:45,  3.53s/it]"
          ]
        },
        {
          "name": "stdout",
          "output_type": "stream",
          "text": [
            "remove:  Rock on Tom .\n"
          ]
        },
        {
          "name": "stderr",
          "output_type": "stream",
          "text": [
            "Processing:   3%|▎         | 296/10000 [28:24<6:44:11,  2.50s/it] "
          ]
        },
        {
          "name": "stdout",
          "output_type": "stream",
          "text": [
            "remove:  An oldie but a goodie !\n"
          ]
        },
        {
          "name": "stderr",
          "output_type": "stream",
          "text": [
            "Processing:   3%|▎         | 312/10000 [29:18<7:35:37,  2.82s/it] "
          ]
        },
        {
          "name": "stdout",
          "output_type": "stream",
          "text": [
            "remove:  This is another song I added to my workout music mix .\n"
          ]
        },
        {
          "name": "stderr",
          "output_type": "stream",
          "text": [
            "Processing:   3%|▎         | 321/10000 [29:48<11:36:56,  4.32s/it]"
          ]
        },
        {
          "name": "stdout",
          "output_type": "stream",
          "text": [
            "remove:  A must have ! !\n"
          ]
        },
        {
          "name": "stderr",
          "output_type": "stream",
          "text": [
            "Processing:   3%|▎         | 325/10000 [30:20<19:46:47,  7.36s/it]"
          ]
        },
        {
          "name": "stdout",
          "output_type": "stream",
          "text": [
            "remove:  You were used , man .\n"
          ]
        },
        {
          "name": "stderr",
          "output_type": "stream",
          "text": [
            "Processing:   3%|▎         | 327/10000 [30:39<21:12:45,  7.89s/it]"
          ]
        },
        {
          "name": "stdout",
          "output_type": "stream",
          "text": [
            "remove:  Sandra K.\n"
          ]
        },
        {
          "name": "stderr",
          "output_type": "stream",
          "text": [
            "Processing:   3%|▎         | 343/10000 [31:46<10:57:19,  4.08s/it]"
          ]
        },
        {
          "name": "stdout",
          "output_type": "stream",
          "text": [
            "remove:  I dunno .\n",
            "remove:  Sultry .\n",
            "remove:  Cat\n"
          ]
        },
        {
          "name": "stderr",
          "output_type": "stream",
          "text": [
            "Processing:   3%|▎         | 344/10000 [32:13<29:21:08, 10.94s/it]"
          ]
        },
        {
          "name": "stdout",
          "output_type": "stream",
          "text": [
            "remove:  Song : B \n",
            "\n",
            " Chris Cornell : 1964 - 2017\n"
          ]
        },
        {
          "name": "stderr",
          "output_type": "stream",
          "text": [
            "Processing:   4%|▎         | 350/10000 [32:50<10:49:18,  4.04s/it]"
          ]
        },
        {
          "name": "stdout",
          "output_type": "stream",
          "text": [
            "remove:  It is one of the decades signature tunes by one of the era 's signature bands .\n"
          ]
        },
        {
          "name": "stderr",
          "output_type": "stream",
          "text": [
            "Processing:   4%|▎         | 351/10000 [32:59<15:02:18,  5.61s/it]"
          ]
        },
        {
          "name": "stdout",
          "output_type": "stream",
          "text": [
            "remove:  One for the repeat button .\n",
            "remove:  4.5 stars or a 9/10 .\n"
          ]
        },
        {
          "name": "stderr",
          "output_type": "stream",
          "text": [
            "Processing:   4%|▎         | 353/10000 [33:21<19:46:37,  7.38s/it]"
          ]
        },
        {
          "name": "stdout",
          "output_type": "stream",
          "text": [
            "remove:  Item delivered on time , was as described .\n"
          ]
        },
        {
          "name": "stderr",
          "output_type": "stream",
          "text": [
            "Processing:   4%|▎         | 356/10000 [33:26<9:36:40,  3.59s/it] "
          ]
        },
        {
          "name": "stdout",
          "output_type": "stream",
          "text": [
            "remove:  How do you rate music ...\n"
          ]
        },
        {
          "name": "stderr",
          "output_type": "stream",
          "text": [
            "Processing:   4%|▎         | 363/10000 [33:37<4:51:29,  1.81s/it]"
          ]
        },
        {
          "name": "stdout",
          "output_type": "stream",
          "text": [
            "remove:  :)\n"
          ]
        },
        {
          "name": "stderr",
          "output_type": "stream",
          "text": [
            "Processing:   4%|▎         | 366/10000 [33:44<6:21:45,  2.38s/it]"
          ]
        },
        {
          "name": "stdout",
          "output_type": "stream",
          "text": [
            "remove:  ... was used as the theme for one of our proms .\n"
          ]
        },
        {
          "name": "stderr",
          "output_type": "stream",
          "text": [
            "Processing:   4%|▎         | 368/10000 [33:54<9:43:10,  3.63s/it]"
          ]
        },
        {
          "name": "stdout",
          "output_type": "stream",
          "text": [
            "remove:  Did it ! ! !\n"
          ]
        },
        {
          "name": "stderr",
          "output_type": "stream",
          "text": [
            "Processing:   4%|▎         | 372/10000 [33:59<5:32:53,  2.07s/it]"
          ]
        },
        {
          "name": "stdout",
          "output_type": "stream",
          "text": [
            "remove:  Where 's my tambourine ?\n"
          ]
        },
        {
          "name": "stderr",
          "output_type": "stream",
          "text": [
            "Processing:   4%|▍         | 383/10000 [34:56<8:56:38,  3.35s/it] "
          ]
        },
        {
          "name": "stdout",
          "output_type": "stream",
          "text": [
            "remove:  as advertised\n",
            "remove:  Sing to it all the time .\n"
          ]
        },
        {
          "name": "stderr",
          "output_type": "stream",
          "text": [
            "Processing:   4%|▍         | 400/10000 [35:53<12:34:59,  4.72s/it]"
          ]
        },
        {
          "name": "stdout",
          "output_type": "stream",
          "text": [
            "remove:  bringing aloha and island life in california .\n",
            "remove:  roots reggae and island music is where it is at in north cali .\n",
            "remove:  joh mon !\n"
          ]
        },
        {
          "name": "stderr",
          "output_type": "stream",
          "text": [
            "Processing:   4%|▍         | 405/10000 [36:22<14:18:56,  5.37s/it]"
          ]
        },
        {
          "name": "stdout",
          "output_type": "stream",
          "text": [
            "remove:  Stephanie makes us all think about home .\n",
            "remove:  www.reverbnation.com/kmille1\n"
          ]
        },
        {
          "name": "stderr",
          "output_type": "stream",
          "text": [
            "Processing:   4%|▍         | 408/10000 [36:32<9:45:12,  3.66s/it] "
          ]
        },
        {
          "name": "stdout",
          "output_type": "stream",
          "text": [
            "remove:  MoonBee\n"
          ]
        },
        {
          "name": "stderr",
          "output_type": "stream",
          "text": [
            "Processing:   4%|▍         | 414/10000 [37:08<13:30:44,  5.07s/it]"
          ]
        },
        {
          "name": "stdout",
          "output_type": "stream",
          "text": [
            "remove:  He vibrato is her signature .\n"
          ]
        },
        {
          "name": "stderr",
          "output_type": "stream",
          "text": [
            "Processing:   4%|▍         | 415/10000 [37:18<16:43:52,  6.28s/it]"
          ]
        },
        {
          "name": "stdout",
          "output_type": "stream",
          "text": [
            "remove:  Everytime I hear it\n"
          ]
        },
        {
          "name": "stderr",
          "output_type": "stream",
          "text": [
            "Processing:   4%|▍         | 417/10000 [37:41<21:43:42,  8.16s/it]"
          ]
        },
        {
          "name": "stdout",
          "output_type": "stream",
          "text": [
            "remove:  Set the tone for my childhood .\n"
          ]
        },
        {
          "name": "stderr",
          "output_type": "stream",
          "text": [
            "Processing:   4%|▍         | 436/10000 [38:54<15:42:40,  5.91s/it]"
          ]
        },
        {
          "name": "stdout",
          "output_type": "stream",
          "text": [
            "remove:  $ .69 price ?\n",
            "remove:  Done .\n"
          ]
        },
        {
          "name": "stderr",
          "output_type": "stream",
          "text": [
            "Processing:   4%|▍         | 437/10000 [38:58<13:55:55,  5.24s/it]"
          ]
        },
        {
          "name": "stdout",
          "output_type": "stream",
          "text": [
            "remove:  Song : B+\n"
          ]
        },
        {
          "name": "stderr",
          "output_type": "stream",
          "text": [
            "Processing:   4%|▍         | 443/10000 [39:53<16:18:07,  6.14s/it]"
          ]
        },
        {
          "name": "stdout",
          "output_type": "stream",
          "text": [
            "remove:  I think\n"
          ]
        },
        {
          "name": "stderr",
          "output_type": "stream",
          "text": [
            "Processing:   4%|▍         | 449/10000 [40:14<10:07:19,  3.82s/it]"
          ]
        },
        {
          "name": "stdout",
          "output_type": "stream",
          "text": [
            "remove:  Now , it 's part of my library .\n"
          ]
        },
        {
          "name": "stderr",
          "output_type": "stream",
          "text": [
            "Processing:   5%|▍         | 459/10000 [41:13<12:02:17,  4.54s/it]"
          ]
        },
        {
          "name": "stdout",
          "output_type": "stream",
          "text": [
            "remove:  family member downloaded for their mp3\n",
            "remove:  My husband and I listened to this song when we were dating in 1971 .\n"
          ]
        },
        {
          "name": "stderr",
          "output_type": "stream",
          "text": [
            "Processing:   5%|▍         | 472/10000 [43:05<24:33:44,  9.28s/it]"
          ]
        },
        {
          "name": "stdout",
          "output_type": "stream",
          "text": [
            "remove:  My band .\n"
          ]
        },
        {
          "name": "stderr",
          "output_type": "stream",
          "text": [
            "Processing:   5%|▍         | 480/10000 [43:42<12:06:10,  4.58s/it]"
          ]
        },
        {
          "name": "stdout",
          "output_type": "stream",
          "text": [
            "remove:  Mama Told Me is the center of their rocking .\n"
          ]
        },
        {
          "name": "stderr",
          "output_type": "stream",
          "text": [
            "Processing:   5%|▍         | 481/10000 [43:46<11:37:54,  4.40s/it]"
          ]
        },
        {
          "name": "stdout",
          "output_type": "stream",
          "text": [
            "remove:  A group and a song for the times .\n"
          ]
        },
        {
          "name": "stderr",
          "output_type": "stream",
          "text": [
            "Processing:   5%|▍         | 486/10000 [44:09<11:34:23,  4.38s/it]"
          ]
        },
        {
          "name": "stdout",
          "output_type": "stream",
          "text": [
            "remove:  Had to have .\n"
          ]
        },
        {
          "name": "stderr",
          "output_type": "stream",
          "text": [
            "Processing:   5%|▍         | 490/10000 [44:29<14:20:12,  5.43s/it]"
          ]
        },
        {
          "name": "stdout",
          "output_type": "stream",
          "text": [
            "remove:  Would suggest this to all listeners\n"
          ]
        },
        {
          "name": "stderr",
          "output_type": "stream",
          "text": [
            "Processing:   5%|▍         | 498/10000 [45:46<30:36:12, 11.59s/it]"
          ]
        },
        {
          "name": "stdout",
          "output_type": "stream",
          "text": [
            "remove:  :)\n",
            "remove:  :)\n"
          ]
        },
        {
          "name": "stderr",
          "output_type": "stream",
          "text": [
            "Processing:   5%|▌         | 503/10000 [46:11<17:31:11,  6.64s/it]"
          ]
        },
        {
          "name": "stdout",
          "output_type": "stream",
          "text": [
            "remove:  i have nothing against Rusted Root\n"
          ]
        },
        {
          "name": "stderr",
          "output_type": "stream",
          "text": [
            "Processing:   5%|▌         | 508/10000 [46:55<24:31:20,  9.30s/it]"
          ]
        },
        {
          "name": "stdout",
          "output_type": "stream",
          "text": [
            "remove:  The music stirs one 's soul .\n"
          ]
        },
        {
          "name": "stderr",
          "output_type": "stream",
          "text": [
            "Processing:   5%|▌         | 511/10000 [47:05<15:28:51,  5.87s/it]"
          ]
        },
        {
          "name": "stdout",
          "output_type": "stream",
          "text": [
            "remove:  How do I describer this ?\n",
            "remove:  moment .\n"
          ]
        },
        {
          "name": "stderr",
          "output_type": "stream",
          "text": [
            "Processing:   5%|▌         | 530/10000 [48:54<6:34:25,  2.50s/it] "
          ]
        },
        {
          "name": "stdout",
          "output_type": "stream",
          "text": [
            "remove:  Heard it on television for the motorcycle insurance .\n",
            "remove:  Got hooked on it .\n",
            "remove:  Made it a ringtone for my phone .\n"
          ]
        },
        {
          "name": "stderr",
          "output_type": "stream",
          "text": [
            "Processing:   5%|▌         | 540/10000 [49:34<11:14:34,  4.28s/it]"
          ]
        },
        {
          "name": "stdout",
          "output_type": "stream",
          "text": [
            "remove:  Its one of those songs people say ...\n",
            "remove:  what is it ?\n"
          ]
        },
        {
          "name": "stderr",
          "output_type": "stream",
          "text": [
            "Processing:   5%|▌         | 542/10000 [49:45<12:43:30,  4.84s/it]"
          ]
        },
        {
          "name": "stdout",
          "output_type": "stream",
          "text": [
            "remove:  Moral of the story ?\n"
          ]
        },
        {
          "name": "stderr",
          "output_type": "stream",
          "text": [
            "Processing:   5%|▌         | 547/10000 [50:19<14:55:32,  5.68s/it]"
          ]
        },
        {
          "name": "stdout",
          "output_type": "stream",
          "text": [
            "remove:  It 's a song .\n"
          ]
        },
        {
          "name": "stderr",
          "output_type": "stream",
          "text": [
            "Processing:   5%|▌         | 549/10000 [50:30<14:46:44,  5.63s/it]"
          ]
        },
        {
          "name": "stdout",
          "output_type": "stream",
          "text": [
            "remove:  Rock the way it was meant to be .\n"
          ]
        },
        {
          "name": "stderr",
          "output_type": "stream",
          "text": [
            "Processing:   6%|▌         | 551/10000 [50:40<13:47:26,  5.25s/it]"
          ]
        },
        {
          "name": "stdout",
          "output_type": "stream",
          "text": [
            "remove:  3 Dog Night .\n"
          ]
        },
        {
          "name": "stderr",
          "output_type": "stream",
          "text": [
            "Processing:   6%|▌         | 579/10000 [52:07<6:31:51,  2.50s/it] "
          ]
        },
        {
          "name": "stdout",
          "output_type": "stream",
          "text": [
            "remove:  The one I was looking for .\n"
          ]
        },
        {
          "name": "stderr",
          "output_type": "stream",
          "text": [
            "Processing:   6%|▌         | 585/10000 [52:33<11:49:01,  4.52s/it]"
          ]
        },
        {
          "name": "stdout",
          "output_type": "stream",
          "text": [
            "remove:  Another kick butt song .\n"
          ]
        },
        {
          "name": "stderr",
          "output_type": "stream",
          "text": [
            "Processing:   6%|▌         | 588/10000 [52:54<15:48:29,  6.05s/it]"
          ]
        },
        {
          "name": "stdout",
          "output_type": "stream",
          "text": [
            "remove:  The song tells his story .\n"
          ]
        },
        {
          "name": "stderr",
          "output_type": "stream",
          "text": [
            "Processing:   6%|▌         | 600/10000 [53:55<13:46:03,  5.27s/it]"
          ]
        },
        {
          "name": "stdout",
          "output_type": "stream",
          "text": [
            "remove:  Must buy and a must have .\n",
            "remove:  E\n"
          ]
        },
        {
          "name": "stderr",
          "output_type": "stream",
          "text": [
            "Processing:   6%|▌         | 602/10000 [54:10<15:58:27,  6.12s/it]"
          ]
        },
        {
          "name": "stdout",
          "output_type": "stream",
          "text": [
            "remove:  This combo of the two songs was the version I 'd been looking for .\n"
          ]
        },
        {
          "name": "stderr",
          "output_type": "stream",
          "text": [
            "Processing:   6%|▌         | 618/10000 [55:34<18:59:51,  7.29s/it]"
          ]
        },
        {
          "name": "stdout",
          "output_type": "stream",
          "text": [
            "remove:  Bridge :\n",
            "remove:  In the middle , are they saying , \" Gent 's room , \" or , \" Gas .\n",
            "remove:  Chorus : I have 8 words for you .\n"
          ]
        },
        {
          "name": "stderr",
          "output_type": "stream",
          "text": [
            "Processing:   6%|▌         | 619/10000 [55:53<28:11:12, 10.82s/it]"
          ]
        },
        {
          "name": "stdout",
          "output_type": "stream",
          "text": [
            "remove:  Listen to this every Christmas since I bought it .\n"
          ]
        },
        {
          "name": "stderr",
          "output_type": "stream",
          "text": [
            "Processing:   7%|▋         | 669/10000 [59:41<19:32:29,  7.54s/it]"
          ]
        },
        {
          "name": "stdout",
          "output_type": "stream",
          "text": [
            "remove:  5 stars\n"
          ]
        },
        {
          "name": "stderr",
          "output_type": "stream",
          "text": [
            "Processing:   7%|▋         | 673/10000 [59:55<11:27:03,  4.42s/it]"
          ]
        },
        {
          "name": "stdout",
          "output_type": "stream",
          "text": [
            "remove:  That s saying something .\n"
          ]
        },
        {
          "name": "stderr",
          "output_type": "stream",
          "text": [
            "Processing:   7%|▋         | 690/10000 [1:01:03<16:12:43,  6.27s/it]"
          ]
        },
        {
          "name": "stdout",
          "output_type": "stream",
          "text": [
            "remove:  Check it out !\n"
          ]
        },
        {
          "name": "stderr",
          "output_type": "stream",
          "text": [
            "Processing:   7%|▋         | 692/10000 [1:01:10<12:41:00,  4.91s/it]"
          ]
        },
        {
          "name": "stdout",
          "output_type": "stream",
          "text": [
            "remove:  What a performance !\n"
          ]
        },
        {
          "name": "stderr",
          "output_type": "stream",
          "text": [
            "Processing:   7%|▋         | 705/10000 [1:02:52<15:06:23,  5.85s/it]"
          ]
        },
        {
          "name": "stdout",
          "output_type": "stream",
          "text": [
            "remove:  I should download this ! \"\n",
            "remove:  < ( 3 ) >\n",
            "remove:  Pfffttt .\n",
            "remove:  CUZ ITS AWZOME ! ! ! !\n"
          ]
        },
        {
          "name": "stderr",
          "output_type": "stream",
          "text": [
            "Processing:   7%|▋         | 707/10000 [1:03:19<22:43:17,  8.80s/it]"
          ]
        },
        {
          "name": "stdout",
          "output_type": "stream",
          "text": [
            "remove:  c :\n"
          ]
        },
        {
          "name": "stderr",
          "output_type": "stream",
          "text": [
            "Processing:   7%|▋         | 713/10000 [1:03:59<13:10:28,  5.11s/it]"
          ]
        },
        {
          "name": "stdout",
          "output_type": "stream",
          "text": [
            "remove:  loveit\n"
          ]
        },
        {
          "name": "stderr",
          "output_type": "stream",
          "text": [
            "Processing:   7%|▋         | 741/10000 [1:06:28<19:33:27,  7.60s/it]"
          ]
        },
        {
          "name": "stdout",
          "output_type": "stream",
          "text": [
            "remove:  i\n"
          ]
        },
        {
          "name": "stderr",
          "output_type": "stream",
          "text": [
            "Processing:   7%|▋         | 748/10000 [1:07:51<22:08:09,  8.61s/it]"
          ]
        },
        {
          "name": "stdout",
          "output_type": "stream",
          "text": [
            "remove:  I wanted to add this to my MP3 library .\n"
          ]
        },
        {
          "name": "stderr",
          "output_type": "stream",
          "text": [
            "Processing:   8%|▊         | 758/10000 [1:08:37<11:11:48,  4.36s/it]"
          ]
        },
        {
          "name": "stdout",
          "output_type": "stream",
          "text": [
            "remove:  I had to have it ! ! !\n"
          ]
        },
        {
          "name": "stderr",
          "output_type": "stream",
          "text": [
            "Processing:   8%|▊         | 761/10000 [1:08:40<5:25:36,  2.11s/it] "
          ]
        },
        {
          "name": "stdout",
          "output_type": "stream",
          "text": [
            "remove:  Rupert Holmes makes it His !\n"
          ]
        },
        {
          "name": "stderr",
          "output_type": "stream",
          "text": [
            "Processing:   8%|▊         | 763/10000 [1:08:43<4:43:45,  1.84s/it]"
          ]
        },
        {
          "name": "stdout",
          "output_type": "stream",
          "text": [
            "remove:  and it repeats in your mind after listening to it .\n"
          ]
        },
        {
          "name": "stderr",
          "output_type": "stream",
          "text": [
            "Processing:   8%|▊         | 769/10000 [1:09:06<7:27:09,  2.91s/it] "
          ]
        },
        {
          "name": "stdout",
          "output_type": "stream",
          "text": [
            "remove:  I listen to this all the time in my Ipod\n"
          ]
        },
        {
          "name": "stderr",
          "output_type": "stream",
          "text": [
            "Processing:   8%|▊         | 784/10000 [1:10:09<17:35:48,  6.87s/it]"
          ]
        },
        {
          "name": "stdout",
          "output_type": "stream",
          "text": [
            "remove:  THIS ONE IS A MUST FOR YOUR MUSIC LIBRARY ! !\n"
          ]
        },
        {
          "name": "stderr",
          "output_type": "stream",
          "text": [
            "Processing:   8%|▊         | 799/10000 [1:11:10<8:29:51,  3.32s/it] "
          ]
        },
        {
          "name": "stdout",
          "output_type": "stream",
          "text": [
            "remove:  Conway 's songs may be oldies but they are goodies !\n"
          ]
        },
        {
          "name": "stderr",
          "output_type": "stream",
          "text": [
            "Processing:   8%|▊         | 801/10000 [1:11:12<5:14:21,  2.05s/it]"
          ]
        },
        {
          "name": "stdout",
          "output_type": "stream",
          "text": [
            "remove:  Oldie but Goodie !\n"
          ]
        },
        {
          "name": "stderr",
          "output_type": "stream",
          "text": [
            "Processing:   8%|▊         | 812/10000 [1:12:24<12:43:08,  4.98s/it]"
          ]
        },
        {
          "name": "stdout",
          "output_type": "stream",
          "text": [
            "remove:  , \n",
            " Kris L. CocKayne\n"
          ]
        },
        {
          "name": "stderr",
          "output_type": "stream",
          "text": [
            "Processing:   8%|▊         | 833/10000 [1:15:15<13:19:54,  5.24s/it]"
          ]
        },
        {
          "name": "stdout",
          "output_type": "stream",
          "text": [
            "remove:  k\n"
          ]
        },
        {
          "name": "stderr",
          "output_type": "stream",
          "text": [
            "Processing:   8%|▊         | 837/10000 [1:15:20<6:34:49,  2.59s/it] "
          ]
        },
        {
          "name": "stdout",
          "output_type": "stream",
          "text": [
            "remove:  Kris L. CocKayne\n"
          ]
        },
        {
          "name": "stderr",
          "output_type": "stream",
          "text": [
            "Processing:   8%|▊         | 841/10000 [1:15:45<10:42:24,  4.21s/it]"
          ]
        },
        {
          "name": "stdout",
          "output_type": "stream",
          "text": [
            "remove:  ... from the 70s .\n"
          ]
        },
        {
          "name": "stderr",
          "output_type": "stream",
          "text": [
            "Processing:   8%|▊         | 843/10000 [1:15:51<8:20:28,  3.28s/it] "
          ]
        },
        {
          "name": "stdout",
          "output_type": "stream",
          "text": [
            "remove:  For my sister .\n"
          ]
        },
        {
          "name": "stderr",
          "output_type": "stream",
          "text": [
            "Processing:   8%|▊         | 845/10000 [1:15:55<7:04:18,  2.78s/it]"
          ]
        },
        {
          "name": "stdout",
          "output_type": "stream",
          "text": [
            "remove:  i got it for her .\n"
          ]
        },
        {
          "name": "stderr",
          "output_type": "stream",
          "text": [
            "Processing:   8%|▊         | 847/10000 [1:16:22<22:55:30,  9.02s/it]"
          ]
        },
        {
          "name": "stdout",
          "output_type": "stream",
          "text": [
            "remove:  AND IT SOUNDS A-1 .\n"
          ]
        },
        {
          "name": "stderr",
          "output_type": "stream",
          "text": [
            "Processing:   9%|▊         | 854/10000 [1:16:52<6:16:01,  2.47s/it] "
          ]
        },
        {
          "name": "stdout",
          "output_type": "stream",
          "text": [
            "remove:  What we all need to hear .\n"
          ]
        },
        {
          "name": "stderr",
          "output_type": "stream",
          "text": [
            "Processing:   9%|▊         | 859/10000 [1:17:22<17:32:35,  6.91s/it]"
          ]
        },
        {
          "name": "stdout",
          "output_type": "stream",
          "text": [
            "remove:  Get some of their music .\n"
          ]
        },
        {
          "name": "stderr",
          "output_type": "stream",
          "text": [
            "Processing:   9%|▊         | 869/10000 [1:18:04<8:00:47,  3.16s/it] "
          ]
        },
        {
          "name": "stdout",
          "output_type": "stream",
          "text": [
            "remove:  REMEMBER LISTENING TO THIS SONG WHEN i WAS A KID\n"
          ]
        },
        {
          "name": "stderr",
          "output_type": "stream",
          "text": [
            "Processing:   9%|▊         | 874/10000 [1:18:43<15:26:48,  6.09s/it]"
          ]
        },
        {
          "name": "stdout",
          "output_type": "stream",
          "text": [
            "remove:  :)\n"
          ]
        },
        {
          "name": "stderr",
          "output_type": "stream",
          "text": [
            "Processing:   9%|▉         | 882/10000 [1:19:07<9:08:49,  3.61s/it] "
          ]
        },
        {
          "name": "stdout",
          "output_type": "stream",
          "text": [
            "remove:  You know I 've seen a lot of what the world can do .\n",
            "remove:  And I 've heard a lot of what CAT can write .\n"
          ]
        },
        {
          "name": "stderr",
          "output_type": "stream",
          "text": [
            "Processing:   9%|▉         | 883/10000 [1:19:10<9:02:54,  3.57s/it]"
          ]
        },
        {
          "name": "stdout",
          "output_type": "stream",
          "text": [
            "remove:  Off the album \" Tea for Tillerman \" .\n",
            "remove:  Cat Stevens ( Yusef Islam ) was one of the folk singers who defined the genre .\n"
          ]
        },
        {
          "name": "stderr",
          "output_type": "stream",
          "text": [
            "Processing:   9%|▉         | 884/10000 [1:19:19<13:27:23,  5.31s/it]"
          ]
        },
        {
          "name": "stdout",
          "output_type": "stream",
          "text": [
            "remove:  A must have for the genre .\n"
          ]
        },
        {
          "name": "stderr",
          "output_type": "stream",
          "text": [
            "Processing:   9%|▉         | 912/10000 [1:20:49<4:30:49,  1.79s/it] "
          ]
        },
        {
          "name": "stdout",
          "output_type": "stream",
          "text": [
            "remove:  Rock and Roll Lives On !\n"
          ]
        },
        {
          "name": "stderr",
          "output_type": "stream",
          "text": [
            "Processing:   9%|▉         | 914/10000 [1:21:01<9:15:02,  3.67s/it]"
          ]
        },
        {
          "name": "stdout",
          "output_type": "stream",
          "text": [
            "remove:  One of the contestants on The Voice sang it .\n"
          ]
        },
        {
          "name": "stderr",
          "output_type": "stream",
          "text": [
            "Processing:   9%|▉         | 923/10000 [1:22:01<15:15:14,  6.05s/it]"
          ]
        },
        {
          "name": "stdout",
          "output_type": "stream",
          "text": [
            "remove:  What can I cay ?\n"
          ]
        },
        {
          "name": "stderr",
          "output_type": "stream",
          "text": [
            "Processing:   9%|▉         | 929/10000 [1:22:20<7:03:38,  2.80s/it] "
          ]
        },
        {
          "name": "stdout",
          "output_type": "stream",
          "text": [
            "remove:  oldie but goodie\n"
          ]
        },
        {
          "name": "stderr",
          "output_type": "stream",
          "text": [
            "Processing:  10%|▉         | 954/10000 [1:24:10<15:08:01,  6.02s/it]"
          ]
        },
        {
          "name": "stdout",
          "output_type": "stream",
          "text": [
            "remove:  Try It !\n"
          ]
        },
        {
          "name": "stderr",
          "output_type": "stream",
          "text": [
            "Processing:  10%|▉         | 969/10000 [1:26:12<12:12:37,  4.87s/it]"
          ]
        },
        {
          "name": "stdout",
          "output_type": "stream",
          "text": [
            "remove:  Do a preview .\n"
          ]
        },
        {
          "name": "stderr",
          "output_type": "stream",
          "text": [
            "Processing:  10%|▉         | 986/10000 [1:27:24<7:40:13,  3.06s/it] "
          ]
        },
        {
          "name": "stdout",
          "output_type": "stream",
          "text": [
            "remove:  This song is an example of the music composed by Babyface .\n"
          ]
        },
        {
          "name": "stderr",
          "output_type": "stream",
          "text": [
            "Processing:  10%|▉         | 994/10000 [1:27:56<8:21:52,  3.34s/it] "
          ]
        },
        {
          "name": "stdout",
          "output_type": "stream",
          "text": [
            "remove:  Trying to get my band to learn it for our gig on May 9th , 2015\n"
          ]
        },
        {
          "name": "stderr",
          "output_type": "stream",
          "text": [
            "Processing:  10%|▉         | 997/10000 [1:28:15<12:42:47,  5.08s/it]"
          ]
        },
        {
          "name": "stdout",
          "output_type": "stream",
          "text": [
            "remove:  This song speaks volume .\n"
          ]
        },
        {
          "name": "stderr",
          "output_type": "stream",
          "text": [
            "Processing:  10%|█         | 1000/10000 [1:28:26<11:50:26,  4.74s/it]"
          ]
        },
        {
          "name": "stdout",
          "output_type": "stream",
          "text": [
            "remove:  This would be one of those songs .\n"
          ]
        },
        {
          "name": "stderr",
          "output_type": "stream",
          "text": [
            "Processing:  10%|█         | 1003/10000 [1:28:59<17:27:21,  6.98s/it]"
          ]
        },
        {
          "name": "stdout",
          "output_type": "stream",
          "text": [
            "remove:  It 's a tribute .\n"
          ]
        },
        {
          "name": "stderr",
          "output_type": "stream",
          "text": [
            "Processing:  10%|█         | 1007/10000 [1:29:20<14:17:29,  5.72s/it]"
          ]
        },
        {
          "name": "stdout",
          "output_type": "stream",
          "text": [
            "remove:  This song has a lot of meaning .\n"
          ]
        },
        {
          "name": "stderr",
          "output_type": "stream",
          "text": [
            "Processing:  10%|█         | 1008/10000 [1:29:24<12:28:28,  4.99s/it]"
          ]
        },
        {
          "name": "stdout",
          "output_type": "stream",
          "text": [
            "remove:  Parents you must introduce Cat to your children .\n"
          ]
        },
        {
          "name": "stderr",
          "output_type": "stream",
          "text": [
            "Processing:  10%|█         | 1013/10000 [1:29:54<11:52:17,  4.76s/it]"
          ]
        },
        {
          "name": "stdout",
          "output_type": "stream",
          "text": [
            "remove:  Another song that 's stood the test of time .\n"
          ]
        },
        {
          "name": "stderr",
          "output_type": "stream",
          "text": [
            "Processing:  10%|█         | 1031/10000 [1:31:16<12:25:59,  4.99s/it]"
          ]
        },
        {
          "name": "stdout",
          "output_type": "stream",
          "text": [
            "remove:  another oldie but goodie\n"
          ]
        },
        {
          "name": "stderr",
          "output_type": "stream",
          "text": [
            "Processing:  10%|█         | 1043/10000 [1:32:50<26:28:18, 10.64s/it]"
          ]
        },
        {
          "name": "stdout",
          "output_type": "stream",
          "text": [
            "remove:  And check out Billy Childs on the keyboards !\n"
          ]
        },
        {
          "name": "stderr",
          "output_type": "stream",
          "text": [
            "Processing:  10%|█         | 1047/10000 [1:33:17<15:16:09,  6.14s/it]"
          ]
        },
        {
          "name": "stdout",
          "output_type": "stream",
          "text": [
            "remove:  I thought I remember this from another group .\n"
          ]
        },
        {
          "name": "stderr",
          "output_type": "stream",
          "text": [
            "Processing:  10%|█         | 1050/10000 [1:33:23<8:21:15,  3.36s/it] "
          ]
        },
        {
          "name": "stdout",
          "output_type": "stream",
          "text": [
            "remove:  Every breath you take ...\n"
          ]
        },
        {
          "name": "stderr",
          "output_type": "stream",
          "text": [
            "Processing:  11%|█         | 1052/10000 [1:33:34<10:46:11,  4.33s/it]"
          ]
        },
        {
          "name": "stdout",
          "output_type": "stream",
          "text": [
            "remove:  When it came streaming into Pandora , I had to have it .\n"
          ]
        },
        {
          "name": "stderr",
          "output_type": "stream",
          "text": [
            "Processing:  11%|█         | 1058/10000 [1:34:08<7:59:17,  3.22s/it] "
          ]
        },
        {
          "name": "stdout",
          "output_type": "stream",
          "text": [
            "remove:  I C\n",
            "remove:  Garys DAD \n",
            " passed away in 1986 .\n",
            "remove:  THATS MY JOB - THATS\n"
          ]
        },
        {
          "name": "stderr",
          "output_type": "stream",
          "text": [
            "Processing:  11%|█         | 1078/10000 [1:36:13<12:14:40,  4.94s/it]"
          ]
        },
        {
          "name": "stdout",
          "output_type": "stream",
          "text": [
            "remove:  I 'm into the music for dance and health .\n"
          ]
        },
        {
          "name": "stderr",
          "output_type": "stream",
          "text": [
            "Processing:  11%|█         | 1087/10000 [1:37:15<19:29:18,  7.87s/it]"
          ]
        },
        {
          "name": "stdout",
          "output_type": "stream",
          "text": [
            "remove:  This girl can spit .\n",
            "remove:  Nuff said .\n"
          ]
        },
        {
          "name": "stderr",
          "output_type": "stream",
          "text": [
            "Processing:  11%|█         | 1088/10000 [1:37:21<18:31:12,  7.48s/it]"
          ]
        },
        {
          "name": "stdout",
          "output_type": "stream",
          "text": [
            "remove:  Plan on using the song \n",
            " in my playlist on the stage .\n"
          ]
        },
        {
          "name": "stderr",
          "output_type": "stream",
          "text": [
            "Processing:  11%|█         | 1102/10000 [1:38:15<6:37:19,  2.68s/it] "
          ]
        },
        {
          "name": "stdout",
          "output_type": "stream",
          "text": [
            "remove:  you and this song rocks .\n"
          ]
        },
        {
          "name": "stderr",
          "output_type": "stream",
          "text": [
            "Processing:  11%|█         | 1107/10000 [1:39:54<39:38:40, 16.05s/it]"
          ]
        },
        {
          "name": "stdout",
          "output_type": "stream",
          "text": [
            "remove:  In regage dave kelly is the equivalent of timbaland in hip - hop\n",
            "remove:  There is a lot of singles I can see droping from this .\n",
            "remove:  Do nt sleep on this .. get it !\n"
          ]
        },
        {
          "name": "stderr",
          "output_type": "stream",
          "text": [
            "Processing:  11%|█         | 1108/10000 [1:40:37<59:48:05, 24.21s/it]"
          ]
        },
        {
          "name": "stdout",
          "output_type": "stream",
          "text": [
            "remove:  Foxy has come with the rawness .\n",
            "remove:  In which Lil kim was put in her place .\n",
            "remove:  [ ... ]\n",
            "remove:  One .\n"
          ]
        },
        {
          "name": "stderr",
          "output_type": "stream",
          "text": [
            "Processing:  11%|█         | 1114/10000 [1:42:02<33:28:42, 13.56s/it]"
          ]
        },
        {
          "name": "stdout",
          "output_type": "stream",
          "text": [
            "remove:  I was searching for another song when I came across this one .\n"
          ]
        },
        {
          "name": "stderr",
          "output_type": "stream",
          "text": [
            "Processing:  11%|█         | 1122/10000 [1:42:48<20:39:45,  8.38s/it]"
          ]
        },
        {
          "name": "stdout",
          "output_type": "stream",
          "text": [
            "remove:  says it all !\n"
          ]
        },
        {
          "name": "stderr",
          "output_type": "stream",
          "text": [
            "Processing:  11%|█         | 1123/10000 [1:42:50<16:12:03,  6.57s/it]"
          ]
        },
        {
          "name": "stdout",
          "output_type": "stream",
          "text": [
            "remove:  submit button\n"
          ]
        },
        {
          "name": "stderr",
          "output_type": "stream",
          "text": [
            "Processing:  11%|█▏        | 1133/10000 [1:44:20<18:03:24,  7.33s/it]"
          ]
        },
        {
          "name": "stdout",
          "output_type": "stream",
          "text": [
            "remove:  i listen to this song all the time .\n"
          ]
        },
        {
          "name": "stderr",
          "output_type": "stream",
          "text": [
            "Processing:  11%|█▏        | 1136/10000 [1:44:42<18:57:44,  7.70s/it]"
          ]
        },
        {
          "name": "stdout",
          "output_type": "stream",
          "text": [
            "remove:  \" Mr. Jones by The Counting Crows rocks .\n"
          ]
        },
        {
          "name": "stderr",
          "output_type": "stream",
          "text": [
            "Processing:  11%|█▏        | 1138/10000 [1:45:00<20:21:07,  8.27s/it]"
          ]
        },
        {
          "name": "stdout",
          "output_type": "stream",
          "text": [
            "remove:  Used to listen to this song in night clubs .\n"
          ]
        },
        {
          "name": "stderr",
          "output_type": "stream",
          "text": [
            "Processing:  11%|█▏        | 1148/10000 [1:46:13<15:11:34,  6.18s/it]"
          ]
        },
        {
          "name": "stdout",
          "output_type": "stream",
          "text": [
            "remove:  listen to it every day\n"
          ]
        },
        {
          "name": "stderr",
          "output_type": "stream",
          "text": [
            "Processing:  11%|█▏        | 1149/10000 [1:46:17<13:18:50,  5.42s/it]"
          ]
        },
        {
          "name": "stdout",
          "output_type": "stream",
          "text": [
            "remove:  ;)\n"
          ]
        },
        {
          "name": "stderr",
          "output_type": "stream",
          "text": [
            "Processing:  12%|█▏        | 1150/10000 [1:46:26<16:08:14,  6.56s/it]"
          ]
        },
        {
          "name": "stdout",
          "output_type": "stream",
          "text": [
            "remove:  Jessie puts his soul into this song .\n",
            "remove:  You can feel what lyrics and smoothness of the songs .\n"
          ]
        },
        {
          "name": "stderr",
          "output_type": "stream",
          "text": [
            "Processing:  12%|█▏        | 1156/10000 [1:46:55<8:34:16,  3.49s/it] "
          ]
        },
        {
          "name": "stdout",
          "output_type": "stream",
          "text": [
            "remove:  Smoot\n"
          ]
        },
        {
          "name": "stderr",
          "output_type": "stream",
          "text": [
            "Processing:  12%|█▏        | 1163/10000 [1:47:14<7:34:24,  3.09s/it]"
          ]
        },
        {
          "name": "stdout",
          "output_type": "stream",
          "text": [
            "remove:  One song that defines the First Wave !\n"
          ]
        },
        {
          "name": "stderr",
          "output_type": "stream",
          "text": [
            "Processing:  12%|█▏        | 1170/10000 [1:47:44<11:54:23,  4.85s/it]"
          ]
        },
        {
          "name": "stdout",
          "output_type": "stream",
          "text": [
            "remove:  SOOOO 80 'S\n"
          ]
        },
        {
          "name": "stderr",
          "output_type": "stream",
          "text": [
            "Processing:  12%|█▏        | 1171/10000 [1:47:46<10:00:06,  4.08s/it]"
          ]
        },
        {
          "name": "stdout",
          "output_type": "stream",
          "text": [
            "remove:  It 's Joe Jackson !\n"
          ]
        },
        {
          "name": "stderr",
          "output_type": "stream",
          "text": [
            "Processing:  12%|█▏        | 1176/10000 [1:48:22<16:10:50,  6.60s/it]"
          ]
        },
        {
          "name": "stdout",
          "output_type": "stream",
          "text": [
            "remove:  What can I say ?\n"
          ]
        },
        {
          "name": "stderr",
          "output_type": "stream",
          "text": [
            "Processing:  12%|█▏        | 1194/10000 [1:49:16<6:18:22,  2.58s/it] "
          ]
        },
        {
          "name": "stdout",
          "output_type": "stream",
          "text": [
            "remove:  one of my faves\n"
          ]
        },
        {
          "name": "stderr",
          "output_type": "stream",
          "text": [
            "Processing:  12%|█▏        | 1201/10000 [1:49:38<6:44:14,  2.76s/it]"
          ]
        },
        {
          "name": "stdout",
          "output_type": "stream",
          "text": [
            "remove:  Try it and rate it yourself >\n"
          ]
        },
        {
          "name": "stderr",
          "output_type": "stream",
          "text": [
            "Processing:  12%|█▏        | 1211/10000 [1:49:56<5:31:47,  2.27s/it]"
          ]
        },
        {
          "name": "stdout",
          "output_type": "stream",
          "text": [
            "remove:  I listen to it all the time .\n"
          ]
        },
        {
          "name": "stderr",
          "output_type": "stream",
          "text": [
            "Processing:  12%|█▏        | 1212/10000 [1:50:00<6:56:25,  2.84s/it]"
          ]
        },
        {
          "name": "stdout",
          "output_type": "stream",
          "text": [
            "remove:  Needed it when I saw it .\n"
          ]
        },
        {
          "name": "stderr",
          "output_type": "stream",
          "text": [
            "Processing:  12%|█▏        | 1214/10000 [1:50:12<11:09:42,  4.57s/it]"
          ]
        },
        {
          "name": "stdout",
          "output_type": "stream",
          "text": [
            "remove:  c :\n"
          ]
        },
        {
          "name": "stderr",
          "output_type": "stream",
          "text": [
            "Processing:  12%|█▏        | 1229/10000 [1:51:54<7:33:29,  3.10s/it] "
          ]
        },
        {
          "name": "stdout",
          "output_type": "stream",
          "text": [
            "remove:  This album is one of my favs from him .\n"
          ]
        },
        {
          "name": "stderr",
          "output_type": "stream",
          "text": [
            "Processing:  12%|█▏        | 1232/10000 [1:52:15<14:56:55,  6.14s/it]"
          ]
        },
        {
          "name": "stdout",
          "output_type": "stream",
          "text": [
            "remove:  NEOSOUL06\n"
          ]
        },
        {
          "name": "stderr",
          "output_type": "stream",
          "text": [
            "Processing:  12%|█▏        | 1235/10000 [1:53:47<61:57:41, 25.45s/it]"
          ]
        },
        {
          "name": "stdout",
          "output_type": "stream",
          "text": [
            "remove:  This album is a keeper .\n"
          ]
        },
        {
          "name": "stderr",
          "output_type": "stream",
          "text": [
            "Processing:  12%|█▏        | 1239/10000 [1:54:30<34:59:22, 14.38s/it]"
          ]
        },
        {
          "name": "stdout",
          "output_type": "stream",
          "text": [
            "remove:  Take the Babyface - penned title track , for example .\n",
            "remove:  Turn on your heart light ?\n"
          ]
        },
        {
          "name": "stderr",
          "output_type": "stream",
          "text": [
            "Processing:  12%|█▏        | 1242/10000 [1:55:32<35:32:53, 14.61s/it]"
          ]
        },
        {
          "name": "stdout",
          "output_type": "stream",
          "text": [
            "remove:  I HAD TO REPLACE .\n"
          ]
        },
        {
          "name": "stderr",
          "output_type": "stream",
          "text": [
            "Processing:  13%|█▎        | 1253/10000 [1:56:21<9:12:26,  3.79s/it] "
          ]
        },
        {
          "name": "stdout",
          "output_type": "stream",
          "text": [
            "remove:  I bought this song because I heard it on Johnson Family Vacation .\n"
          ]
        },
        {
          "name": "stderr",
          "output_type": "stream",
          "text": [
            "Processing:  13%|█▎        | 1254/10000 [1:56:28<11:35:49,  4.77s/it]"
          ]
        },
        {
          "name": "stdout",
          "output_type": "stream",
          "text": [
            "remove:  Arie would have anything to prove .\n"
          ]
        },
        {
          "name": "stderr",
          "output_type": "stream",
          "text": [
            "Processing:  13%|█▎        | 1257/10000 [1:57:30<31:06:23, 12.81s/it]"
          ]
        },
        {
          "name": "stdout",
          "output_type": "stream",
          "text": [
            "remove:  India .\n",
            "remove:  There is a guitar in every song on the album .\n",
            "remove:  \" Talk to Her \" has one of those beats you can snap your fingers and bob your head to .\n",
            "remove:  If anyone were to ask me to pick to tracks to listen to on this album , I 'd go with these .\n",
            "remove:  She 's a shining star !\n",
            "remove:  5 star album !\n",
            "remove:  The One \n",
            "\n",
            " 3 .\n",
            "remove:  Can I Walk With You ? \n",
            "\n",
            " 4 .\n",
            "remove:  Talk to her \n",
            "\n",
            " 5 .\n"
          ]
        },
        {
          "name": "stderr",
          "output_type": "stream",
          "text": [
            "Processing:  13%|█▎        | 1258/10000 [1:58:50<80:07:15, 32.99s/it]"
          ]
        },
        {
          "name": "stdout",
          "output_type": "stream",
          "text": [
            "remove:  Overall Mark : 3/5\n"
          ]
        },
        {
          "name": "stderr",
          "output_type": "stream",
          "text": [
            "Processing:  13%|█▎        | 1260/10000 [2:01:32<125:29:34, 51.69s/it]"
          ]
        },
        {
          "name": "stdout",
          "output_type": "stream",
          "text": [
            "remove:  Arie returns after bearing her \" Acoustic Soul \" to the world .\n",
            "remove:  \" \n",
            " \" Talk to Her \" is a run - on song .\n",
            "remove:  \" \n",
            " Considering all aspects Arie brings into her craft , one could say that Arie 's sound is a cross between Erykah Badu and Tracy Chapman .\n"
          ]
        },
        {
          "name": "stderr",
          "output_type": "stream",
          "text": [
            "Processing:  13%|█▎        | 1261/10000 [2:02:26<126:54:24, 52.28s/it]"
          ]
        },
        {
          "name": "stdout",
          "output_type": "stream",
          "text": [
            "remove:  i think this album was rushed .\n"
          ]
        },
        {
          "name": "stderr",
          "output_type": "stream",
          "text": [
            "Processing:  13%|█▎        | 1262/10000 [2:02:47<104:27:23, 43.04s/it]"
          ]
        },
        {
          "name": "stdout",
          "output_type": "stream",
          "text": [
            "remove:  Arie .\n"
          ]
        },
        {
          "name": "stderr",
          "output_type": "stream",
          "text": [
            "Processing:  13%|█▎        | 1263/10000 [2:03:09<88:41:18, 36.54s/it] "
          ]
        },
        {
          "name": "stdout",
          "output_type": "stream",
          "text": [
            "remove:  Where did India find her ? ? ?\n"
          ]
        },
        {
          "name": "stderr",
          "output_type": "stream",
          "text": [
            "Processing:  13%|█▎        | 1269/10000 [2:05:57<69:45:01, 28.76s/it]"
          ]
        },
        {
          "name": "stdout",
          "output_type": "stream",
          "text": [
            "remove:  India .\n"
          ]
        },
        {
          "name": "stderr",
          "output_type": "stream",
          "text": [
            "Processing:  13%|█▎        | 1271/10000 [2:06:51<65:18:51, 26.94s/it]"
          ]
        },
        {
          "name": "stdout",
          "output_type": "stream",
          "text": [
            "remove:  As with a majority of this record .\n"
          ]
        },
        {
          "name": "stderr",
          "output_type": "stream",
          "text": [
            "Processing:  13%|█▎        | 1272/10000 [2:08:02<97:15:40, 40.12s/it]"
          ]
        },
        {
          "name": "stdout",
          "output_type": "stream",
          "text": [
            "remove:  If I wanted a gospel album , I 'd have bought a gospel album .\n"
          ]
        },
        {
          "name": "stderr",
          "output_type": "stream",
          "text": [
            "Processing:  13%|█▎        | 1280/10000 [2:10:05<23:38:15,  9.76s/it] "
          ]
        },
        {
          "name": "stdout",
          "output_type": "stream",
          "text": [
            "remove:  \" \n",
            "\n",
            " I have this on my running playlist .\n",
            "remove:  Anthony Trendl \n",
            " [ ... ]\n"
          ]
        },
        {
          "name": "stderr",
          "output_type": "stream",
          "text": [
            "Processing:  13%|█▎        | 1293/10000 [2:11:02<8:31:11,  3.52s/it] "
          ]
        },
        {
          "name": "stdout",
          "output_type": "stream",
          "text": [
            "remove:  It was the theme song .\n"
          ]
        },
        {
          "name": "stderr",
          "output_type": "stream",
          "text": [
            "Processing:  13%|█▎        | 1296/10000 [2:11:07<5:37:31,  2.33s/it]"
          ]
        },
        {
          "name": "stdout",
          "output_type": "stream",
          "text": [
            "remove:  Yum ....\n"
          ]
        },
        {
          "name": "stderr",
          "output_type": "stream",
          "text": [
            "Processing:  13%|█▎        | 1298/10000 [2:11:09<3:52:31,  1.60s/it]"
          ]
        },
        {
          "name": "stdout",
          "output_type": "stream",
          "text": [
            "remove:  It 's on of those songs that takes me back ..\n"
          ]
        },
        {
          "name": "stderr",
          "output_type": "stream",
          "text": [
            "Processing:  13%|█▎        | 1305/10000 [2:12:27<22:15:08,  9.21s/it]"
          ]
        },
        {
          "name": "stdout",
          "output_type": "stream",
          "text": [
            "remove:  A++++ ! !\n"
          ]
        },
        {
          "name": "stderr",
          "output_type": "stream",
          "text": [
            "Processing:  13%|█▎        | 1308/10000 [2:13:33<40:00:29, 16.57s/it]"
          ]
        },
        {
          "name": "stdout",
          "output_type": "stream",
          "text": [
            "remove:  Buzz May\n"
          ]
        },
        {
          "name": "stderr",
          "output_type": "stream",
          "text": [
            "Processing:  13%|█▎        | 1311/10000 [2:13:43<18:35:04,  7.70s/it]"
          ]
        },
        {
          "name": "stdout",
          "output_type": "stream",
          "text": [
            "remove:  I bought these to add to my ipod .\n"
          ]
        },
        {
          "name": "stderr",
          "output_type": "stream",
          "text": [
            "Processing:  13%|█▎        | 1312/10000 [2:13:48<16:40:56,  6.91s/it]"
          ]
        },
        {
          "name": "stdout",
          "output_type": "stream",
          "text": [
            "remove:  Filled the need for which i was searching .\n",
            "remove:  I give it four stars as my rating .\n"
          ]
        },
        {
          "name": "stderr",
          "output_type": "stream",
          "text": [
            "Processing:  13%|█▎        | 1316/10000 [2:14:00<8:47:12,  3.64s/it] "
          ]
        },
        {
          "name": "stdout",
          "output_type": "stream",
          "text": [
            "remove:  Its part of a movie\n"
          ]
        },
        {
          "name": "stderr",
          "output_type": "stream",
          "text": [
            "Processing:  13%|█▎        | 1318/10000 [2:14:04<6:26:17,  2.67s/it]"
          ]
        },
        {
          "name": "stdout",
          "output_type": "stream",
          "text": [
            "remove:  Filled the need for which i was searching .\n",
            "remove:  I give it four stars as my rating .\n"
          ]
        },
        {
          "name": "stderr",
          "output_type": "stream",
          "text": [
            "Processing:  13%|█▎        | 1326/10000 [2:14:38<11:55:43,  4.95s/it]"
          ]
        },
        {
          "name": "stdout",
          "output_type": "stream",
          "text": [
            "remove:  Its a song .\n"
          ]
        },
        {
          "name": "stderr",
          "output_type": "stream",
          "text": [
            "Processing:  13%|█▎        | 1330/10000 [2:15:03<14:04:43,  5.85s/it]"
          ]
        },
        {
          "name": "stdout",
          "output_type": "stream",
          "text": [
            "remove:  It plucks at your emotions .\n"
          ]
        },
        {
          "name": "stderr",
          "output_type": "stream",
          "text": [
            "Processing:  13%|█▎        | 1335/10000 [2:15:39<18:36:02,  7.73s/it]"
          ]
        },
        {
          "name": "stdout",
          "output_type": "stream",
          "text": [
            "remove:  Period !\n"
          ]
        },
        {
          "name": "stderr",
          "output_type": "stream",
          "text": [
            "Processing:  14%|█▍        | 1378/10000 [2:19:02<5:12:20,  2.17s/it] "
          ]
        },
        {
          "name": "stdout",
          "output_type": "stream",
          "text": [
            "remove:  what can i say .\n",
            "remove:  This is Johhny Cash :)\n"
          ]
        },
        {
          "name": "stderr",
          "output_type": "stream",
          "text": [
            "Processing:  14%|█▍        | 1386/10000 [2:19:47<10:55:42,  4.57s/it]"
          ]
        },
        {
          "name": "stdout",
          "output_type": "stream",
          "text": [
            "remove:  Had to get this song .\n"
          ]
        },
        {
          "name": "stderr",
          "output_type": "stream",
          "text": [
            "Processing:  14%|█▍        | 1390/10000 [2:19:56<5:55:48,  2.48s/it] "
          ]
        },
        {
          "name": "stdout",
          "output_type": "stream",
          "text": [
            "remove:  A++\n",
            "remove:  Arrived as expected\n"
          ]
        },
        {
          "name": "stderr",
          "output_type": "stream",
          "text": [
            "Processing:  14%|█▍        | 1405/10000 [2:21:18<9:48:21,  4.11s/it] "
          ]
        },
        {
          "name": "stdout",
          "output_type": "stream",
          "text": [
            "remove:  What a song ..... what a man to transcend his memories into a tune ....\n",
            "remove:  Johnny Cash OWNS this song !\n"
          ]
        },
        {
          "name": "stderr",
          "output_type": "stream",
          "text": [
            "Processing:  14%|█▍        | 1408/10000 [2:22:00<30:34:26, 12.81s/it]"
          ]
        },
        {
          "name": "stdout",
          "output_type": "stream",
          "text": [
            "remove:  It 'll tear your heart strings .\n",
            "remove:  He speaks to my soul .\n"
          ]
        },
        {
          "name": "stderr",
          "output_type": "stream",
          "text": [
            "Processing:  14%|█▍        | 1416/10000 [2:22:56<17:06:34,  7.18s/it]"
          ]
        },
        {
          "name": "stdout",
          "output_type": "stream",
          "text": [
            "remove:  Song : B+\n"
          ]
        },
        {
          "name": "stderr",
          "output_type": "stream",
          "text": [
            "Processing:  14%|█▍        | 1421/10000 [2:25:10<50:41:16, 21.27s/it]"
          ]
        },
        {
          "name": "stdout",
          "output_type": "stream",
          "text": [
            "remove:  Way to stretch yourself Johnny !\n"
          ]
        },
        {
          "name": "stderr",
          "output_type": "stream",
          "text": [
            "Processing:  14%|█▍        | 1422/10000 [2:25:13<37:54:22, 15.91s/it]"
          ]
        },
        {
          "name": "stdout",
          "output_type": "stream",
          "text": [
            "remove:  I relate .\n",
            "remove:  B.\n"
          ]
        },
        {
          "name": "stderr",
          "output_type": "stream",
          "text": [
            "Processing:  14%|█▍        | 1423/10000 [2:25:20<31:20:21, 13.15s/it]"
          ]
        },
        {
          "name": "stdout",
          "output_type": "stream",
          "text": [
            "remove:  Johnny CAsh is a legend .\n"
          ]
        },
        {
          "name": "stderr",
          "output_type": "stream",
          "text": [
            "Processing:  14%|█▍        | 1427/10000 [2:25:42<17:31:29,  7.36s/it]"
          ]
        },
        {
          "name": "stdout",
          "output_type": "stream",
          "text": [
            "remove:  \" Brotha Man \" \n",
            " 3 .\n"
          ]
        },
        {
          "name": "stderr",
          "output_type": "stream",
          "text": [
            "Processing:  14%|█▍        | 1429/10000 [2:27:05<52:05:41, 21.88s/it]"
          ]
        },
        {
          "name": "stdout",
          "output_type": "stream",
          "text": [
            "remove:  It 's a mixture of jazz and r&b / soul .\n"
          ]
        },
        {
          "name": "stderr",
          "output_type": "stream",
          "text": [
            "Processing:  14%|█▍        | 1432/10000 [2:27:40<34:56:25, 14.68s/it]"
          ]
        },
        {
          "name": "stdout",
          "output_type": "stream",
          "text": [
            "remove:  I have two of Kem 's albums .\n"
          ]
        },
        {
          "name": "stderr",
          "output_type": "stream",
          "text": [
            "Processing:  14%|█▍        | 1435/10000 [2:27:49<15:48:50,  6.65s/it]"
          ]
        },
        {
          "name": "stdout",
          "output_type": "stream",
          "text": [
            "remove:  I saw it on music choice and knew that i wanted it\n"
          ]
        },
        {
          "name": "stderr",
          "output_type": "stream",
          "text": [
            "Processing:  14%|█▍        | 1439/10000 [2:28:31<20:37:13,  8.67s/it]"
          ]
        },
        {
          "name": "stdout",
          "output_type": "stream",
          "text": [
            "remove:  His life story Kem should be a Movie .\n",
            "remove:  I have rated each song .\n",
            "remove:  -Slow\n",
            "remove:  Go Get Kemistry and Be Prepare to Mezmerized !\n"
          ]
        },
        {
          "name": "stderr",
          "output_type": "stream",
          "text": [
            "Processing:  14%|█▍        | 1440/10000 [2:29:40<63:48:45, 26.84s/it]"
          ]
        },
        {
          "name": "stdout",
          "output_type": "stream",
          "text": [
            "remove:  p.s .\n",
            "remove:  They know what they 're talking about .\n"
          ]
        },
        {
          "name": "stderr",
          "output_type": "stream",
          "text": [
            "Processing:  14%|█▍        | 1441/10000 [2:30:14<68:51:11, 28.96s/it]"
          ]
        },
        {
          "name": "stdout",
          "output_type": "stream",
          "text": [
            "remove:  Kem fuses gospel with soul and an outpouring of emotions is demonstrated on this cd .\n",
            "remove:  DJ COA\n"
          ]
        },
        {
          "name": "stderr",
          "output_type": "stream",
          "text": [
            "Processing:  14%|█▍        | 1443/10000 [2:31:12<70:54:35, 29.83s/it]"
          ]
        },
        {
          "name": "stdout",
          "output_type": "stream",
          "text": [
            "remove:  Kem - Kemistry ( Motown , 2003 )\n",
            "remove:  -EJR\n"
          ]
        },
        {
          "name": "stderr",
          "output_type": "stream",
          "text": [
            "Processing:  14%|█▍        | 1445/10000 [2:31:29<43:03:57, 18.12s/it]"
          ]
        },
        {
          "name": "stdout",
          "output_type": "stream",
          "text": [
            "remove:  Puts me in the mood to go to the TROPICS .\n"
          ]
        },
        {
          "name": "stderr",
          "output_type": "stream",
          "text": [
            "Processing:  14%|█▍        | 1447/10000 [2:31:34<24:12:45, 10.19s/it]"
          ]
        },
        {
          "name": "stdout",
          "output_type": "stream",
          "text": [
            "remove:  Get up and move , move , move ! ! !\n"
          ]
        },
        {
          "name": "stderr",
          "output_type": "stream",
          "text": [
            "Processing:  14%|█▍        | 1448/10000 [2:31:40<20:38:03,  8.69s/it]"
          ]
        },
        {
          "name": "stdout",
          "output_type": "stream",
          "text": [
            "remove:  BUY IT ! ! !\n"
          ]
        },
        {
          "name": "stderr",
          "output_type": "stream",
          "text": [
            "Processing:  15%|█▍        | 1475/10000 [2:33:01<11:47:09,  4.98s/it]"
          ]
        },
        {
          "name": "stdout",
          "output_type": "stream",
          "text": [
            "remove:  Had a margarita at Jimmy Buffett 's joint .\n"
          ]
        },
        {
          "name": "stderr",
          "output_type": "stream",
          "text": [
            "Processing:  15%|█▍        | 1493/10000 [2:33:58<10:12:00,  4.32s/it]"
          ]
        },
        {
          "name": "stdout",
          "output_type": "stream",
          "text": [
            "remove:  Jimmy Buffett has been called \" the mayor of Margaritaville \" because of this song .\n",
            "remove:  But , I will continue to listen to this song .\n",
            "remove:  Mike Serovey , MA , MISM \n",
            " Owner & webmaster of Mike Serovey Reviews\n"
          ]
        },
        {
          "name": "stderr",
          "output_type": "stream",
          "text": [
            "Processing:  15%|█▍        | 1495/10000 [2:34:23<18:28:24,  7.82s/it]"
          ]
        },
        {
          "name": "stdout",
          "output_type": "stream",
          "text": [
            "remove:  Went to Las Vegas this summer .\n",
            "remove:  Downloaded this tune onto my Ipod !\n"
          ]
        },
        {
          "name": "stderr",
          "output_type": "stream",
          "text": [
            "Processing:  15%|█▍        | 1497/10000 [2:34:40<18:55:20,  8.01s/it]"
          ]
        },
        {
          "name": "stdout",
          "output_type": "stream",
          "text": [
            "remove:  It is a keeper .\n"
          ]
        },
        {
          "name": "stderr",
          "output_type": "stream",
          "text": [
            "Processing:  15%|█▍        | 1498/10000 [2:34:49<20:08:35,  8.53s/it]"
          ]
        },
        {
          "name": "stdout",
          "output_type": "stream",
          "text": [
            "remove:  11/16/2012\n"
          ]
        },
        {
          "name": "stderr",
          "output_type": "stream",
          "text": [
            "Processing:  15%|█▍        | 1499/10000 [2:35:20<35:57:32, 15.23s/it]"
          ]
        },
        {
          "name": "stdout",
          "output_type": "stream",
          "text": [
            "remove:  This is gon na be a song my husband\n",
            "remove:  and I dance to at our renewal of vows ceremony .\n"
          ]
        },
        {
          "name": "stderr",
          "output_type": "stream",
          "text": [
            "Processing:  15%|█▌        | 1506/10000 [2:36:27<34:33:00, 14.64s/it]"
          ]
        },
        {
          "name": "stdout",
          "output_type": "stream",
          "text": [
            "remove:  \" Al Jarreau ? \"\n"
          ]
        },
        {
          "name": "stderr",
          "output_type": "stream",
          "text": [
            "Processing:  15%|█▌        | 1523/10000 [2:39:07<8:29:57,  3.61s/it] "
          ]
        },
        {
          "name": "stdout",
          "output_type": "stream",
          "text": [
            "remove:  I bought this tune for my Ipod because I was going to Las Vegas !\n"
          ]
        },
        {
          "name": "stderr",
          "output_type": "stream",
          "text": [
            "Processing:  15%|█▌        | 1545/10000 [2:41:19<14:11:35,  6.04s/it]"
          ]
        },
        {
          "name": "stdout",
          "output_type": "stream",
          "text": [
            "remove:  Something about this song !\n"
          ]
        },
        {
          "name": "stderr",
          "output_type": "stream",
          "text": [
            "Processing:  16%|█▌        | 1555/10000 [2:41:41<4:53:00,  2.08s/it] "
          ]
        },
        {
          "name": "stdout",
          "output_type": "stream",
          "text": [
            "remove:  What can you say ?\n",
            "remove:  The Man in Black shines on this one !\n"
          ]
        },
        {
          "name": "stderr",
          "output_type": "stream",
          "text": [
            "Processing:  16%|█▌        | 1580/10000 [2:43:51<5:16:43,  2.26s/it] "
          ]
        },
        {
          "name": "stdout",
          "output_type": "stream",
          "text": [
            "remove:  I realize we all go through changes and I believe this cd was put out during / after her move to LA ?\n"
          ]
        },
        {
          "name": "stderr",
          "output_type": "stream",
          "text": [
            "Processing:  16%|█▌        | 1586/10000 [2:44:43<12:47:17,  5.47s/it]"
          ]
        },
        {
          "name": "stdout",
          "output_type": "stream",
          "text": [
            "remove:  A must have !\n"
          ]
        },
        {
          "name": "stderr",
          "output_type": "stream",
          "text": [
            "Processing:  16%|█▌        | 1589/10000 [2:44:58<12:30:40,  5.36s/it]"
          ]
        },
        {
          "name": "stdout",
          "output_type": "stream",
          "text": [
            "remove:  This album under review is such a case .\n"
          ]
        },
        {
          "name": "stderr",
          "output_type": "stream",
          "text": [
            "Processing:  16%|█▌        | 1592/10000 [2:45:45<22:34:55,  9.67s/it]"
          ]
        },
        {
          "name": "stdout",
          "output_type": "stream",
          "text": [
            "remove:  What can I say about Johnny Cash ?\n",
            "remove:  But it .\n"
          ]
        },
        {
          "name": "stderr",
          "output_type": "stream",
          "text": [
            "Processing:  16%|█▌        | 1600/10000 [2:46:28<15:37:40,  6.70s/it]"
          ]
        },
        {
          "name": "stdout",
          "output_type": "stream",
          "text": [
            "remove:  While I can do without \" Come On \" and the nine - minute spoken word \" Wrap My Head Around That \" , the rest of the album is quality Lucinda .\n",
            "remove:  Anthony Rupert\n"
          ]
        },
        {
          "name": "stderr",
          "output_type": "stream",
          "text": [
            "Processing:  16%|█▌        | 1611/10000 [2:48:11<24:21:36, 10.45s/it]"
          ]
        },
        {
          "name": "stdout",
          "output_type": "stream",
          "text": [
            "remove:  \"\n",
            "remove:  \"\n"
          ]
        },
        {
          "name": "stderr",
          "output_type": "stream",
          "text": [
            "Processing:  16%|█▌        | 1612/10000 [2:49:57<90:52:57, 39.01s/it]"
          ]
        },
        {
          "name": "stdout",
          "output_type": "stream",
          "text": [
            "remove:  Why I say that ?\n"
          ]
        },
        {
          "name": "stderr",
          "output_type": "stream",
          "text": [
            "Processing:  16%|█▌        | 1613/10000 [2:50:09<72:05:51, 30.95s/it]"
          ]
        },
        {
          "name": "stdout",
          "output_type": "stream",
          "text": [
            "remove:  Ditto w/\"Mama\n",
            "remove:  If \" and \" Wrap My Head Around It \" .\n"
          ]
        },
        {
          "name": "stderr",
          "output_type": "stream",
          "text": [
            "Processing:  16%|█▌        | 1616/10000 [2:52:07<89:08:47, 38.28s/it]"
          ]
        },
        {
          "name": "stdout",
          "output_type": "stream",
          "text": [
            "remove:  Music is the soundtrack to life !\n"
          ]
        },
        {
          "name": "stderr",
          "output_type": "stream",
          "text": [
            "Processing:  16%|█▌        | 1617/10000 [2:52:10<64:40:26, 27.77s/it]"
          ]
        },
        {
          "name": "stdout",
          "output_type": "stream",
          "text": [
            "remove:  Lex , Coups , Bimaz , Benz \n",
            " 2 .\n",
            "remove:  Get Up \n",
            " 4 .\n",
            "remove:  1,2,3 \n",
            " 2 .\n"
          ]
        },
        {
          "name": "stderr",
          "output_type": "stream",
          "text": [
            "Processing:  16%|█▌        | 1620/10000 [2:54:23<92:03:13, 39.55s/it]"
          ]
        },
        {
          "name": "stdout",
          "output_type": "stream",
          "text": [
            "remove:  Mind Power !\n"
          ]
        },
        {
          "name": "stderr",
          "output_type": "stream",
          "text": [
            "Processing:  16%|█▌        | 1621/10000 [2:54:40<76:39:08, 32.93s/it]"
          ]
        },
        {
          "name": "stdout",
          "output_type": "stream",
          "text": [
            "remove:  ...\n"
          ]
        },
        {
          "name": "stderr",
          "output_type": "stream",
          "text": [
            "Processing:  16%|█▌        | 1623/10000 [2:55:29<61:52:51, 26.59s/it]"
          ]
        },
        {
          "name": "stdout",
          "output_type": "stream",
          "text": [
            "remove:  Pick it up today !\n"
          ]
        },
        {
          "name": "stderr",
          "output_type": "stream",
          "text": [
            "Processing:  16%|█▌        | 1624/10000 [2:56:09<71:12:07, 30.60s/it]"
          ]
        },
        {
          "name": "stdout",
          "output_type": "stream",
          "text": [
            "remove:  Lucinda Williams has made a career out of doing things her way .\n"
          ]
        },
        {
          "name": "stderr",
          "output_type": "stream",
          "text": [
            "Processing:  16%|█▋        | 1626/10000 [2:56:49<56:01:45, 24.09s/it]"
          ]
        },
        {
          "name": "stdout",
          "output_type": "stream",
          "text": [
            "remove:  December 29th , 2009 ( 1:04 AM )\n",
            "remove:  Arie .\n",
            "remove:  4.25 stars .\n"
          ]
        },
        {
          "name": "stderr",
          "output_type": "stream",
          "text": [
            "Processing:  16%|█▋        | 1628/10000 [2:57:03<34:50:52, 14.98s/it]"
          ]
        },
        {
          "name": "stdout",
          "output_type": "stream",
          "text": [
            "remove:  I know this song because we have all walk a mile in this shoes .\n"
          ]
        },
        {
          "name": "stderr",
          "output_type": "stream",
          "text": [
            "Processing:  16%|█▋        | 1634/10000 [2:57:26<13:26:04,  5.78s/it]"
          ]
        },
        {
          "name": "stdout",
          "output_type": "stream",
          "text": [
            "remove:  Would reccomend it to everyone of any color .\n",
            "remove:  Grown Folk Music !\n"
          ]
        },
        {
          "name": "stderr",
          "output_type": "stream",
          "text": [
            "Processing:  16%|█▋        | 1635/10000 [2:57:29<11:37:00,  5.00s/it]"
          ]
        },
        {
          "name": "stdout",
          "output_type": "stream",
          "text": [
            "remove:  A\n"
          ]
        },
        {
          "name": "stderr",
          "output_type": "stream",
          "text": [
            "Processing:  16%|█▋        | 1648/10000 [2:57:57<6:20:21,  2.73s/it] "
          ]
        },
        {
          "name": "stdout",
          "output_type": "stream",
          "text": [
            "remove:  A++\n"
          ]
        },
        {
          "name": "stderr",
          "output_type": "stream",
          "text": [
            "Processing:  17%|█▋        | 1653/10000 [2:58:03<3:45:24,  1.62s/it]"
          ]
        },
        {
          "name": "stdout",
          "output_type": "stream",
          "text": [
            "remove:  It 's .\n"
          ]
        },
        {
          "name": "stderr",
          "output_type": "stream",
          "text": [
            "Processing:  17%|█▋        | 1661/10000 [2:58:38<9:27:29,  4.08s/it] "
          ]
        },
        {
          "name": "stdout",
          "output_type": "stream",
          "text": [
            "remove:  5*\n"
          ]
        },
        {
          "name": "stderr",
          "output_type": "stream",
          "text": [
            "Processing:  17%|█▋        | 1685/10000 [2:59:15<4:18:59,  1.87s/it]"
          ]
        },
        {
          "name": "stdout",
          "output_type": "stream",
          "text": [
            "remove:  Song says a lot .\n"
          ]
        },
        {
          "name": "stderr",
          "output_type": "stream",
          "text": [
            "Processing:  17%|█▋        | 1692/10000 [2:59:33<4:48:08,  2.08s/it]"
          ]
        },
        {
          "name": "stdout",
          "output_type": "stream",
          "text": [
            "remove:  Juvenile is da shizzie !\n"
          ]
        },
        {
          "name": "stderr",
          "output_type": "stream",
          "text": [
            "Processing:  17%|█▋        | 1700/10000 [2:59:57<4:50:36,  2.10s/it] "
          ]
        },
        {
          "name": "stdout",
          "output_type": "stream",
          "text": [
            "remove:  A life lesson in a country song .\n"
          ]
        },
        {
          "name": "stderr",
          "output_type": "stream",
          "text": [
            "Processing:  17%|█▋        | 1704/10000 [3:00:03<3:38:02,  1.58s/it]"
          ]
        },
        {
          "name": "stdout",
          "output_type": "stream",
          "text": [
            "remove:  You 're all in my prayers .\n"
          ]
        },
        {
          "name": "stderr",
          "output_type": "stream",
          "text": [
            "Processing:  17%|█▋        | 1719/10000 [3:01:13<12:11:05,  5.30s/it]"
          ]
        },
        {
          "name": "stdout",
          "output_type": "stream",
          "text": [
            "remove:  I danced at my daughters wedding with my son .\n"
          ]
        },
        {
          "name": "stderr",
          "output_type": "stream",
          "text": [
            "Processing:  17%|█▋        | 1722/10000 [3:01:23<9:46:38,  4.25s/it] "
          ]
        },
        {
          "name": "stdout",
          "output_type": "stream",
          "text": [
            "remove:  I remember when Lee Ann Womack was on the Oprah Winfrey show .\n"
          ]
        },
        {
          "name": "stderr",
          "output_type": "stream",
          "text": [
            "Processing:  17%|█▋        | 1729/10000 [3:01:47<8:55:12,  3.88s/it]"
          ]
        },
        {
          "name": "stdout",
          "output_type": "stream",
          "text": [
            "remove:  Do I have this ?\n"
          ]
        },
        {
          "name": "stderr",
          "output_type": "stream",
          "text": [
            "Processing:  17%|█▋        | 1731/10000 [3:01:54<7:44:40,  3.37s/it]"
          ]
        },
        {
          "name": "stdout",
          "output_type": "stream",
          "text": [
            "remove:  A reminder to dance\n"
          ]
        },
        {
          "name": "stderr",
          "output_type": "stream",
          "text": [
            "Processing:  17%|█▋        | 1732/10000 [3:01:57<7:35:48,  3.31s/it]"
          ]
        },
        {
          "name": "stdout",
          "output_type": "stream",
          "text": [
            "remove:  the message was one that I wanted my family to remember .\n"
          ]
        },
        {
          "name": "stderr",
          "output_type": "stream",
          "text": [
            "Processing:  17%|█▋        | 1733/10000 [3:01:59<6:28:49,  2.82s/it]"
          ]
        },
        {
          "name": "stdout",
          "output_type": "stream",
          "text": [
            "remove:  Lee Ann Womack applies her heart to this song .\n"
          ]
        },
        {
          "name": "stderr",
          "output_type": "stream",
          "text": [
            "Processing:  17%|█▋        | 1735/10000 [3:02:06<7:57:09,  3.46s/it]"
          ]
        },
        {
          "name": "stdout",
          "output_type": "stream",
          "text": [
            "remove:  Kevin J.\n"
          ]
        },
        {
          "name": "stderr",
          "output_type": "stream",
          "text": [
            "Processing:  17%|█▋        | 1737/10000 [3:02:21<11:54:16,  5.19s/it]"
          ]
        },
        {
          "name": "stdout",
          "output_type": "stream",
          "text": [
            "remove:  i grew up with the man !\n"
          ]
        },
        {
          "name": "stderr",
          "output_type": "stream",
          "text": [
            "Processing:  17%|█▋        | 1738/10000 [3:02:25<11:18:06,  4.92s/it]"
          ]
        },
        {
          "name": "stdout",
          "output_type": "stream",
          "text": [
            "remove:  Check it out .\n",
            "remove:  I give it five stars .\n"
          ]
        },
        {
          "name": "stderr",
          "output_type": "stream",
          "text": [
            "Processing:  18%|█▊        | 1753/10000 [3:03:15<4:18:30,  1.88s/it] "
          ]
        },
        {
          "name": "stdout",
          "output_type": "stream",
          "text": [
            "remove:  Rock on !\n"
          ]
        },
        {
          "name": "stderr",
          "output_type": "stream",
          "text": [
            "Processing:  18%|█▊        | 1761/10000 [3:03:47<7:54:16,  3.45s/it] "
          ]
        },
        {
          "name": "stdout",
          "output_type": "stream",
          "text": [
            "remove:  Must have .\n"
          ]
        },
        {
          "name": "stderr",
          "output_type": "stream",
          "text": [
            "Processing:  18%|█▊        | 1769/10000 [3:04:21<5:08:30,  2.25s/it] "
          ]
        },
        {
          "name": "stdout",
          "output_type": "stream",
          "text": [
            "remove:  Brings back memories !\n"
          ]
        },
        {
          "name": "stderr",
          "output_type": "stream",
          "text": [
            "Processing:  18%|█▊        | 1793/10000 [3:05:22<6:48:37,  2.99s/it]"
          ]
        },
        {
          "name": "stdout",
          "output_type": "stream",
          "text": [
            "remove:  Foot stomping music .\n"
          ]
        },
        {
          "name": "stderr",
          "output_type": "stream",
          "text": [
            "Processing:  18%|█▊        | 1800/10000 [3:05:44<5:41:44,  2.50s/it]"
          ]
        },
        {
          "name": "stdout",
          "output_type": "stream",
          "text": [
            "remove:  For some reason when I listen to the words I think of president Bush ?\n"
          ]
        },
        {
          "name": "stderr",
          "output_type": "stream",
          "text": [
            "Processing:  18%|█▊        | 1801/10000 [3:05:51<8:43:28,  3.83s/it]"
          ]
        },
        {
          "name": "stdout",
          "output_type": "stream",
          "text": [
            "remove:  SteppenWolf .\n"
          ]
        },
        {
          "name": "stderr",
          "output_type": "stream",
          "text": [
            "Processing:  18%|█▊        | 1804/10000 [3:06:09<10:46:57,  4.74s/it]"
          ]
        },
        {
          "name": "stdout",
          "output_type": "stream",
          "text": [
            "remove:  How do I find it ?\n"
          ]
        },
        {
          "name": "stderr",
          "output_type": "stream",
          "text": [
            "Processing:  18%|█▊        | 1806/10000 [3:06:19<11:15:57,  4.95s/it]"
          ]
        },
        {
          "name": "stdout",
          "output_type": "stream",
          "text": [
            "remove:  :)\n"
          ]
        },
        {
          "name": "stderr",
          "output_type": "stream",
          "text": [
            "Processing:  18%|█▊        | 1813/10000 [3:06:37<7:13:22,  3.18s/it] "
          ]
        },
        {
          "name": "stdout",
          "output_type": "stream",
          "text": [
            "remove:  It keeps my heart THUMPING !\n"
          ]
        },
        {
          "name": "stderr",
          "output_type": "stream",
          "text": [
            "Processing:  18%|█▊        | 1819/10000 [3:06:56<8:21:33,  3.68s/it]"
          ]
        },
        {
          "name": "stdout",
          "output_type": "stream",
          "text": [
            "remove:  Hehehe .\n"
          ]
        },
        {
          "name": "stderr",
          "output_type": "stream",
          "text": [
            "Processing:  18%|█▊        | 1823/10000 [3:07:19<10:16:33,  4.52s/it]"
          ]
        },
        {
          "name": "stdout",
          "output_type": "stream",
          "text": [
            "remove:  -Kris L. CocKayne-\n"
          ]
        },
        {
          "name": "stderr",
          "output_type": "stream",
          "text": [
            "Processing:  18%|█▊        | 1830/10000 [3:07:47<7:44:09,  3.41s/it] "
          ]
        },
        {
          "name": "stdout",
          "output_type": "stream",
          "text": [
            "remove:  k\n"
          ]
        },
        {
          "name": "stderr",
          "output_type": "stream",
          "text": [
            "Processing:  18%|█▊        | 1833/10000 [3:07:50<4:39:49,  2.06s/it]"
          ]
        },
        {
          "name": "stdout",
          "output_type": "stream",
          "text": [
            "remove:  It 's rush ...\n"
          ]
        },
        {
          "name": "stderr",
          "output_type": "stream",
          "text": [
            "Processing:  18%|█▊        | 1836/10000 [3:07:54<3:50:43,  1.70s/it]"
          ]
        },
        {
          "name": "stdout",
          "output_type": "stream",
          "text": [
            "remove:  k\n"
          ]
        },
        {
          "name": "stderr",
          "output_type": "stream",
          "text": [
            "Processing:  18%|█▊        | 1850/10000 [3:08:57<4:42:42,  2.08s/it] "
          ]
        },
        {
          "name": "stdout",
          "output_type": "stream",
          "text": [
            "remove:  k\n"
          ]
        },
        {
          "name": "stderr",
          "output_type": "stream",
          "text": [
            "Processing:  19%|█▊        | 1852/10000 [3:09:00<4:08:58,  1.83s/it]"
          ]
        },
        {
          "name": "stdout",
          "output_type": "stream",
          "text": [
            "remove:  What can I say ?\n",
            "remove:  This is Tom Sawyer by Rush man !\n"
          ]
        },
        {
          "name": "stderr",
          "output_type": "stream",
          "text": [
            "Processing:  19%|█▊        | 1854/10000 [3:09:03<3:51:27,  1.70s/it]"
          ]
        },
        {
          "name": "stdout",
          "output_type": "stream",
          "text": [
            "remove:  It 's rush ...\n"
          ]
        },
        {
          "name": "stderr",
          "output_type": "stream",
          "text": [
            "Processing:  19%|█▊        | 1874/10000 [3:10:06<9:44:25,  4.32s/it]"
          ]
        },
        {
          "name": "stdout",
          "output_type": "stream",
          "text": [
            "remove:  Crank up the drums , crank out the bass , crank up my Les Paul in your face !\n"
          ]
        },
        {
          "name": "stderr",
          "output_type": "stream",
          "text": [
            "Processing:  19%|█▉        | 1887/10000 [3:10:53<11:13:24,  4.98s/it]"
          ]
        },
        {
          "name": "stdout",
          "output_type": "stream",
          "text": [
            "remove:  Come on ......\n"
          ]
        },
        {
          "name": "stderr",
          "output_type": "stream",
          "text": [
            "Processing:  19%|█▉        | 1893/10000 [3:11:10<5:05:13,  2.26s/it] "
          ]
        },
        {
          "name": "stdout",
          "output_type": "stream",
          "text": [
            "remove:  Timeless\n",
            "remove:  quality sound\n"
          ]
        },
        {
          "name": "stderr",
          "output_type": "stream",
          "text": [
            "Processing:  19%|█▉        | 1894/10000 [3:11:11<4:36:05,  2.04s/it]"
          ]
        },
        {
          "name": "stdout",
          "output_type": "stream",
          "text": [
            "remove:  jb\n"
          ]
        },
        {
          "name": "stderr",
          "output_type": "stream",
          "text": [
            "Processing:  19%|█▉        | 1896/10000 [3:11:21<7:49:34,  3.48s/it]"
          ]
        },
        {
          "name": "stdout",
          "output_type": "stream",
          "text": [
            "remove:  This is the song that everyone needs to have in thier collection .\n"
          ]
        },
        {
          "name": "stderr",
          "output_type": "stream",
          "text": [
            "Processing:  19%|█▉        | 1898/10000 [3:11:33<11:17:40,  5.02s/it]"
          ]
        },
        {
          "name": "stdout",
          "output_type": "stream",
          "text": [
            "remove:  2 1/2\n"
          ]
        },
        {
          "name": "stderr",
          "output_type": "stream",
          "text": [
            "Processing:  19%|█▉        | 1900/10000 [3:11:38<8:53:02,  3.95s/it] "
          ]
        },
        {
          "name": "stdout",
          "output_type": "stream",
          "text": [
            "remove:  She sings 7 of the 14 songs .\n",
            "remove:  Esp .\n"
          ]
        },
        {
          "name": "stderr",
          "output_type": "stream",
          "text": [
            "Processing:  19%|█▉        | 1929/10000 [3:13:31<7:26:47,  3.32s/it] "
          ]
        },
        {
          "name": "stdout",
          "output_type": "stream",
          "text": [
            "remove:  A must have .\n"
          ]
        },
        {
          "name": "stderr",
          "output_type": "stream",
          "text": [
            "Processing:  19%|█▉        | 1930/10000 [3:13:34<7:26:58,  3.32s/it]"
          ]
        },
        {
          "name": "stdout",
          "output_type": "stream",
          "text": [
            "remove:  It 's ' Steppenwolf' ...\n"
          ]
        },
        {
          "name": "stderr",
          "output_type": "stream",
          "text": [
            "Processing:  19%|█▉        | 1934/10000 [3:13:53<9:22:08,  4.18s/it] "
          ]
        },
        {
          "name": "stdout",
          "output_type": "stream",
          "text": [
            "remove:  I will put in car .\n"
          ]
        },
        {
          "name": "stderr",
          "output_type": "stream",
          "text": [
            "Processing:  19%|█▉        | 1937/10000 [3:14:12<13:05:54,  5.85s/it]"
          ]
        },
        {
          "name": "stdout",
          "output_type": "stream",
          "text": [
            "remove:  You can try before you buy and you can buy the album are the one song .\n",
            "remove:  I\n"
          ]
        },
        {
          "name": "stderr",
          "output_type": "stream",
          "text": [
            "Processing:  20%|█▉        | 1954/10000 [3:14:52<7:26:46,  3.33s/it] "
          ]
        },
        {
          "name": "stdout",
          "output_type": "stream",
          "text": [
            "remove:  It 's rush ...\n"
          ]
        },
        {
          "name": "stderr",
          "output_type": "stream",
          "text": [
            "Processing:  20%|█▉        | 1964/10000 [3:15:22<8:33:11,  3.83s/it]"
          ]
        },
        {
          "name": "stdout",
          "output_type": "stream",
          "text": [
            "remove:  What can I say ?\n",
            "remove:  A must have for your Sammy collection .\n"
          ]
        },
        {
          "name": "stderr",
          "output_type": "stream",
          "text": [
            "Processing:  20%|█▉        | 1965/10000 [3:15:24<7:09:55,  3.21s/it]"
          ]
        },
        {
          "name": "stdout",
          "output_type": "stream",
          "text": [
            "remove:  Saw Ricky Nelson when I was college .\n",
            "remove:  I wanted song on my Kindle .\n"
          ]
        },
        {
          "name": "stderr",
          "output_type": "stream",
          "text": [
            "Processing:  20%|█▉        | 1966/10000 [3:15:27<7:09:42,  3.21s/it]"
          ]
        },
        {
          "name": "stdout",
          "output_type": "stream",
          "text": [
            "remove:  THERE IS A STORY BEHIND THIS ABOUT WHY AND HOW RICKY NELSON WROTE THIS SONG ...\n"
          ]
        },
        {
          "name": "stderr",
          "output_type": "stream",
          "text": [
            "Processing:  20%|█▉        | 1977/10000 [3:16:03<8:49:11,  3.96s/it] "
          ]
        },
        {
          "name": "stdout",
          "output_type": "stream",
          "text": [
            "remove:  One of those songs that jammed the dance floor .\n"
          ]
        },
        {
          "name": "stderr",
          "output_type": "stream",
          "text": [
            "Processing:  20%|█▉        | 1979/10000 [3:16:13<9:57:00,  4.47s/it]"
          ]
        },
        {
          "name": "stdout",
          "output_type": "stream",
          "text": [
            "remove:  Listen to Alicia de Larroucha perform the suite as it should be , on piano .\n"
          ]
        },
        {
          "name": "stderr",
          "output_type": "stream",
          "text": [
            "Processing:  20%|█▉        | 1981/10000 [3:16:39<17:55:18,  8.05s/it]"
          ]
        },
        {
          "name": "stdout",
          "output_type": "stream",
          "text": [
            "remove:  This is the radio version of this song that I was looking for .\n",
            "remove:  This is the version by Mary J. Blige ( as stated ) and is the remake of the Rose Royce version .\n"
          ]
        },
        {
          "name": "stderr",
          "output_type": "stream",
          "text": [
            "Processing:  20%|█▉        | 1989/10000 [3:17:08<9:15:00,  4.16s/it] "
          ]
        },
        {
          "name": "stdout",
          "output_type": "stream",
          "text": [
            "remove:  Check it out .\n"
          ]
        },
        {
          "name": "stderr",
          "output_type": "stream",
          "text": [
            "Processing:  20%|█▉        | 1990/10000 [3:17:14<10:22:58,  4.67s/it]"
          ]
        },
        {
          "name": "stdout",
          "output_type": "stream",
          "text": [
            "remove:  I know this song because we have all walk a mile in this shoes .\n"
          ]
        },
        {
          "name": "stderr",
          "output_type": "stream",
          "text": [
            "Processing:  20%|█▉        | 1994/10000 [3:17:25<6:26:43,  2.90s/it] "
          ]
        },
        {
          "name": "stdout",
          "output_type": "stream",
          "text": [
            "remove:  This was one .\n"
          ]
        },
        {
          "name": "stderr",
          "output_type": "stream",
          "text": [
            "Processing:  20%|██        | 2008/10000 [3:18:01<3:54:26,  1.76s/it]"
          ]
        },
        {
          "name": "stdout",
          "output_type": "stream",
          "text": [
            "remove:  I had to have it .\n"
          ]
        },
        {
          "name": "stderr",
          "output_type": "stream",
          "text": [
            "Processing:  20%|██        | 2016/10000 [3:19:27<32:35:13, 14.69s/it]"
          ]
        },
        {
          "name": "stdout",
          "output_type": "stream",
          "text": [
            "remove:  The year is 1968 and the model of the Enterprise is on the market .\n",
            "remove:  Spanky and Our Gang is on the Radio .\n"
          ]
        },
        {
          "name": "stderr",
          "output_type": "stream",
          "text": [
            "Processing:  20%|██        | 2019/10000 [3:19:36<15:16:20,  6.89s/it]"
          ]
        },
        {
          "name": "stdout",
          "output_type": "stream",
          "text": [
            "remove:  LISTENED TO THIS ONE AND HAD TO HAVE IT .\n"
          ]
        },
        {
          "name": "stderr",
          "output_type": "stream",
          "text": [
            "Processing:  20%|██        | 2021/10000 [3:19:42<11:27:36,  5.17s/it]"
          ]
        },
        {
          "name": "stdout",
          "output_type": "stream",
          "text": [
            "remove:  This one shows the band at their peak .\n"
          ]
        },
        {
          "name": "stderr",
          "output_type": "stream",
          "text": [
            "Processing:  20%|██        | 2022/10000 [3:19:45<10:02:31,  4.53s/it]"
          ]
        },
        {
          "name": "stdout",
          "output_type": "stream",
          "text": [
            "remove:  In 1992 P.J. Harvey released her debut LP .\n"
          ]
        },
        {
          "name": "stderr",
          "output_type": "stream",
          "text": [
            "Processing:  20%|██        | 2024/10000 [3:20:16<20:38:57,  9.32s/it]"
          ]
        },
        {
          "name": "stdout",
          "output_type": "stream",
          "text": [
            "remove:  The Rockets were the Backup Band that night .\n"
          ]
        },
        {
          "name": "stderr",
          "output_type": "stream",
          "text": [
            "Processing:  20%|██        | 2025/10000 [3:20:43<32:16:30, 14.57s/it]"
          ]
        },
        {
          "name": "stdout",
          "output_type": "stream",
          "text": [
            "remove:  Originals .\n"
          ]
        },
        {
          "name": "stderr",
          "output_type": "stream",
          "text": [
            "Processing:  20%|██        | 2030/10000 [3:20:59<12:10:58,  5.50s/it]"
          ]
        },
        {
          "name": "stdout",
          "output_type": "stream",
          "text": [
            "remove:  How you doing ! \"\n"
          ]
        },
        {
          "name": "stderr",
          "output_type": "stream",
          "text": [
            "Processing:  20%|██        | 2035/10000 [3:21:19<7:27:29,  3.37s/it] "
          ]
        },
        {
          "name": "stdout",
          "output_type": "stream",
          "text": [
            "remove:  It is a five star collection .\n"
          ]
        },
        {
          "name": "stderr",
          "output_type": "stream",
          "text": [
            "Processing:  20%|██        | 2039/10000 [3:21:49<9:46:59,  4.42s/it] "
          ]
        },
        {
          "name": "stdout",
          "output_type": "stream",
          "text": [
            "remove:  These are the artists that made rock and roll .\n"
          ]
        },
        {
          "name": "stderr",
          "output_type": "stream",
          "text": [
            "Processing:  20%|██        | 2041/10000 [3:21:56<8:57:07,  4.05s/it]"
          ]
        },
        {
          "name": "stdout",
          "output_type": "stream",
          "text": [
            "remove:  '\n"
          ]
        },
        {
          "name": "stderr",
          "output_type": "stream",
          "text": [
            "Processing:  20%|██        | 2042/10000 [3:22:15<18:59:41,  8.59s/it]"
          ]
        },
        {
          "name": "stdout",
          "output_type": "stream",
          "text": [
            "remove:  This is why I ask where did this version of JIMMY MACK come from ?\n"
          ]
        },
        {
          "name": "stderr",
          "output_type": "stream",
          "text": [
            "Processing:  20%|██        | 2047/10000 [3:23:02<16:15:44,  7.36s/it]"
          ]
        },
        {
          "name": "stdout",
          "output_type": "stream",
          "text": [
            "remove:  I bought this song by downloading it to my computer .\n"
          ]
        },
        {
          "name": "stderr",
          "output_type": "stream",
          "text": [
            "Processing:  21%|██        | 2054/10000 [3:23:21<7:50:23,  3.55s/it] "
          ]
        },
        {
          "name": "stdout",
          "output_type": "stream",
          "text": [
            "remove:  CHaka Khan was Rufus\n"
          ]
        },
        {
          "name": "stderr",
          "output_type": "stream",
          "text": [
            "Processing:  21%|██        | 2055/10000 [3:23:26<8:43:20,  3.95s/it]"
          ]
        },
        {
          "name": "stdout",
          "output_type": "stream",
          "text": [
            "remove:  what can be said ?\n",
            "remove:  And Chaka ...\n",
            "remove:  What a voice ! !\n"
          ]
        },
        {
          "name": "stderr",
          "output_type": "stream",
          "text": [
            "Processing:  21%|██        | 2057/10000 [3:23:34<9:00:18,  4.08s/it]"
          ]
        },
        {
          "name": "stdout",
          "output_type": "stream",
          "text": [
            "remove:  This song was for her .\n"
          ]
        },
        {
          "name": "stderr",
          "output_type": "stream",
          "text": [
            "Processing:  21%|██        | 2068/10000 [3:23:52<3:34:52,  1.63s/it]"
          ]
        },
        {
          "name": "stdout",
          "output_type": "stream",
          "text": [
            "remove:  It 's rush ...\n"
          ]
        },
        {
          "name": "stderr",
          "output_type": "stream",
          "text": [
            "Processing:  21%|██        | 2074/10000 [3:24:08<5:18:05,  2.41s/it]"
          ]
        },
        {
          "name": "stdout",
          "output_type": "stream",
          "text": [
            "remove:  The lady can SING !\n"
          ]
        },
        {
          "name": "stderr",
          "output_type": "stream",
          "text": [
            "Processing:  21%|██        | 2084/10000 [3:24:41<8:29:25,  3.86s/it]"
          ]
        },
        {
          "name": "stdout",
          "output_type": "stream",
          "text": [
            "remove:  Add to your collection\n"
          ]
        },
        {
          "name": "stderr",
          "output_type": "stream",
          "text": [
            "Processing:  21%|██        | 2091/10000 [3:25:08<10:08:49,  4.62s/it]"
          ]
        },
        {
          "name": "stdout",
          "output_type": "stream",
          "text": [
            "remove:  This is one of those songs to introduce them to !\n"
          ]
        },
        {
          "name": "stderr",
          "output_type": "stream",
          "text": [
            "Processing:  21%|██        | 2092/10000 [3:25:18<13:48:00,  6.28s/it]"
          ]
        },
        {
          "name": "stdout",
          "output_type": "stream",
          "text": [
            "remove:  Arc Of A Diver is the beginning of   Winwood where he redefines himself .\n",
            "remove:  The album 's mix is below par .\n"
          ]
        },
        {
          "name": "stderr",
          "output_type": "stream",
          "text": [
            "Processing:  21%|██        | 2093/10000 [3:25:40<24:28:54, 11.15s/it]"
          ]
        },
        {
          "name": "stdout",
          "output_type": "stream",
          "text": [
            "remove:  To my way of thinking ?\n"
          ]
        },
        {
          "name": "stderr",
          "output_type": "stream",
          "text": [
            "Processing:  21%|██        | 2095/10000 [3:26:34<39:40:24, 18.07s/it]"
          ]
        },
        {
          "name": "stdout",
          "output_type": "stream",
          "text": [
            "remove:  Those reviewers who are trashing it should give it another listen .\n"
          ]
        },
        {
          "name": "stderr",
          "output_type": "stream",
          "text": [
            "Processing:  21%|██        | 2097/10000 [3:26:46<26:04:05, 11.87s/it]"
          ]
        },
        {
          "name": "stdout",
          "output_type": "stream",
          "text": [
            "remove:  They are \" Slowdown Sundown . \"\n"
          ]
        },
        {
          "name": "stderr",
          "output_type": "stream",
          "text": [
            "Processing:  21%|██        | 2109/10000 [3:28:49<7:08:50,  3.26s/it] "
          ]
        },
        {
          "name": "stdout",
          "output_type": "stream",
          "text": [
            "remove:  Dio Rocks\n"
          ]
        },
        {
          "name": "stderr",
          "output_type": "stream",
          "text": [
            "Processing:  21%|██        | 2112/10000 [3:29:07<11:47:45,  5.38s/it]"
          ]
        },
        {
          "name": "stdout",
          "output_type": "stream",
          "text": [
            "remove:  5 GB = 1000 songs ! !\n"
          ]
        },
        {
          "name": "stderr",
          "output_type": "stream",
          "text": [
            "Processing:  21%|██        | 2116/10000 [3:29:19<6:50:35,  3.12s/it] "
          ]
        },
        {
          "name": "stdout",
          "output_type": "stream",
          "text": [
            "remove:  This one is his show of digits .\n"
          ]
        },
        {
          "name": "stderr",
          "output_type": "stream",
          "text": [
            "Processing:  21%|██▏       | 2129/10000 [3:30:03<6:49:51,  3.12s/it] "
          ]
        },
        {
          "name": "stdout",
          "output_type": "stream",
          "text": [
            "remove:  SOME WAY SOME HOW ...\n"
          ]
        },
        {
          "name": "stderr",
          "output_type": "stream",
          "text": [
            "Processing:  21%|██▏       | 2130/10000 [3:30:10<9:27:05,  4.32s/it]"
          ]
        },
        {
          "name": "stdout",
          "output_type": "stream",
          "text": [
            "remove:  Heard it on a movie .\n"
          ]
        },
        {
          "name": "stderr",
          "output_type": "stream",
          "text": [
            "Processing:  21%|██▏       | 2141/10000 [3:30:50<7:58:14,  3.65s/it]"
          ]
        },
        {
          "name": "stdout",
          "output_type": "stream",
          "text": [
            "remove:  How we could all feel .\n"
          ]
        },
        {
          "name": "stderr",
          "output_type": "stream",
          "text": [
            "Processing:  21%|██▏       | 2146/10000 [3:31:04<7:03:55,  3.24s/it]"
          ]
        },
        {
          "name": "stdout",
          "output_type": "stream",
          "text": [
            "remove:  You get it \" on the spot \" !\n"
          ]
        },
        {
          "name": "stderr",
          "output_type": "stream",
          "text": [
            "Processing:  21%|██▏       | 2147/10000 [3:31:08<7:24:41,  3.40s/it]"
          ]
        },
        {
          "name": "stdout",
          "output_type": "stream",
          "text": [
            "remove:  We purchased the song for our vow renewal .\n"
          ]
        },
        {
          "name": "stderr",
          "output_type": "stream",
          "text": [
            "Processing:  21%|██▏       | 2148/10000 [3:31:13<8:23:14,  3.85s/it]"
          ]
        },
        {
          "name": "stdout",
          "output_type": "stream",
          "text": [
            "remove:  Close your eyes and rock your hips .\n"
          ]
        },
        {
          "name": "stderr",
          "output_type": "stream",
          "text": [
            "Processing:  22%|██▏       | 2151/10000 [3:31:26<8:05:14,  3.71s/it] "
          ]
        },
        {
          "name": "stdout",
          "output_type": "stream",
          "text": [
            "remove:  Song : B+\n"
          ]
        },
        {
          "name": "stderr",
          "output_type": "stream",
          "text": [
            "Processing:  22%|██▏       | 2152/10000 [3:31:40<14:46:17,  6.78s/it]"
          ]
        },
        {
          "name": "stdout",
          "output_type": "stream",
          "text": [
            "remove:  Song : B+\n"
          ]
        },
        {
          "name": "stderr",
          "output_type": "stream",
          "text": [
            "Processing:  22%|██▏       | 2160/10000 [3:32:08<4:50:07,  2.22s/it] "
          ]
        },
        {
          "name": "stdout",
          "output_type": "stream",
          "text": [
            "remove:  had to have it downloaded .\n"
          ]
        },
        {
          "name": "stderr",
          "output_type": "stream",
          "text": [
            "Processing:  22%|██▏       | 2165/10000 [3:32:25<7:08:21,  3.28s/it]"
          ]
        },
        {
          "name": "stdout",
          "output_type": "stream",
          "text": [
            "remove:  this is one of my favs .\n"
          ]
        },
        {
          "name": "stderr",
          "output_type": "stream",
          "text": [
            "Processing:  22%|██▏       | 2166/10000 [3:32:28<7:07:42,  3.28s/it]"
          ]
        },
        {
          "name": "stdout",
          "output_type": "stream",
          "text": [
            "remove:  Read about it on Wikipedia .\n"
          ]
        },
        {
          "name": "stderr",
          "output_type": "stream",
          "text": [
            "Processing:  22%|██▏       | 2172/10000 [3:32:45<5:02:07,  2.32s/it]"
          ]
        },
        {
          "name": "stdout",
          "output_type": "stream",
          "text": [
            "remove:  I had to have it .\n"
          ]
        },
        {
          "name": "stderr",
          "output_type": "stream",
          "text": [
            "Processing:  22%|██▏       | 2179/10000 [3:33:10<6:13:26,  2.86s/it]"
          ]
        },
        {
          "name": "stdout",
          "output_type": "stream",
          "text": [
            "remove:  Aaaa , aaa , aaa says it all !\n",
            "remove:  I told you , told you !\n"
          ]
        },
        {
          "name": "stderr",
          "output_type": "stream",
          "text": [
            "Processing:  22%|██▏       | 2203/10000 [3:34:21<7:51:24,  3.63s/it] "
          ]
        },
        {
          "name": "stdout",
          "output_type": "stream",
          "text": [
            "remove:  You get it \" on the spot \" !\n"
          ]
        },
        {
          "name": "stderr",
          "output_type": "stream",
          "text": [
            "Processing:  22%|██▏       | 2210/10000 [3:34:36<4:18:14,  1.99s/it]"
          ]
        },
        {
          "name": "stdout",
          "output_type": "stream",
          "text": [
            "remove:  3tv ?\n"
          ]
        },
        {
          "name": "stderr",
          "output_type": "stream",
          "text": [
            "Processing:  22%|██▏       | 2223/10000 [3:35:12<5:06:25,  2.36s/it] "
          ]
        },
        {
          "name": "stdout",
          "output_type": "stream",
          "text": [
            "remove:  I wanted this for my collection .\n"
          ]
        },
        {
          "name": "stderr",
          "output_type": "stream",
          "text": [
            "Processing:  22%|██▏       | 2226/10000 [3:35:22<6:15:27,  2.90s/it]"
          ]
        },
        {
          "name": "stdout",
          "output_type": "stream",
          "text": [
            "remove:  ( \" Pi - ojo , Pi - ojo , Pi - ojo \" )\n"
          ]
        },
        {
          "name": "stderr",
          "output_type": "stream",
          "text": [
            "Processing:  22%|██▏       | 2227/10000 [3:35:32<11:17:17,  5.23s/it]"
          ]
        },
        {
          "name": "stdout",
          "output_type": "stream",
          "text": [
            "remove:  The police have been a bit hit back ine day .\n"
          ]
        },
        {
          "name": "stderr",
          "output_type": "stream",
          "text": [
            "Processing:  22%|██▏       | 2229/10000 [3:35:37<8:02:54,  3.73s/it] "
          ]
        },
        {
          "name": "stdout",
          "output_type": "stream",
          "text": [
            "remove:  Was reminded of this as we watched\n"
          ]
        },
        {
          "name": "stderr",
          "output_type": "stream",
          "text": [
            "Processing:  22%|██▏       | 2236/10000 [3:36:11<13:53:51,  6.44s/it]"
          ]
        },
        {
          "name": "stdout",
          "output_type": "stream",
          "text": [
            "remove:  listen to it every day\n"
          ]
        },
        {
          "name": "stderr",
          "output_type": "stream",
          "text": [
            "Processing:  22%|██▏       | 2240/10000 [3:36:29<10:33:56,  4.90s/it]"
          ]
        },
        {
          "name": "stdout",
          "output_type": "stream",
          "text": [
            "remove:  Sample it for yourself and see .\n"
          ]
        },
        {
          "name": "stderr",
          "output_type": "stream",
          "text": [
            "Processing:  22%|██▏       | 2242/10000 [3:36:38<9:58:32,  4.63s/it] "
          ]
        },
        {
          "name": "stdout",
          "output_type": "stream",
          "text": [
            "remove:  I 'm in a Weezer mood today .\n"
          ]
        },
        {
          "name": "stderr",
          "output_type": "stream",
          "text": [
            "Processing:  22%|██▏       | 2246/10000 [3:37:25<16:35:23,  7.70s/it]"
          ]
        },
        {
          "name": "stdout",
          "output_type": "stream",
          "text": [
            "remove:  Rivers starts singing at 0:52\n",
            "remove:  [ 8 minutes ] .\n",
            "remove:  It had a guitar intro that reminded me of the intro for My Name is Jonas .\n"
          ]
        },
        {
          "name": "stderr",
          "output_type": "stream",
          "text": [
            "Processing:  22%|██▏       | 2248/10000 [3:38:52<48:02:00, 22.31s/it]"
          ]
        },
        {
          "name": "stdout",
          "output_type": "stream",
          "text": [
            "remove:  This DOES go both ways .\n",
            "remove:  OWNED !\n",
            "remove:  ;)\n"
          ]
        },
        {
          "name": "stderr",
          "output_type": "stream",
          "text": [
            "Processing:  22%|██▎       | 2250/10000 [3:40:44<75:29:48, 35.07s/it] "
          ]
        },
        {
          "name": "stdout",
          "output_type": "stream",
          "text": [
            "remove:  That 's why this one has stood the test of time .\n"
          ]
        },
        {
          "name": "stderr",
          "output_type": "stream",
          "text": [
            "Processing:  23%|██▎       | 2252/10000 [3:41:06<47:21:53, 22.01s/it]"
          ]
        },
        {
          "name": "stdout",
          "output_type": "stream",
          "text": [
            "remove:  The answer ?\n",
            "remove:  You 've heard it , you know .\n"
          ]
        },
        {
          "name": "stderr",
          "output_type": "stream",
          "text": [
            "Processing:  23%|██▎       | 2263/10000 [3:42:58<8:01:49,  3.74s/it] "
          ]
        },
        {
          "name": "stdout",
          "output_type": "stream",
          "text": [
            "remove:  Will get you jumping out of your sneakers before a workout .\n"
          ]
        },
        {
          "name": "stderr",
          "output_type": "stream",
          "text": [
            "Processing:  23%|██▎       | 2268/10000 [3:43:06<3:32:19,  1.65s/it]"
          ]
        },
        {
          "name": "stdout",
          "output_type": "stream",
          "text": [
            "remove:  it is what it is\n",
            "remove:  Crank it\n"
          ]
        },
        {
          "name": "stderr",
          "output_type": "stream",
          "text": [
            "Processing:  23%|██▎       | 2285/10000 [3:43:53<5:33:44,  2.60s/it]"
          ]
        },
        {
          "name": "stdout",
          "output_type": "stream",
          "text": [
            "remove:  Unique\n"
          ]
        },
        {
          "name": "stderr",
          "output_type": "stream",
          "text": [
            "Processing:  23%|██▎       | 2287/10000 [3:44:03<8:10:04,  3.81s/it]"
          ]
        },
        {
          "name": "stdout",
          "output_type": "stream",
          "text": [
            "remove:  I used to listen to this with my mom .\n"
          ]
        },
        {
          "name": "stderr",
          "output_type": "stream",
          "text": [
            "Processing:  23%|██▎       | 2300/10000 [3:44:38<6:23:11,  2.99s/it]"
          ]
        },
        {
          "name": "stdout",
          "output_type": "stream",
          "text": [
            "remove:  The rhythm - that says it all .\n"
          ]
        },
        {
          "name": "stderr",
          "output_type": "stream",
          "text": [
            "Processing:  23%|██▎       | 2312/10000 [3:44:58<3:14:59,  1.52s/it]"
          ]
        },
        {
          "name": "stdout",
          "output_type": "stream",
          "text": [
            "remove:  as advertised\n"
          ]
        },
        {
          "name": "stderr",
          "output_type": "stream",
          "text": [
            "Processing:  23%|██▎       | 2314/10000 [3:44:59<2:27:00,  1.15s/it]"
          ]
        },
        {
          "name": "stdout",
          "output_type": "stream",
          "text": [
            "remove:  Thumbs up !\n"
          ]
        },
        {
          "name": "stderr",
          "output_type": "stream",
          "text": [
            "Processing:  23%|██▎       | 2319/10000 [3:45:05<2:54:33,  1.36s/it]"
          ]
        },
        {
          "name": "stdout",
          "output_type": "stream",
          "text": [
            "remove:  k\n",
            "remove:  There was someone in my life that I related to when I heard that song .\n"
          ]
        },
        {
          "name": "stderr",
          "output_type": "stream",
          "text": [
            "Processing:  23%|██▎       | 2326/10000 [3:45:27<6:52:43,  3.23s/it]"
          ]
        },
        {
          "name": "stdout",
          "output_type": "stream",
          "text": [
            "remove:  After payment that should be the end of my obligation .\n"
          ]
        },
        {
          "name": "stderr",
          "output_type": "stream",
          "text": [
            "Processing:  23%|██▎       | 2327/10000 [3:45:33<8:05:02,  3.79s/it]"
          ]
        },
        {
          "name": "stdout",
          "output_type": "stream",
          "text": [
            "remove:  Song : A\n"
          ]
        },
        {
          "name": "stderr",
          "output_type": "stream",
          "text": [
            "Processing:  23%|██▎       | 2333/10000 [3:46:08<10:26:27,  4.90s/it]"
          ]
        },
        {
          "name": "stdout",
          "output_type": "stream",
          "text": [
            "remove:  It 's been a while since I 've listened to it\n"
          ]
        },
        {
          "name": "stderr",
          "output_type": "stream",
          "text": [
            "Processing:  23%|██▎       | 2336/10000 [3:46:22<10:17:56,  4.84s/it]"
          ]
        },
        {
          "name": "stdout",
          "output_type": "stream",
          "text": [
            "remove:  I plan on singing this one when I perform .\n"
          ]
        },
        {
          "name": "stderr",
          "output_type": "stream",
          "text": [
            "Processing:  24%|██▎       | 2355/10000 [3:47:19<10:00:19,  4.71s/it]"
          ]
        },
        {
          "name": "stdout",
          "output_type": "stream",
          "text": [
            "remove:  You get it \" on the spot \" !\n"
          ]
        },
        {
          "name": "stderr",
          "output_type": "stream",
          "text": [
            "Processing:  24%|██▎       | 2358/10000 [3:47:32<8:51:50,  4.18s/it] "
          ]
        },
        {
          "name": "stdout",
          "output_type": "stream",
          "text": [
            "remove:  For a music connoisseur , Amazon.com is the site to visit !\n"
          ]
        },
        {
          "name": "stderr",
          "output_type": "stream",
          "text": [
            "Processing:  24%|██▎       | 2359/10000 [3:47:37<9:39:37,  4.55s/it]"
          ]
        },
        {
          "name": "stdout",
          "output_type": "stream",
          "text": [
            "remove:  Nuff said ! !\n"
          ]
        },
        {
          "name": "stderr",
          "output_type": "stream",
          "text": [
            "Processing:  24%|██▎       | 2361/10000 [3:47:46<9:48:46,  4.62s/it]"
          ]
        },
        {
          "name": "stdout",
          "output_type": "stream",
          "text": [
            "remove:  We 're all searching for it , we all need it .\n",
            "remove:  You said it brother .\n",
            "remove:  Yea man .\n"
          ]
        },
        {
          "name": "stderr",
          "output_type": "stream",
          "text": [
            "Processing:  24%|██▍       | 2380/10000 [3:48:50<3:21:23,  1.59s/it] "
          ]
        },
        {
          "name": "stdout",
          "output_type": "stream",
          "text": [
            "remove:  :)\n"
          ]
        },
        {
          "name": "stderr",
          "output_type": "stream",
          "text": [
            "Processing:  24%|██▍       | 2386/10000 [3:49:08<5:49:18,  2.75s/it]"
          ]
        },
        {
          "name": "stdout",
          "output_type": "stream",
          "text": [
            "remove:  It holds lots of meaning to me .\n"
          ]
        },
        {
          "name": "stderr",
          "output_type": "stream",
          "text": [
            "Processing:  24%|██▍       | 2387/10000 [3:49:11<6:09:51,  2.91s/it]"
          ]
        },
        {
          "name": "stdout",
          "output_type": "stream",
          "text": [
            "remove:  Oldies must have -- period .\n"
          ]
        },
        {
          "name": "stderr",
          "output_type": "stream",
          "text": [
            "Processing:  24%|██▍       | 2401/10000 [3:49:32<2:59:04,  1.41s/it]"
          ]
        },
        {
          "name": "stdout",
          "output_type": "stream",
          "text": [
            "remove:  Amen .\n"
          ]
        },
        {
          "name": "stderr",
          "output_type": "stream",
          "text": [
            "Processing:  24%|██▍       | 2406/10000 [3:49:56<8:45:11,  4.15s/it]"
          ]
        },
        {
          "name": "stdout",
          "output_type": "stream",
          "text": [
            "remove:  Touch 's the soul\n"
          ]
        },
        {
          "name": "stderr",
          "output_type": "stream",
          "text": [
            "Processing:  24%|██▍       | 2407/10000 [3:49:58<7:06:26,  3.37s/it]"
          ]
        },
        {
          "name": "stdout",
          "output_type": "stream",
          "text": [
            "remove:  you are looking at reviews ?\n"
          ]
        },
        {
          "name": "stderr",
          "output_type": "stream",
          "text": [
            "Processing:  24%|██▍       | 2412/10000 [3:50:07<4:03:38,  1.93s/it]"
          ]
        },
        {
          "name": "stdout",
          "output_type": "stream",
          "text": [
            "remove:  All expectations met\n"
          ]
        },
        {
          "name": "stderr",
          "output_type": "stream",
          "text": [
            "Processing:  24%|██▍       | 2413/10000 [3:50:09<3:45:00,  1.78s/it]"
          ]
        },
        {
          "name": "stdout",
          "output_type": "stream",
          "text": [
            "remove:  Plus plus plus\n"
          ]
        },
        {
          "name": "stderr",
          "output_type": "stream",
          "text": [
            "Processing:  24%|██▍       | 2418/10000 [3:50:14<2:50:03,  1.35s/it]"
          ]
        },
        {
          "name": "stdout",
          "output_type": "stream",
          "text": [
            "remove:  Wanted it after I heard it in Chungking Express !\n"
          ]
        },
        {
          "name": "stderr",
          "output_type": "stream",
          "text": [
            "Processing:  24%|██▍       | 2435/10000 [3:51:00<6:52:54,  3.27s/it]"
          ]
        },
        {
          "name": "stdout",
          "output_type": "stream",
          "text": [
            "remove:  It had been years since I heard this one .\n"
          ]
        },
        {
          "name": "stderr",
          "output_type": "stream",
          "text": [
            "Processing:  24%|██▍       | 2441/10000 [3:51:16<5:25:35,  2.58s/it]"
          ]
        },
        {
          "name": "stdout",
          "output_type": "stream",
          "text": [
            "remove:  I understand Vince wrote it for his brother .\n"
          ]
        },
        {
          "name": "stderr",
          "output_type": "stream",
          "text": [
            "Processing:  25%|██▍       | 2453/10000 [3:51:39<4:34:15,  2.18s/it]"
          ]
        },
        {
          "name": "stdout",
          "output_type": "stream",
          "text": [
            "remove:  Added this to my walking music .\n"
          ]
        },
        {
          "name": "stderr",
          "output_type": "stream",
          "text": [
            "Processing:  25%|██▍       | 2462/10000 [3:52:01<6:08:28,  2.93s/it]"
          ]
        },
        {
          "name": "stdout",
          "output_type": "stream",
          "text": [
            "remove:  What can you say ?\n",
            "remove:  It 's the Mamas and the Papas .\n"
          ]
        },
        {
          "name": "stderr",
          "output_type": "stream",
          "text": [
            "Processing:  25%|██▍       | 2466/10000 [3:52:11<5:43:34,  2.74s/it]"
          ]
        },
        {
          "name": "stdout",
          "output_type": "stream",
          "text": [
            "remove:  I have this on CD 's but wanted it on my Kindle .\n"
          ]
        },
        {
          "name": "stderr",
          "output_type": "stream",
          "text": [
            "Processing:  25%|██▍       | 2469/10000 [3:52:17<5:20:47,  2.56s/it]"
          ]
        },
        {
          "name": "stdout",
          "output_type": "stream",
          "text": [
            "remove:  All things of the past .\n"
          ]
        },
        {
          "name": "stderr",
          "output_type": "stream",
          "text": [
            "Processing:  25%|██▍       | 2474/10000 [3:52:42<9:50:37,  4.71s/it]"
          ]
        },
        {
          "name": "stdout",
          "output_type": "stream",
          "text": [
            "remove:  He was diagnosed in July of 07 stage one , turned 18 in December and passed away that following April .\n"
          ]
        },
        {
          "name": "stderr",
          "output_type": "stream",
          "text": [
            "Processing:  25%|██▍       | 2475/10000 [3:52:49<11:20:03,  5.42s/it]"
          ]
        },
        {
          "name": "stdout",
          "output_type": "stream",
          "text": [
            "remove:  ! ! !\n",
            "remove:  2014 \n",
            " FEB 18 _ _\n",
            "remove:  VINCE iS aT tHe T - o - P Of HiS GamE ! ! !\n",
            "remove:  ( dob--4/12/1957 ) \n",
            "\n",
            " BbP OKC 64\n"
          ]
        },
        {
          "name": "stderr",
          "output_type": "stream",
          "text": [
            "Processing:  25%|██▍       | 2476/10000 [3:52:56<12:11:46,  5.84s/it]"
          ]
        },
        {
          "name": "stdout",
          "output_type": "stream",
          "text": [
            "remove:  Wished I could have contacted Vince to have a version of it where \" son \" was changed to \" child \" .\n"
          ]
        },
        {
          "name": "stderr",
          "output_type": "stream",
          "text": [
            "Processing:  25%|██▍       | 2486/10000 [3:53:41<10:26:47,  5.00s/it]"
          ]
        },
        {
          "name": "stdout",
          "output_type": "stream",
          "text": [
            "remove:  I used to hear it all of the time on the radio .\n"
          ]
        },
        {
          "name": "stderr",
          "output_type": "stream",
          "text": [
            "Processing:  25%|██▍       | 2494/10000 [3:54:06<6:20:53,  3.04s/it] "
          ]
        },
        {
          "name": "stdout",
          "output_type": "stream",
          "text": [
            "remove:  This song gets to my heart .\n"
          ]
        },
        {
          "name": "stderr",
          "output_type": "stream",
          "text": [
            "Processing:  25%|██▍       | 2495/10000 [3:54:09<6:30:51,  3.12s/it]"
          ]
        },
        {
          "name": "stdout",
          "output_type": "stream",
          "text": [
            "remove:  I know this was written when his brother passed .\n"
          ]
        },
        {
          "name": "stderr",
          "output_type": "stream",
          "text": [
            "Processing:  25%|██▌       | 2511/10000 [3:55:17<8:07:22,  3.90s/it] "
          ]
        },
        {
          "name": "stdout",
          "output_type": "stream",
          "text": [
            "remove:  WHATEVER WAS GOING ON IN MY LIFE AT THAT TIME .\n"
          ]
        },
        {
          "name": "stderr",
          "output_type": "stream",
          "text": [
            "Processing:  25%|██▌       | 2516/10000 [3:55:41<7:56:00,  3.82s/it] "
          ]
        },
        {
          "name": "stdout",
          "output_type": "stream",
          "text": [
            "remove:  There is a story behind my finding this song .\n"
          ]
        },
        {
          "name": "stderr",
          "output_type": "stream",
          "text": [
            "Processing:  25%|██▌       | 2519/10000 [3:56:03<11:20:03,  5.45s/it]"
          ]
        },
        {
          "name": "stdout",
          "output_type": "stream",
          "text": [
            "remove:  One of the rock - n - roll classics that belongs in any collection .\n",
            "remove:  Oh Cajun spice , sweats and blushes your mind .\n"
          ]
        },
        {
          "name": "stderr",
          "output_type": "stream",
          "text": [
            "Processing:  25%|██▌       | 2539/10000 [3:57:17<6:19:57,  3.06s/it] "
          ]
        },
        {
          "name": "stdout",
          "output_type": "stream",
          "text": [
            "remove:  As you can see it took me a while to find out the name .\n"
          ]
        },
        {
          "name": "stderr",
          "output_type": "stream",
          "text": [
            "Processing:  25%|██▌       | 2540/10000 [3:57:23<8:02:44,  3.88s/it]"
          ]
        },
        {
          "name": "stdout",
          "output_type": "stream",
          "text": [
            "remove:  4.5 stars .\n",
            "remove:  It Black ( a Rolling Stones remake ) .\n"
          ]
        },
        {
          "name": "stderr",
          "output_type": "stream",
          "text": [
            "Processing:  26%|██▌       | 2555/10000 [3:58:31<8:02:50,  3.89s/it] "
          ]
        },
        {
          "name": "stdout",
          "output_type": "stream",
          "text": [
            "remove:  what can you say about smoking ` Joe .\n",
            "remove:  When it came out it was on LP .\n",
            "remove:  It`s\n"
          ]
        },
        {
          "name": "stderr",
          "output_type": "stream",
          "text": [
            "Processing:  26%|██▌       | 2556/10000 [3:58:36<8:36:36,  4.16s/it]"
          ]
        },
        {
          "name": "stdout",
          "output_type": "stream",
          "text": [
            "remove:  Rock On\n"
          ]
        },
        {
          "name": "stderr",
          "output_type": "stream",
          "text": [
            "Processing:  26%|██▌       | 2558/10000 [3:58:37<5:19:59,  2.58s/it]"
          ]
        },
        {
          "name": "stdout",
          "output_type": "stream",
          "text": [
            "remove:  I 'd suggest picking up the 2 - disc \" KING OF THE BLUES \" .\n"
          ]
        },
        {
          "name": "stderr",
          "output_type": "stream",
          "text": [
            "Processing:  26%|██▌       | 2559/10000 [3:58:50<10:23:45,  5.03s/it]"
          ]
        },
        {
          "name": "stdout",
          "output_type": "stream",
          "text": [
            "remove:  Recorded in 1972 on Leon Russell 's Shelter label , the album features Freddie on guitar , Leon on piano , and Donald Duck Dunn on bass .\n",
            "remove:  Plus a coupl eof track written by Isaac Hayes and David Porter .\n",
            "remove:  The Texas Cannonball lives !\n"
          ]
        },
        {
          "name": "stderr",
          "output_type": "stream",
          "text": [
            "Processing:  26%|██▌       | 2560/10000 [3:59:05<15:54:23,  7.70s/it]"
          ]
        },
        {
          "name": "stdout",
          "output_type": "stream",
          "text": [
            "remove:  Use this to teach the younguns about JFK .\n"
          ]
        },
        {
          "name": "stderr",
          "output_type": "stream",
          "text": [
            "Processing:  26%|██▌       | 2561/10000 [3:59:19<19:16:27,  9.33s/it]"
          ]
        },
        {
          "name": "stdout",
          "output_type": "stream",
          "text": [
            "remove:  Now , you may be asking , what do Jonathan and Darlene Edwards have to do with Mrs. Miller ?\n",
            "remove:  He would have none of it .\n",
            "remove:  And her \" Boots ? \"\n",
            "remove:  She NAILS it !\n"
          ]
        },
        {
          "name": "stderr",
          "output_type": "stream",
          "text": [
            "Processing:  26%|██▌       | 2565/10000 [4:01:15<37:01:31, 17.93s/it]"
          ]
        },
        {
          "name": "stdout",
          "output_type": "stream",
          "text": [
            "remove:  Rock on , Mrs. Miller !\n"
          ]
        },
        {
          "name": "stderr",
          "output_type": "stream",
          "text": [
            "Processing:  26%|██▌       | 2570/10000 [4:02:13<20:33:33,  9.96s/it]"
          ]
        },
        {
          "name": "stdout",
          "output_type": "stream",
          "text": [
            "remove:  4 stars .\n"
          ]
        },
        {
          "name": "stderr",
          "output_type": "stream",
          "text": [
            "Processing:  26%|██▌       | 2576/10000 [4:02:42<10:21:04,  5.02s/it]"
          ]
        },
        {
          "name": "stdout",
          "output_type": "stream",
          "text": [
            "remove:  THE   SONG\n"
          ]
        },
        {
          "name": "stderr",
          "output_type": "stream",
          "text": [
            "Processing:  26%|██▌       | 2579/10000 [4:02:55<9:16:14,  4.50s/it] "
          ]
        },
        {
          "name": "stdout",
          "output_type": "stream",
          "text": [
            "remove:  What audience is she trying to speak to ?\n"
          ]
        },
        {
          "name": "stderr",
          "output_type": "stream",
          "text": [
            "Processing:  26%|██▌       | 2580/10000 [4:03:18<20:50:49, 10.11s/it]"
          ]
        },
        {
          "name": "stdout",
          "output_type": "stream",
          "text": [
            "remove:  Album Cover : B \n",
            "\n",
            " Songs : C \n",
            "\n",
            " Price : C+\n",
            "remove:  Remastering : B- \n",
            "\n",
            " Overall : C 1/2 +\n"
          ]
        },
        {
          "name": "stderr",
          "output_type": "stream",
          "text": [
            "Processing:  26%|██▌       | 2584/10000 [4:04:43<34:27:27, 16.73s/it]"
          ]
        },
        {
          "name": "stdout",
          "output_type": "stream",
          "text": [
            "remove:  Classics !\n"
          ]
        },
        {
          "name": "stderr",
          "output_type": "stream",
          "text": [
            "Processing:  26%|██▌       | 2586/10000 [4:04:46<18:31:36,  9.00s/it]"
          ]
        },
        {
          "name": "stdout",
          "output_type": "stream",
          "text": [
            "remove:  My Father 's Eyes -- 5 stars ; Old Man 's Rubble -- 5 stars .\n"
          ]
        },
        {
          "name": "stderr",
          "output_type": "stream",
          "text": [
            "Processing:  26%|██▌       | 2604/10000 [4:06:26<3:34:41,  1.74s/it] "
          ]
        },
        {
          "name": "stdout",
          "output_type": "stream",
          "text": [
            "remove:  Plus plus plus\n"
          ]
        },
        {
          "name": "stderr",
          "output_type": "stream",
          "text": [
            "Processing:  26%|██▌       | 2607/10000 [4:06:31<3:22:55,  1.65s/it]"
          ]
        },
        {
          "name": "stdout",
          "output_type": "stream",
          "text": [
            "remove:  Throwback to my youth .\n"
          ]
        },
        {
          "name": "stderr",
          "output_type": "stream",
          "text": [
            "Processing:  26%|██▌       | 2616/10000 [4:06:46<3:16:12,  1.59s/it]"
          ]
        },
        {
          "name": "stdout",
          "output_type": "stream",
          "text": [
            "remove:  styx\n"
          ]
        },
        {
          "name": "stderr",
          "output_type": "stream",
          "text": [
            "Processing:  26%|██▋       | 2636/10000 [4:07:42<6:31:38,  3.19s/it]"
          ]
        },
        {
          "name": "stdout",
          "output_type": "stream",
          "text": [
            "remove:  A must have to any music collection .\n"
          ]
        },
        {
          "name": "stderr",
          "output_type": "stream",
          "text": [
            "Processing:  26%|██▋       | 2639/10000 [4:07:46<4:18:51,  2.11s/it]"
          ]
        },
        {
          "name": "stdout",
          "output_type": "stream",
          "text": [
            "remove:  Five stars .\n"
          ]
        },
        {
          "name": "stderr",
          "output_type": "stream",
          "text": [
            "Processing:  26%|██▋       | 2647/10000 [4:08:14<6:23:42,  3.13s/it]"
          ]
        },
        {
          "name": "stdout",
          "output_type": "stream",
          "text": [
            "remove:  There is message in the music .\n"
          ]
        },
        {
          "name": "stderr",
          "output_type": "stream",
          "text": [
            "Processing:  26%|██▋       | 2649/10000 [4:08:23<7:18:39,  3.58s/it]"
          ]
        },
        {
          "name": "stdout",
          "output_type": "stream",
          "text": [
            "remove:  Kris L. CocKayne\n"
          ]
        },
        {
          "name": "stderr",
          "output_type": "stream",
          "text": [
            "Processing:  27%|██▋       | 2651/10000 [4:08:51<19:56:45,  9.77s/it]"
          ]
        },
        {
          "name": "stdout",
          "output_type": "stream",
          "text": [
            "remove:  I 've been listening to Styx since the 70 's .\n"
          ]
        },
        {
          "name": "stderr",
          "output_type": "stream",
          "text": [
            "Processing:  27%|██▋       | 2656/10000 [4:09:19<12:48:08,  6.28s/it]"
          ]
        },
        {
          "name": "stdout",
          "output_type": "stream",
          "text": [
            "remove:  I give this song both thumbs up and five stars !\n"
          ]
        },
        {
          "name": "stderr",
          "output_type": "stream",
          "text": [
            "Processing:  27%|██▋       | 2658/10000 [4:09:27<10:28:12,  5.13s/it]"
          ]
        },
        {
          "name": "stdout",
          "output_type": "stream",
          "text": [
            "remove:  Duplicate\n"
          ]
        },
        {
          "name": "stderr",
          "output_type": "stream",
          "text": [
            "Processing:  27%|██▋       | 2672/10000 [4:09:51<3:29:56,  1.72s/it] "
          ]
        },
        {
          "name": "stdout",
          "output_type": "stream",
          "text": [
            "remove:  lots of memories listening to the music of yesteryear .\n"
          ]
        },
        {
          "name": "stderr",
          "output_type": "stream",
          "text": [
            "Processing:  27%|██▋       | 2675/10000 [4:09:58<3:50:35,  1.89s/it]"
          ]
        },
        {
          "name": "stdout",
          "output_type": "stream",
          "text": [
            "remove:  I heard this oldie in the grocery store two weeks in a row and decided to see if I could find it to download .\n"
          ]
        },
        {
          "name": "stderr",
          "output_type": "stream",
          "text": [
            "Processing:  27%|██▋       | 2681/10000 [4:10:25<9:58:21,  4.91s/it]"
          ]
        },
        {
          "name": "stdout",
          "output_type": "stream",
          "text": [
            "remove:  MaryG\n"
          ]
        },
        {
          "name": "stderr",
          "output_type": "stream",
          "text": [
            "Processing:  27%|██▋       | 2683/10000 [4:10:34<9:22:20,  4.61s/it] "
          ]
        },
        {
          "name": "stdout",
          "output_type": "stream",
          "text": [
            "remove:  Class , Pattie brings life to music .\n"
          ]
        },
        {
          "name": "stderr",
          "output_type": "stream",
          "text": [
            "Processing:  27%|██▋       | 2689/10000 [4:10:59<9:43:39,  4.79s/it]"
          ]
        },
        {
          "name": "stdout",
          "output_type": "stream",
          "text": [
            "remove:  Buy it , buy it , buy it ! ! !\n"
          ]
        },
        {
          "name": "stderr",
          "output_type": "stream",
          "text": [
            "Processing:  27%|██▋       | 2690/10000 [4:11:03<9:00:26,  4.44s/it]"
          ]
        },
        {
          "name": "stdout",
          "output_type": "stream",
          "text": [
            "remove:  Downloaded to use as a ringtone for my cell phone .\n"
          ]
        },
        {
          "name": "stderr",
          "output_type": "stream",
          "text": [
            "Processing:  27%|██▋       | 2692/10000 [4:11:12<9:12:02,  4.53s/it]"
          ]
        },
        {
          "name": "stdout",
          "output_type": "stream",
          "text": [
            "remove:  I grew up listening to The Dells .\n"
          ]
        },
        {
          "name": "stderr",
          "output_type": "stream",
          "text": [
            "Processing:  27%|██▋       | 2694/10000 [4:11:21<9:22:01,  4.62s/it]"
          ]
        },
        {
          "name": "stdout",
          "output_type": "stream",
          "text": [
            "remove:  r.\n"
          ]
        },
        {
          "name": "stderr",
          "output_type": "stream",
          "text": [
            "Processing:  27%|██▋       | 2702/10000 [4:11:48<5:36:37,  2.77s/it] "
          ]
        },
        {
          "name": "stdout",
          "output_type": "stream",
          "text": [
            "remove:  Los Angeles , California\n"
          ]
        },
        {
          "name": "stderr",
          "output_type": "stream",
          "text": [
            "Processing:  27%|██▋       | 2721/10000 [4:12:59<7:29:35,  3.71s/it] "
          ]
        },
        {
          "name": "stdout",
          "output_type": "stream",
          "text": [
            "remove:  ' Left Banke ' was formed in New York City in 1965 .\n"
          ]
        },
        {
          "name": "stderr",
          "output_type": "stream",
          "text": [
            "Processing:  27%|██▋       | 2738/10000 [4:13:45<4:28:11,  2.22s/it] "
          ]
        },
        {
          "name": "stdout",
          "output_type": "stream",
          "text": [
            "remove:  I collect hits of the 60s .\n",
            "remove:  Nuff said .\n"
          ]
        },
        {
          "name": "stderr",
          "output_type": "stream",
          "text": [
            "Processing:  27%|██▋       | 2742/10000 [4:14:07<9:03:24,  4.49s/it]"
          ]
        },
        {
          "name": "stdout",
          "output_type": "stream",
          "text": [
            "remove:  I remember hearing this as a kid .\n"
          ]
        },
        {
          "name": "stderr",
          "output_type": "stream",
          "text": [
            "Processing:  27%|██▋       | 2743/10000 [4:14:11<8:48:43,  4.37s/it]"
          ]
        },
        {
          "name": "stdout",
          "output_type": "stream",
          "text": [
            "remove:  After payment that should be the end of my obligation .\n"
          ]
        },
        {
          "name": "stderr",
          "output_type": "stream",
          "text": [
            "Processing:  27%|██▋       | 2745/10000 [4:14:19<7:46:53,  3.86s/it]"
          ]
        },
        {
          "name": "stdout",
          "output_type": "stream",
          "text": [
            "remove:  And it is .\n",
            "remove:  I 've had them on album\n"
          ]
        },
        {
          "name": "stderr",
          "output_type": "stream",
          "text": [
            "Processing:  28%|██▊       | 2752/10000 [4:14:51<9:10:30,  4.56s/it] "
          ]
        },
        {
          "name": "stdout",
          "output_type": "stream",
          "text": [
            "remove:  Wanted this to add to my Christmas playlist .\n"
          ]
        },
        {
          "name": "stderr",
          "output_type": "stream",
          "text": [
            "Processing:  28%|██▊       | 2757/10000 [4:14:59<4:18:47,  2.14s/it]"
          ]
        },
        {
          "name": "stdout",
          "output_type": "stream",
          "text": [
            "remove:  unless you were born with a silver spoon in your mouth you have had this .\n"
          ]
        },
        {
          "name": "stderr",
          "output_type": "stream",
          "text": [
            "Processing:  28%|██▊       | 2773/10000 [4:16:24<20:23:06, 10.15s/it]"
          ]
        },
        {
          "name": "stdout",
          "output_type": "stream",
          "text": [
            "remove:  One thing they do is provide another angle for Boyz II Men .\n"
          ]
        },
        {
          "name": "stderr",
          "output_type": "stream",
          "text": [
            "Processing:  28%|██▊       | 2774/10000 [4:16:49<29:27:34, 14.68s/it]"
          ]
        },
        {
          "name": "stdout",
          "output_type": "stream",
          "text": [
            "remove:  HIGHLIGHTS :\n"
          ]
        },
        {
          "name": "stderr",
          "output_type": "stream",
          "text": [
            "Processing:  28%|██▊       | 2776/10000 [4:17:37<37:06:31, 18.49s/it]"
          ]
        },
        {
          "name": "stdout",
          "output_type": "stream",
          "text": [
            "remove:  This CD is a throwback to my youth .\n",
            "remove:  There is something for everyone on this CD .\n",
            "remove:  Check this out !\n"
          ]
        },
        {
          "name": "stderr",
          "output_type": "stream",
          "text": [
            "Processing:  28%|██▊       | 2779/10000 [4:18:40<37:00:39, 18.45s/it]"
          ]
        },
        {
          "name": "stdout",
          "output_type": "stream",
          "text": [
            "remove:  Come on Mew !\n"
          ]
        },
        {
          "name": "stderr",
          "output_type": "stream",
          "text": [
            "Processing:  28%|██▊       | 2789/10000 [4:19:25<9:10:43,  4.58s/it] "
          ]
        },
        {
          "name": "stdout",
          "output_type": "stream",
          "text": [
            "remove:  Can you imagine if the collaborated ?\n"
          ]
        },
        {
          "name": "stderr",
          "output_type": "stream",
          "text": [
            "Processing:  28%|██▊       | 2790/10000 [4:19:30<9:15:44,  4.62s/it]"
          ]
        },
        {
          "name": "stdout",
          "output_type": "stream",
          "text": [
            "remove:  You must have this if you 're a DJ !\n",
            "remove:  Time will tell .\n",
            "remove:  DJ Come of Age\n"
          ]
        },
        {
          "name": "stderr",
          "output_type": "stream",
          "text": [
            "Processing:  28%|██▊       | 2806/10000 [4:20:43<8:09:59,  4.09s/it] "
          ]
        },
        {
          "name": "stdout",
          "output_type": "stream",
          "text": [
            "remove:  It 's a must buy for anyone who wants a potpourri of the era\n"
          ]
        },
        {
          "name": "stderr",
          "output_type": "stream",
          "text": [
            "Processing:  28%|██▊       | 2808/10000 [4:20:51<8:11:01,  4.10s/it]"
          ]
        },
        {
          "name": "stdout",
          "output_type": "stream",
          "text": [
            "remove:  Man !\n"
          ]
        },
        {
          "name": "stderr",
          "output_type": "stream",
          "text": [
            "Processing:  28%|██▊       | 2824/10000 [4:22:17<6:57:49,  3.49s/it] "
          ]
        },
        {
          "name": "stdout",
          "output_type": "stream",
          "text": [
            "remove:  I can say that George Strait 's music has touched me .\n"
          ]
        },
        {
          "name": "stderr",
          "output_type": "stream",
          "text": [
            "Processing:  28%|██▊       | 2832/10000 [4:22:40<5:36:09,  2.81s/it]"
          ]
        },
        {
          "name": "stdout",
          "output_type": "stream",
          "text": [
            "remove:  I bought this to add to my country playlist .\n"
          ]
        },
        {
          "name": "stderr",
          "output_type": "stream",
          "text": [
            "Processing:  28%|██▊       | 2834/10000 [4:22:46<6:00:03,  3.01s/it]"
          ]
        },
        {
          "name": "stdout",
          "output_type": "stream",
          "text": [
            "remove:  Heard this song on a commercial and it was a must have .\n"
          ]
        },
        {
          "name": "stderr",
          "output_type": "stream",
          "text": [
            "Processing:  28%|██▊       | 2841/10000 [4:23:01<4:23:30,  2.21s/it]"
          ]
        },
        {
          "name": "stdout",
          "output_type": "stream",
          "text": [
            "remove:  Music that has stood the test of time .\n"
          ]
        },
        {
          "name": "stderr",
          "output_type": "stream",
          "text": [
            "Processing:  28%|██▊       | 2843/10000 [4:23:06<4:26:58,  2.24s/it]"
          ]
        },
        {
          "name": "stdout",
          "output_type": "stream",
          "text": [
            "remove:  I keep a copy of this one on my phone , mp3 player and on a CD in my car !\n"
          ]
        },
        {
          "name": "stderr",
          "output_type": "stream",
          "text": [
            "Processing:  28%|██▊       | 2845/10000 [4:23:13<5:23:56,  2.72s/it]"
          ]
        },
        {
          "name": "stdout",
          "output_type": "stream",
          "text": [
            "remove:  As advertised .\n"
          ]
        },
        {
          "name": "stderr",
          "output_type": "stream",
          "text": [
            "Processing:  29%|██▊       | 2854/10000 [4:23:30<4:22:43,  2.21s/it]"
          ]
        },
        {
          "name": "stdout",
          "output_type": "stream",
          "text": [
            "remove:  Item as described .\n"
          ]
        },
        {
          "name": "stderr",
          "output_type": "stream",
          "text": [
            "Processing:  29%|██▊       | 2859/10000 [4:23:49<8:49:58,  4.45s/it]"
          ]
        },
        {
          "name": "stdout",
          "output_type": "stream",
          "text": [
            "remove:  This song says it all .\n"
          ]
        },
        {
          "name": "stderr",
          "output_type": "stream",
          "text": [
            "Processing:  29%|██▊       | 2860/10000 [4:23:54<8:55:03,  4.50s/it]"
          ]
        },
        {
          "name": "stdout",
          "output_type": "stream",
          "text": [
            "remove:  I chose to give this a 5 star rating b / c\n",
            "remove:  I purchased it\n"
          ]
        },
        {
          "name": "stderr",
          "output_type": "stream",
          "text": [
            "Processing:  29%|██▊       | 2861/10000 [4:23:59<8:59:08,  4.53s/it]"
          ]
        },
        {
          "name": "stdout",
          "output_type": "stream",
          "text": [
            "remove:  5 Stars all day everyday :)\n"
          ]
        },
        {
          "name": "stderr",
          "output_type": "stream",
          "text": [
            "Processing:  29%|██▊       | 2864/10000 [4:24:17<10:22:07,  5.23s/it]"
          ]
        },
        {
          "name": "stdout",
          "output_type": "stream",
          "text": [
            "remove:  ChaCha question and answer puts it in the   \" Pop \" category .\n"
          ]
        },
        {
          "name": "stderr",
          "output_type": "stream",
          "text": [
            "Processing:  29%|██▊       | 2868/10000 [4:24:32<7:38:15,  3.86s/it] "
          ]
        },
        {
          "name": "stdout",
          "output_type": "stream",
          "text": [
            "remove:  Psycho (Album Version)\n",
            "Puddle Of Mudd\n"
          ]
        },
        {
          "name": "stderr",
          "output_type": "stream",
          "text": [
            "Processing:  29%|██▉       | 2887/10000 [4:25:36<6:17:10,  3.18s/it] "
          ]
        },
        {
          "name": "stdout",
          "output_type": "stream",
          "text": [
            "remove:  Ther are 16 songs on this cd .\n",
            "remove:  Depending on what part of your life you happen to be in .\n"
          ]
        },
        {
          "name": "stderr",
          "output_type": "stream",
          "text": [
            "Processing:  29%|██▉       | 2894/10000 [4:27:15<18:51:17,  9.55s/it]"
          ]
        },
        {
          "name": "stdout",
          "output_type": "stream",
          "text": [
            "remove:  All Of Those Hits Are From 1995 - 1998 .\n",
            "remove:  George Keeps That Music Going .\n"
          ]
        },
        {
          "name": "stderr",
          "output_type": "stream",
          "text": [
            "Processing:  29%|██▉       | 2900/10000 [4:27:35<7:32:29,  3.82s/it] "
          ]
        },
        {
          "name": "stdout",
          "output_type": "stream",
          "text": [
            "remove:  I bought this one to remember my grandmother .\n",
            "remove:  She would dance around the kitchen !\n"
          ]
        },
        {
          "name": "stderr",
          "output_type": "stream",
          "text": [
            "Processing:  29%|██▉       | 2904/10000 [4:27:48<6:56:14,  3.52s/it]"
          ]
        },
        {
          "name": "stdout",
          "output_type": "stream",
          "text": [
            "remove:  This song is one of his all - time greats .\n",
            "remove:  Check it out !\n"
          ]
        },
        {
          "name": "stderr",
          "output_type": "stream",
          "text": [
            "Processing:  29%|██▉       | 2905/10000 [4:27:53<7:43:29,  3.92s/it]"
          ]
        },
        {
          "name": "stdout",
          "output_type": "stream",
          "text": [
            "remove:  George Strait continues to raise the bar each and every song he produces .\n"
          ]
        },
        {
          "name": "stderr",
          "output_type": "stream",
          "text": [
            "Processing:  29%|██▉       | 2906/10000 [4:27:55<6:33:39,  3.33s/it]"
          ]
        },
        {
          "name": "stdout",
          "output_type": "stream",
          "text": [
            "remove:  Both guys were CLASS ACTS .\n"
          ]
        },
        {
          "name": "stderr",
          "output_type": "stream",
          "text": [
            "Processing:  29%|██▉       | 2908/10000 [4:28:01<6:16:40,  3.19s/it]"
          ]
        },
        {
          "name": "stdout",
          "output_type": "stream",
          "text": [
            "remove:  Friday nights with this music are foot stomping .\n"
          ]
        },
        {
          "name": "stderr",
          "output_type": "stream",
          "text": [
            "Processing:  29%|██▉       | 2914/10000 [4:28:14<3:49:01,  1.94s/it]"
          ]
        },
        {
          "name": "stdout",
          "output_type": "stream",
          "text": [
            "remove:  When I heard it on the radio and had to have it .\n"
          ]
        },
        {
          "name": "stderr",
          "output_type": "stream",
          "text": [
            "Processing:  29%|██▉       | 2916/10000 [4:28:23<5:41:58,  2.90s/it]"
          ]
        },
        {
          "name": "stdout",
          "output_type": "stream",
          "text": [
            "remove:  You Go Cameo !\n"
          ]
        },
        {
          "name": "stderr",
          "output_type": "stream",
          "text": [
            "Processing:  29%|██▉       | 2921/10000 [4:28:40<7:13:17,  3.67s/it]"
          ]
        },
        {
          "name": "stdout",
          "output_type": "stream",
          "text": [
            "remove:  Buy This !\n"
          ]
        },
        {
          "name": "stderr",
          "output_type": "stream",
          "text": [
            "Processing:  29%|██▉       | 2923/10000 [4:28:44<5:44:35,  2.92s/it]"
          ]
        },
        {
          "name": "stdout",
          "output_type": "stream",
          "text": [
            "remove:  After hearing the message on this song I knew I had to have it .\n",
            "remove:  How it came to be and how George Strait came to record it .\n"
          ]
        },
        {
          "name": "stderr",
          "output_type": "stream",
          "text": [
            "Processing:  29%|██▉       | 2924/10000 [4:28:48<5:52:12,  2.99s/it]"
          ]
        },
        {
          "name": "stdout",
          "output_type": "stream",
          "text": [
            "remove:  Head over heel over this song !\n"
          ]
        },
        {
          "name": "stderr",
          "output_type": "stream",
          "text": [
            "Processing:  29%|██▉       | 2938/10000 [4:29:36<5:34:57,  2.85s/it] "
          ]
        },
        {
          "name": "stdout",
          "output_type": "stream",
          "text": [
            "remove:  and you know what ..\n"
          ]
        },
        {
          "name": "stderr",
          "output_type": "stream",
          "text": [
            "Processing:  29%|██▉       | 2940/10000 [4:29:40<4:45:36,  2.43s/it]"
          ]
        },
        {
          "name": "stdout",
          "output_type": "stream",
          "text": [
            "remove:  list , BUT !\n"
          ]
        },
        {
          "name": "stderr",
          "output_type": "stream",
          "text": [
            "Processing:  29%|██▉       | 2943/10000 [4:29:51<5:57:55,  3.04s/it]"
          ]
        },
        {
          "name": "stdout",
          "output_type": "stream",
          "text": [
            "remove:  I can relate .\n",
            "remove:  Keep them coming .\n"
          ]
        },
        {
          "name": "stderr",
          "output_type": "stream",
          "text": [
            "Processing:  29%|██▉       | 2945/10000 [4:29:56<5:20:35,  2.73s/it]"
          ]
        },
        {
          "name": "stdout",
          "output_type": "stream",
          "text": [
            "remove:  That 's it .\n"
          ]
        },
        {
          "name": "stderr",
          "output_type": "stream",
          "text": [
            "Processing:  30%|██▉       | 2962/10000 [4:30:46<3:35:55,  1.84s/it]"
          ]
        },
        {
          "name": "stdout",
          "output_type": "stream",
          "text": [
            "remove:  What 's to say about this song .\n",
            "remove:  Either you know it\n"
          ]
        },
        {
          "name": "stderr",
          "output_type": "stream",
          "text": [
            "Processing:  30%|██▉       | 2966/10000 [4:30:59<5:26:35,  2.79s/it]"
          ]
        },
        {
          "name": "stdout",
          "output_type": "stream",
          "text": [
            "remove:  I bought this one to remember my grandmother .\n",
            "remove:  She would dance around the kitchen !\n"
          ]
        },
        {
          "name": "stderr",
          "output_type": "stream",
          "text": [
            "Processing:  30%|██▉       | 2972/10000 [4:31:16<6:41:34,  3.43s/it]"
          ]
        },
        {
          "name": "stdout",
          "output_type": "stream",
          "text": [
            "remove:  Sang Christopher !\n"
          ]
        },
        {
          "name": "stderr",
          "output_type": "stream",
          "text": [
            "Processing:  30%|██▉       | 2976/10000 [4:31:31<5:58:06,  3.06s/it]"
          ]
        },
        {
          "name": "stdout",
          "output_type": "stream",
          "text": [
            "remove:  He danced to it every time he heard it !\n"
          ]
        },
        {
          "name": "stderr",
          "output_type": "stream",
          "text": [
            "Processing:  30%|██▉       | 2977/10000 [4:31:35<6:29:22,  3.33s/it]"
          ]
        },
        {
          "name": "stdout",
          "output_type": "stream",
          "text": [
            "remove:  Add to your MP3 or whatever and listen , listen , listen ! ! ! ! ! !\n"
          ]
        },
        {
          "name": "stderr",
          "output_type": "stream",
          "text": [
            "Processing:  30%|███       | 3006/10000 [4:32:45<3:45:08,  1.93s/it]"
          ]
        },
        {
          "name": "stdout",
          "output_type": "stream",
          "text": [
            "remove:  This one is one of the exceptions .\n"
          ]
        },
        {
          "name": "stderr",
          "output_type": "stream",
          "text": [
            "Processing:  30%|███       | 3007/10000 [4:33:06<14:52:13,  7.66s/it]"
          ]
        },
        {
          "name": "stdout",
          "output_type": "stream",
          "text": [
            "remove:  Five Stars\n"
          ]
        },
        {
          "name": "stderr",
          "output_type": "stream",
          "text": [
            "Processing:  30%|███       | 3015/10000 [4:33:36<7:00:56,  3.62s/it] "
          ]
        },
        {
          "name": "stdout",
          "output_type": "stream",
          "text": [
            "remove:  I 've had this CD for some time .\n",
            "remove:  Burl puts his own spin on holiday faves like White Christmas , Winter Wonderland , Silver Bells and I Heard the Bells on Christmas Day .\n"
          ]
        },
        {
          "name": "stderr",
          "output_type": "stream",
          "text": [
            "Processing:  30%|███       | 3016/10000 [4:33:44<9:32:57,  4.92s/it]"
          ]
        },
        {
          "name": "stdout",
          "output_type": "stream",
          "text": [
            "remove:  \" White Christmas \" glows brighter than silver and gold combined when Mr. Ives sings it ; that background chorus rounds out the number nicely although wisely the arrangement makes it so that they ca n't attempt to share the spotlight with Burl .\n",
            "remove:  \" Silver Bells \" could n't have been done any better and the CD ends with Burl Ives performing \" I Heard the Bells on Christmas Day . \"\n"
          ]
        },
        {
          "name": "stderr",
          "output_type": "stream",
          "text": [
            "Processing:  30%|███       | 3017/10000 [4:34:11<22:07:05, 11.40s/it]"
          ]
        },
        {
          "name": "stdout",
          "output_type": "stream",
          "text": [
            "remove:  But most of the songs are definitely more popular than secular , with \" Santa Claus is Coming to Town , \" \" White Christmas , \" \" Winter Wonderland , \" and \" Silver Bells . \"\n"
          ]
        },
        {
          "name": "stderr",
          "output_type": "stream",
          "text": [
            "Processing:  30%|███       | 3024/10000 [4:34:43<5:09:04,  2.66s/it] "
          ]
        },
        {
          "name": "stdout",
          "output_type": "stream",
          "text": [
            "remove:  Needed it for a Christmas light display !\n"
          ]
        },
        {
          "name": "stderr",
          "output_type": "stream",
          "text": [
            "Processing:  30%|███       | 3033/10000 [4:35:01<3:36:30,  1.86s/it]"
          ]
        },
        {
          "name": "stdout",
          "output_type": "stream",
          "text": [
            "remove:  Something you could pass down for generations to come .\n"
          ]
        },
        {
          "name": "stderr",
          "output_type": "stream",
          "text": [
            "Processing:  30%|███       | 3038/10000 [4:35:19<6:11:34,  3.20s/it]"
          ]
        },
        {
          "name": "stdout",
          "output_type": "stream",
          "text": [
            "remove:  I see Rudolph every time I hear this !\n"
          ]
        },
        {
          "name": "stderr",
          "output_type": "stream",
          "text": [
            "Processing:  30%|███       | 3047/10000 [4:35:52<7:46:06,  4.02s/it]"
          ]
        },
        {
          "name": "stdout",
          "output_type": "stream",
          "text": [
            "remove:  Listen to it all the time at Christmas !\n"
          ]
        },
        {
          "name": "stderr",
          "output_type": "stream",
          "text": [
            "Processing:  30%|███       | 3050/10000 [4:35:59<5:33:58,  2.88s/it]"
          ]
        },
        {
          "name": "stdout",
          "output_type": "stream",
          "text": [
            "remove:  I grew up listening to the Oak Ridge Boys .\n"
          ]
        },
        {
          "name": "stderr",
          "output_type": "stream",
          "text": [
            "Processing:  31%|███       | 3052/10000 [4:36:03<4:38:18,  2.40s/it]"
          ]
        },
        {
          "name": "stdout",
          "output_type": "stream",
          "text": [
            "remove:  I remembered this song one day , and decided to buy it for my MP3 player .\n"
          ]
        },
        {
          "name": "stderr",
          "output_type": "stream",
          "text": [
            "Processing:  31%|███       | 3053/10000 [4:36:05<4:25:02,  2.29s/it]"
          ]
        },
        {
          "name": "stdout",
          "output_type": "stream",
          "text": [
            "remove:  song she sang .\n",
            "remove:  I had to download it for my collection .\n",
            "remove:  I remember when she sang it on her tv show .\n",
            "remove:  That was when it was recorded\n"
          ]
        },
        {
          "name": "stderr",
          "output_type": "stream",
          "text": [
            "Processing:  31%|███       | 3056/10000 [4:36:10<3:21:48,  1.74s/it]"
          ]
        },
        {
          "name": "stdout",
          "output_type": "stream",
          "text": [
            "remove:  ...\n"
          ]
        },
        {
          "name": "stderr",
          "output_type": "stream",
          "text": [
            "Processing:  31%|███       | 3062/10000 [4:36:27<5:21:21,  2.78s/it]"
          ]
        },
        {
          "name": "stdout",
          "output_type": "stream",
          "text": [
            "remove:  What can I say , it 's Billy .\n"
          ]
        },
        {
          "name": "stderr",
          "output_type": "stream",
          "text": [
            "Processing:  31%|███       | 3067/10000 [4:36:46<5:19:01,  2.76s/it]"
          ]
        },
        {
          "name": "stdout",
          "output_type": "stream",
          "text": [
            "remove:  I wanted to choose this song , so it meets my expectations .\n",
            "remove:  Why a review is needed on an MP3 is beyond me .\n"
          ]
        },
        {
          "name": "stderr",
          "output_type": "stream",
          "text": [
            "Processing:  31%|███       | 3072/10000 [4:37:01<5:10:51,  2.69s/it]"
          ]
        },
        {
          "name": "stdout",
          "output_type": "stream",
          "text": [
            "remove:  i downloaded this song for my workout playlist .\n"
          ]
        },
        {
          "name": "stderr",
          "output_type": "stream",
          "text": [
            "Processing:  31%|███       | 3079/10000 [4:37:11<3:04:59,  1.60s/it]"
          ]
        },
        {
          "name": "stdout",
          "output_type": "stream",
          "text": [
            "remove:  \"\n"
          ]
        },
        {
          "name": "stderr",
          "output_type": "stream",
          "text": [
            "Processing:  31%|███       | 3080/10000 [4:37:32<14:00:03,  7.28s/it]"
          ]
        },
        {
          "name": "stdout",
          "output_type": "stream",
          "text": [
            "remove:  \"\n"
          ]
        },
        {
          "name": "stderr",
          "output_type": "stream",
          "text": [
            "Processing:  31%|███       | 3081/10000 [4:37:53<21:39:26, 11.27s/it]"
          ]
        },
        {
          "name": "stdout",
          "output_type": "stream",
          "text": [
            "remove:  \"\n"
          ]
        },
        {
          "name": "stderr",
          "output_type": "stream",
          "text": [
            "Processing:  31%|███       | 3089/10000 [4:38:24<4:47:23,  2.50s/it] "
          ]
        },
        {
          "name": "stdout",
          "output_type": "stream",
          "text": [
            "remove:  Amarillo by Morning sung by George Strait .\n"
          ]
        },
        {
          "name": "stderr",
          "output_type": "stream",
          "text": [
            "Processing:  31%|███       | 3098/10000 [4:38:47<4:41:10,  2.44s/it]"
          ]
        },
        {
          "name": "stdout",
          "output_type": "stream",
          "text": [
            "remove:  Ana Mardoll\n"
          ]
        },
        {
          "name": "stderr",
          "output_type": "stream",
          "text": [
            "Processing:  31%|███       | 3103/10000 [4:39:05<5:27:52,  2.85s/it]"
          ]
        },
        {
          "name": "stdout",
          "output_type": "stream",
          "text": [
            "remove:  :)\n"
          ]
        },
        {
          "name": "stderr",
          "output_type": "stream",
          "text": [
            "Processing:  31%|███       | 3108/10000 [4:39:11<2:59:36,  1.56s/it]"
          ]
        },
        {
          "name": "stdout",
          "output_type": "stream",
          "text": [
            "remove:  I PUT MY DANCING SHOES AND GO FOR IT .\n"
          ]
        },
        {
          "name": "stderr",
          "output_type": "stream",
          "text": [
            "Processing:  31%|███       | 3117/10000 [4:39:36<6:40:59,  3.50s/it]"
          ]
        },
        {
          "name": "stdout",
          "output_type": "stream",
          "text": [
            "remove:  I added this to my Texas collection .\n"
          ]
        },
        {
          "name": "stderr",
          "output_type": "stream",
          "text": [
            "Processing:  31%|███▏      | 3131/10000 [4:40:41<10:17:30,  5.39s/it]"
          ]
        },
        {
          "name": "stdout",
          "output_type": "stream",
          "text": [
            "remove:  \"\n"
          ]
        },
        {
          "name": "stderr",
          "output_type": "stream",
          "text": [
            "Processing:  31%|███▏      | 3133/10000 [4:41:01<13:10:12,  6.90s/it]"
          ]
        },
        {
          "name": "stdout",
          "output_type": "stream",
          "text": [
            "remove:  I wanted to choose this song , so it meets my expectations .\n",
            "remove:  Why a review is needed on an MP3 is beyond me .\n"
          ]
        },
        {
          "name": "stderr",
          "output_type": "stream",
          "text": [
            "Processing:  31%|███▏      | 3134/10000 [4:41:04<11:18:08,  5.93s/it]"
          ]
        },
        {
          "name": "stdout",
          "output_type": "stream",
          "text": [
            "remove:  A must have song for the collection .\n"
          ]
        },
        {
          "name": "stderr",
          "output_type": "stream",
          "text": [
            "Processing:  31%|███▏      | 3148/10000 [4:41:45<5:10:12,  2.72s/it] "
          ]
        },
        {
          "name": "stdout",
          "output_type": "stream",
          "text": [
            "remove:  Superbowl music ...\n"
          ]
        },
        {
          "name": "stderr",
          "output_type": "stream",
          "text": [
            "Processing:  32%|███▏      | 3159/10000 [4:42:03<3:01:58,  1.60s/it]"
          ]
        },
        {
          "name": "stdout",
          "output_type": "stream",
          "text": [
            "remove:  I purchased this after hearing it on the radio .\n"
          ]
        },
        {
          "name": "stderr",
          "output_type": "stream",
          "text": [
            "Processing:  32%|███▏      | 3180/10000 [4:43:06<12:39:24,  6.68s/it]"
          ]
        },
        {
          "name": "stdout",
          "output_type": "stream",
          "text": [
            "remove:  What happened to this band .\n",
            "remove:  Eileen\n"
          ]
        },
        {
          "name": "stderr",
          "output_type": "stream",
          "text": [
            "Processing:  32%|███▏      | 3185/10000 [4:43:26<8:37:07,  4.55s/it] "
          ]
        },
        {
          "name": "stdout",
          "output_type": "stream",
          "text": [
            "remove:  As advertised .\n"
          ]
        },
        {
          "name": "stderr",
          "output_type": "stream",
          "text": [
            "Processing:  32%|███▏      | 3194/10000 [4:43:45<4:33:16,  2.41s/it]"
          ]
        },
        {
          "name": "stdout",
          "output_type": "stream",
          "text": [
            "remove:  Item as described .\n"
          ]
        },
        {
          "name": "stderr",
          "output_type": "stream",
          "text": [
            "Processing:  32%|███▏      | 3199/10000 [4:44:05<8:54:04,  4.71s/it]"
          ]
        },
        {
          "name": "stdout",
          "output_type": "stream",
          "text": [
            "remove:  This song says it all .\n"
          ]
        },
        {
          "name": "stderr",
          "output_type": "stream",
          "text": [
            "Processing:  32%|███▏      | 3204/10000 [4:44:17<4:20:23,  2.30s/it]"
          ]
        },
        {
          "name": "stdout",
          "output_type": "stream",
          "text": [
            "remove:  I mean , it 's Patsy Cline .\n",
            "remove:  That voice ....\n",
            "remove:  That 's it .\n"
          ]
        },
        {
          "name": "stderr",
          "output_type": "stream",
          "text": [
            "Processing:  32%|███▏      | 3208/10000 [4:44:28<4:48:34,  2.55s/it]"
          ]
        },
        {
          "name": "stdout",
          "output_type": "stream",
          "text": [
            "remove:  There are 22 songs on the CD .\n",
            "remove:  J. Wear\n"
          ]
        },
        {
          "name": "stderr",
          "output_type": "stream",
          "text": [
            "Processing:  32%|███▏      | 3217/10000 [4:45:01<6:48:28,  3.61s/it]"
          ]
        },
        {
          "name": "stdout",
          "output_type": "stream",
          "text": [
            "remove:  I put it up to todays music .\n"
          ]
        },
        {
          "name": "stderr",
          "output_type": "stream",
          "text": [
            "Processing:  32%|███▏      | 3225/10000 [4:45:39<6:44:19,  3.58s/it] "
          ]
        },
        {
          "name": "stdout",
          "output_type": "stream",
          "text": [
            "remove:  you are looking at reviews ?\n"
          ]
        },
        {
          "name": "stderr",
          "output_type": "stream",
          "text": [
            "Processing:  32%|███▏      | 3228/10000 [4:45:45<5:11:37,  2.76s/it]"
          ]
        },
        {
          "name": "stdout",
          "output_type": "stream",
          "text": [
            "remove:  :)\n",
            "remove:  Give it a try !\n"
          ]
        },
        {
          "name": "stderr",
          "output_type": "stream",
          "text": [
            "Processing:  32%|███▏      | 3241/10000 [4:46:20<4:31:52,  2.41s/it]"
          ]
        },
        {
          "name": "stdout",
          "output_type": "stream",
          "text": [
            "remove:  Quality product , quality service .\n"
          ]
        },
        {
          "name": "stderr",
          "output_type": "stream",
          "text": [
            "Processing:  32%|███▏      | 3245/10000 [4:46:26<3:25:51,  1.83s/it]"
          ]
        }
      ],
      "source": [
        "import tqdm\n",
        "import os\n",
        "\n",
        "\n",
        "predictRating = []\n",
        "filtered_sentences = []\n",
        "def process_and_save(df_rating, output_file):\n",
        "\n",
        "    output_df = pd.DataFrame(columns=['reviewerID', 'asin', 'predictRating', 'T_v', 'overall', 'reviewText', 'filteredReview'])\n",
        "    score = 0\n",
        "    # Đoạn mã dùng tqdm để hiển thị tiến trình %\n",
        "    for i, row in tqdm.tqdm(df_rating.iterrows(), desc=\"Processing\", total=len(df_rating)):\n",
        "        sentences = split_sentences_and_filter_sentiment(row['reviewText'])\n",
        "        #-------1------\n",
        "        if(len(sentences) > 1):\n",
        "            filtered_sentence = \". \".join(sentences)\n",
        "        else:\n",
        "            filtered_sentence = row['reviewText']\n",
        "        filtered_sentences.append(filtered_sentence)\n",
        "        #-------2-------\n",
        "        total_sentiment = sum(sentiment_analysis_flair(sentence) for sentence in sentences)\n",
        "        if total_sentiment > 0.0:\n",
        "            score = 1\n",
        "        else:\n",
        "            score = -1\n",
        "        predictRating.append(score)\n",
        "        #-------3-------\n",
        "        # Lưu vào DataFrame và ghi vào file CSV sau mỗi 10 record\n",
        "        output_df.loc[len(output_df)] = { 'reviewerID': row['reviewerID'],\n",
        "                                          'asin': row['asin'],\n",
        "                                          'predictRating': score,\n",
        "                                          'T_v': row['T_v'],\n",
        "                                          'overall': row['overall'],\n",
        "                                          'reviewText': row['reviewText'],\n",
        "                                          'filteredReviewText': filtered_sentence }\n",
        "        \n",
        "        if (i + 1) % 100 == 0:\n",
        "            output_df.to_csv(output_file, mode='a', header=not os.path.exists(output_file), index=False)\n",
        "            output_df = pd.DataFrame(columns=['reviewerID', 'asin', 'predictRating', 'T_v', 'overall', 'reviewText', 'filteredReviewText'])\n",
        "    \n",
        "    # Ghi phần còn lại của DataFrame vào file CSV\n",
        "    if not output_df.empty:\n",
        "        output_df.to_csv(output_file, mode='a', header=not os.path.exists(output_file), index=False)\n",
        "\n",
        "\n",
        "# Sử dụng hàm\n",
        "process_and_save(df_rating, './DeepCGSR_triet/output_DigitalMusic_03.csv')\n"
      ]
    },
    {
      "cell_type": "code",
      "execution_count": 12,
      "metadata": {},
      "outputs": [
        {
          "name": "stdout",
          "output_type": "stream",
          "text": [
            "Length Original Dataset:  10010\n",
            "Length Outliner Dataset:  944\n",
            "Length Filered Dataset:  9066\n"
          ]
        }
      ],
      "source": [
        "output = pd.read_csv('./DeepCGSR_triet/output.csv')\n",
        "output_df = pd.DataFrame(output)\n",
        "print(\"Length Original Dataset: \", len(output_df))\n",
        "outliner = pd.DataFrame(columns=['reviewerID', 'asin', 'predictRating', 'T_v', 'overall', 'reviewText'])\n",
        "filteredRecords = pd.DataFrame(columns=['reviewerID', 'asin', 'predictRating', 'T_v', 'overall', 'reviewText'])\n",
        "for i, row in output_df.iterrows():\n",
        "    if row['predictRating'] != row['T_v']:\n",
        "        outliner.loc[len(outliner)] = row\n",
        "    else:\n",
        "        filteredRecords.loc[len(filteredRecords)] = row\n",
        "        # print('------------------------')\n",
        "outliner.to_csv('./DeepCGSR_triet/outliner_DM.csv', index=False)\n",
        "filteredRecords.to_csv('./DeepCGSR_triet/filteredRecords_DM.csv', index=False)\n",
        "\n",
        "print(\"Length Outliner Dataset: \", len(outliner))\n",
        "print(\"Length Filered Dataset: \", len(filteredRecords))"
      ]
    },
    {
      "cell_type": "code",
      "execution_count": 19,
      "metadata": {},
      "outputs": [
        {
          "name": "stdout",
          "output_type": "stream",
          "text": [
            "Dataset:  169781\n"
          ]
        },
        {
          "name": "stderr",
          "output_type": "stream",
          "text": [
            "Processing: 100%|██████████| 9066/9066 [28:25<00:00,  5.32it/s]  \n"
          ]
        },
        {
          "name": "stdout",
          "output_type": "stream",
          "text": [
            "Filtered dataset:  8957\n"
          ]
        }
      ],
      "source": [
        "import pandas as pd\n",
        "import json\n",
        "from tqdm import tqdm\n",
        "\n",
        "\n",
        "#Load json data to dataframe\n",
        "raw_data = pd.read_json('/home/triet/ComputerScience_K32/Recommendation_System/DeepCGSR_triet/data/raw/Digital_Music_5.json', lines=True)\n",
        "print(\"Dataset: \", len(raw_data))\n",
        "\n",
        "count = 0\n",
        "result_data = raw_data.copy(deep=False)\n",
        "result_data = result_data.iloc[0:0]\n",
        "\n",
        "for filter_index, filter_row in tqdm(filteredRecords.iterrows(), total=len(filteredRecords), desc=\"Processing\"):\n",
        "    for index, row in raw_data.iterrows():\n",
        "        if (row['reviewerID'] == filter_row['reviewerID'] and row['asin'] == filter_row['asin'] \n",
        "            and row['reviewText'] == filter_row['reviewText']):\n",
        "            result_data.loc[len(result_data)] = row\n",
        "            count += 1\n",
        "            # print(count, row['asin'], row['reviewerID'], row['reviewText'])\n",
        "            break\n",
        "\n",
        "print(\"Filtered dataset: \", len(result_data))\n",
        "result_data.to_json('/home/triet/ComputerScience_K32/Recommendation_System/DeepCGSR_triet/data/raw/Digital_Music_Filtered.json', orient='records', lines=True)\n",
        "\n",
        "data_filtered = pd.read_json('/home/triet/ComputerScience_K32/Recommendation_System/DeepCGSR_triet/data/raw/Digital_Music_Filtered.json', lines=True)\n",
        "\n"
      ]
    }
  ],
  "metadata": {
    "colab": {
      "provenance": []
    },
    "kernelspec": {
      "display_name": "Python 3",
      "name": "python3"
    },
    "language_info": {
      "codemirror_mode": {
        "name": "ipython",
        "version": 3
      },
      "file_extension": ".py",
      "mimetype": "text/x-python",
      "name": "python",
      "nbconvert_exporter": "python",
      "pygments_lexer": "ipython3",
      "version": "3.11.6"
    }
  },
  "nbformat": 4,
  "nbformat_minor": 0
}
