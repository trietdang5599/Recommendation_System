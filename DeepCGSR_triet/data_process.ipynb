{
 "cells": [
  {
   "cell_type": "code",
   "execution_count": 1,
   "metadata": {},
   "outputs": [],
   "source": [
    "import pandas as pd\n",
    "import gzip\n",
    "import json"
   ]
  },
  {
   "cell_type": "code",
   "execution_count": 2,
   "metadata": {},
   "outputs": [
    {
     "name": "stderr",
     "output_type": "stream",
     "text": [
      "[nltk_data] Downloading package stopwords to /home/triet/nltk_data...\n",
      "[nltk_data]   Package stopwords is already up-to-date!\n",
      "[nltk_data] Downloading package punkt to /home/triet/nltk_data...\n",
      "[nltk_data]   Package punkt is already up-to-date!\n",
      "[nltk_data] Downloading package sentiwordnet to\n",
      "[nltk_data]     /home/triet/nltk_data...\n",
      "[nltk_data]   Package sentiwordnet is already up-to-date!\n",
      "[nltk_data] Downloading package wordnet to /home/triet/nltk_data...\n",
      "[nltk_data]   Package wordnet is already up-to-date!\n",
      "[nltk_data] Downloading package omw-1.4 to /home/triet/nltk_data...\n",
      "[nltk_data]   Package omw-1.4 is already up-to-date!\n",
      "[nltk_data] Downloading package averaged_perceptron_tagger to\n",
      "[nltk_data]     /home/triet/nltk_data...\n",
      "[nltk_data]   Package averaged_perceptron_tagger is already up-to-\n",
      "[nltk_data]       date!\n"
     ]
    },
    {
     "data": {
      "text/plain": [
       "True"
      ]
     },
     "execution_count": 2,
     "metadata": {},
     "output_type": "execute_result"
    }
   ],
   "source": [
    "import nltk\n",
    "nltk.download('stopwords')\n",
    "nltk.download('punkt')\n",
    "nltk.download('sentiwordnet')\n",
    "nltk.download('wordnet')\n",
    "nltk.download('omw-1.4')\n",
    "nltk.download('averaged_perceptron_tagger')"
   ]
  },
  {
   "cell_type": "markdown",
   "metadata": {},
   "source": []
  },
  {
   "cell_type": "code",
   "execution_count": 1,
   "metadata": {},
   "outputs": [],
   "source": [
    "import os\n",
    "\n",
    "os.environ[\"CUDA_VISIBLE_DEVICES\"] = \"0\""
   ]
  },
  {
   "cell_type": "code",
   "execution_count": 1,
   "metadata": {},
   "outputs": [
    {
     "name": "stdout",
     "output_type": "stream",
     "text": [
      "12.1\n",
      "False\n"
     ]
    },
    {
     "name": "stderr",
     "output_type": "stream",
     "text": [
      "/home/triet/Recommendation_System/DeepCGSR_triet/.venv/lib/python3.11/site-packages/torch/cuda/__init__.py:138: UserWarning: CUDA initialization: CUDA unknown error - this may be due to an incorrectly set up environment, e.g. changing env variable CUDA_VISIBLE_DEVICES after program start. Setting the available devices to be zero. (Triggered internally at ../c10/cuda/CUDAFunctions.cpp:108.)\n",
      "  return torch._C._cuda_getDeviceCount() > 0\n"
     ]
    },
    {
     "ename": "RuntimeError",
     "evalue": "CUDA unknown error - this may be due to an incorrectly set up environment, e.g. changing env variable CUDA_VISIBLE_DEVICES after program start. Setting the available devices to be zero.",
     "output_type": "error",
     "traceback": [
      "\u001b[0;31m---------------------------------------------------------------------------\u001b[0m",
      "\u001b[0;31mRuntimeError\u001b[0m                              Traceback (most recent call last)",
      "Cell \u001b[0;32mIn[1], line 7\u001b[0m\n\u001b[1;32m      5\u001b[0m device \u001b[38;5;241m=\u001b[39m torch\u001b[38;5;241m.\u001b[39mdevice(\u001b[38;5;124m\"\u001b[39m\u001b[38;5;124mcuda:0\u001b[39m\u001b[38;5;124m\"\u001b[39m \u001b[38;5;28;01mif\u001b[39;00m torch\u001b[38;5;241m.\u001b[39mcuda\u001b[38;5;241m.\u001b[39mis_available() \u001b[38;5;28;01melse\u001b[39;00m \u001b[38;5;124m\"\u001b[39m\u001b[38;5;124mcpu\u001b[39m\u001b[38;5;124m\"\u001b[39m)\n\u001b[1;32m      6\u001b[0m \u001b[38;5;66;03m#print(torch._C._cuda_getCompiledVersion())\u001b[39;00m\n\u001b[0;32m----> 7\u001b[0m cuda_id \u001b[38;5;241m=\u001b[39m \u001b[43mtorch\u001b[49m\u001b[38;5;241;43m.\u001b[39;49m\u001b[43mcuda\u001b[49m\u001b[38;5;241;43m.\u001b[39;49m\u001b[43mcurrent_device\u001b[49m\u001b[43m(\u001b[49m\u001b[43m)\u001b[49m\n\u001b[1;32m      8\u001b[0m cuda_name \u001b[38;5;241m=\u001b[39m torch\u001b[38;5;241m.\u001b[39mcuda\u001b[38;5;241m.\u001b[39mget_device_name(cuda_id)\n\u001b[1;32m      9\u001b[0m \u001b[38;5;28mprint\u001b[39m(cuda_id)\n",
      "File \u001b[0;32m~/Recommendation_System/DeepCGSR_triet/.venv/lib/python3.11/site-packages/torch/cuda/__init__.py:769\u001b[0m, in \u001b[0;36mcurrent_device\u001b[0;34m()\u001b[0m\n\u001b[1;32m    767\u001b[0m \u001b[38;5;28;01mdef\u001b[39;00m \u001b[38;5;21mcurrent_device\u001b[39m() \u001b[38;5;241m-\u001b[39m\u001b[38;5;241m>\u001b[39m \u001b[38;5;28mint\u001b[39m:\n\u001b[1;32m    768\u001b[0m \u001b[38;5;250m    \u001b[39m\u001b[38;5;124mr\u001b[39m\u001b[38;5;124;03m\"\"\"Returns the index of a currently selected device.\"\"\"\u001b[39;00m\n\u001b[0;32m--> 769\u001b[0m     \u001b[43m_lazy_init\u001b[49m\u001b[43m(\u001b[49m\u001b[43m)\u001b[49m\n\u001b[1;32m    770\u001b[0m     \u001b[38;5;28;01mreturn\u001b[39;00m torch\u001b[38;5;241m.\u001b[39m_C\u001b[38;5;241m.\u001b[39m_cuda_getDevice()\n",
      "File \u001b[0;32m~/Recommendation_System/DeepCGSR_triet/.venv/lib/python3.11/site-packages/torch/cuda/__init__.py:298\u001b[0m, in \u001b[0;36m_lazy_init\u001b[0;34m()\u001b[0m\n\u001b[1;32m    296\u001b[0m \u001b[38;5;28;01mif\u001b[39;00m \u001b[38;5;124m\"\u001b[39m\u001b[38;5;124mCUDA_MODULE_LOADING\u001b[39m\u001b[38;5;124m\"\u001b[39m \u001b[38;5;129;01mnot\u001b[39;00m \u001b[38;5;129;01min\u001b[39;00m os\u001b[38;5;241m.\u001b[39menviron:\n\u001b[1;32m    297\u001b[0m     os\u001b[38;5;241m.\u001b[39menviron[\u001b[38;5;124m\"\u001b[39m\u001b[38;5;124mCUDA_MODULE_LOADING\u001b[39m\u001b[38;5;124m\"\u001b[39m] \u001b[38;5;241m=\u001b[39m \u001b[38;5;124m\"\u001b[39m\u001b[38;5;124mLAZY\u001b[39m\u001b[38;5;124m\"\u001b[39m\n\u001b[0;32m--> 298\u001b[0m \u001b[43mtorch\u001b[49m\u001b[38;5;241;43m.\u001b[39;49m\u001b[43m_C\u001b[49m\u001b[38;5;241;43m.\u001b[39;49m\u001b[43m_cuda_init\u001b[49m\u001b[43m(\u001b[49m\u001b[43m)\u001b[49m\n\u001b[1;32m    299\u001b[0m \u001b[38;5;66;03m# Some of the queued calls may reentrantly call _lazy_init();\u001b[39;00m\n\u001b[1;32m    300\u001b[0m \u001b[38;5;66;03m# we need to just return without initializing in that case.\u001b[39;00m\n\u001b[1;32m    301\u001b[0m \u001b[38;5;66;03m# However, we must not let any *other* threads in!\u001b[39;00m\n\u001b[1;32m    302\u001b[0m _tls\u001b[38;5;241m.\u001b[39mis_initializing \u001b[38;5;241m=\u001b[39m \u001b[38;5;28;01mTrue\u001b[39;00m\n",
      "\u001b[0;31mRuntimeError\u001b[0m: CUDA unknown error - this may be due to an incorrectly set up environment, e.g. changing env variable CUDA_VISIBLE_DEVICES after program start. Setting the available devices to be zero."
     ]
    }
   ],
   "source": [
    "import torch\n",
    "print(torch.version.cuda)\n",
    "print(torch.cuda.is_available())\n",
    "\n",
    "device = torch.device(\"cuda:0\" if torch.cuda.is_available() else \"cpu\")\n",
    "#print(torch._C._cuda_getCompiledVersion())\n",
    "cuda_id = torch.cuda.current_device()\n",
    "cuda_name = torch.cuda.get_device_name(cuda_id)\n",
    "print(cuda_id)\n",
    "print(cuda_name)\n",
    "print(device)\n",
    "\n",
    "print(\"Num GPUs Available: \", len(tf.config.list_physical_devices('GPU')))"
   ]
  },
  {
   "cell_type": "code",
   "execution_count": 15,
   "metadata": {},
   "outputs": [
    {
     "name": "stdout",
     "output_type": "stream",
     "text": [
      "!\n",
      ".\n",
      "captivating\n",
      "finish\n",
      "incredible\n",
      "movie\n",
      "start\n",
      "amazing\n",
      "cast\n",
      "excellent\n",
      "great\n",
      "performances\n",
      "plot\n",
      ",\n",
      "acting\n",
      "predictable\n",
      "superb\n",
      "twists\n",
      "absolutely\n",
      "everyone\n",
      "loved\n",
      "must-watch\n",
      "brilliant\n",
      "direction\n",
      "exceeded\n",
      "expectations\n",
      "storytelling\n",
      "bit\n",
      "decent\n",
      "film\n",
      "liking\n",
      "pacing\n",
      "slow\n",
      "cinematography\n",
      "depth\n",
      "lacked\n",
      "outstanding\n",
      "script\n",
      "disappointed\n",
      "ending\n",
      "felt\n",
      "rushed\n",
      "unresolved\n",
      "Perplexity on test data: -17.124323387940724\n"
     ]
    },
    {
     "name": "stdout",
     "output_type": "stream",
     "text": [
      "Coherence Score on test data: nan\n"
     ]
    }
   ],
   "source": [
    "from sklearn.model_selection import train_test_split\n",
    "from gensim.models import LdaModel\n",
    "from gensim import corpora\n",
    "from gensim.models import CoherenceModel\n",
    "from nltk.tokenize import word_tokenize\n",
    "import numpy as np\n",
    "from nltk.corpus import stopwords\n",
    "\n",
    "# Assume 'reviews' is your dataset containing reviews\n",
    "# Tạo tập \"reviews\" nếu chưa có\n",
    "reviews = []\n",
    "\n",
    "# 10 đánh giá về phim\n",
    "new_reviews = [\n",
    "    \"Great movie! Excellent plot and amazing performances by the cast.\",\n",
    "    \"The film was disappointing. Weak storyline and poor acting.\",\n",
    "    \"Absolutely loved it! A must-watch movie for everyone.\",\n",
    "    \"The cinematography was outstanding, but the script lacked depth.\",\n",
    "    \"A decent film, but the pacing was a bit slow for my liking.\",\n",
    "    \"Incredible movie! Captivating from start to finish.\",\n",
    "    \"Disappointed with the ending. It felt rushed and unresolved.\",\n",
    "    \"The acting was superb, but the plot twists were predictable.\",\n",
    "    \"An enjoyable film with some touching moments.\",\n",
    "    \"This movie exceeded my expectations. Brilliant direction and storytelling.\"\n",
    "]\n",
    "\n",
    "# Thêm đánh giá vào tập \"reviews\"\n",
    "reviews.extend(new_reviews)\n",
    "\n",
    "# Chia tập dữ liệu thành tập huấn luyện và tập kiểm tra (80-20)\n",
    "train_data, test_data = train_test_split(reviews, test_size=0.2, random_state=42)\n",
    "\n",
    "# Tokenize reviews\n",
    "tokenized_train_data = [word_tokenize(review.lower()) for review in train_data]\n",
    "tokenized_test_data = [word_tokenize(review.lower()) for review in test_data]\n",
    "\n",
    "\n",
    "# Danh sách stop words từ NLTK\n",
    "stop_words = set(stopwords.words('english'))\n",
    "\n",
    "# Tạo từ điển từ dữ liệu văn bản loại bỏ stop words\n",
    "tokenized_train_data = [[token for token in doc if token not in stop_words] for doc in tokenized_train_data]\n",
    "\n",
    "# Tạo từ điển từ dữ liệu văn bản\n",
    "dictionary = corpora.Dictionary(tokenized_train_data)\n",
    "for i in dictionary:\n",
    "    print(dictionary[i])\n",
    "# Chuyển đổi dữ liệu văn bản thành BoW\n",
    "corpus_train = [dictionary.doc2bow(doc) for doc in tokenized_train_data]\n",
    "corpus_test = [dictionary.doc2bow(doc) for doc in tokenized_test_data]\n",
    "\n",
    "# Train mô hình LDA\n",
    "num_topics = 10  # Số lượng chủ đề bạn muốn trích xuất\n",
    "lda_model = LdaModel(corpus_train, num_topics=num_topics, id2word=dictionary, passes=15)\n",
    "\n",
    "# Đánh giá mô hình trên tập kiểm tra\n",
    "perplexity = lda_model.log_perplexity(corpus_test)\n",
    "print(\"Perplexity on test data:\", perplexity)\n",
    "\n",
    "coherence_model = CoherenceModel(model=lda_model, texts=tokenized_test_data, dictionary=dictionary, coherence='c_v')\n",
    "coherence_score = coherence_model.get_coherence()\n",
    "print(\"Coherence Score on test data:\", coherence_score)\n"
   ]
  },
  {
   "cell_type": "code",
   "execution_count": 7,
   "metadata": {},
   "outputs": [],
   "source": [
    "def parse(path):\n",
    "  g = gzip.open(path, 'rb')\n",
    "  for l in g:\n",
    "    yield json.loads(l)\n",
    "\n",
    "def getDF(path):\n",
    "  i = 0\n",
    "  df = {}\n",
    "  for d in parse(path):\n",
    "    df[i] = d\n",
    "    i += 1\n",
    "  return pd.DataFrame.from_dict(df, orient='index')"
   ]
  },
  {
   "cell_type": "code",
   "execution_count": 17,
   "metadata": {},
   "outputs": [],
   "source": [
    "df = getDF('data/All_Beauty_5.json.gz')"
   ]
  },
  {
   "cell_type": "code",
   "execution_count": 4,
   "metadata": {},
   "outputs": [
    {
     "data": {
      "text/html": [
       "<div>\n",
       "<style scoped>\n",
       "    .dataframe tbody tr th:only-of-type {\n",
       "        vertical-align: middle;\n",
       "    }\n",
       "\n",
       "    .dataframe tbody tr th {\n",
       "        vertical-align: top;\n",
       "    }\n",
       "\n",
       "    .dataframe thead th {\n",
       "        text-align: right;\n",
       "    }\n",
       "</style>\n",
       "<table border=\"1\" class=\"dataframe\">\n",
       "  <thead>\n",
       "    <tr style=\"text-align: right;\">\n",
       "      <th></th>\n",
       "      <th>overall</th>\n",
       "      <th>verified</th>\n",
       "      <th>reviewTime</th>\n",
       "      <th>reviewerID</th>\n",
       "      <th>asin</th>\n",
       "      <th>style</th>\n",
       "      <th>reviewerName</th>\n",
       "      <th>reviewText</th>\n",
       "      <th>summary</th>\n",
       "      <th>unixReviewTime</th>\n",
       "      <th>vote</th>\n",
       "      <th>image</th>\n",
       "    </tr>\n",
       "  </thead>\n",
       "  <tbody>\n",
       "    <tr>\n",
       "      <th>0</th>\n",
       "      <td>5.0</td>\n",
       "      <td>True</td>\n",
       "      <td>09 1, 2016</td>\n",
       "      <td>A3CIUOJXQ5VDQ2</td>\n",
       "      <td>B0000530HU</td>\n",
       "      <td>{'Size:': ' 7.0 oz', 'Flavor:': ' Classic Ice ...</td>\n",
       "      <td>Shelly F</td>\n",
       "      <td>As advertised. Reasonably priced</td>\n",
       "      <td>Five Stars</td>\n",
       "      <td>1472688000</td>\n",
       "      <td>NaN</td>\n",
       "      <td>NaN</td>\n",
       "    </tr>\n",
       "    <tr>\n",
       "      <th>1</th>\n",
       "      <td>5.0</td>\n",
       "      <td>True</td>\n",
       "      <td>11 14, 2013</td>\n",
       "      <td>A3H7T87S984REU</td>\n",
       "      <td>B0000530HU</td>\n",
       "      <td>{'Size:': ' 7.0 oz', 'Flavor:': ' Classic Ice ...</td>\n",
       "      <td>houserules18</td>\n",
       "      <td>Like the oder and the feel when I put it on my...</td>\n",
       "      <td>Good for the face</td>\n",
       "      <td>1384387200</td>\n",
       "      <td>NaN</td>\n",
       "      <td>NaN</td>\n",
       "    </tr>\n",
       "    <tr>\n",
       "      <th>2</th>\n",
       "      <td>1.0</td>\n",
       "      <td>True</td>\n",
       "      <td>08 18, 2013</td>\n",
       "      <td>A3J034YH7UG4KT</td>\n",
       "      <td>B0000530HU</td>\n",
       "      <td>{'Size:': ' 7.0 oz', 'Flavor:': ' Classic Ice ...</td>\n",
       "      <td>Adam</td>\n",
       "      <td>I bought this to smell nice after I shave.  Wh...</td>\n",
       "      <td>Smells awful</td>\n",
       "      <td>1376784000</td>\n",
       "      <td>NaN</td>\n",
       "      <td>NaN</td>\n",
       "    </tr>\n",
       "    <tr>\n",
       "      <th>3</th>\n",
       "      <td>5.0</td>\n",
       "      <td>False</td>\n",
       "      <td>05 3, 2011</td>\n",
       "      <td>A2UEO5XR3598GI</td>\n",
       "      <td>B0000530HU</td>\n",
       "      <td>{'Size:': ' 7.0 oz', 'Flavor:': ' Classic Ice ...</td>\n",
       "      <td>Rich K</td>\n",
       "      <td>HEY!! I am an Aqua Velva Man and absolutely lo...</td>\n",
       "      <td>Truth is There IS Nothing Like an AQUA VELVA MAN.</td>\n",
       "      <td>1304380800</td>\n",
       "      <td>25</td>\n",
       "      <td>NaN</td>\n",
       "    </tr>\n",
       "    <tr>\n",
       "      <th>4</th>\n",
       "      <td>5.0</td>\n",
       "      <td>True</td>\n",
       "      <td>05 6, 2011</td>\n",
       "      <td>A3SFRT223XXWF7</td>\n",
       "      <td>B00006L9LC</td>\n",
       "      <td>{'Size:': ' 200ml/6.7oz'}</td>\n",
       "      <td>C. C. Christian</td>\n",
       "      <td>If you ever want to feel pampered by a shampoo...</td>\n",
       "      <td>Bvlgari Shampoo</td>\n",
       "      <td>1304640000</td>\n",
       "      <td>3</td>\n",
       "      <td>NaN</td>\n",
       "    </tr>\n",
       "  </tbody>\n",
       "</table>\n",
       "</div>"
      ],
      "text/plain": [
       "   overall  verified   reviewTime      reviewerID        asin  \\\n",
       "0      5.0      True   09 1, 2016  A3CIUOJXQ5VDQ2  B0000530HU   \n",
       "1      5.0      True  11 14, 2013  A3H7T87S984REU  B0000530HU   \n",
       "2      1.0      True  08 18, 2013  A3J034YH7UG4KT  B0000530HU   \n",
       "3      5.0     False   05 3, 2011  A2UEO5XR3598GI  B0000530HU   \n",
       "4      5.0      True   05 6, 2011  A3SFRT223XXWF7  B00006L9LC   \n",
       "\n",
       "                                               style     reviewerName  \\\n",
       "0  {'Size:': ' 7.0 oz', 'Flavor:': ' Classic Ice ...         Shelly F   \n",
       "1  {'Size:': ' 7.0 oz', 'Flavor:': ' Classic Ice ...     houserules18   \n",
       "2  {'Size:': ' 7.0 oz', 'Flavor:': ' Classic Ice ...             Adam   \n",
       "3  {'Size:': ' 7.0 oz', 'Flavor:': ' Classic Ice ...           Rich K   \n",
       "4                          {'Size:': ' 200ml/6.7oz'}  C. C. Christian   \n",
       "\n",
       "                                          reviewText  \\\n",
       "0                   As advertised. Reasonably priced   \n",
       "1  Like the oder and the feel when I put it on my...   \n",
       "2  I bought this to smell nice after I shave.  Wh...   \n",
       "3  HEY!! I am an Aqua Velva Man and absolutely lo...   \n",
       "4  If you ever want to feel pampered by a shampoo...   \n",
       "\n",
       "                                             summary  unixReviewTime vote  \\\n",
       "0                                         Five Stars      1472688000  NaN   \n",
       "1                                  Good for the face      1384387200  NaN   \n",
       "2                                       Smells awful      1376784000  NaN   \n",
       "3  Truth is There IS Nothing Like an AQUA VELVA MAN.      1304380800   25   \n",
       "4                                    Bvlgari Shampoo      1304640000    3   \n",
       "\n",
       "  image  \n",
       "0   NaN  \n",
       "1   NaN  \n",
       "2   NaN  \n",
       "3   NaN  \n",
       "4   NaN  "
      ]
     },
     "execution_count": 4,
     "metadata": {},
     "output_type": "execute_result"
    }
   ],
   "source": [
    "df.head()"
   ]
  },
  {
   "cell_type": "code",
   "execution_count": 5,
   "metadata": {},
   "outputs": [],
   "source": [
    "reviewers = sorted(df['reviewerID'].unique())"
   ]
  },
  {
   "cell_type": "code",
   "execution_count": 6,
   "metadata": {},
   "outputs": [],
   "source": [
    "items = sorted(df['asin'].unique())"
   ]
  },
  {
   "cell_type": "code",
   "execution_count": 7,
   "metadata": {},
   "outputs": [],
   "source": [
    "scores = sorted(df['overall'].unique())"
   ]
  },
  {
   "cell_type": "code",
   "execution_count": 8,
   "metadata": {},
   "outputs": [
    {
     "data": {
      "text/plain": [
       "[1.0, 2.0, 3.0, 4.0, 5.0]"
      ]
     },
     "execution_count": 8,
     "metadata": {},
     "output_type": "execute_result"
    }
   ],
   "source": [
    "scores"
   ]
  },
  {
   "cell_type": "code",
   "execution_count": 9,
   "metadata": {},
   "outputs": [
    {
     "data": {
      "text/plain": [
       "(991, 85)"
      ]
     },
     "execution_count": 9,
     "metadata": {},
     "output_type": "execute_result"
    }
   ],
   "source": [
    "len(reviewers),len(items)"
   ]
  },
  {
   "cell_type": "code",
   "execution_count": 37,
   "metadata": {},
   "outputs": [],
   "source": [
    "rows = []\n",
    "cols = []\n",
    "data = []\n",
    "for item in df.itertuples():\n",
    "    r = item[1]\n",
    "    u = item[4]\n",
    "    i = item[5]\n",
    "    iu = reviewers.index(u)\n",
    "    ii = items.index(i)\n",
    "    rows.append(iu)\n",
    "    cols.append(ii)\n",
    "    data.append(r)"
   ]
  },
  {
   "cell_type": "code",
   "execution_count": 38,
   "metadata": {},
   "outputs": [
    {
     "data": {
      "text/plain": [
       "5269"
      ]
     },
     "execution_count": 38,
     "metadata": {},
     "output_type": "execute_result"
    }
   ],
   "source": [
    "len(rows)"
   ]
  },
  {
   "cell_type": "code",
   "execution_count": 39,
   "metadata": {},
   "outputs": [],
   "source": [
    "import numpy as np"
   ]
  },
  {
   "cell_type": "code",
   "execution_count": 40,
   "metadata": {},
   "outputs": [],
   "source": [
    "ratings = np.zeros((len(reviewers),len(items)))"
   ]
  },
  {
   "cell_type": "code",
   "execution_count": 41,
   "metadata": {},
   "outputs": [
    {
     "data": {
      "text/plain": [
       "(991, 85)"
      ]
     },
     "execution_count": 41,
     "metadata": {},
     "output_type": "execute_result"
    }
   ],
   "source": [
    "ratings.shape"
   ]
  },
  {
   "cell_type": "code",
   "execution_count": 42,
   "metadata": {},
   "outputs": [],
   "source": [
    "for r,c,d in zip(rows,cols,data):\n",
    "    ratings[int(r),int(c)] = d"
   ]
  },
  {
   "cell_type": "code",
   "execution_count": 43,
   "metadata": {},
   "outputs": [
    {
     "data": {
      "text/plain": [
       "array([0., 0., 0., 0., 0., 5., 5., 0., 0., 0., 0., 0., 0., 5., 0., 0., 0.,\n",
       "       0., 0., 0., 0., 0., 0., 0., 0., 0., 0., 0., 0., 5., 0., 0., 0., 0.,\n",
       "       0., 0., 0., 0., 0., 0., 0., 0., 0., 0., 0., 0., 0., 0., 0., 0., 0.,\n",
       "       0., 0., 0., 0., 0., 0., 0., 0., 0., 0., 0., 0., 0., 0., 0., 0., 0.,\n",
       "       0., 0., 0., 0., 0., 0., 0., 0., 0., 0., 0., 0., 0., 0., 0., 0., 0.])"
      ]
     },
     "execution_count": 43,
     "metadata": {},
     "output_type": "execute_result"
    }
   ],
   "source": [
    "ratings[100]"
   ]
  },
  {
   "cell_type": "code",
   "execution_count": 46,
   "metadata": {},
   "outputs": [],
   "source": [
    "import scipy.sparse as sparse\n",
    "def create_sparse_matrix(data, rows, cols, len_user,len_item):\n",
    "    \"\"\" Returns a sparse utility matrix\"\"\" \n",
    "    return sparse.csc_matrix((data,(rows, cols)),shape=(len_user, len_item))"
   ]
  },
  {
   "cell_type": "code",
   "execution_count": 47,
   "metadata": {},
   "outputs": [],
   "source": [
    "sparse_ratings = create_sparse_matrix(data,rows,cols,len(reviewers),len(items))"
   ]
  },
  {
   "cell_type": "code",
   "execution_count": 45,
   "metadata": {},
   "outputs": [],
   "source": [
    "def create_embeddings(n, K):\n",
    "    return 6*np.random.random((n, K)) / K"
   ]
  },
  {
   "cell_type": "code",
   "execution_count": 99,
   "metadata": {},
   "outputs": [],
   "source": [
    "def cost(data,rows,cols, emb_user, emb_item):\n",
    "    p_predict = predict(emb_user, emb_item)\n",
    "    p_data = [p_predict[r][c] for r,c in zip(rows,cols)]\n",
    "    predicted = create_sparse_matrix(p_data,rows,cols, emb_user.shape[0], emb_item.shape[0])\n",
    "    return np.sum((sparse_ratings-predicted).power(2))/len(data)"
   ]
  },
  {
   "cell_type": "code",
   "execution_count": 84,
   "metadata": {},
   "outputs": [],
   "source": [
    "def predict(emb_user, emb_item):\n",
    "    p_ratings = np.dot(emb_user,emb_item.transpose())\n",
    "    return p_ratings"
   ]
  },
  {
   "cell_type": "code",
   "execution_count": 101,
   "metadata": {},
   "outputs": [],
   "source": [
    "beta = 0.9\n",
    "lmbda = 0.0002\n",
    "k = 10\n",
    "learning_rate=0.01\n",
    "iterations=2000\n",
    "u_dim = len(reviewers)\n",
    "i_dim = len(items)"
   ]
  },
  {
   "cell_type": "code",
   "execution_count": 49,
   "metadata": {},
   "outputs": [],
   "source": [
    "import torch"
   ]
  },
  {
   "cell_type": "code",
   "execution_count": 103,
   "metadata": {},
   "outputs": [],
   "source": [
    "emb_user = create_embeddings(u_dim,k)\n",
    "emb_item = create_embeddings(i_dim,k)"
   ]
  },
  {
   "cell_type": "code",
   "execution_count": 104,
   "metadata": {},
   "outputs": [
    {
     "data": {
      "text/plain": [
       "(991, 85)"
      ]
     },
     "execution_count": 104,
     "metadata": {},
     "output_type": "execute_result"
    }
   ],
   "source": [
    "emb_user.shape[0],emb_item.shape[0]"
   ]
  },
  {
   "cell_type": "code",
   "execution_count": 97,
   "metadata": {},
   "outputs": [],
   "source": [
    "def gradient(df,rows,cols, emb_user, emb_item):\n",
    "    \"\"\" Computes the gradient for user and item embeddings\"\"\"\n",
    "    Y = sparse_ratings\n",
    "    p_predict = predict(emb_user, emb_item)\n",
    "#     print(p_predict.shape)\n",
    "    p_data = [p_predict[r][c] for r,c in zip(rows,cols)]\n",
    "    predicted = create_sparse_matrix(p_data,rows,cols, emb_user.shape[0], emb_item.shape[0])\n",
    "    delta =(Y-predicted)\n",
    "    grad_user = (-2/df.shape[0])*(delta*emb_item) + 2*lmbda*emb_user\n",
    "    grad_item = (-2/df.shape[0])*(delta.T*emb_user) + 2*lmbda*emb_item\n",
    "    return grad_user, grad_item"
   ]
  },
  {
   "cell_type": "code",
   "execution_count": 105,
   "metadata": {},
   "outputs": [
    {
     "name": "stdout",
     "output_type": "stream",
     "text": [
      "\n",
      "iteration 50 :\n",
      "train mse: 16.98350604199123\n",
      "\n",
      "iteration 100 :\n",
      "train mse: 13.420272090425673\n",
      "\n",
      "iteration 150 :\n",
      "train mse: 11.213063711743391\n",
      "\n",
      "iteration 200 :\n",
      "train mse: 9.760890983310453\n",
      "\n",
      "iteration 250 :\n",
      "train mse: 8.740989938899006\n",
      "\n",
      "iteration 300 :\n",
      "train mse: 7.978743301094478\n",
      "\n",
      "iteration 350 :\n",
      "train mse: 7.378341677292116\n",
      "\n",
      "iteration 400 :\n",
      "train mse: 6.8858506858924455\n",
      "\n",
      "iteration 450 :\n",
      "train mse: 6.469685966716291\n",
      "\n",
      "iteration 500 :\n",
      "train mse: 6.110368414980986\n",
      "\n",
      "iteration 550 :\n",
      "train mse: 5.795160898468652\n",
      "\n",
      "iteration 600 :\n",
      "train mse: 5.5152424918544245\n",
      "\n",
      "iteration 650 :\n",
      "train mse: 5.264192866717178\n",
      "\n",
      "iteration 700 :\n",
      "train mse: 5.037153457614434\n",
      "\n",
      "iteration 750 :\n",
      "train mse: 4.830341690379502\n",
      "\n",
      "iteration 800 :\n",
      "train mse: 4.640753403457753\n",
      "\n",
      "iteration 850 :\n",
      "train mse: 4.46596914819623\n",
      "\n",
      "iteration 900 :\n",
      "train mse: 4.304020658226391\n",
      "\n",
      "iteration 950 :\n",
      "train mse: 4.153294247876669\n",
      "\n",
      "iteration 1000 :\n",
      "train mse: 4.012458300548648\n",
      "\n",
      "iteration 1050 :\n",
      "train mse: 3.8804073867422764\n",
      "\n",
      "iteration 1100 :\n",
      "train mse: 3.756218415667038\n",
      "\n",
      "iteration 1150 :\n",
      "train mse: 3.639115814653739\n",
      "\n",
      "iteration 1200 :\n",
      "train mse: 3.5284436609858822\n",
      "\n",
      "iteration 1250 :\n",
      "train mse: 3.4236432675886754\n",
      "\n",
      "iteration 1300 :\n",
      "train mse: 3.324235102535709\n",
      "\n",
      "iteration 1350 :\n",
      "train mse: 3.229804183476566\n",
      "\n",
      "iteration 1400 :\n",
      "train mse: 3.139988275714557\n",
      "\n",
      "iteration 1450 :\n",
      "train mse: 3.054468361764869\n",
      "\n",
      "iteration 1500 :\n",
      "train mse: 2.9729609558537695\n",
      "\n",
      "iteration 1550 :\n",
      "train mse: 2.8952119185535783\n",
      "\n",
      "iteration 1600 :\n",
      "train mse: 2.8209914909683036\n",
      "\n",
      "iteration 1650 :\n",
      "train mse: 2.750090319006182\n",
      "\n",
      "iteration 1700 :\n",
      "train mse: 2.6823162794350823\n",
      "\n",
      "iteration 1750 :\n",
      "train mse: 2.617491952887522\n",
      "\n",
      "iteration 1800 :\n",
      "train mse: 2.555452616434021\n",
      "\n",
      "iteration 1850 :\n",
      "train mse: 2.4960446510182384\n",
      "\n",
      "iteration 1900 :\n",
      "train mse: 2.439124277878315\n",
      "\n",
      "iteration 1950 :\n",
      "train mse: 2.3845565537764335\n",
      "\n",
      "iteration 2000 :\n",
      "train mse: 2.3322145679707194\n"
     ]
    }
   ],
   "source": [
    "grad_user, grad_item = gradient(df,rows,cols, emb_user, emb_item)\n",
    "v_user = grad_user\n",
    "v_item = grad_item\n",
    "for i in range(iterations):\n",
    "    grad_user, grad_item = gradient(df,rows,cols, emb_user, emb_item)\n",
    "    v_user = beta*v_user + (1-beta)*grad_user\n",
    "    v_item = beta*v_item + (1-beta)*grad_item\n",
    "    emb_user = emb_user - learning_rate*v_user\n",
    "    emb_item = emb_item - learning_rate*v_item\n",
    "    if(not (i+1)%50):\n",
    "        print(\"\\niteration\", i+1, \":\")\n",
    "        print(\"train mse:\",  cost(data,rows,cols, emb_user, emb_item))"
   ]
  }
 ],
 "metadata": {
  "kernelspec": {
   "display_name": "Python 3",
   "language": "python",
   "name": "python3"
  },
  "language_info": {
   "codemirror_mode": {
    "name": "ipython",
    "version": 3
   },
   "file_extension": ".py",
   "mimetype": "text/x-python",
   "name": "python",
   "nbconvert_exporter": "python",
   "pygments_lexer": "ipython3",
   "version": "3.11.6"
  }
 },
 "nbformat": 4,
 "nbformat_minor": 4
}
