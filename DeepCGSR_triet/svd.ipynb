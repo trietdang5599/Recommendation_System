{
 "cells": [
  {
   "cell_type": "code",
   "execution_count": 17,
   "metadata": {},
   "outputs": [],
   "source": [
    "import pandas as pd\n",
    "import gzip\n",
    "import json\n",
    "import numpy as np\n",
    "import scipy.sparse as sparse\n",
    "import latexify\n",
    "import math"
   ]
  },
  {
   "cell_type": "code",
   "execution_count": 24,
   "metadata": {},
   "outputs": [
    {
     "data": {
      "text/latex": [
       "$$ \\displaystyle \\mathrm{create\\_embeddings}(\\mathrm{self}, n) = \\frac{6 \\mathrm{np}.\\mathrm{random}.\\mathrm{random} \\mathopen{}\\left( \\mathopen{}\\left( n, \\mathrm{self}.k \\mathclose{}\\right) \\mathclose{}\\right)}{\\mathrm{self}.k} $$"
      ],
      "text/plain": [
       "<latexify.ipython_wrappers.LatexifiedFunction at 0x7fde00ad3e50>"
      ]
     },
     "execution_count": 24,
     "metadata": {},
     "output_type": "execute_result"
    }
   ],
   "source": [
    "@latexify.function(use_math_sympbols = True)\n",
    "def create_embeddings(self,n):\n",
    "    return 6 * np.random.random((n, self.k)) / self.k\n",
    "\n",
    "@latexify.function(use_math_sympbols = True)\n",
    "def cost(self, emb_user, emb_item):\n",
    "    p_predict = self.predict(emb_user, emb_item)\n",
    "    p_data = [p_predict[r][c] for r, c in zip(self.rows, self.cols)]\n",
    "    predicted = self.create_sparse_matrix(p_data, emb_user.shape[0], emb_item.shape[0])\n",
    "    return np.sum((self.sparse_ratings - predicted)**2) / len(self.data)\n",
    "\n",
    "# cost\n",
    "create_embeddings"
   ]
  },
  {
   "cell_type": "code",
   "execution_count": 25,
   "metadata": {},
   "outputs": [
    {
     "data": {
      "text/latex": [
       "$$ \\displaystyle \\begin{array}{l} \\mathrm{p\\_predict} = \\mathrm{self}.\\mathrm{predict} \\mathopen{}\\left( \\mathrm{emb\\_user}, \\mathrm{emb\\_item} \\mathclose{}\\right) \\\\ \\mathrm{p\\_data} = \\mathopen{}\\left[ \\mathrm{p\\_predict}_{r, c} \\mid \\mathopen{}\\left( r, c \\mathclose{}\\right) \\in \\mathrm{zip} \\mathopen{}\\left( \\mathrm{self}.\\mathrm{rows}, \\mathrm{self}.\\mathrm{cols} \\mathclose{}\\right) \\mathclose{}\\right] \\\\ \\mathrm{sparse\\_predicted} = \\mathrm{self}.\\mathrm{create\\_sparse\\_matrix} \\mathopen{}\\left( \\mathrm{p\\_data}, \\mathrm{emb\\_user}.\\mathrm{shape}_{0}, \\mathrm{emb\\_item}.\\mathrm{shape}_{0} \\mathclose{}\\right) \\\\ \\mathrm{delta} = \\mathrm{self}.\\mathrm{sparse\\_ratings} - \\mathrm{sparse\\_predicted} \\\\ \\mathrm{grad\\_user} = \\frac{-2}{\\mathrm{self}.\\mathrm{df}.\\mathrm{shape}_{0}} \\cdot \\mathrm{delta} \\cdot \\mathrm{emb\\_item} + 2 \\mathrm{self}.\\mathrm{lmbda} \\cdot \\mathrm{emb\\_user} \\\\ \\mathrm{grad\\_item} = \\frac{-2}{\\mathrm{self}.\\mathrm{df}.\\mathrm{shape}_{0}} \\cdot \\mathrm{delta}.T \\cdot \\mathrm{emb\\_user} + 2 \\mathrm{self}.\\mathrm{lmbda} \\cdot \\mathrm{emb\\_item} \\\\ \\mathrm{gradient}(\\mathrm{self}, \\mathrm{emb\\_user}, \\mathrm{emb\\_item}) = \\mathopen{}\\left( \\mathrm{grad\\_user}, \\mathrm{grad\\_item} \\mathclose{}\\right) \\end{array} $$"
      ],
      "text/plain": [
       "<latexify.ipython_wrappers.LatexifiedFunction at 0x7fde00ad2490>"
      ]
     },
     "execution_count": 25,
     "metadata": {},
     "output_type": "execute_result"
    }
   ],
   "source": [
    "@latexify.function(use_math_sympbols = True)\n",
    "def gradient(self,  emb_user, emb_item):\n",
    "    p_predict = self.predict(emb_user, emb_item)\n",
    "    p_data = [p_predict[r][c] for r, c in zip(self.rows, self.cols)]\n",
    "    sparse_predicted = self.create_sparse_matrix(p_data,  emb_user.shape[0], emb_item.shape[0])\n",
    "    delta = (self.sparse_ratings - sparse_predicted)\n",
    "    grad_user = (-2 / self.df.shape[0]) * (delta * emb_item) + 2 * self.lmbda * emb_user\n",
    "    grad_item = (-2 / self.df.shape[0]) * (delta.T * emb_user) + 2 * self.lmbda * emb_item\n",
    "    return grad_user, grad_item\n",
    "\n",
    "gradient"
   ]
  },
  {
   "cell_type": "code",
   "execution_count": 23,
   "metadata": {},
   "outputs": [
    {
     "name": "stdout",
     "output_type": "stream",
     "text": [
      "Giá trị chi phí: 5.571525796667997\n"
     ]
    }
   ],
   "source": [
    "import numpy as np\n",
    "from scipy.sparse import csc_matrix\n",
    "\n",
    "class RecommendationModel:\n",
    "    def __init__(self, data, len_user=3, len_item=4):\n",
    "        self.data = data\n",
    "        self.len_user = len_user\n",
    "        self.len_item = len_item\n",
    "        self.sparse_ratings = self.create_sparse_matrix(data, len_user, len_item)\n",
    "        self.rows, self.cols, _ = zip(*data)  # Khởi tạo self.rows và self.cols\n",
    "\n",
    "    def create_sparse_matrix(self, data, len_user, len_item):\n",
    "        rows, cols, vals = zip(*data)\n",
    "        return csc_matrix((vals, (rows, cols)), shape=(len_user, len_item))\n",
    "\n",
    "    def predict(self, emb_user, emb_item):\n",
    "        p_ratings = np.dot(emb_user, emb_item.transpose())\n",
    "        return p_ratings\n",
    "\n",
    "    def cost(self, emb_user, emb_item):\n",
    "        p_predict = self.predict(emb_user, emb_item)\n",
    "        p_data = [p_predict[r][c] for r, c in zip(self.rows, self.cols)]\n",
    "        predicted = self.create_sparse_matrix(list(zip(self.rows, self.cols, p_data)), self.len_user, self.len_item)\n",
    "        return np.sum((self.sparse_ratings - predicted).power(2)) / len(self.data)\n",
    "\n",
    "# Tạo một instance của lớp RecommendationModel với dữ liệu giả định\n",
    "data = [(0, 0, 4), (1, 1, 3), (2, 2, 5), (0, 3, 2), (2, 3, 1)]\n",
    "model = RecommendationModel(data)\n",
    "\n",
    "# Tạo các vectơ biểu diễn người dùng và sản phẩm\n",
    "emb_user = np.random.rand(3, 4)  # 3 người dùng, mỗi người có biểu diễn 4 chiều\n",
    "emb_item = np.random.rand(4, 4)  # 4 sản phẩm, mỗi sản phẩm có biểu diễn 4 chiều\n",
    "\n",
    "# In ra giá trị chi phí\n",
    "cost_value = model.cost(emb_user, emb_item)\n",
    "print(\"Giá trị chi phí:\", cost_value)\n"
   ]
  },
  {
   "cell_type": "code",
   "execution_count": null,
   "metadata": {},
   "outputs": [],
   "source": []
  }
 ],
 "metadata": {
  "kernelspec": {
   "display_name": ".venv",
   "language": "python",
   "name": "python3"
  },
  "language_info": {
   "codemirror_mode": {
    "name": "ipython",
    "version": 3
   },
   "file_extension": ".py",
   "mimetype": "text/x-python",
   "name": "python",
   "nbconvert_exporter": "python",
   "pygments_lexer": "ipython3",
   "version": "3.11.6"
  }
 },
 "nbformat": 4,
 "nbformat_minor": 2
}
